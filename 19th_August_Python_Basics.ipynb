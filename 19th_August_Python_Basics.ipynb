{
 "cells": [
  {
   "cell_type": "code",
   "execution_count": 1,
   "id": "7adf7b71",
   "metadata": {},
   "outputs": [
    {
     "name": "stdout",
     "output_type": "stream",
     "text": [
      "Enter a number: 5\n",
      "Enter a number: 10\n",
      "x : 5\n",
      "y : 10\n",
      "After swapping:\n",
      "x = 10\n",
      "y = 5\n"
     ]
    }
   ],
   "source": [
    "# Declare two variables, `x` and `y`, and assign them integer values. Swap the values of these variables without using any temporary variable.\n",
    "x = 5\n",
    "y = 10\n",
    "\n",
    "print('x :', x)   \n",
    "print('y :', y)    \n",
    "x = x + y\n",
    "y = x - y \n",
    "x = x - y \n",
    "\n",
    "print(\"After swapping:\")\n",
    "print(\"x =\", x)\n",
    "print(\"y =\", y)"
   ]
  },
  {
   "cell_type": "markdown",
   "id": "2edfa264",
   "metadata": {},
   "source": [
    "This Python code snippet demonstrates how to swap the values of two variables, x and y, without using a temporary variable. Here's a step-by-step description of what the code does:\n",
    "\n",
    "1.Initial Values:\n",
    " x is assigned the value 5.\n",
    " y is assigned the value 10.\n",
    " The initial values of x and y are printed to the console.\n",
    "\n",
    "2.Value Swap Without a Temporary Variable:\n",
    " To swap the values of x and y without using a temporary variable, the code uses arithmetic operations.\n",
    " x is updated by adding the value of y to it. At this point, x holds the sum of its original value and y.\n",
    " y is updated by subtracting the original value of y from the updated x. This effectively sets y to the original value of x.\n",
    " Finally, x is updated again by subtracting the original value of y from it. This sets x to the original value of y.\n",
    "\n",
    "3.Result Printing:\n",
    " After the swapping operations, the code prints the new values of x and y.\n",
    " The printed values of x and y have been swapped from their original values."
   ]
  },
  {
   "cell_type": "code",
   "execution_count": 1,
   "id": "7f3e254e",
   "metadata": {},
   "outputs": [
    {
     "name": "stdout",
     "output_type": "stream",
     "text": [
      "Enter the length of the rectangle: 4\n",
      "Enter the width of the rectangle: 6\n",
      "The area of the rectangle with length 4.0 and width 6.0 is: 24.0\n"
     ]
    }
   ],
   "source": [
    "# Create a program that calculates the area of a rectangle. Take the length and width as inputs from the user and store them in variables. Calculate and display the area\n",
    "length = float(input(\"Enter the length of the rectangle: \"))\n",
    "width = float(input(\"Enter the width of the rectangle: \"))\n",
    "\n",
    "area = length * width\n",
    "\n",
    "print(f\"The area of the rectangle with length {length} and width {width} is: {area}\")"
   ]
  },
  {
   "cell_type": "markdown",
   "id": "936b8340",
   "metadata": {},
   "source": [
    "This Python code calculates and prints the area of a rectangle based on user-provided \n",
    "inputs for its length and width. Here's a step-by-step description of what the code does:\n",
    "\n",
    "1.User Input:\n",
    "The program starts by prompting the user to enter the length of the rectangle. The user provides this value as a floating-      point number (decimal number) and presses Enter.\n",
    "Next, the program prompts the user to enter the width of the rectangle, again as a floating-point number, and the user          provides this value and presses Enter.\n",
    "\n",
    "2.Area Calculation:\n",
    "The code then calculates the area of the rectangle using the formula: area = length * width. It multiplies the user-provided  length and width values to obtain the area.\n",
    "\n",
    "3.Result Printing:\n",
    "Finally, the program prints the calculated area of the rectangle using an f-string (formatted string). The printed message includes the values of both length and width that the user provided, as well as the computed area.\n"
   ]
  },
  {
   "cell_type": "code",
   "execution_count": 3,
   "id": "25cfb1aa",
   "metadata": {},
   "outputs": [
    {
     "name": "stdout",
     "output_type": "stream",
     "text": [
      "Enter the temperature: 98.3\n",
      "\n",
      "Temperature in Fahrenheit is: 208.94\n"
     ]
    }
   ],
   "source": [
    "# Write a Python program that converts temperatures from Celsius to Fahrenheit. Take the temperature in Celsius as input, store it in a variable, convert it to Fahrenheit, and display the result.\n",
    "Celsius = float(input('Enter the temperature: '))\n",
    "\n",
    "Fahrenheit = ((Celsius*9)/5) + 32\n",
    "\n",
    "print(\"\\nTemperature in Fahrenheit is: %.2f\" %Fahrenheit)"
   ]
  },
  {
   "cell_type": "markdown",
   "id": "9603241d",
   "metadata": {},
   "source": [
    "This Python code converts a temperature value from Celsius to Fahrenheit and then prints the result. Here's a step-by-step explanation of what the code does:\n",
    "\n",
    "1.User Input:\n",
    "The program starts by prompting the user to enter a temperature value in Celsius. The user provides this value as a floating-point number (a decimal number) and presses Enter.\n",
    "\n",
    "2.Temperature Conversion:\n",
    "The code performs the temperature conversion from Celsius to Fahrenheit using the formula: Fahrenheit = (Celsius * 9/5) + 32.\n",
    "It multiplies the Celsius temperature value by 9/5 and then adds 32 to the result. This formula is the standard way to convert Celsius to Fahrenheit.\n",
    "\n",
    "3.Result Printing:\n",
    "After the conversion, the program prints the converted temperature value in Fahrenheit.\n",
    "It uses a formatted string to display the result with exactly two decimal places using the % operator and the %.2f format specifier. This ensures that the output is neatly formatted."
   ]
  },
  {
   "cell_type": "code",
   "execution_count": 4,
   "id": "b13ae69e",
   "metadata": {},
   "outputs": [
    {
     "name": "stdout",
     "output_type": "stream",
     "text": [
      "Enter a string: Arpan In House\n",
      "The length of the string is: 14\n"
     ]
    }
   ],
   "source": [
    "# Write a Python program that takes a string as input and prints the length of the string.\n",
    "input_string = input(\"Enter a string: \")\n",
    "\n",
    "string_length = len(input_string)\n",
    "\n",
    "print(f\"The length of the string is: {string_length}\")"
   ]
  },
  {
   "cell_type": "markdown",
   "id": "7932e5f0",
   "metadata": {},
   "source": [
    "This Python code calculates and prints the length of a user-provided string. Here's a step-by-step explanation of what the code does:\n",
    "\n",
    "1.User Input:\n",
    "The program starts by prompting the user to enter a string. The user provides the string as input, and it can be any sequence of characters. After entering the string, the user presses Enter.\n",
    "\n",
    "2.String Length Calculation:\n",
    "The code calculates the length of the input string using the len() function. The len() function returns the number of characters (including spaces and special characters) in the given string.\n",
    "The calculated length is stored in the variable string_length.\n",
    "\n",
    "3.Result Printing:\n",
    "After calculating the length, the program prints the result using a formatted string.\n",
    "It uses an f-string (formatted string) to display the length of the string in the output message."
   ]
  },
  {
   "cell_type": "code",
   "execution_count": 3,
   "id": "2c6838f9",
   "metadata": {},
   "outputs": [
    {
     "name": "stdout",
     "output_type": "stream",
     "text": [
      "Enter a sentence: Arpan in House\n",
      "The number of vowels in the sentence is: 6\n"
     ]
    }
   ],
   "source": [
    "# Create a program that takes a sentence from the user and counts the number of vowels (a, e, i, o, u) in the string.\n",
    "sentence = input(\"Enter a sentence: \")\n",
    "vowel_count = 0\n",
    "vowels = \"aeiouAEIOU\"\n",
    "\n",
    "for char in sentence:\n",
    "    if char in vowels:\n",
    "        vowel_count += 1 \n",
    "\n",
    "print(f\"The number of vowels in the sentence is: {vowel_count}\")"
   ]
  },
  {
   "cell_type": "markdown",
   "id": "739e080f",
   "metadata": {},
   "source": [
    "This Python code is a simple program that takes a sentence as input from the user and then counts the number of vowels (both lowercase and uppercase) in that sentence. Here's a step-by-step explanation of how the code works:\n",
    "\n",
    "1.User Input:\n",
    "The program starts by using the input() function to prompt the user to enter a sentence. The user can input any sentence they like, which can include letters, spaces, punctuation, and numbers. The input sentence is stored in the variable sentence.\n",
    "\n",
    "2.Initialize Vowel Count:\n",
    "The program initializes a variable called vowel_count to keep track of the number of vowels found in the sentence. The initial count is set to 0.\n",
    "\n",
    "3.Define Vowels:\n",
    "The code defines a string called vowels that contains all the vowel characters (both lowercase and uppercase) that the program will look for in the input sentence. The string includes \"aeiouAEIOU\" to account for vowels in both cases.\n",
    "\n",
    "4.Counting Vowels:\n",
    "The program enters a for loop that iterates through each character in the input sentence, one character at a time.\n",
    "Inside the loop, it checks whether the current character (denoted as char) is present in the vowels string. If char is a vowel (either lowercase or uppercase), it increments the vowel_count by 1.\n",
    "\n",
    "5.Printing the Result:\n",
    "After the loop finishes processing the entire sentence, the program prints a message using an f-string to display the total count of vowels found in the sentence."
   ]
  },
  {
   "cell_type": "code",
   "execution_count": 7,
   "id": "1d40bcb9",
   "metadata": {},
   "outputs": [
    {
     "name": "stdout",
     "output_type": "stream",
     "text": [
      "Enter a string: Arpan In House\n",
      "Reversed string: esuoH nI naprA\n"
     ]
    }
   ],
   "source": [
    "# Given a string, reverse the order of characters using string slicing and print the reversed string.\n",
    "input_string = input(\"Enter a string: \")\n",
    "\n",
    "reversed_string = input_string[::-1]\n",
    "\n",
    "print(\"Reversed string:\", reversed_string)"
   ]
  },
  {
   "cell_type": "markdown",
   "id": "b245b4cc",
   "metadata": {},
   "source": [
    "This Python code takes a string as input from the user, reverses the characters in the string, and then prints the reversed string. Here's a step-by-step explanation of how the code works:\n",
    "\n",
    "1.User Input:\n",
    "The program starts by using the input() function to prompt the user to enter a string. The user can input any sequence of characters, including letters, numbers, spaces, and symbols. The input string is stored in the variable input_string.\n",
    "\n",
    "2.Reversing the String:\n",
    "The code uses slicing to reverse the input string. The syntax [::-1] is used to create a reversed copy of the string. This slice notation starts from the end of the string (indicated by -1) and goes backward through the string, effectively reversing it.\n",
    "\n",
    "3.Storing the Reversed String:\n",
    "The reversed string is stored in a variable called reversed_string.\n",
    "\n",
    "4.Printing the Reversed String:\n",
    "Finally, the program prints the reversed string using the print() function. The output message indicates that it's the \"Reversed string\" and then displays the content of the reversed_string variable.\n"
   ]
  },
  {
   "cell_type": "code",
   "execution_count": 8,
   "id": "f743e170",
   "metadata": {},
   "outputs": [
    {
     "name": "stdout",
     "output_type": "stream",
     "text": [
      "Enter a string: Eye\n",
      "The input string is a palindrome.\n"
     ]
    }
   ],
   "source": [
    "# Write a program that takes a string as input and checks if it is a palindrome (reads the same forwards and backwards).\n",
    "input_string = input(\"Enter a string: \")\n",
    "\n",
    "cleaned_input = input_string.replace(\" \", \"\").lower()\n",
    "\n",
    "if cleaned_input == cleaned_input[::-1]:\n",
    "    print(\"The input string is a palindrome.\")\n",
    "else:\n",
    "    print(\"The input string is not a palindrome.\")"
   ]
  },
  {
   "cell_type": "markdown",
   "id": "a737faae",
   "metadata": {},
   "source": [
    "This Python code checks whether a given input string is a palindrome. A palindrome is a word, phrase, number, or other sequence of characters that reads the same forward and backward. Here's a step-by-step explanation of how the code works:\n",
    "\n",
    "1.User Input:\n",
    "The program starts by using the input() function to prompt the user to enter a string. The user can input any sequence of characters, including letters, numbers, spaces, and symbols. The input string is stored in the variable input_string.\n",
    "\n",
    "2.Cleaning the Input:\n",
    "To check if the input string is a palindrome, we typically want to disregard spaces and consider the comparison to be case-insensitive. Therefore, the code uses two methods to clean the input:\n",
    "replace(\" \", \"\"): This method removes all spaces from the input string. The result is stored in the cleaned_input variable.\n",
    ".lower(): This method converts the entire cleaned input string to lowercase. This ensures that the comparison between characters is case-insensitive.\n",
    "\n",
    "3.Checking for Palindrome:\n",
    "The code then checks if the cleaned_input is equal to its reverse (cleaned_input[::-1]). If they are equal, it means that the original input string, with spaces removed and in lowercase, is the same when read backward. This indicates that the input string is a palindrome.\n",
    "\n",
    "4.Printing the Result:\n",
    "Depending on the result of the check, the program prints one of two messages:\n",
    "If the cleaned input string is equal to its reverse, it prints \"The input string is a palindrome.\"\n",
    "If they are not equal, it prints \"The input string is not a palindrome.\""
   ]
  },
  {
   "cell_type": "code",
   "execution_count": 9,
   "id": "01f564e0",
   "metadata": {},
   "outputs": [
    {
     "name": "stdout",
     "output_type": "stream",
     "text": [
      "Enter a string: Arpan In House\n",
      "Modified string without spaces: ArpanInHouse\n"
     ]
    }
   ],
   "source": [
    "# Create a program that takes a string as input and removes all the spaces from it. Print the modified string without spaces.\n",
    "input_string = input(\"Enter a string: \")\n",
    "\n",
    "modified_string = input_string.replace(\" \", \"\")\n",
    "\n",
    "print(\"Modified string without spaces:\", modified_string)"
   ]
  },
  {
   "cell_type": "markdown",
   "id": "97d8c09f",
   "metadata": {},
   "source": [
    "This Python code takes a string as input from the user and then removes all spaces from the input string. Here's a step-by-step explanation of how the code works:\n",
    "\n",
    "1.User Input:\n",
    "The program starts by using the input() function to prompt the user to enter a string. The user can input any sequence of characters, including letters, numbers, spaces, and symbols. The input string is stored in the variable input_string.\n",
    "\n",
    "2.Removing Spaces:\n",
    "The code uses the .replace() method to remove all spaces from the input_string. The replace() method takes two arguments: the first argument is the substring to be replaced (in this case, a space \" \") and the second argument is the replacement string (in this case, an empty string \"\").\n",
    "The result of this operation is stored in a new variable called modified_string.\n",
    "\n",
    "3.Printing the Result:\n",
    "Finally, the program prints the modified string (without spaces) using the print() function. The output message indicates that it's the \"Modified string without spaces\" and then displays the content of the modified_string variable.\n"
   ]
  },
  {
   "cell_type": "code",
   "execution_count": null,
   "id": "f90a7233",
   "metadata": {},
   "outputs": [],
   "source": []
  }
 ],
 "metadata": {
  "kernelspec": {
   "display_name": "Python 3 (ipykernel)",
   "language": "python",
   "name": "python3"
  },
  "language_info": {
   "codemirror_mode": {
    "name": "ipython",
    "version": 3
   },
   "file_extension": ".py",
   "mimetype": "text/x-python",
   "name": "python",
   "nbconvert_exporter": "python",
   "pygments_lexer": "ipython3",
   "version": "3.9.13"
  }
 },
 "nbformat": 4,
 "nbformat_minor": 5
}
