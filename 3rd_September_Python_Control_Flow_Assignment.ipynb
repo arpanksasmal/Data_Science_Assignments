{
 "cells": [
  {
   "cell_type": "markdown",
   "id": "ac63e6ee",
   "metadata": {},
   "source": [
    "# Basic If-Else Statements"
   ]
  },
  {
   "cell_type": "code",
   "execution_count": 114,
   "id": "77203ad4",
   "metadata": {},
   "outputs": [
    {
     "name": "stdout",
     "output_type": "stream",
     "text": [
      "Enter a number: 8\n",
      "It is a positive number\n"
     ]
    }
   ],
   "source": [
    "# Question 1\n",
    "# Write a Python program to check if a given number is positive or negative.\n",
    "my_num = int(input('Enter a number: '))\n",
    "if my_num >=0:\n",
    "    print('It is a positive number')\n",
    "else:\n",
    "    print('It is a negative number')"
   ]
  },
  {
   "cell_type": "markdown",
   "id": "4f9384de",
   "metadata": {},
   "source": [
    "This Python code is a simple program that determines whether a given integer is positive or negative. Here's an explanation of each part of the code:\n",
    "\n",
    "1.my_num = int(input('Enter a number: ')): This line prompts the user to enter a number and reads the input as a string using the input function. It then converts the input to an integer using int() and assigns the result to the variable my_num. This variable stores the integer entered by the user.\n",
    "\n",
    "2.if my_num >= 0:: This is the start of an if statement. It checks if the value stored in my_num is greater than or equal to 0. In Python, the colon (:) is used to indicate the beginning of a block of code that should be executed if the condition inside the if statement is True.\n",
    "\n",
    "3.print('It is a positive number'): If the condition in the if statement is True, this line of code is executed. It uses the print function to display the message \"It is a positive number\" on the screen.\n",
    "\n",
    "4.else:: This is the beginning of the else block. If the condition in the if statement is False, the code inside the else block will be executed.\n",
    "\n",
    "5.print('It is a negative number'): Inside the else block, this line of code is used to print the message \"It is a negative number\" if the condition in the if statement is False."
   ]
  },
  {
   "cell_type": "code",
   "execution_count": 120,
   "id": "85ad8058",
   "metadata": {},
   "outputs": [
    {
     "name": "stdout",
     "output_type": "stream",
     "text": [
      "Enter the age: 24\n",
      "You are eligible to vote\n"
     ]
    }
   ],
   "source": [
    "# Question 2\n",
    "# Create a program that determines if a person is eligible to vote based on their age.\n",
    "age = int(input('Enter the age: '))\n",
    "if age >=18 and age < 100:\n",
    "    print('You are eligible to vote')\n",
    "else:\n",
    "    print('Sorry! You are not eligible to vote')"
   ]
  },
  {
   "cell_type": "markdown",
   "id": "6f805843",
   "metadata": {},
   "source": [
    "This Python code is a simple program that determines whether a person is eligible to vote based on their age. Here's an explanation of each part of the code:\n",
    "\n",
    "1.age = int(input('Enter the age: ')): This line prompts the user to enter their age and reads the input as a string using the input function. It then converts the input to an integer using int() and assigns the result to the variable age. This variable stores the age entered by the user.\n",
    "\n",
    "2.if age >= 18 and age < 100:: This is the start of an if statement. It checks two conditions:\n",
    "age >= 18: This condition checks if the age is greater than or equal to 18, which is the minimum age required to vote in many countries.\n",
    "age < 100: This condition checks if the age is less than 100. It's a common practice to set an upper limit on age to ensure the input is reasonable.\n",
    "Both conditions must be True for the code inside the if block to be executed. In other words, the person's age should be 18 or older, and it should be less than 100 for the \"You are eligible to vote\" message to be displayed.\n",
    "\n",
    "3.print('You are eligible to vote'): If both conditions in the if statement are met, this line of code is executed. It uses the print function to display the message \"You are eligible to vote\" on the screen.\n",
    "\n",
    "4.else:: This is the beginning of the else block. If the conditions in the if statement are not met (i.e., the person's age is less than 18 or greater than or equal to 100), the code inside the else block will be executed.\n",
    "\n",
    "5.print('Sorry! You are not eligible to vote'): Inside the else block, this line of code is used to print the message \"Sorry! You are not eligible to vote\" if the conditions in the if statement are not met. It informs the person that they are not eligible to vote based on their age."
   ]
  },
  {
   "cell_type": "code",
   "execution_count": 123,
   "id": "a12685da",
   "metadata": {},
   "outputs": [
    {
     "name": "stdout",
     "output_type": "stream",
     "text": [
      "Enter first number: 10\n",
      "Enter second number: 20\n",
      "20 is the maximum\n"
     ]
    }
   ],
   "source": [
    "# Question 3\n",
    "# Develop a program to find the maximum of two numbers using if-else statements.\n",
    "num1 = int(input('Enter first number: '))\n",
    "num2 = int(input('Enter second number: '))\n",
    "if num1>num2:\n",
    "    print(f'{num1} is the maximum')\n",
    "else:\n",
    "    print(f'{num2} is the maximum')"
   ]
  },
  {
   "cell_type": "markdown",
   "id": "38aed6bd",
   "metadata": {},
   "source": [
    "This Python code is a simple program that finds the maximum of two numbers entered by the user using if-else statements. Here's an explanation of each part of the code:\n",
    "\n",
    "1.num1 = int(input('Enter first number: ')): This line prompts the user to enter the first number and reads the input as a string using the input function. It then converts the input to an integer using int() and assigns the result to the variable num1. This variable stores the first number entered by the user.\n",
    "\n",
    "2.num2 = int(input('Enter second number: ')): Similar to the previous line, this line prompts the user to enter the second number, reads the input as a string, converts it to an integer, and assigns it to the variable num2. This variable stores the second number entered by the user.\n",
    "\n",
    "3.if num1 > num2:: This is the beginning of an if statement. It checks whether num1 is greater than num2. If this condition is True, it means that num1 is the maximum.\n",
    "\n",
    "4.print(f'{num1} is the maximum'): If the condition in the if statement is met (i.e., if num1 is greater than num2), this line of code is executed. It uses the print function to display a message that states that num1 is the maximum.\n",
    "\n",
    "5.else:: This is the beginning of the else block, which is executed if the condition in the if statement is not met. In this case, it means that num1 is not greater than num2, and num2 is the maximum.\n",
    "\n",
    "6.print(f'{num2} is the maximum'): Inside the else block, this line of code is used to print a message indicating that num2 is the maximum."
   ]
  },
  {
   "cell_type": "code",
   "execution_count": 130,
   "id": "a72ec2ae",
   "metadata": {},
   "outputs": [
    {
     "name": "stdout",
     "output_type": "stream",
     "text": [
      "Enter the year: 2024\n",
      "2024 is a leap year\n"
     ]
    }
   ],
   "source": [
    "# Question 4\n",
    "# Write a Python script to classify a given year as a leap year or not.\n",
    "year = int(input('Enter the year: '))\n",
    "if year%4==0 and year%100 != 0 or year%400 == 0:\n",
    "    print(f'{year} is a leap year')\n",
    "else:\n",
    "    print(f'{year} is not a lear year')"
   ]
  },
  {
   "cell_type": "markdown",
   "id": "f383a09e",
   "metadata": {},
   "source": [
    "This Python script determines whether a given year is a leap year or not. Here's an explanation of the code:\n",
    "\n",
    "1.year = int(input('Enter the year: ')): This line prompts the user to enter a year and reads the input as a string using the input function. It then converts the input to an integer using int() and assigns the result to the variable year. This variable stores the year entered by the user.\n",
    "\n",
    "2.if year % 4 == 0 and year % 100 != 0 or year % 400 == 0:: This is the start of an if statement. It checks whether the conditions for a leap year are met. The conditions for a leap year are as follows:\n",
    "The year should be divisible by 4.\n",
    "If the year is divisible by 100, it should not be divisible by 400.\n",
    "The and and or operators are used to combine these conditions. If the year satisfies these conditions, it is considered a leap year.\n",
    "\n",
    "3.print(f'{year} is a leap year'): If the conditions in the if statement are met, this line is executed, and it prints a message indicating that the year is a leap year.\n",
    "\n",
    "4.else:: This is the beginning of the else block. If the conditions in the if statement are not met, it means the year is not a leap year.\n",
    "\n",
    "5.print(f'{year} is not a leap year'): Inside the else block, this line is used to print a message indicating that the year is not a leap year."
   ]
  },
  {
   "cell_type": "code",
   "execution_count": 4,
   "id": "f6b02fcd",
   "metadata": {},
   "outputs": [
    {
     "name": "stdout",
     "output_type": "stream",
     "text": [
      "Enter a character (A-Z/a-z): g\n",
      "g is a consonant\n"
     ]
    }
   ],
   "source": [
    "# Question 5\n",
    "# Create a program that checks whether a character is a vowel or a consonant.\n",
    "char = input('Enter a character (A-Z/a-z): ')\n",
    "while True:\n",
    "    \n",
    "    if len(char) == 1 and char.isalpha():\n",
    "        vowels = 'aeiouAEIOU'\n",
    "        if char in vowels:\n",
    "            print(f'{char} is a vowel')\n",
    "        else:\n",
    "            print(f'{char} is a consonant')\n",
    "        break\n",
    "    else:\n",
    "        print(f'{char} is not a character')"
   ]
  },
  {
   "cell_type": "markdown",
   "id": "f29eefdb",
   "metadata": {},
   "source": [
    "This Python program checks whether a character entered by the user is a vowel or a consonant. Here's how it works:\n",
    "\n",
    "1.char = input('Enter a character (A-Z/a-z): '): This line prompts the user to enter a character and stores the input in the variable char.\n",
    "\n",
    "2.while True:: This line starts an infinite loop, which means the program will keep running until the user enters a valid character.\n",
    "\n",
    "3.Inside the loop, the program checks whether the input is a valid character using the condition if len(char) == 1 and char.isalpha():. This condition checks two things:\n",
    "\n",
    "len(char) == 1 ensures that the input is a single character.\n",
    "char.isalpha() checks if the character is an alphabet letter (A-Z or a-z).\n",
    "\n",
    "4.If the input is a valid character, the program proceeds to check if it's a vowel or a consonant.\n",
    "It defines the string vowels, which contains all lowercase and uppercase vowel letters.\n",
    "It uses if char in vowels: to check if the entered character is in the vowels string. If it is, the program prints that the character is a vowel.\n",
    "If the entered character is not in the vowels string, the program prints that it is a consonant.\n",
    "\n",
    "5.If the input is not a valid character (e.g., it's longer than one character or contains non-alphabet characters), the program prints that it is not a character.\n",
    "\n",
    "6.Finally, break is used to exit the infinite loop once the character is processed."
   ]
  },
  {
   "cell_type": "code",
   "execution_count": 11,
   "id": "962f7b34",
   "metadata": {},
   "outputs": [
    {
     "name": "stdout",
     "output_type": "stream",
     "text": [
      "Enter a number: 24\n",
      "24 is an even number\n"
     ]
    }
   ],
   "source": [
    "# Question 6\n",
    "# Implement a program to determine whether a given number is even or odd.\n",
    "num = int(input('Enter a number: '))\n",
    "if num%2 == 0:\n",
    "    print(f'{num} is an even number')\n",
    "else:\n",
    "    print(f'{num} is an odd number')"
   ]
  },
  {
   "cell_type": "markdown",
   "id": "34b2012e",
   "metadata": {},
   "source": [
    "This Python program determines whether a given number is even or odd. Here's how it works:\n",
    "\n",
    "1.num = int(input('Enter a number: ')): This line prompts the user to enter a number and stores the input in the variable num. The int() function is used to convert the user's input to an integer.\n",
    "\n",
    "2.if num % 2 == 0:: This is a conditional statement. It checks whether the remainder of the division of num by 2 is equal to 0. If the remainder is 0, it means the number is even.\n",
    "\n",
    "3.If the condition in the if statement is true (i.e., if num is even), the program executes the code block under it. In this case, it prints a message indicating that num is an even number using print(f'{num} is an even number').\n",
    "\n",
    "4.If the condition in the if statement is not true (i.e., if num is odd), the program executes the code block under the else statement. In this case, it prints a message indicating that num is an odd number using print(f'{num} is an odd number')."
   ]
  },
  {
   "cell_type": "code",
   "execution_count": 16,
   "id": "65fec086",
   "metadata": {},
   "outputs": [
    {
     "name": "stdout",
     "output_type": "stream",
     "text": [
      "Enter a number: -123\n",
      "absolute value of -123 is 123\n"
     ]
    }
   ],
   "source": [
    "# Question 7\n",
    "# Write a Python function to calculate the absolute value of a number without using the `abs()` function.\n",
    "num = int(input('Enter a number: '))\n",
    "if num<0:\n",
    "    print(f'absolute value of {num} is {-num}')\n",
    "else:\n",
    "    print(f'absolute value of {num} is {num}')"
   ]
  },
  {
   "cell_type": "markdown",
   "id": "29560014",
   "metadata": {},
   "source": [
    "This Python code calculates the absolute value of a number without using the abs() function. Here's how it works:\n",
    "\n",
    "1.num = int(input('Enter a number: ')): This line prompts the user to enter a number and stores the input in the variable num. The int() function is used to convert the user's input to an integer.\n",
    "\n",
    "2.if num < 0:: This is a conditional statement. It checks if the value of num is less than 0, which indicates that it's a negative number.\n",
    "\n",
    "3.If the condition in the if statement is true (i.e., if num is negative), the program executes the code block under it. In this case, it calculates the absolute value of num by negating it (changing its sign from negative to positive) and prints a message with the absolute value.\n",
    "\n",
    "4.If the condition in the if statement is not true (i.e., if num is non-negative or positive), the program executes the code block under the else statement. In this case, it prints a message with the original positive value of num as the absolute value."
   ]
  },
  {
   "cell_type": "code",
   "execution_count": 23,
   "id": "ac576e8a",
   "metadata": {},
   "outputs": [
    {
     "name": "stdout",
     "output_type": "stream",
     "text": [
      "Enter the first number: 4\n",
      "Enter the second number: 5\n",
      "Enter the third number: 6\n",
      "The largest number among 4.0, 5.0, and 6.0 is 6.0\n"
     ]
    }
   ],
   "source": [
    "# Question 8\n",
    "# Develop a program that determines the largest of three given numbers using if-else statements.\n",
    "num1 = float(input(\"Enter the first number: \"))\n",
    "num2 = float(input(\"Enter the second number: \"))\n",
    "num3 = float(input(\"Enter the third number: \"))\n",
    "\n",
    "largest = num1\n",
    "if num2 > largest:\n",
    "    largest = num2\n",
    "\n",
    "if num3 > largest:\n",
    "    largest = num3\n",
    "\n",
    "print(f\"The largest number among {num1}, {num2}, and {num3} is {largest}\")"
   ]
  },
  {
   "cell_type": "markdown",
   "id": "9a5b026f",
   "metadata": {},
   "source": [
    "This Python program determines the largest of three given numbers entered by the user. Here's how it works:\n",
    "\n",
    "1.The program prompts the user to enter three numbers, and each input is converted to a floating-point number using float().\n",
    "\n",
    "2.The variable largest is initialized with the value of num1. This is done to ensure that the initial value is a valid number, and the subsequent comparisons can be made.\n",
    "\n",
    "3.The program uses a series of if statements to compare each number (num2 and num3) with the current value of largest.\n",
    "\n",
    "4.If num2 is greater than the current value of largest, the value of largest is updated to be equal to num2.\n",
    "\n",
    "5.Similarly, if num3 is greater than the current value of largest, the value of largest is updated to be equal to num3.\n",
    "\n",
    "6.Finally, the program prints a message indicating which of the three numbers is the largest, using the updated value of largest."
   ]
  },
  {
   "cell_type": "code",
   "execution_count": 30,
   "id": "82d9d903",
   "metadata": {},
   "outputs": [
    {
     "name": "stdout",
     "output_type": "stream",
     "text": [
      "Enter the string: eye\n",
      "eye is a palindrome\n"
     ]
    }
   ],
   "source": [
    "# Question 9\n",
    "# Create a program that checks if a given string is a palindrome.\n",
    "input_string = input('Enter the string: ')\n",
    "input_string = input_string.lower()\n",
    "if input_string == input_string[::-1]:\n",
    "    print(f'{input_string} is a palindrome')\n",
    "else:\n",
    "    print(f'{input_string} is not a palindrome')"
   ]
  },
  {
   "cell_type": "markdown",
   "id": "2b525fb0",
   "metadata": {},
   "source": [
    "This Python program checks whether a given string is a palindrome or not. Here's how it works:\n",
    "\n",
    "1.The program first takes user input using input(), which is stored in the variable input_string. This input string is expected to be a word or phrase.\n",
    "\n",
    "2.To make the palindrome check case-insensitive, the program converts the input string to lowercase using input_string.lower(). This is done to ensure that the program considers strings like \"Racecar\" and \"racecar\" as palindromes, which they are.\n",
    "\n",
    "3.The program then uses a simple comparison to check if the reversed version of the input string (input_string[::-1]) is equal to the original input_string.\n",
    "\n",
    "4.If the reversed string is equal to the original string, the program prints a message stating that the input string is a palindrome. Otherwise, it prints a message indicating that it is not a palindrome."
   ]
  },
  {
   "cell_type": "code",
   "execution_count": 32,
   "id": "f6237e57",
   "metadata": {},
   "outputs": [
    {
     "name": "stdout",
     "output_type": "stream",
     "text": [
      "Enter the student's score: 82.5\n",
      "The student's grade is: B\n"
     ]
    }
   ],
   "source": [
    "# Question 10\n",
    "# Write a Python program to calculate the grade based on a student's score.\n",
    "score = float(input(\"Enter the student's score: \"))\n",
    "A_score = 90\n",
    "B_score = 80\n",
    "C_score = 70\n",
    "D_score = 60\n",
    "\n",
    "if score >= A_score:\n",
    "    grade = \"A\"\n",
    "elif score >= B_score:\n",
    "    grade = \"B\"\n",
    "elif score >= C_score:\n",
    "    grade = \"C\"\n",
    "elif score >= D_score:\n",
    "    grade = \"D\"\n",
    "else:\n",
    "    grade = \"F\"\n",
    "\n",
    "print(f\"The student's grade is: {grade}\")"
   ]
  },
  {
   "cell_type": "markdown",
   "id": "6b623d55",
   "metadata": {},
   "source": [
    "This Python program calculates and assigns a grade based on a student's score. Here's how it works:\n",
    "\n",
    "1.The program starts by taking the student's score as input using input(). The input is expected to be a floating-point number, which is stored in the variable score.\n",
    "\n",
    "2.Four threshold scores, A_score, B_score, C_score, and D_score, are defined as 90, 80, 70, and 60, respectively. These scores represent the boundaries between different grade categories.\n",
    "\n",
    "3.The program uses a series of if and elif statements to compare the student's score to these threshold scores in descending order. The grades are assigned as follows:\n",
    "If the score is greater than or equal to A_score, the student receives an \"A\" grade.\n",
    "If the score is greater than or equal to B_score, but less than A_score, the student receives a \"B\" grade.\n",
    "If the score is greater than or equal to C_score, but less than B_score, the student receives a \"C\" grade.\n",
    "If the score is greater than or equal to D_score, but less than C_score, the student receives a \"D\" grade.\n",
    "If the score is below D_score, the student receives an \"F\" grade, indicating failure.\n",
    "\n",
    "4.The program assigns the determined grade to the variable grade.\n",
    "\n",
    "5.Finally, the program prints the student's grade based on the calculated result."
   ]
  },
  {
   "cell_type": "markdown",
   "id": "b2f9f887",
   "metadata": {},
   "source": [
    "# Nested If-Else Statements"
   ]
  },
  {
   "cell_type": "code",
   "execution_count": 37,
   "id": "a0f1fc0c",
   "metadata": {},
   "outputs": [
    {
     "name": "stdout",
     "output_type": "stream",
     "text": [
      "Enter first number: 3\n",
      "Enter second number: 6\n",
      "Enter third number: 9\n",
      "The largest number among 3, 6, and 9 is 9\n"
     ]
    }
   ],
   "source": [
    "# Question 11\n",
    "# Write a program to find the largest among three numbers using nested if-else statements.\n",
    "num1 = int(input('Enter first number: '))\n",
    "num2 = int(input('Enter second number: '))\n",
    "num3 = int(input('Enter third number: '))\n",
    "if num1 >= num2:\n",
    "    if num1 >= num3:\n",
    "        largest = num1\n",
    "    else:\n",
    "        largest = num3\n",
    "        \n",
    "else:\n",
    "    if num2 >= num3:\n",
    "        largest = num2\n",
    "    else:\n",
    "        largest = num3\n",
    "        \n",
    "print(f\"The largest number among {num1}, {num2}, and {num3} is {largest}\")"
   ]
  },
  {
   "cell_type": "markdown",
   "id": "94c3f17a",
   "metadata": {},
   "source": [
    "This Python program finds the largest number among three input numbers using nested if-else statements. Here's how it works:\n",
    "\n",
    "1.The program takes three numbers as input from the user using input(), and each input is converted to an integer using int(). These numbers are stored in the variables num1, num2, and num3.\n",
    "\n",
    "2.The program then uses nested if-else statements to compare the three numbers. The nested structure is used to check which number is the largest among the three. Here's the structure of the nested if-else statements:\n",
    "The outer if statement checks if num1 is greater than or equal to num2. If it is, the program enters the inner if-else block; otherwise, it enters the inner else block.\n",
    "Inside the inner if block, the program checks if num1 is greater than or equal to num3. If it is, num1 is the largest number.\n",
    "Inside the inner else block (when num1 is not greater than num3), num3 is the largest number among the three.\n",
    "If the outer if statement is not true (i.e., num1 is not greater than or equal to num2), the program enters the else block, where it checks if num2 is greater than or equal to num3. If it is, num2 is the largest number.\n",
    "Inside the else block (when num2 is not greater than or equal to num3), num3 is the largest number among the three.\n",
    "\n",
    "3.Finally, the program assigns the determined largest number to the variable largest.\n",
    "\n",
    "4.The program then prints a message that displays the largest number among the three input numbers."
   ]
  },
  {
   "cell_type": "code",
   "execution_count": 49,
   "id": "c81a242d",
   "metadata": {},
   "outputs": [
    {
     "name": "stdout",
     "output_type": "stream",
     "text": [
      "Enter the length of first side: 8\n",
      "Enter the length of second side: 4\n",
      "Enter the length of third side: 9\n",
      "It is a scalene triangle.\n"
     ]
    }
   ],
   "source": [
    "# Question 12\n",
    "# Implement a program to determine if a triangle is equilateral, isosceles, or scalene.\n",
    "side1 = float(input('Enter the length of first side: '))\n",
    "side2 = float(input('Enter the length of second side: '))\n",
    "side3 = float(input('Enter the length of third side: '))\n",
    "\n",
    "if side1 + side2 > side3 and side1 + side3 > side2 and side2 + side3 > side1:\n",
    "    if side1 == side2 == side3:\n",
    "        print(\"It is an equilateral triangle.\")\n",
    "    elif side1 == side2 or side1 == side3 or side2 == side3:\n",
    "        print(\"It is an isosceles triangle.\")\n",
    "    else:\n",
    "        print(\"It is a scalene triangle.\")\n",
    "else:\n",
    "    print(\"It is not a valid triangle.\")"
   ]
  },
  {
   "cell_type": "markdown",
   "id": "23d0ba01",
   "metadata": {},
   "source": [
    "This Python program determines whether a triangle is equilateral, isosceles, or scalene based on the lengths of its sides. Here's how it works:\n",
    "\n",
    "1.The program takes three input values from the user, which represent the lengths of the three sides of the triangle. These input values are stored in the variables side1, side2, and side3.\n",
    "\n",
    "2.The program first checks if the input values form a valid triangle. This check is done by evaluating if the sum of the lengths of any two sides is greater than the length of the third side. This is a fundamental triangle inequality. The if condition side1 + side2 > side3 and side1 + side3 > side2 and side2 + side3 > side1 performs this check. If this condition is True, it means the input values can form a valid triangle.\n",
    "\n",
    "3.If the input values form a valid triangle, the program proceeds to classify the triangle based on its sides:\n",
    "If all three sides have the same length (i.e., side1, side2, and side3 are equal), it's classified as an equilateral triangle.\n",
    "If only two sides have the same length (e.g., side1 == side2 or side1 == side3 or side2 == side3), it's classified as an isosceles triangle.\n",
    "If no sides have the same length, it's classified as a scalene triangle.\n",
    "\n",
    "4.If the input values do not form a valid triangle (i.e., the if condition in step 2 is False), the program prints \"It is not a valid triangle.\"\n",
    "\n",
    "5.The program prints the classification of the triangle based on its sides. The classification message is displayed on the screen."
   ]
  },
  {
   "cell_type": "code",
   "execution_count": 66,
   "id": "7b868b7e",
   "metadata": {},
   "outputs": [
    {
     "name": "stdout",
     "output_type": "stream",
     "text": [
      "Enter a year: 2000\n",
      "2000 is a leap year.\n",
      "2000 is a century year.\n"
     ]
    }
   ],
   "source": [
    "# Question 13\n",
    "# Develop a program that checks if a year is a leap year and also if it is a century year.\n",
    "year = int(input(\"Enter a year: \"))\n",
    "\n",
    "if year % 4 == 0:\n",
    "    if year % 100 == 0:\n",
    "        if year % 400 == 0:\n",
    "            is_leap_year = True\n",
    "        else:\n",
    "            is_leap_year = False\n",
    "    else:\n",
    "        is_leap_year = True\n",
    "else:\n",
    "    is_leap_year = False\n",
    "\n",
    "if year % 100 == 0:\n",
    "    is_century_year = True\n",
    "else:\n",
    "    is_century_year = False\n",
    "\n",
    "if is_leap_year:\n",
    "    print(f\"{year} is a leap year.\")\n",
    "else:\n",
    "    print(f\"{year} is not a leap year.\")\n",
    "\n",
    "if is_century_year:\n",
    "    print(f\"{year} is a century year.\")\n",
    "else:\n",
    "    print(f\"{year} is not a century year.\")"
   ]
  },
  {
   "cell_type": "markdown",
   "id": "96c1ab40",
   "metadata": {},
   "source": [
    "This Python program checks if a year is a leap year and also whether it is a century year. Here's how the code works:\n",
    "\n",
    "1.The program takes an input value from the user, which is assumed to be a year, and stores it in the variable year.\n",
    "\n",
    "2.The program begins by checking if the input year is a leap year. A leap year occurs every four years. So, it checks if the year is divisible by 4 using the condition year % 4 == 0. If it is divisible by 4, the program proceeds to check further.\n",
    "\n",
    "3.The program then checks if the year is a century year (i.e., divisible by 100) using the condition year % 100 == 0.\n",
    "\n",
    "4.If the year is divisible by 100, the program further checks if it is a leap year. A century year is considered a leap year if it is evenly divisible by 400. If year % 100 == 0, the program checks year % 400 == 0 to determine if it's a leap year.\n",
    "\n",
    "5.The program sets the variables is_leap_year and is_century_year based on the conditions checked. If it's a leap year, is_leap_year is set to True. If it's a century year, is_century_year is set to True.\n",
    "\n",
    "6.Finally, the program prints out the results. It indicates whether the year is a leap year and whether it's a century year based on the values of is_leap_year and is_century_year."
   ]
  },
  {
   "cell_type": "code",
   "execution_count": 75,
   "id": "ddd707fe",
   "metadata": {},
   "outputs": [
    {
     "name": "stdout",
     "output_type": "stream",
     "text": [
      "Enter a number: 1\n",
      "1.0 is positive\n"
     ]
    }
   ],
   "source": [
    "# Question 14\n",
    "# Write a Python script to determine if a number is positive, negative, or zero.\n",
    "num = float(input(\"Enter a number: \"))\n",
    "\n",
    "if num > 0:\n",
    "    print(f\"{num} is positive\")\n",
    "else:\n",
    "    if num < 0:\n",
    "        print(f\"{num} is negative\")\n",
    "    else:\n",
    "        print(f\"{num} is zero\")"
   ]
  },
  {
   "cell_type": "markdown",
   "id": "c5c72d62",
   "metadata": {},
   "source": [
    "This Python program determines whether a given number is positive, negative, or zero. Here's how the code works:\n",
    "\n",
    "1.The program takes an input value from the user, which is assumed to be a number, and stores it in the variable num.\n",
    "\n",
    "2.The program uses an if-else structure to check the value of num.\n",
    "\n",
    "3.It starts with an if statement to check if num is greater than 0. If this condition is true, it means the number is positive, and the program prints the message \"num is positive.\"\n",
    "\n",
    "4.If the condition in the first if statement is not true (i.e., num is not greater than 0), the program enters the else block and checks whether num is less than 0 using a nested if statement. If this condition is true, it means the number is negative, and the program prints the message \"num is negative.\"\n",
    "\n",
    "5.If both the conditions in the if and nested if statements are not true, it means that num is neither greater than 0 nor less than 0, which implies that it is zero. The program prints the message \"num is zero.\""
   ]
  },
  {
   "cell_type": "code",
   "execution_count": 5,
   "id": "2e22a33f",
   "metadata": {},
   "outputs": [
    {
     "name": "stdout",
     "output_type": "stream",
     "text": [
      "Enter your age:15\n",
      "You are a teenager.\n"
     ]
    }
   ],
   "source": [
    "# Question 15\n",
    "# Create a program to check if a person is a teenager (between 13 and 19 years old).\n",
    "age = int(input(\"Enter your age:\"))\n",
    "\n",
    "if age >= 13:\n",
    "    if age <= 19:\n",
    "        print(\"You are a teenager.\")\n",
    "    else:\n",
    "        print(\"You are not a teenager.\")\n",
    "else:\n",
    "    print(\"You are not a teenager.\")"
   ]
  },
  {
   "cell_type": "markdown",
   "id": "05fea4a0",
   "metadata": {},
   "source": [
    "This Python program checks if a person is a teenager, which is defined as being between 13 and 19 years old. Here's how the code works:\n",
    "\n",
    "1.The program takes an input value from the user, which represents the person's age, and stores it in the variable age.\n",
    "\n",
    "2.The program uses a nested if-else structure to check the age:\n",
    "The outer if statement checks if age is greater than or equal to 13. If this condition is true, it means the person is at least 13 years old, so the program enters the block of this if statement.\n",
    "Inside this block, there is another if statement that checks if age is less than or equal to 19. If this condition is true, it means the person's age is between 13 and 19, and the program prints the message \"You are a teenager.\"\n",
    "If the condition in the inner if statement is not true, it means the person is 13 or older but not 19 or younger. In this case, the program prints \"You are not a teenager.\"\n",
    "\n",
    "3.If the condition in the outer if statement is not true, it means the person is younger than 13. In this case, the program prints \"You are not a teenager.\""
   ]
  },
  {
   "cell_type": "code",
   "execution_count": 1,
   "id": "c385684f",
   "metadata": {},
   "outputs": [
    {
     "name": "stdout",
     "output_type": "stream",
     "text": [
      "Enter the angle measure in degrees: 120\n",
      "The angle with measure 120.0 degrees is a Obtuse Angle.\n"
     ]
    }
   ],
   "source": [
    "# Question 16\n",
    "# Develop a program that determines the type of angle based on its measure (acute, obtuse, or right).\n",
    "angle = float(input(\"Enter the angle measure in degrees: \"))\n",
    "\n",
    "if angle < 90:\n",
    "    angle_type = \"Acute Angle\"\n",
    "else:\n",
    "    if angle == 90:\n",
    "        angle_type = \"Right Angle\"\n",
    "    else:\n",
    "        angle_type = \"Obtuse Angle\"\n",
    "\n",
    "print(f\"The angle with measure {angle} degrees is a {angle_type}.\")"
   ]
  },
  {
   "cell_type": "markdown",
   "id": "ecbd0cea",
   "metadata": {},
   "source": [
    "This Python program determines the type of angle (acute, obtuse, or right) based on its measure in degrees. Here's how the code works:\n",
    "\n",
    "1.The program takes an input value from the user, which represents the angle measure in degrees, and stores it in the variable angle.\n",
    "\n",
    "2.The program uses a series of if-else statements to categorize the angle:\n",
    "The first if statement checks if the angle is less than 90 degrees. If this condition is true, it means the angle is smaller than 90 degrees, and the program assigns the label \"Acute Angle\" to the angle_type variable.\n",
    "If the condition in the first if statement is not true, the program moves to the else part of that if statement. Inside the else block, there is another if statement that checks if the angle is exactly 90 degrees. If this condition is true, it means the angle measures exactly 90 degrees, and the program assigns the label \"Right Angle\" to the angle_type variable.\n",
    "If neither of the previous conditions is true (the angle is not less than 90 and not exactly 90), the program assigns the label \"Obtuse Angle\" to the angle_type variable.\n",
    "\n",
    "3.After determining the angle_type, the program prints a message that includes the original angle measure and its type based on the conditions."
   ]
  },
  {
   "cell_type": "code",
   "execution_count": 8,
   "id": "d1bd3e39",
   "metadata": {},
   "outputs": [
    {
     "name": "stdout",
     "output_type": "stream",
     "text": [
      "Enter the coefficient of x^2: 1\n",
      "Enter the coefficient of x: -1\n",
      "Enter the constant term: 0\n",
      "Root 1 = 1.0, Root 2 = 0.0\n"
     ]
    }
   ],
   "source": [
    "# Question 17\n",
    "# Write a Python program to calculate the roots of a quadratic equation.\n",
    "import math\n",
    "\n",
    "a = float(input(\"Enter the coefficient of x^2: \"))\n",
    "b = float(input(\"Enter the coefficient of x: \"))\n",
    "c = float(input(\"Enter the constant term: \"))\n",
    "\n",
    "discriminant = b**2 - 4*a*c\n",
    "\n",
    "if discriminant > 0:\n",
    "    root1 = (-b + math.sqrt(discriminant)) / (2*a)\n",
    "    root2 = (-b - math.sqrt(discriminant)) / (2*a)\n",
    "    print(f\"Root 1 = {root1}, Root 2 = {root2}\")\n",
    "elif discriminant == 0:\n",
    "    root = -b / (2*a)\n",
    "    print(f\"Repeated Root = {root}\")\n",
    "else:\n",
    "    real_part = -b / (2*a)\n",
    "    imaginary_part = math.sqrt(abs(discriminant)) / (2*a)\n",
    "    print(f\"Complex Roots: {real_part} + {imaginary_part}i and {real_part} - {imaginary_part}i\")"
   ]
  },
  {
   "cell_type": "markdown",
   "id": "807d9596",
   "metadata": {},
   "source": [
    "This Python program calculates the roots of a quadratic equation of the form ax^2 + bx + c = 0. Here's how the code works:\n",
    "\n",
    "1.The program takes input from the user for the coefficients a, b, and c. These coefficients define the quadratic equation.\n",
    "\n",
    "2.It calculates the discriminant (the value inside the square root in the quadratic formula), which is given by the formula: discriminant = b^2 - 4ac. The discriminant helps determine the nature of the roots.\n",
    "\n",
    "3.The program uses if-elif-else statements to classify and calculate the roots based on the discriminant:\n",
    "If the discriminant is greater than 0, it means there are two distinct real roots. The program calculates the roots using the quadratic formula and stores them in root1 and root2.\n",
    "If the discriminant is equal to 0, it means there is a repeated (or double) real root. The program calculates this root and stores it in root.\n",
    "If the discriminant is less than 0, it means there are two complex roots. The program calculates the real and imaginary parts of the roots and prints them as complex numbers.\n",
    "\n",
    "4.Finally, the program prints the roots based on their nature (real, repeated, or complex) and their values. It uses f-strings to format the output."
   ]
  },
  {
   "cell_type": "code",
   "execution_count": 13,
   "id": "99418982",
   "metadata": {},
   "outputs": [
    {
     "name": "stdout",
     "output_type": "stream",
     "text": [
      "Enter a number (1 for Monday, 2 for Tuesday, etc.): 5\n",
      "The day corresponding to 5 is Friday.\n"
     ]
    }
   ],
   "source": [
    "# Question 18\n",
    "# Implement a program to determine the day of the week based on a user-provided number (1 for Monday, 2 for Tuesday, etc.).\n",
    "day_number = int(input(\"Enter a number (1 for Monday, 2 for Tuesday, etc.): \"))\n",
    "\n",
    "day_name = \"\"\n",
    "\n",
    "if 1 <= day_number <= 7:\n",
    "    if day_number == 1:\n",
    "        day_name = \"Monday\"\n",
    "    elif day_number == 2:\n",
    "        day_name = \"Tuesday\"\n",
    "    elif day_number == 3:\n",
    "        day_name = \"Wednesday\"\n",
    "    elif day_number == 4:\n",
    "        day_name = \"Thursday\"\n",
    "    elif day_number == 5:\n",
    "        day_name = \"Friday\"\n",
    "    elif day_number == 6:\n",
    "        day_name = \"Saturday\"\n",
    "    else:\n",
    "        day_name = \"Sunday\"\n",
    "\n",
    "    print(f\"The day corresponding to {day_number} is {day_name}.\")\n",
    "else:\n",
    "    print(\"Invalid input. Please enter a number between 1 and 7.\")"
   ]
  },
  {
   "cell_type": "markdown",
   "id": "ab5813df",
   "metadata": {},
   "source": [
    "This Python program is designed to determine the day of the week based on a user-provided number where 1 corresponds to Monday, 2 to Tuesday, and so on. Here's how the code works:\n",
    "\n",
    "1.The program takes an integer input from the user, stored in the variable day_number.\n",
    "\n",
    "2.It initializes an empty string variable day_name to store the name of the day of the week.\n",
    "\n",
    "3.The code uses if statements to classify and assign the day_name based on the value of day_number:\n",
    "It first checks if day_number is between 1 and 7, inclusive.\n",
    "If day_number is 1, it sets day_name to \"Monday.\"\n",
    "If day_number is 2, it sets day_name to \"Tuesday,\" and so on for the other days of the week.\n",
    "If day_number is 7, it sets day_name to \"Sunday.\"\n",
    "\n",
    "4.If day_number is outside the range of 1 to 7, the program prints an \"Invalid input\" message, asking the user to enter a number between 1 and 7.\n",
    "\n",
    "5.Finally, the program prints the day of the week corresponding to the provided day_number using the f-string for formatted output."
   ]
  },
  {
   "cell_type": "code",
   "execution_count": 23,
   "id": "eee66484",
   "metadata": {},
   "outputs": [
    {
     "name": "stdout",
     "output_type": "stream",
     "text": [
      "Enter a year: 2000\n",
      "2000 is a leap year and evenly divisible by 400.\n"
     ]
    }
   ],
   "source": [
    "# Question 19\n",
    "# Create a program that determines if a year is a leap year and also if it is evenly divisible by 400.\n",
    "year = int(input(\"Enter a year: \"))\n",
    "\n",
    "if year % 4 == 0:\n",
    "    if year % 100 == 0:\n",
    "        if year % 400 == 0:\n",
    "            print(f\"{year} is a leap year and evenly divisible by 400.\")\n",
    "        else:\n",
    "            print(f\"{year} is not a leap year and not evenly divisible by 400.\")\n",
    "    else:\n",
    "        print(f\"{year} is a leap year and not evenly divisible by 400.\")\n",
    "else:\n",
    "    print(f\"{year} is not a leap year.\")"
   ]
  },
  {
   "cell_type": "markdown",
   "id": "7071aa8c",
   "metadata": {},
   "source": [
    "This Python program is designed to determine if a year is a leap year and if it is evenly divisible by 400. It follows the rules for leap years:\n",
    "\n",
    "1.If a year is evenly divisible by 4, it is a leap year.\n",
    "\n",
    "2.However, if a year is also divisible by 100, it is not a leap year unless it is divisible by 400.\n",
    "Here's how the code works:\n",
    "\n",
    "2.1.The program takes an integer input from the user, representing the year, and stores it in the variable year.\n",
    "\n",
    "2.2.The code uses nested if statements to check whether the given year is a leap year and whether it is evenly divisible by 400. The rules are as follows:\n",
    "If the year is divisible by 4 (year % 4 == 0), it checks further.\n",
    "If the year is divisible by 100 (year % 100 == 0), it checks if it is divisible by 400 (year % 400 == 0). If it is, it prints that the year is a leap year and evenly divisible by 400.\n",
    "If the year is divisible by 100 but not by 400, it prints that the year is not a leap year and not evenly divisible by 400.\n",
    "If the year is divisible by 4 but not by 100, it prints that the year is a leap year but not evenly divisible by 400.\n",
    "\n",
    "3.If the year is not divisible by 4, it prints that the year is not a leap year."
   ]
  },
  {
   "cell_type": "code",
   "execution_count": 24,
   "id": "8940deb0",
   "metadata": {},
   "outputs": [
    {
     "name": "stdout",
     "output_type": "stream",
     "text": [
      "Enter a number: 101\n",
      "101 is a prime number.\n"
     ]
    }
   ],
   "source": [
    "# Question 20\n",
    "# Develop a program that checks if a given number is prime or not using nested if-else statements.\n",
    "num = int(input(\"Enter a number: \"))\n",
    "\n",
    "if num <= 1:\n",
    "    print(f\"{num} is not a prime number.\")\n",
    "else:\n",
    "    is_prime = True\n",
    "\n",
    "    for i in range(2, int(num**0.5) + 1):\n",
    "        if num % i == 0:\n",
    "            is_prime = False\n",
    "            break\n",
    "\n",
    "    if is_prime:\n",
    "        print(f\"{num} is a prime number.\")\n",
    "    else:\n",
    "        print(f\"{num} is not a prime number.\")"
   ]
  },
  {
   "cell_type": "markdown",
   "id": "b545f255",
   "metadata": {},
   "source": [
    "This Python program is designed to check if a given number is prime or not. It uses nested if-else statements to perform this check. Here's how the code works:\n",
    "\n",
    "1.The program first takes an integer input from the user, which is stored in the variable num. This is the number that will be checked for primality.\n",
    "\n",
    "2.The code then begins the process of determining if the number is prime:\n",
    "It first checks if num is less than or equal to 1. Numbers less than or equal to 1 are not considered prime, so in this case, it prints that the number is not prime and exits.\n",
    "If num is greater than 1, it sets the is_prime variable to True. This variable will be used to keep track of whether the number is prime or not.\n",
    "\n",
    "3.Next, the program enters a for loop that iterates from 2 to the square root of num (int(num**0.5) + 1). This loop is used to check if the number is divisible by any integer from 2 to the square root of num.\n",
    "Within the loop, it checks if num is divisible by i. If it is, this means the number is not prime, so it sets is_prime to False and breaks out of the loop. This is because prime numbers are only divisible by 1 and themselves.\n",
    "\n",
    "4.After the loop, the program checks the value of is_prime:\n",
    "If is_prime is True, it means the number is not divisible by any integer from 2 to the square root of num, and thus, it is a prime number. It prints that the number is prime.\n",
    "If is_prime is False, it means the number is divisible by some integer in that range, making it not prime. In this case, it prints that the number is not prime."
   ]
  },
  {
   "cell_type": "markdown",
   "id": "83039c41",
   "metadata": {},
   "source": [
    "# Elif Statements"
   ]
  },
  {
   "cell_type": "code",
   "execution_count": 2,
   "id": "0222617e",
   "metadata": {},
   "outputs": [
    {
     "name": "stdout",
     "output_type": "stream",
     "text": [
      "Enter the student's score: 85\n",
      "The student's grade is: B\n"
     ]
    }
   ],
   "source": [
    "# Question 21\n",
    "# Write a Python program to assign grades based on different ranges of scores using elif statements.\n",
    "score = float(input(\"Enter the student's score: \"))\n",
    "\n",
    "if 90 <= score <= 100:\n",
    "    grade = 'A'\n",
    "elif 80 <= score < 90:\n",
    "    grade = 'B'\n",
    "elif 70 <= score < 80:\n",
    "    grade = 'C'\n",
    "elif 60 <= score < 70:\n",
    "    grade = 'D'\n",
    "elif 0 <= score < 60:\n",
    "    grade = 'F'\n",
    "else:\n",
    "    grade = 'Invalid Score (out of range)'\n",
    "\n",
    "print(f\"The student's grade is: {grade}\")"
   ]
  },
  {
   "cell_type": "markdown",
   "id": "f210e8bb",
   "metadata": {},
   "source": [
    "This Python program is designed to assign grades to students based on different ranges of scores. It uses elif statements to evaluate the score and determine the corresponding grade. Here's how the code works:\n",
    "\n",
    "1.The program starts by taking the student's score as input from the user, which is stored in the variable score. This is the score that will be used to determine the grade.\n",
    "\n",
    "2.The code then uses a series of if and elif (short for \"else if\") statements to evaluate the value of score against various score ranges.\n",
    "\n",
    "3.The first if statement checks if the score is between 90 and 100 (inclusive). If this condition is met, the program assigns the grade 'A' to the student.\n",
    "\n",
    "4.The next elif statement checks if the score is between 80 and 89 (inclusive). If this condition is met, the program assigns the grade 'B' to the student.\n",
    "\n",
    "5.Subsequent elif statements follow the same pattern for grade 'C' (70-79), grade 'D' (60-69), and grade 'F' (0-59). These elif statements cover the different score ranges and assign the corresponding grades.\n",
    "\n",
    "6.If the score doesn't fall into any of the specified ranges, it is considered an invalid score, and the program assigns the grade 'Invalid Score (out of range)'.\n",
    "\n",
    "7.Finally, the program prints the assigned grade using an f-string, providing the student with their grade based on their score."
   ]
  },
  {
   "cell_type": "code",
   "execution_count": 9,
   "id": "b94013ad",
   "metadata": {},
   "outputs": [
    {
     "name": "stdout",
     "output_type": "stream",
     "text": [
      "Enter the first angle: 50\n",
      "Enter the second angle: 50\n",
      "Enter the third angle: 80\n",
      "The triangle is an Acute-angled triangle.\n"
     ]
    }
   ],
   "source": [
    "# Question 22\n",
    "# Implement a program to determine the type of a triangle based on its angles.\n",
    "angle1 = float(input(\"Enter the first angle: \"))\n",
    "angle2 = float(input(\"Enter the second angle: \"))\n",
    "angle3 = float(input(\"Enter the third angle: \"))\n",
    "\n",
    "if angle1 + angle2 + angle3 == 180:\n",
    "    if angle1 == 90 or angle2 == 90 or angle3 == 90:\n",
    "        triangle_type = \"Right-angled\"\n",
    "    elif angle1 < 90 and angle2 < 90 and angle3 < 90:\n",
    "        triangle_type = \"Acute-angled\"\n",
    "    else:\n",
    "        triangle_type = \"Obtuse-angled\"\n",
    "else:\n",
    "    triangle_type = \"Not a valid triangle\"\n",
    "\n",
    "print(f\"The triangle is an {triangle_type} triangle.\")"
   ]
  },
  {
   "cell_type": "markdown",
   "id": "dca87103",
   "metadata": {},
   "source": [
    "This Python program is designed to determine the type of a triangle based on its angles. It checks whether the provided angles form a valid triangle and then classifies the triangle into one of three types: right-angled, acute-angled, or obtuse-angled. Here's how the code works:\n",
    "\n",
    "1.The program takes three angle values as input: angle1, angle2, and angle3. These angles are presumed to be the interior angles of a triangle.\n",
    "\n",
    "2.The first if statement checks whether the sum of the angles (angle1 + angle2 + angle3) is equal to 180 degrees. This condition is used to validate whether the provided angles can indeed form a triangle, as the interior angles of any triangle always sum to 180 degrees.\n",
    "\n",
    "3.If the angles do form a valid triangle, the program proceeds to classify the triangle type based on the angle values:\n",
    "If any of the angles (angle1, angle2, or angle3) is equal to 90 degrees, it classifies the triangle as \"Right-angled.\"\n",
    "If all angles are less than 90 degrees, it classifies the triangle as \"Acute-angled.\"\n",
    "If none of the above conditions are met, it classifies the triangle as \"Obtuse-angled.\"\n",
    "\n",
    "4.If the sum of the angles is not equal to 180 degrees, indicating that the input angles do not form a valid triangle, the program assigns the triangle type as \"Not a valid triangle.\"\n",
    "\n",
    "5.Finally, the program prints the type of triangle determined by the above conditions using an f-string."
   ]
  },
  {
   "cell_type": "code",
   "execution_count": 13,
   "id": "415a1813",
   "metadata": {},
   "outputs": [
    {
     "name": "stdout",
     "output_type": "stream",
     "text": [
      "Enter weight (kg): 81\n",
      "Enter height (m): 1.8034\n",
      "The person's BMI is 24.91, which is categorized as Normal Weight.\n"
     ]
    }
   ],
   "source": [
    "# Question 23\n",
    "# Develop a program to categorize a given person's BMI into underweight, normal, overweight, or obese using elif statements.\n",
    "weight = float(input(\"Enter weight (kg): \"))\n",
    "height = float(input(\"Enter height (m): \"))\n",
    "bmi = weight / (height ** 2)\n",
    "\n",
    "if bmi < 18.5:\n",
    "    category = \"Underweight\"\n",
    "elif 18.5 <= bmi < 25:\n",
    "    category = \"Normal Weight\"\n",
    "elif 25 <= bmi < 29.9:\n",
    "    category = \"Overweight\"\n",
    "else:\n",
    "    category = \"Obese\"\n",
    "print(f\"The person's BMI is {bmi:.2f}, which is categorized as {category}.\")"
   ]
  },
  {
   "cell_type": "markdown",
   "id": "5e654d8c",
   "metadata": {},
   "source": [
    "This Python program categorizes a person's BMI (Body Mass Index) into one of four categories: \"Underweight,\" \"Normal Weight,\" \"Overweight,\" or \"Obese.\" Here's how the code works:\n",
    "\n",
    "1.The program takes the person's weight (in kilograms) and height (in meters) as input.\n",
    "\n",
    "2.It calculates the BMI using the formula: BMI = weight / (height^2).\n",
    "\n",
    "3.The program then uses if-elif-else statements to categorize the BMI based on specific ranges. The categorization criteria are as follows:\n",
    "If the BMI is less than 18.5, it categorizes the person as \"Underweight.\"\n",
    "If the BMI is between 18.5 (inclusive) and 25 (exclusive), it categorizes the person as \"Normal Weight.\"\n",
    "If the BMI is between 25 (inclusive) and 29.9 (exclusive), it categorizes the person as \"Overweight.\"\n",
    "If none of the above conditions are met, it categorizes the person as \"Obese.\"\n",
    "\n",
    "4.The program assigns the determined category to the category variable.\n",
    "\n",
    "5.Finally, the program prints the BMI value rounded to two decimal places ({bmi:.2f}) along with the associated category using an f-string."
   ]
  },
  {
   "cell_type": "code",
   "execution_count": 17,
   "id": "8328a1c4",
   "metadata": {},
   "outputs": [
    {
     "name": "stdout",
     "output_type": "stream",
     "text": [
      "Enter a number: 123\n",
      "The number is positive.\n"
     ]
    }
   ],
   "source": [
    "# Question 24\n",
    "# Create a program that determines whether a given number is positive, negative, or zero using elif statements.\n",
    "number = float(input(\"Enter a number: \"))\n",
    "\n",
    "if number > 0:\n",
    "    print(\"The number is positive.\")\n",
    "elif number < 0:\n",
    "    print(\"The number is negative.\")\n",
    "else:\n",
    "    print(\"The number is zero.\")"
   ]
  },
  {
   "cell_type": "markdown",
   "id": "4894acfb",
   "metadata": {},
   "source": [
    "This Python program determines whether a given number is positive, negative, or zero using if-elif-else statements. Here's how the code works:\n",
    "\n",
    "1.The program takes a number as input from the user.\n",
    "\n",
    "2.It uses a series of conditional statements to check the number:\n",
    "The first if statement checks if the number is greater than 0. If this condition is met, it means the number is positive.\n",
    "The elif (short for \"else if\") statement checks if the number is less than 0. If this condition is met, it means the number is negative.\n",
    "If none of the above conditions are met, the else statement is executed, which means the number is equal to zero.\n",
    "\n",
    "3.Depending on which condition is met, the program prints an appropriate message to inform the user of the number's classification: \"The number is positive,\" \"The number is negative,\" or \"The number is zero.\""
   ]
  },
  {
   "cell_type": "code",
   "execution_count": 1,
   "id": "d809bff6",
   "metadata": {},
   "outputs": [
    {
     "name": "stdout",
     "output_type": "stream",
     "text": [
      "Enter a character: hello\n",
      "The character is lowercase.\n"
     ]
    }
   ],
   "source": [
    "# Question 25\n",
    "# Write a Python script to determine the type of a character (uppercase, lowercase, or special) using elif statements.\n",
    "character = input(\"Enter a character: \")\n",
    "\n",
    "if character.isupper():\n",
    "    print(\"The character is uppercase.\")\n",
    "elif character.islower():\n",
    "    print(\"The character is lowercase.\")\n",
    "else:\n",
    "    print(\"The character is special.\")"
   ]
  },
  {
   "cell_type": "markdown",
   "id": "accb1c81",
   "metadata": {},
   "source": [
    "This Python script determines the type of a character (uppercase, lowercase, or special) using if-elif-else statements. Here's how the code works:\n",
    "\n",
    "1.The program takes a single character as input from the user and stores it in the variable character.\n",
    "\n",
    "2.It uses conditional statements to check the type of the character:\n",
    "The first if statement checks if the character is in uppercase. It uses the isupper() method to check if the character is uppercase. If this condition is met, it prints \"The character is uppercase.\"\n",
    "The elif (short for \"else if\") statement checks if the character is in lowercase. It uses the islower() method to check if the character is lowercase. If this condition is met, it prints \"The character is lowercase.\"\n",
    "If none of the above conditions are met, the else statement is executed, which means the character is neither uppercase nor lowercase (i.e., it's a special character), so it prints \"The character is special.\"\n",
    "\n",
    "3.Depending on the character's type, the program provides the corresponding classification as output."
   ]
  },
  {
   "cell_type": "code",
   "execution_count": 29,
   "id": "70977ffc",
   "metadata": {},
   "outputs": [
    {
     "name": "stdout",
     "output_type": "stream",
     "text": [
      "Enter the purchase amount: 2000\n",
      "Purchase Amount: Rs.2000.00\n",
      "Discount: Rs.300.00\n",
      "Discounted Price: Rs.1700.00\n"
     ]
    }
   ],
   "source": [
    "# Question 26\n",
    "# Implement a program to calculate the discounted price based on different purchase amounts using elif statements.\n",
    "purchase_amount = float(input(\"Enter the purchase amount: \"))\n",
    "\n",
    "discount_rate_1 = 0.05\n",
    "discount_rate_2 = 0.1\n",
    "discount_rate_3 = 0.15\n",
    "\n",
    "if purchase_amount < 100:\n",
    "    discount = 0  \n",
    "elif purchase_amount < 500:\n",
    "    discount = purchase_amount * discount_rate_1\n",
    "elif purchase_amount < 1000:\n",
    "    discount = purchase_amount * discount_rate_2\n",
    "else:\n",
    "    discount = purchase_amount * discount_rate_3\n",
    "\n",
    "discounted_price = purchase_amount - discount\n",
    "\n",
    "print(f\"Purchase Amount: Rs.{purchase_amount:.2f}\")\n",
    "print(f\"Discount: Rs.{discount:.2f}\")\n",
    "print(f\"Discounted Price: Rs.{discounted_price:.2f}\")"
   ]
  },
  {
   "cell_type": "markdown",
   "id": "aed94922",
   "metadata": {},
   "source": [
    "This Python program calculates the discounted price based on different purchase amounts using elif statements. Here's how the code works:\n",
    "\n",
    "1.The program takes the purchase amount as input from the user and stores it in the variable purchase_amount.\n",
    "\n",
    "2.Three discount rates are defined:\n",
    "discount_rate_1 for purchases less than Rs. 100 with a 5% discount.\n",
    "discount_rate_2 for purchases less than Rs. 500 with a 10% discount.\n",
    "discount_rate_3 for purchases less than Rs. 1000 with a 15% discount.\n",
    "\n",
    "3.The program uses conditional statements (if, elif, and else) to calculate the appropriate discount and the discounted price:\n",
    "The first if statement checks if the purchase_amount is less than Rs. 100. If this condition is met, the discount is set to 0, indicating no discount.\n",
    "The first elif statement checks if the purchase_amount is less than Rs. 500. If this condition is met, the discount is calculated as the product of the purchase_amount and discount_rate_1.\n",
    "The second elif statement checks if the purchase_amount is less than Rs. 1000. If this condition is met, the discount is calculated as the product of the purchase_amount and discount_rate_2.\n",
    "If none of the above conditions are met, the else statement is executed, and the discount is calculated as the product of the purchase_amount and discount_rate_3.\n",
    "\n",
    "4.The discounted price is calculated by subtracting the discount from the original purchase amount.\n",
    "\n",
    "5.The program prints the following information:\n",
    "The original purchase amount (purchase_amount) formatted with two decimal places.\n",
    "The discount amount (discount) formatted with two decimal places.\n",
    "The discounted price (discounted_price) formatted with two decimal places."
   ]
  },
  {
   "cell_type": "code",
   "execution_count": 36,
   "id": "34fd8160",
   "metadata": {},
   "outputs": [
    {
     "name": "stdout",
     "output_type": "stream",
     "text": [
      "Enter electricity consumption (kWh): 1500\n",
      "Electricity Bill: Rs 285.00\n"
     ]
    }
   ],
   "source": [
    "# Question 27\n",
    "# Develop a program to calculate the electricity bill based on different consumption slabs using elif statements.\n",
    "consumption = float(input(\"Enter electricity consumption (kWh): \"))\n",
    "\n",
    "slab1_rate = 0.10\n",
    "slab2_rate = 0.15\n",
    "slab3_rate = 0.20\n",
    "\n",
    "bill = 0.0\n",
    "\n",
    "if consumption <= 100:\n",
    "    bill = consumption * slab1_rate\n",
    "elif consumption <= 200:\n",
    "    bill = 100 * slab1_rate + (consumption - 100) * slab2_rate\n",
    "else:\n",
    "    bill = 100 * slab1_rate + 100 * slab2_rate + (consumption - 200) * slab3_rate\n",
    "\n",
    "print(f\"Electricity Bill: Rs {bill:.2f}\")"
   ]
  },
  {
   "cell_type": "markdown",
   "id": "36602cc3",
   "metadata": {},
   "source": [
    "This Python program calculates the electricity bill based on different consumption slabs using elif statements. Here's how the code works:\n",
    "\n",
    "1.The program takes the electricity consumption (in kWh) as input from the user and stores it in the variable consumption.\n",
    "\n",
    "2.Three slab rates are defined:\n",
    "\n",
    "slab1_rate for the first 100 kWh with a rate of Rs 0.10 per kWh.\n",
    "slab2_rate for consumption between 101 kWh and 200 kWh with a rate of Rs 0.15 per kWh.\n",
    "slab3_rate for consumption exceeding 200 kWh with a rate of Rs 0.20 per kWh.\n",
    "\n",
    "3.The program uses conditional statements (if, elif, and else) to calculate the electricity bill based on the consumption:\n",
    "The first if statement checks if the consumption is less than or equal to 100 kWh. If this condition is met, the bill is calculated by multiplying the consumption by slab1_rate.\n",
    "The first elif statement checks if the consumption is between 101 kWh and 200 kWh. If this condition is met, the bill is calculated as the sum of two parts:\n",
    "The first 100 kWh multiplied by slab1_rate.\n",
    "The remaining consumption beyond 100 kWh (i.e., consumption - 100) multiplied by slab2_rate.\n",
    "If none of the above conditions are met, the else statement is executed, and the bill is calculated as the sum of three parts:\n",
    "The first 100 kWh multiplied by slab1_rate.\n",
    "The next 100 kWh (from 101 kWh to 200 kWh) multiplied by slab2_rate.\n",
    "The remaining consumption beyond 200 kWh (i.e., consumption - 200) multiplied by slab3_rate.\n",
    "\n",
    "4.The calculated electricity bill is stored in the bill variable.\n",
    "\n",
    "5.The program prints the electricity bill with a formatting string that displays the bill amount with two decimal places and the currency symbol (Rs)."
   ]
  },
  {
   "cell_type": "code",
   "execution_count": 37,
   "id": "c4024340",
   "metadata": {},
   "outputs": [
    {
     "name": "stdout",
     "output_type": "stream",
     "text": [
      "Enter the length of side 1: 40\n",
      "Enter the length of side 2: 50\n",
      "Enter the length of side 3: 60\n",
      "Enter the length of side 4: 50\n",
      "Enter the measure of angle 1 (in degrees): 60\n",
      "Enter the measure of angle 2 (in degrees): 50\n",
      "Enter the measure of angle 3 (in degrees): 120\n",
      "Enter the measure of angle 4 (in degrees): 130\n",
      "The quadrilateral is a Irregular Quadrilateral.\n"
     ]
    }
   ],
   "source": [
    "# Question 28\n",
    "# Create a program to determine the type of quadrilateral based on its angles and sides using elif statements.\n",
    "side1 = float(input(\"Enter the length of side 1: \"))\n",
    "side2 = float(input(\"Enter the length of side 2: \"))\n",
    "side3 = float(input(\"Enter the length of side 3: \"))\n",
    "side4 = float(input(\"Enter the length of side 4: \"))\n",
    "\n",
    "angle1 = float(input(\"Enter the measure of angle 1 (in degrees): \"))\n",
    "angle2 = float(input(\"Enter the measure of angle 2 (in degrees): \"))\n",
    "angle3 = float(input(\"Enter the measure of angle 3 (in degrees): \"))\n",
    "angle4 = float(input(\"Enter the measure of angle 4 (in degrees): \"))\n",
    "\n",
    "if side1 == side2 == side3 == side4 and angle1 == angle2 == angle3 == angle4 == 90:\n",
    "    quadrilateral_type = \"Square\"\n",
    "\n",
    "elif side1 == side3 and side2 == side4 and angle1 == angle3 == angle2 == angle4 == 90:\n",
    "    quadrilateral_type = \"Rectangle\"\n",
    "\n",
    "elif (side1 == side3 and side2 == side4) or (side1 == side2 and side3 == side4):\n",
    "    quadrilateral_type = \"Parallelogram\"\n",
    "\n",
    "elif side1 == side2 == side3 == side4:\n",
    "    quadrilateral_type = \"Rhombus\"\n",
    "\n",
    "elif (angle1 == angle2 and angle3 != angle4) or (angle1 != angle2 and angle3 == angle4):\n",
    "    quadrilateral_type = \"Trapezoid\"\n",
    "\n",
    "else:\n",
    "    quadrilateral_type = \"Irregular Quadrilateral\"\n",
    "\n",
    "print(f\"The quadrilateral is a {quadrilateral_type}.\")"
   ]
  },
  {
   "cell_type": "markdown",
   "id": "cbc386e6",
   "metadata": {},
   "source": [
    "This Python program determines the type of quadrilateral based on the lengths of its sides and the measures of its angles using elif statements. Here's how the code works:\n",
    "\n",
    "1.The program takes the lengths of four sides (side1, side2, side3, and side4) and the measures of four angles (angle1, angle2, angle3, and angle4) as input from the user.\n",
    "\n",
    "2.It uses a series of conditional statements (if, elif, and else) to determine the type of quadrilateral based on the input provided.\n",
    "\n",
    "3.The following quadrilateral types are checked in order:\n",
    "If all sides are equal and all angles are 90 degrees, the quadrilateral is classified as a \"Square.\"\n",
    "If opposite sides are equal and all angles are 90 degrees, it's classified as a \"Rectangle.\"\n",
    "If opposite sides are equal, it's classified as a \"Parallelogram.\"\n",
    "If all sides are equal, it's classified as a \"Rhombus.\"\n",
    "If either pair of opposite angles is equal, it's classified as a \"Trapezoid.\"\n",
    "If none of the above conditions are met, it's classified as an \"Irregular Quadrilateral.\"\n",
    "\n",
    "4.The program assigns the determined quadrilateral type to the variable quadrilateral_type.\n",
    "\n",
    "5.Finally, the program prints the type of quadrilateral based on the determined quadrilateral_type."
   ]
  },
  {
   "cell_type": "code",
   "execution_count": 40,
   "id": "5a498fd7",
   "metadata": {},
   "outputs": [
    {
     "name": "stdout",
     "output_type": "stream",
     "text": [
      "Enter a month (e.g., January, February, etc.): december\n",
      "The season for December is Winter.\n"
     ]
    }
   ],
   "source": [
    "# Question 29\n",
    "# Write a Python script to determine the season based on a user-provided month using elif statements.\n",
    "month = input(\"Enter a month (e.g., January, February, etc.): \").lower()\n",
    "\n",
    "if month in [\"december\", \"january\", \"february\"]:\n",
    "    season = \"Winter\"\n",
    "elif month in [\"march\", \"april\", \"may\"]:\n",
    "    season = \"Spring\"\n",
    "elif month in [\"june\", \"july\", \"august\"]:\n",
    "    season = \"Summer\"\n",
    "elif month in [\"september\", \"october\", \"november\"]:\n",
    "    season = \"Autumn (Fall)\"\n",
    "else:\n",
    "    season = \"Invalid Month\"\n",
    "\n",
    "if season != \"Invalid Month\":\n",
    "    print(f\"The season for {month.capitalize()} is {season}.\")\n",
    "else:\n",
    "    print(\"Invalid input. Please enter a valid month.\")"
   ]
  },
  {
   "cell_type": "markdown",
   "id": "f3995477",
   "metadata": {},
   "source": [
    "This Python script determines the season based on a user-provided month using elif statements. Here's how the code works:\n",
    "\n",
    "1.The program takes the name of a month as input from the user and converts it to lowercase using the .lower() method. This is done to make the input case-insensitive.\n",
    "\n",
    "2.It then uses a series of conditional statements (if, elif, and else) to determine the season based on the provided month.\n",
    "\n",
    "3.The code checks which season the input month falls into by comparing the lowercase month string to predefined lists of months for each season.\n",
    "\n",
    "4.The seasons and their corresponding months are as follows:\n",
    "Winter: December, January, February\n",
    "Spring: March, April, May\n",
    "Summer: June, July, August\n",
    "Autumn (Fall): September, October, November\n",
    "\n",
    "5.If the input month matches one of the predefined lists, the script assigns the corresponding season to the variable season.\n",
    "\n",
    "6.If the input month doesn't match any of the predefined lists, the script assigns \"Invalid Month\" to the season variable.\n",
    "\n",
    "7.Finally, the script checks if the season is not \"Invalid Month\" and, if so, it prints the determined season for the provided month in a formatted message. If the season is \"Invalid Month,\" it informs the user that the input is not valid."
   ]
  },
  {
   "cell_type": "code",
   "execution_count": 42,
   "id": "c0487d86",
   "metadata": {},
   "outputs": [
    {
     "name": "stdout",
     "output_type": "stream",
     "text": [
      "Enter a year (e.g., 2023): 2024\n",
      "Enter a month (1-12): 12\n",
      "Leap Year - 12 has 31 days.\n"
     ]
    }
   ],
   "source": [
    "# Question 30\n",
    "# Implement a program to determine the type of a year (leap or common) and month (30 or 31 days) using elif statements.\n",
    "year = int(input(\"Enter a year (e.g., 2023): \"))\n",
    "month = int(input(\"Enter a month (1-12): \"))\n",
    "\n",
    "if (year % 4 == 0 and year % 100 != 0) or (year % 400 == 0):\n",
    "    is_leap_year = True\n",
    "else:\n",
    "    is_leap_year = False\n",
    "\n",
    "if month == 2:\n",
    "    if is_leap_year:\n",
    "        days_in_month = 29\n",
    "    else:\n",
    "        days_in_month = 28\n",
    "elif month in [4, 6, 9, 11]:\n",
    "    days_in_month = 30\n",
    "elif month in [1, 3, 5, 7, 8, 10, 12]:\n",
    "    days_in_month = 31\n",
    "else:\n",
    "    days_in_month = None\n",
    "\n",
    "if is_leap_year:\n",
    "    year_type = \"Leap Year\"\n",
    "else:\n",
    "    year_type = \"Common Year\"\n",
    "\n",
    "if days_in_month is not None:\n",
    "    print(f\"{year_type} - {month} has {days_in_month} days.\")\n",
    "else:\n",
    "    print(\"Invalid month input. Please enter a valid month (1-12).\")"
   ]
  },
  {
   "cell_type": "markdown",
   "id": "6a6c3c7e",
   "metadata": {},
   "source": [
    "This Python program determines the type of a year (leap or common) and the number of days in a month (30 or 31) using elif statements. Here's how the code works:\n",
    "\n",
    "1.The program takes two inputs from the user: year (an integer) and month (an integer representing the month number, 1-12).\n",
    "\n",
    "2.It first checks whether the year is a leap year or a common year using conditional statements.\n",
    "A leap year is determined by the condition (year % 4 == 0 and year % 100 != 0) or (year % 400 == 0). If this condition is true, the is_leap_year variable is set to True; otherwise, it's set to False.\n",
    "\n",
    "3.Based on the month input, the program then determines the number of days in that month using conditional statements:\n",
    "For February (month 2), it checks whether it's a leap year or not. If it's a leap year, February has 29 days; otherwise, it has 28 days.\n",
    "For months with 30 days (April, June, September, and November), it sets the days_in_month variable to 30.\n",
    "For months with 31 days (January, March, May, July, August, October, and December), it sets the days_in_month variable to 31.\n",
    "\n",
    "4.If the provided month input is valid (1-12), the program prints a message that includes the type of year (leap or common) and the number of days in the specified month. It also specifies \"Leap Year\" or \"Common Year\" as appropriate.\n",
    "\n",
    "5.If the month input is not valid (not in the range of 1-12), the program prints an error message indicating that the input is not valid."
   ]
  },
  {
   "cell_type": "markdown",
   "id": "7e94d25d",
   "metadata": {},
   "source": [
    "# Basic Level"
   ]
  },
  {
   "cell_type": "code",
   "execution_count": 52,
   "id": "92f87b39",
   "metadata": {},
   "outputs": [
    {
     "name": "stdout",
     "output_type": "stream",
     "text": [
      "Enter a number: 12\n",
      "12.0 is positive\n"
     ]
    }
   ],
   "source": [
    "# Question 1\n",
    "# Write a Python program that checks if a given number is positive, negative, or zero.\n",
    "number = float(input('Enter a number: '))\n",
    "\n",
    "if number > 0:\n",
    "    print(f'{number} is positive')\n",
    "elif number < 0:\n",
    "    print(f'{number} is negative')\n",
    "else:\n",
    "    print(f'{number} is zero')"
   ]
  },
  {
   "cell_type": "markdown",
   "id": "79f79c21",
   "metadata": {},
   "source": [
    "This Python program checks whether a given number is positive, negative, or zero and prints the corresponding message. Here's how the code works:\n",
    "\n",
    "1.The program takes input from the user using the input() function, and it's stored in the variable number. The input is initially in string format.\n",
    "\n",
    "2.The float() function is used to convert the user's input (which is a string) into a floating-point number. This is necessary to handle decimal numbers or integers.\n",
    "\n",
    "3.The program uses a series of if, elif (short for \"else if\"), and else statements to check the value of the number:\n",
    "The first if statement checks if number is greater than 0. If it is, it prints a message indicating that the number is positive.\n",
    "The elif statement checks if number is less than 0. If it is, it prints a message indicating that the number is negative.\n",
    "If neither of the above conditions is met (i.e., the number is not greater than 0 nor less than 0), the else block is executed, which means the number must be 0, and it prints a message indicating that the number is zero.\n",
    "\n",
    "4.Based on the conditions met, one of the three messages is printed to the screen."
   ]
  },
  {
   "cell_type": "code",
   "execution_count": 8,
   "id": "1ad8563d",
   "metadata": {},
   "outputs": [
    {
     "name": "stdout",
     "output_type": "stream",
     "text": [
      "Enter the age: 24\n",
      "24 is eligible to vote\n"
     ]
    }
   ],
   "source": [
    "# Question 2\n",
    "# Create a program to determine if a person is eligible to vote based on their age.\n",
    "age = int(input('Enter the age: '))\n",
    "\n",
    "if (age >= 0) and (age < 18):\n",
    "    print(f'{age} is underage')\n",
    "elif age >= 18:\n",
    "    print(f'{age} is eligible to vote')\n",
    "else:\n",
    "    print(f'{age} is an invalid age')"
   ]
  },
  {
   "cell_type": "markdown",
   "id": "5cfdb8b5",
   "metadata": {},
   "source": [
    "This Python program is designed to determine if a person is eligible to vote based on their age. Here's how the code works:\n",
    "\n",
    "1.The user is prompted to enter their age using the input function. The entered value is converted to an integer using int() and stored in the variable age.\n",
    "\n",
    "2.The program then checks the entered age using a series of if, elif, and else statements:\n",
    "The first condition (age >= 0) and (age < 18) checks if the age is greater than or equal to 0 and less than 18. If this condition is met, it prints that the age is \"underage,\" indicating that the person is not yet old enough to vote.\n",
    "The second condition age >= 18 checks if the age is 18 or older. If this condition is met, it prints that the age is \"eligible to vote,\" indicating that the person is old enough to vote.\n",
    "If none of the above conditions are met, the else block is executed. This block prints that the age is \"an invalid age,\" indicating that the input age is not within the expected range.\n",
    "\n",
    "3.Based on the input age and the conditions checked, one of the three messages is displayed to inform the user about their voting eligibility or invalid age input."
   ]
  },
  {
   "cell_type": "code",
   "execution_count": 53,
   "id": "e72bfe3b",
   "metadata": {},
   "outputs": [
    {
     "name": "stdout",
     "output_type": "stream",
     "text": [
      "Enter first number: 20\n",
      "Enter second number: 30\n",
      "30.0 is the maximum\n"
     ]
    }
   ],
   "source": [
    "# Question 3\n",
    "# Write a program to find the maximum of two given numbers using conditional statements.\n",
    "number1 = float(input('Enter first number: '))\n",
    "number2 = float(input('Enter second number: '))\n",
    "\n",
    "if number1 > number2:\n",
    "    print(f'{number1} is the maximum')\n",
    "else:\n",
    "    print(f'{number2} is the maximum')"
   ]
  },
  {
   "cell_type": "markdown",
   "id": "eff35077",
   "metadata": {},
   "source": [
    "This Python program is designed to find the maximum of two given numbers. Here's how the code works:\n",
    "\n",
    "1.The program uses the input function to prompt the user to enter two numbers. The entered values are converted to floating-point numbers using float() and stored in the variables number1 and number2.\n",
    "\n",
    "2.The program uses a conditional statement to compare the two numbers:\n",
    "The if statement checks whether number1 is greater than number2. If this condition is True, it means that number1 is greater, and the program prints a message indicating that number1 is the maximum.\n",
    "If the condition in the if statement is not True, it means that number1 is not greater than number2. In this case, the else block is executed. The else block prints a message indicating that number2 is the maximum.\n",
    "\n",
    "3.Based on the comparison of the two input numbers, one of the two messages is displayed, indicating which of the two numbers is the maximum."
   ]
  },
  {
   "cell_type": "code",
   "execution_count": 6,
   "id": "85deeaba",
   "metadata": {},
   "outputs": [
    {
     "name": "stdout",
     "output_type": "stream",
     "text": [
      "Enter the student's exam score: 75\n",
      "The student's grade is: C\n"
     ]
    }
   ],
   "source": [
    "# Question 4\n",
    "# Develop a program that calculates the grade of a student based on their exam score.\n",
    "score = float(input(\"Enter the student's exam score: \"))\n",
    "\n",
    "if 90 <= score <= 100:\n",
    "    grade = 'A'\n",
    "elif 80 <= score < 90:\n",
    "    grade = 'B'\n",
    "elif 70 <= score < 80:\n",
    "    grade = 'C'\n",
    "elif 60 <= score < 70:\n",
    "    grade = 'D'\n",
    "elif 0 <= score < 60:\n",
    "    grade = 'F'\n",
    "else:\n",
    "    grade = 'Invalid Score (out of range)'\n",
    "\n",
    "print(f\"The student's grade is: {grade}\")"
   ]
  },
  {
   "cell_type": "markdown",
   "id": "8556a7f4",
   "metadata": {},
   "source": [
    "This Python program calculates the grade of a student based on their exam score. Here's how the code works:\n",
    "\n",
    "1.The program uses the input function to prompt the user to enter the student's exam score. The entered value is converted to a floating-point number using float() and stored in the variable score.\n",
    "\n",
    "2.The program uses a series of if and elif (else if) statements to check the value of score against various score ranges:\n",
    "The first if statement checks if the score is between 90 and 100 (inclusive). If this condition is met, the student's grade is assigned as 'A'.\n",
    "The subsequent elif statements check for other score ranges: 80-89 for 'B', 70-79 for 'C', 60-69 for 'D', and less than 60 for 'F'. If the score falls within one of these ranges, the corresponding grade is assigned.\n",
    "The final else block handles the case where the score is out of the valid range (less than 0 or greater than 100). In this case, it assigns the grade 'Invalid Score (out of range)'.\n",
    "\n",
    "3.After determining the appropriate grade based on the score, the program prints the calculated grade for the student."
   ]
  },
  {
   "cell_type": "code",
   "execution_count": 7,
   "id": "519671e4",
   "metadata": {},
   "outputs": [
    {
     "name": "stdout",
     "output_type": "stream",
     "text": [
      "Enter a year: 2020\n",
      "2020 is a leap year.\n"
     ]
    }
   ],
   "source": [
    "# Question 5\n",
    "# Create a program that checks if a year is a leap year or not.\n",
    "year = int(input(\"Enter a year: \"))\n",
    "\n",
    "if (year % 4 == 0 and year % 100 != 0) or (year % 400 == 0):\n",
    "    print(f\"{year} is a leap year.\")\n",
    "else:\n",
    "    print(f\"{year} is not a leap year.\")"
   ]
  },
  {
   "cell_type": "markdown",
   "id": "4ef4a85e",
   "metadata": {},
   "source": [
    "This Python program checks whether a given year is a leap year or not. Here's how the code works:\n",
    "\n",
    "1.The program uses the input function to prompt the user to enter a year. The entered value is converted to an integer using int() and stored in the variable year.\n",
    "\n",
    "2.It then uses a series of if and else statements to determine if the year is a leap year.\n",
    "\n",
    "3.The condition (year % 4 == 0 and year % 100 != 0) or (year % 400 == 0) is used to check if a year is a leap year. A year is considered a leap year if it meets one of the following conditions:\n",
    "It is divisible by 4, but not divisible by 100.\n",
    "It is divisible by 400.\n",
    "\n",
    "4.If the condition is true, the program prints a message stating that the year is a leap year.\n",
    "\n",
    "5.If the condition is false, the program prints a message stating that the year is not a leap year."
   ]
  },
  {
   "cell_type": "code",
   "execution_count": 8,
   "id": "bcf24497",
   "metadata": {},
   "outputs": [
    {
     "name": "stdout",
     "output_type": "stream",
     "text": [
      "Enter the length of the first side: 60\n",
      "Enter the length of the second side: 60\n",
      "Enter the length of the third side: 60\n",
      "The triangle is a Equilateral triangle.\n",
      "Triangle validity: Valid Triangle\n"
     ]
    }
   ],
   "source": [
    "# Question 6\n",
    "# Write a program to classify a triangle based on its sides' lengths.\n",
    "side1 = float(input(\"Enter the length of the first side: \"))\n",
    "side2 = float(input(\"Enter the length of the second side: \"))\n",
    "side3 = float(input(\"Enter the length of the third side: \"))\n",
    "\n",
    "if side1 == side2 == side3:\n",
    "    triangle_type = \"Equilateral\"\n",
    "elif side1 == side2 or side1 == side3 or side2 == side3:\n",
    "    triangle_type = \"Isosceles\"\n",
    "else:\n",
    "    triangle_type = \"Scalene\"\n",
    "\n",
    "if side1 + side2 > side3 and side1 + side3 > side2 and side2 + side3 > side1:\n",
    "    validity = \"Valid Triangle\"\n",
    "else:\n",
    "    validity = \"Not a valid triangle\"\n",
    "\n",
    "print(f\"The triangle is a {triangle_type} triangle.\")\n",
    "print(f\"Triangle validity: {validity}\")"
   ]
  },
  {
   "cell_type": "markdown",
   "id": "00be6344",
   "metadata": {},
   "source": [
    "This Python program classifies a triangle based on the lengths of its sides. It also checks the validity of the triangle. Here's how the code works:\n",
    "\n",
    "1.The program uses the input function to prompt the user to enter the lengths of the three sides of the triangle. The entered values are converted to floating-point numbers using float() and stored in the variables side1, side2, and side3.\n",
    "\n",
    "2.It then uses a series of if and elif statements to classify the triangle based on the side lengths:\n",
    "If all three sides are equal (side1 == side2 == side3), the triangle is classified as \"Equilateral.\"\n",
    "If at least two sides are equal (side1 == side2 or side1 == side3 or side2 == side3), the triangle is classified as \"Isosceles.\"\n",
    "If none of the above conditions are met, the triangle is classified as \"Scalene.\"\n",
    "\n",
    "3.To check the validity of the triangle, the program uses the triangle inequality theorem, which states that the sum of the lengths of any two sides of a triangle must be greater than or equal to the length of the third side. The program checks this condition for all combinations of sides (side1 + side2 > side3, side1 + side3 > side2, and side2 + side3 > side1). If all three conditions are met, the triangle is considered \"Valid\"; otherwise, it is considered \"Not a valid triangle.\"\n",
    "\n",
    "4.The program prints the classification of the triangle and its validity."
   ]
  },
  {
   "cell_type": "code",
   "execution_count": 10,
   "id": "901edc15",
   "metadata": {},
   "outputs": [
    {
     "name": "stdout",
     "output_type": "stream",
     "text": [
      "Enter the first number: 10\n",
      "Enter the second number: 20\n",
      "Enter the third number: 30\n",
      "The largest number is: 30.0\n"
     ]
    }
   ],
   "source": [
    "# Question 7\n",
    "# Build a program that determines the largest of three given numbers.\n",
    "num1 = float(input(\"Enter the first number: \"))\n",
    "num2 = float(input(\"Enter the second number: \"))\n",
    "num3 = float(input(\"Enter the third number: \"))\n",
    "\n",
    "if num1 >= num2 and num1 >= num3:\n",
    "    largest = num1\n",
    "elif num2 >= num1 and num2 >= num3:\n",
    "    largest = num2\n",
    "else:\n",
    "    largest = num3\n",
    "\n",
    "print(f\"The largest number is: {largest}\")"
   ]
  },
  {
   "cell_type": "markdown",
   "id": "45d705aa",
   "metadata": {},
   "source": [
    "This Python program determines the largest of three given numbers. Here's how the code works:\n",
    "\n",
    "1.The program uses the input function to prompt the user to enter three numbers: num1, num2, and num3. The entered values are converted to floating-point numbers using float() and stored in the respective variables.\n",
    "\n",
    "2.It then uses a series of if and elif statements to compare the three numbers and find the largest one:\n",
    "The first if statement checks if num1 is greater than or equal to both num2 and num3. If it's true, num1 is assigned to the variable largest as the largest number.\n",
    "The second elif statement checks if num2 is greater than or equal to both num1 and num3. If it's true, num2 is assigned to largest as the largest number.\n",
    "If none of the above conditions are met, the third number num3 is assigned to largest.\n",
    "\n",
    "3.Finally, the program prints the value of largest, which represents the largest number among the three input numbers."
   ]
  },
  {
   "cell_type": "code",
   "execution_count": 13,
   "id": "bce372eb",
   "metadata": {},
   "outputs": [
    {
     "name": "stdout",
     "output_type": "stream",
     "text": [
      "Enter a character: a\n",
      "The character 'a' is a vowel.\n"
     ]
    }
   ],
   "source": [
    "# Question 8\n",
    "# Develop a program that checks whether a character is a vowel or a consonant.\n",
    "character = input(\"Enter a character: \")\n",
    "character = character.lower()\n",
    "\n",
    "if character.isalpha() and len(character) == 1:\n",
    "    if character in \"aeiou\":\n",
    "        result = \"vowel\"\n",
    "    else:\n",
    "        result = \"consonant\"\n",
    "else:\n",
    "    result = \"not a valid character\"\n",
    "\n",
    "print(f\"The character '{character}' is a {result}.\")"
   ]
  },
  {
   "cell_type": "markdown",
   "id": "b274808a",
   "metadata": {},
   "source": [
    "This Python program checks whether a character is a vowel or a consonant. Here's how the code works:\n",
    "\n",
    "1.The program uses the input function to prompt the user to enter a character, which is stored in the variable character.\n",
    "\n",
    "2.It converts the entered character to lowercase using the lower() method to handle both uppercase and lowercase characters consistently.\n",
    "\n",
    "3.The program then checks several conditions:\n",
    "The if statement verifies that the input character is a single alphabetic character using isalpha() and len(character) == 1. If the condition is not met, the character is considered \"not a valid character.\"\n",
    "If the character is a single alphabetic character, it checks if the character is in the string \"aeiou,\" which contains the lowercase vowels. If it is, the result variable is set to \"vowel\"; otherwise, it's set to \"consonant.\"\n",
    "\n",
    "4.Finally, the program prints a message indicating whether the input character is a vowel or a consonant based on the value of the result variable."
   ]
  },
  {
   "cell_type": "code",
   "execution_count": 16,
   "id": "81a109e7",
   "metadata": {},
   "outputs": [
    {
     "name": "stdout",
     "output_type": "stream",
     "text": [
      "Total cost of the shopping cart: Rs 234.00\n"
     ]
    }
   ],
   "source": [
    "# Question 9\n",
    "# Create a program to calculate the total cost of a shopping cart based on discounts.\n",
    "item_prices = {\n",
    "    \"item1\": 10.0,\n",
    "    \"item2\": 20.0,\n",
    "    \"item3\": 30.0,\n",
    "    \"item4\": 40.0\n",
    "}\n",
    "\n",
    "item_quantities = {\n",
    "    \"item1\": 3,\n",
    "    \"item2\": 2,\n",
    "    \"item3\": 1,\n",
    "    \"item4\": 4\n",
    "}\n",
    "\n",
    "total_cost = sum(item_prices[item] * item_quantities[item] for item in item_prices)\n",
    "\n",
    "if total_cost >= 100:\n",
    "    total_cost *= 0.9\n",
    "\n",
    "print(f\"Total cost of the shopping cart: Rs {total_cost:.2f}\")"
   ]
  },
  {
   "cell_type": "markdown",
   "id": "b8e9cf27",
   "metadata": {},
   "source": [
    "This Python program calculates the total cost of a shopping cart based on item prices and quantities, with a discount applied if the total cost is greater than or equal to 100. Here's how the code works:\n",
    "\n",
    "1.Two dictionaries are defined to store the prices of items and their quantities. The item_prices dictionary contains the prices of different items, and the item_quantities dictionary contains the quantities of each item.\n",
    "\n",
    "2.The total_cost variable is calculated using a generator expression within the sum function. The generator expression iterates over each item in the item_prices dictionary, multiplies the item's price by its quantity (from the item_quantities dictionary), and sums up these values to compute the total cost of all items in the shopping cart.\n",
    "\n",
    "3.The program checks whether the total_cost is greater than or equal to 100 using an if statement.\n",
    "\n",
    "4.If the total cost is greater than or equal to 100, a discount is applied by reducing the total_cost by 10% (multiplied by 0.9). The discounted total cost is then stored back in the total_cost variable.\n",
    "\n",
    "5.Finally, the program prints the total cost of the shopping cart with two decimal places using an f-string."
   ]
  },
  {
   "cell_type": "code",
   "execution_count": 17,
   "id": "57f34cae",
   "metadata": {},
   "outputs": [
    {
     "name": "stdout",
     "output_type": "stream",
     "text": [
      "Enter a number: 5\n",
      "5 is odd.\n"
     ]
    }
   ],
   "source": [
    "# Question 10\n",
    "# Write a program that checks if a given number is even or odd.\n",
    "number = int(input(\"Enter a number: \"))\n",
    "\n",
    "if number % 2 == 0:\n",
    "    print(f\"{number} is even.\")\n",
    "else:\n",
    "    print(f\"{number} is odd.\")"
   ]
  },
  {
   "cell_type": "markdown",
   "id": "90dd1e80",
   "metadata": {},
   "source": [
    "This Python program checks if a given number is even or odd. Here's how the code works:\n",
    "\n",
    "1.The program first prompts the user to enter a number, which is obtained using the input function and stored in the number variable as an integer.\n",
    "\n",
    "2.It then uses an if statement to check whether the number is even or odd. This is done by calculating the remainder when dividing the number by 2. If the remainder is 0, it means the number is even; otherwise, it's odd.\n",
    "\n",
    "3.If the number is even (remainder is 0), the program prints a message indicating that the number is even and provides the value of the number. If the number is odd (remainder is not 0), it prints a message indicating that the number is odd and provides the value of the number."
   ]
  },
  {
   "cell_type": "markdown",
   "id": "4d5c76c9",
   "metadata": {},
   "source": [
    "# Intermediate Level"
   ]
  },
  {
   "cell_type": "code",
   "execution_count": 19,
   "id": "c688f4cd",
   "metadata": {},
   "outputs": [
    {
     "name": "stdout",
     "output_type": "stream",
     "text": [
      "Enter the coefficient a: 4\n",
      "Enter the coefficient b: 5\n",
      "Enter the coefficient c: 12\n",
      "Root 1: -0.625 + 1.6153559979150107i\n",
      "Root 2: -0.625 - 1.6153559979150107i\n"
     ]
    }
   ],
   "source": [
    "# Question 11\n",
    "# Write a program that calculates the roots of a quadratic equation.\n",
    "import math\n",
    "\n",
    "a = float(input(\"Enter the coefficient a: \"))\n",
    "b = float(input(\"Enter the coefficient b: \"))\n",
    "c = float(input(\"Enter the coefficient c: \"))\n",
    "\n",
    "discriminant = b**2 - 4*a*c\n",
    "\n",
    "if discriminant > 0:\n",
    "    root1 = (-b + math.sqrt(discriminant)) / (2*a)\n",
    "    root2 = (-b - math.sqrt(discriminant)) / (2*a)\n",
    "    print(f\"Root 1: {root1}\")\n",
    "    print(f\"Root 2: {root2}\")\n",
    "elif discriminant == 0:\n",
    "    root = -b / (2*a)\n",
    "    print(f\"Root: {root}\")\n",
    "else:\n",
    "    real_part = -b / (2*a)\n",
    "    imaginary_part = math.sqrt(abs(discriminant)) / (2*a)\n",
    "    print(f\"Root 1: {real_part} + {imaginary_part}i\")\n",
    "    print(f\"Root 2: {real_part} - {imaginary_part}i\")"
   ]
  },
  {
   "cell_type": "markdown",
   "id": "c767c3f6",
   "metadata": {},
   "source": [
    "This Python program calculates the roots of a quadratic equation of the form ax^2 + bx + c = 0 using the quadratic formula. Here's how the code works:\n",
    "\n",
    "1.The program first prompts the user to enter the coefficients a, b, and c of the quadratic equation, which are stored as floating-point numbers in the variables a, b, and c.\n",
    "\n",
    "2.It calculates the discriminant using the formula discriminant = b^2 - 4ac.\n",
    "\n",
    "3.The program uses an if statement to check the value of the discriminant:\n",
    "If the discriminant is greater than 0, there are two real roots. It calculates the roots using the quadratic formula and prints them.\n",
    "If the discriminant is equal to 0, there is one real repeated root. It calculates and prints the single root.\n",
    "If the discriminant is less than 0, there are two complex roots. It calculates and prints both complex roots.\n",
    "\n",
    "4.The program uses the math.sqrt() function to compute the square root and the imaginary unit \"i\" for complex roots."
   ]
  },
  {
   "cell_type": "code",
   "execution_count": 20,
   "id": "2e3c2a4e",
   "metadata": {},
   "outputs": [
    {
     "name": "stdout",
     "output_type": "stream",
     "text": [
      "Enter a day number (1-7): 5\n",
      "Day 5 is Friday.\n"
     ]
    }
   ],
   "source": [
    "# Question 12\n",
    "# Create a program that determines the day of the week based on the day number (1-7).\n",
    "day_number = int(input(\"Enter a day number (1-7): \"))\n",
    "\n",
    "if 1 <= day_number <= 7:\n",
    "    days_of_week = [\"Monday\", \"Tuesday\", \"Wednesday\", \"Thursday\", \"Friday\", \"Saturday\", \"Sunday\"]\n",
    "    day_of_week = days_of_week[day_number - 1]\n",
    "    print(f\"Day {day_number} is {day_of_week}.\")\n",
    "else:\n",
    "    print(\"Invalid day number. Please enter a number between 1 and 7.\")"
   ]
  },
  {
   "cell_type": "markdown",
   "id": "14b5b899",
   "metadata": {},
   "source": [
    "This Python program determines the day of the week based on the day number provided by the user (1-7). Here's how the code works:\n",
    "\n",
    "1.The program first prompts the user to enter a day number, which is stored in the variable day_number as an integer.\n",
    "\n",
    "2.It checks if the entered day_number is between 1 and 7 (inclusive) using an if statement.\n",
    "\n",
    "3.If the day_number is within the valid range, the program creates a list days_of_week that contains the names of the days of the week in the correct order: \"Monday,\" \"Tuesday,\" \"Wednesday,\" \"Thursday,\" \"Friday,\" \"Saturday,\" and \"Sunday.\"\n",
    "\n",
    "4.It calculates the index for the corresponding day of the week by subtracting 1 from the day_number to match the list indexing (where lists start at index 0).\n",
    "\n",
    "5.Finally, the program prints the day of the week based on the user's input. If the input is valid (between 1 and 7), it looks up the day's name from the days_of_week list and displays it. If the input is not valid, it displays an error message."
   ]
  },
  {
   "cell_type": "code",
   "execution_count": 21,
   "id": "a5964795",
   "metadata": {},
   "outputs": [
    {
     "name": "stdout",
     "output_type": "stream",
     "text": [
      "Enter a number: 5\n",
      "The factorial of 5 is 120.\n"
     ]
    }
   ],
   "source": [
    "# Question 13\n",
    "# Develop a program that calculates the factorial of a given number using recursion.\n",
    "def factorial(n):\n",
    "    if n == 0:\n",
    "        return 1\n",
    "    else:\n",
    "        return n * factorial(n - 1)\n",
    "\n",
    "num = int(input(\"Enter a number: \"))\n",
    "\n",
    "if num < 0:\n",
    "    print(\"Factorial is not defined for negative numbers.\")\n",
    "else:\n",
    "    result = factorial(num)\n",
    "    print(f\"The factorial of {num} is {result}.\")"
   ]
  },
  {
   "cell_type": "markdown",
   "id": "b0228685",
   "metadata": {},
   "source": [
    "This Python program calculates the factorial of a given number using recursion. Here's how the code works:\n",
    "\n",
    "1.The program defines a function factorial(n) that takes an integer n as its argument. This function calculates the factorial of the input number.\n",
    "\n",
    "2.Inside the factorial function, there is a base case check: if n == 0. If the input n is 0, it returns 1. This is because the factorial of 0 is defined as 1 (0! = 1).\n",
    "\n",
    "3.If the input n is not 0, the function proceeds to calculate the factorial recursively. It multiplies n by the result of the factorial(n - 1) call. This recursive call computes the factorial of n - 1.\n",
    "\n",
    "4.The program then prompts the user to enter a number and stores it in the variable num.\n",
    "\n",
    "5.It checks if the entered number num is negative. If it's negative, it prints \"Factorial is not defined for negative numbers.\"\n",
    "\n",
    "6.If the entered number is non-negative (zero or positive), it calls the factorial function with num as an argument to calculate the factorial.\n",
    "\n",
    "7.The calculated factorial is stored in the variable result, and the program prints the result, indicating the factorial of the entered number."
   ]
  },
  {
   "cell_type": "code",
   "execution_count": 22,
   "id": "433a8ace",
   "metadata": {},
   "outputs": [
    {
     "name": "stdout",
     "output_type": "stream",
     "text": [
      "Enter the first number: 5\n",
      "Enter the second number: 6\n",
      "Enter the third number: 4\n",
      "The largest number is: 6.0\n"
     ]
    }
   ],
   "source": [
    "# Question 14\n",
    "# Write a program to find the largest among three numbers without using the `max()` function.\n",
    "num1 = float(input(\"Enter the first number: \"))\n",
    "num2 = float(input(\"Enter the second number: \"))\n",
    "num3 = float(input(\"Enter the third number: \"))\n",
    "\n",
    "largest = num1\n",
    "\n",
    "if num2 > largest:\n",
    "    largest = num2\n",
    "if num3 > largest:\n",
    "    largest = num3\n",
    "\n",
    "print(f\"The largest number is: {largest}\")"
   ]
  },
  {
   "cell_type": "markdown",
   "id": "b4bf1820",
   "metadata": {},
   "source": [
    "This Python program finds the largest number among three input numbers without using the max() function. Here's how the code works:\n",
    "\n",
    "1.The program prompts the user to enter three numbers: num1, num2, and num3. These numbers are stored as floating-point variables.\n",
    "\n",
    "2.The variable largest is initialized with the value of num1. This variable will be used to keep track of the largest number found so far.\n",
    "\n",
    "3.The program then compares num2 with largest using an if statement. If num2 is greater than largest, it updates the value of largest to be equal to num2.\n",
    "\n",
    "4.Similarly, the program compares num3 with largest using another if statement. If num3 is greater than largest, it updates the value of largest to be equal to num3.\n",
    "\n",
    "5.After comparing all three numbers, the variable largest will hold the largest number among the three.\n",
    "\n",
    "6.Finally, the program prints the value of largest, which is the largest number entered by the user."
   ]
  },
  {
   "cell_type": "code",
   "execution_count": 26,
   "id": "a677cf89",
   "metadata": {},
   "outputs": [
    {
     "name": "stdout",
     "output_type": "stream",
     "text": [
      "\n",
      "ATM Transaction Menu:\n",
      "1. Display Balance\n",
      "2. Deposit Money\n",
      "3. Withdraw Money\n",
      "4. Exit\n",
      "Enter your choice (1/2/3/4): 1\n",
      "Your account balance is: Rs 1000.00\n",
      "\n",
      "ATM Transaction Menu:\n",
      "1. Display Balance\n",
      "2. Deposit Money\n",
      "3. Withdraw Money\n",
      "4. Exit\n",
      "Enter your choice (1/2/3/4): 2\n",
      "Enter the amount to deposit: Rs100\n",
      "Rs 100.00 has been deposited.\n",
      "\n",
      "ATM Transaction Menu:\n",
      "1. Display Balance\n",
      "2. Deposit Money\n",
      "3. Withdraw Money\n",
      "4. Exit\n",
      "Enter your choice (1/2/3/4): 3\n",
      "Enter the amount to withdraw: Rs200\n",
      "Rs 200.00 has been withdrawn.\n",
      "\n",
      "ATM Transaction Menu:\n",
      "1. Display Balance\n",
      "2. Deposit Money\n",
      "3. Withdraw Money\n",
      "4. Exit\n",
      "Enter your choice (1/2/3/4): 4\n",
      "Thank you for using our ATM. Goodbye!\n"
     ]
    }
   ],
   "source": [
    "# Question 15\n",
    "# Create a program that simulates a basic ATM transaction menu.\n",
    "account_balance = 1000.0\n",
    "\n",
    "def display_balance():\n",
    "    print(f\"Your account balance is: Rs {account_balance:.2f}\")\n",
    "\n",
    "def deposit_money():\n",
    "    global account_balance\n",
    "    amount = float(input(\"Enter the amount to deposit: Rs\"))\n",
    "    if amount > 0:\n",
    "        account_balance += amount\n",
    "        print(f\"Rs {amount:.2f} has been deposited.\")\n",
    "    else:\n",
    "        print(\"Invalid amount. Please enter a positive value.\")\n",
    "\n",
    "def withdraw_money():\n",
    "    global account_balance\n",
    "    amount = float(input(\"Enter the amount to withdraw: Rs\"))\n",
    "    if amount > 0 and amount <= account_balance:\n",
    "        account_balance -= amount\n",
    "        print(f\"Rs {amount:.2f} has been withdrawn.\")\n",
    "    elif amount <= 0:\n",
    "        print(\"Invalid amount. Please enter a positive value.\")\n",
    "    else:\n",
    "        print(\"Insufficient funds. Cannot withdraw this amount.\")\n",
    "\n",
    "while True:\n",
    "    print(\"\\nATM Transaction Menu:\")\n",
    "    print(\"1. Display Balance\")\n",
    "    print(\"2. Deposit Money\")\n",
    "    print(\"3. Withdraw Money\")\n",
    "    print(\"4. Exit\")\n",
    "    \n",
    "    choice = int(input(\"Enter your choice (1/2/3/4): \"))\n",
    "    \n",
    "    if choice == 1:\n",
    "        display_balance()\n",
    "    elif choice == 2:\n",
    "        deposit_money()\n",
    "    elif choice == 3:\n",
    "        withdraw_money()\n",
    "    elif choice == 4:\n",
    "        print(\"Thank you for using our ATM. Goodbye!\")\n",
    "        break\n",
    "    else:\n",
    "        print(\"Invalid choice. Please enter a valid option.\")"
   ]
  },
  {
   "cell_type": "markdown",
   "id": "ebd6bc31",
   "metadata": {},
   "source": [
    "This Python program simulates a basic ATM transaction menu with the following functionalities:\n",
    "\n",
    "1.Display Balance: Allows you to check your account balance.\n",
    "\n",
    "2.Deposit Money: Allows you to deposit a specific amount of money into your account.\n",
    "\n",
    "3.Withdraw Money: Allows you to withdraw a specific amount of money from your account.\n",
    "\n",
    "4.Exit: Exits the ATM menu and ends the program.\n",
    "\n",
    "Here's an explanation of how the code works:\n",
    "\n",
    "5.account_balance is a global variable initialized with an initial balance of Rs 1000.0.\n",
    "\n",
    "6.Three functions are defined:\n",
    "\n",
    "6.1.display_balance(): This function simply displays the current account balance.\n",
    "\n",
    "6.2.deposit_money(): This function allows you to deposit money into your account. It prompts you to enter an amount, and if the amount is valid (positive), it updates the account balance accordingly.\n",
    "\n",
    "6.3.withdraw_money(): This function allows you to withdraw money from your account. It prompts you to enter an amount, and it checks if the amount is valid (positive) and if there are sufficient funds in your account. If both conditions are met, it updates the account balance.\n",
    "\n",
    "7.The program uses a while loop to create a menu that repeatedly displays options to the user until they choose to exit by entering option 4.\n",
    "\n",
    "8.Inside the loop, the program prints the ATM Transaction Menu with the available options and asks the user to input their choice.\n",
    "\n",
    "9.Based on the user's choice, the program calls the respective function (display_balance(), deposit_money(), or withdraw_money()) or exits the loop if the user chooses option 4.\n",
    "\n",
    "10.If the user enters an invalid choice, the program prints a message indicating that an invalid option was selected."
   ]
  },
  {
   "cell_type": "code",
   "execution_count": 27,
   "id": "3f829164",
   "metadata": {},
   "outputs": [
    {
     "name": "stdout",
     "output_type": "stream",
     "text": [
      "Enter a string: eye\n",
      "'eye' is a palindrome.\n"
     ]
    }
   ],
   "source": [
    "# Question 16\n",
    "# Build a program that checks if a given string is a palindrome or not.\n",
    "def is_palindrome(s):\n",
    "    s = s.replace(\" \", \"\").lower()\n",
    "    return s == s[::-1]\n",
    "\n",
    "input_string = input(\"Enter a string: \")\n",
    "\n",
    "if is_palindrome(input_string):\n",
    "    print(f\"'{input_string}' is a palindrome.\")\n",
    "else:\n",
    "    print(f\"'{input_string}' is not a palindrome.\")"
   ]
  },
  {
   "cell_type": "markdown",
   "id": "8b52ab3c",
   "metadata": {},
   "source": [
    "This Python program checks if a given string is a palindrome or not. A palindrome is a word, phrase, number, or other sequences of characters that reads the same forward and backward (ignoring spaces and letter casing).\n",
    "Here's an explanation of how the code works:\n",
    "\n",
    "1.The is_palindrome(s) function is defined to determine whether a string s is a palindrome. It does the following:\n",
    "First, it removes all spaces from the string using s.replace(\" \", \"\").\n",
    "Then, it converts the string to lowercase using .lower() to ensure that the comparison is case-insensitive.\n",
    "Finally, it checks if the modified string is equal to its reverse (achieved using s[::-1]) and returns True if it's a palindrome and False if it's not.\n",
    "\n",
    "2.The program prompts the user to enter a string using input_string = input(\"Enter a string: \").\n",
    "\n",
    "3.It then calls the is_palindrome() function with the input string as an argument and stores the result in a variable.\n",
    "\n",
    "4.Based on the result, the program prints a message indicating whether the input string is a palindrome or not."
   ]
  },
  {
   "cell_type": "code",
   "execution_count": 29,
   "id": "ed3113cd",
   "metadata": {},
   "outputs": [
    {
     "name": "stdout",
     "output_type": "stream",
     "text": [
      "Enter a list of numbers separated by spaces: 1 2 3 4 5 6 7 8 9\n",
      "The average of the list, excluding the smallest and largest values, is: 5.00\n"
     ]
    }
   ],
   "source": [
    "# Question 17\n",
    "# Write a program that calculates the average of a list of numbers, excluding the smallest and largest values.\n",
    "def average_without_extremes(numbers):\n",
    "    if len(numbers) < 3:\n",
    "        return \"At least 3 numbers are required to calculate the average.\"\n",
    "    \n",
    "    numbers.remove(min(numbers))\n",
    "    numbers.remove(max(numbers))\n",
    "    \n",
    "    average = sum(numbers) / len(numbers)\n",
    "    return average\n",
    "\n",
    "input_numbers = input(\"Enter a list of numbers separated by spaces: \")\n",
    "numbers = [float(x) for x in input_numbers.split()]\n",
    "\n",
    "if len(numbers) >= 3:\n",
    "    result = average_without_extremes(numbers)\n",
    "    if type(result) == float:\n",
    "        print(f\"The average of the list, excluding the smallest and largest values, is: {result:.2f}\")\n",
    "    else:\n",
    "        print(result)\n",
    "else:\n",
    "    print(\"At least 3 numbers are required to calculate the average.\")"
   ]
  },
  {
   "cell_type": "markdown",
   "id": "474890a4",
   "metadata": {},
   "source": [
    "This Python program calculates the average of a list of numbers, excluding the smallest and largest values. Here's a step-by-step explanation of the code:\n",
    "\n",
    "1.input_numbers = input(\"Enter a list of numbers separated by spaces: \"): This line prompts the user to enter a list of numbers separated by spaces. The input is taken as a string.\n",
    "\n",
    "2.numbers = [float(x) for x in input_numbers.split()]: This line converts the input string into a list of floating-point numbers. It uses a list comprehension to iterate over the split values and convert them to float.\n",
    "\n",
    "3.if len(numbers) >= 3:: This checks if the length of the numbers list is at least 3.\n",
    "\n",
    "4.result = average_without_extremes(numbers): If there are at least 3 numbers, the program calls the average_without_extremes function with the list of numbers.\n",
    "\n",
    "5.if type(result) == float:: This checks if the result returned by the function is of type float, indicating a valid average.\n",
    "\n",
    "6.print(f\"The average of the list, excluding the smallest and largest values, is: {result:.2f}\"): If the result is a float, it prints the average with two decimal places.\n",
    "\n",
    "7.else: print(result): If the result is not a float (e.g., an error message), it prints the result.\n",
    "\n",
    "8.else: print(\"At least 3 numbers are required to calculate the average.\"): If the length of the numbers list is less than 3, it prints an error message."
   ]
  },
  {
   "cell_type": "code",
   "execution_count": 30,
   "id": "7598a026",
   "metadata": {},
   "outputs": [
    {
     "name": "stdout",
     "output_type": "stream",
     "text": [
      "Enter the temperature in Celsius: 35\n",
      "35.0 degrees Celsius is equal to 95.00 degrees Fahrenheit.\n"
     ]
    }
   ],
   "source": [
    "# Question 18\n",
    "# Develop a program that converts a given temperature from Celsius to Fahrenheit.\n",
    "celsius = float(input(\"Enter the temperature in Celsius: \"))\n",
    "\n",
    "fahrenheit = (celsius * 9/5) + 32\n",
    "\n",
    "print(f\"{celsius} degrees Celsius is equal to {fahrenheit:.2f} degrees Fahrenheit.\")"
   ]
  },
  {
   "cell_type": "markdown",
   "id": "4e2b86da",
   "metadata": {},
   "source": [
    "This Python program converts a given temperature from Celsius to Fahrenheit. Here's a breakdown of the code:\n",
    "\n",
    "1.celsius = float(input(\"Enter the temperature in Celsius: \")): This line prompts the user to enter a temperature in Celsius. The input is then converted to a floating-point number using float().\n",
    "\n",
    "2.fahrenheit = (celsius * 9/5) + 32: This line calculates the equivalent temperature in Fahrenheit using the formula (Celsius * 9/5) + 32.\n",
    "\n",
    "3.print(f\"{celsius} degrees Celsius is equal to {fahrenheit:.2f} degrees Fahrenheit.\"): This line prints the result to the console. The f-string is used for formatting, displaying the original Celsius temperature and the converted Fahrenheit temperature with two decimal places."
   ]
  },
  {
   "cell_type": "code",
   "execution_count": 31,
   "id": "fa6c9ba6",
   "metadata": {},
   "outputs": [
    {
     "name": "stdout",
     "output_type": "stream",
     "text": [
      "\n",
      "Calculator Menu:\n",
      "1. Add\n",
      "2. Subtract\n",
      "3. Multiply\n",
      "4. Divide\n",
      "5. Exit\n",
      "Enter your choice (1/2/3/4/5): 1\n",
      "Enter the first number: 2\n",
      "Enter the second number: 3\n",
      "Addition result: 5.00\n",
      "\n",
      "Calculator Menu:\n",
      "1. Add\n",
      "2. Subtract\n",
      "3. Multiply\n",
      "4. Divide\n",
      "5. Exit\n",
      "Enter your choice (1/2/3/4/5): 2\n",
      "Enter the first number: 20\n",
      "Enter the second number: 5\n",
      "Subtraction result: 15.00\n",
      "\n",
      "Calculator Menu:\n",
      "1. Add\n",
      "2. Subtract\n",
      "3. Multiply\n",
      "4. Divide\n",
      "5. Exit\n",
      "Enter your choice (1/2/3/4/5): 3\n",
      "Enter the first number: 4\n",
      "Enter the second number: 8\n",
      "Multiplication result: 32.00\n",
      "\n",
      "Calculator Menu:\n",
      "1. Add\n",
      "2. Subtract\n",
      "3. Multiply\n",
      "4. Divide\n",
      "5. Exit\n",
      "Enter your choice (1/2/3/4/5): 4\n",
      "Enter the first number: 56\n",
      "Enter the second number: 8\n",
      "Division result: 7.00\n",
      "\n",
      "Calculator Menu:\n",
      "1. Add\n",
      "2. Subtract\n",
      "3. Multiply\n",
      "4. Divide\n",
      "5. Exit\n",
      "Enter your choice (1/2/3/4/5): 5\n",
      "Thank you for using the calculator. Goodbye!\n"
     ]
    }
   ],
   "source": [
    "# Question 19\n",
    "# Create a program that simulates a basic calculator for addition, subtraction, multiplication, and division.\n",
    "def add(x, y):\n",
    "    return x + y\n",
    "\n",
    "def subtract(x, y):\n",
    "    return x - y\n",
    "\n",
    "def multiply(x, y):\n",
    "    return x * y\n",
    "\n",
    "def divide(x, y):\n",
    "    if y == 0:\n",
    "        return \"Division by zero is not allowed.\"\n",
    "    return x / y\n",
    "\n",
    "while True:\n",
    "    print(\"\\nCalculator Menu:\")\n",
    "    print(\"1. Add\")\n",
    "    print(\"2. Subtract\")\n",
    "    print(\"3. Multiply\")\n",
    "    print(\"4. Divide\")\n",
    "    print(\"5. Exit\")\n",
    "    \n",
    "    choice = input(\"Enter your choice (1/2/3/4/5): \")\n",
    "\n",
    "    if choice == '5':\n",
    "        print(\"Thank you for using the calculator. Goodbye!\")\n",
    "        break\n",
    "\n",
    "    if choice in ('1', '2', '3', '4'):\n",
    "        num1 = float(input(\"Enter the first number: \"))\n",
    "        num2 = float(input(\"Enter the second number: \"))\n",
    "        if choice == '1':\n",
    "            result = add(num1, num2)\n",
    "            operation = \"Addition\"\n",
    "        elif choice == '2':\n",
    "            result = subtract(num1, num2)\n",
    "            operation = \"Subtraction\"\n",
    "        elif choice == '3':\n",
    "            result = multiply(num1, num2)\n",
    "            operation = \"Multiplication\"\n",
    "        elif choice == '4':\n",
    "            result = divide(num1, num2)\n",
    "            operation = \"Division\"\n",
    "        print(f\"{operation} result: {result:.2f}\")\n",
    "    else:\n",
    "        print(\"Invalid choice. Please enter a valid option (1/2/3/4/5).\")"
   ]
  },
  {
   "cell_type": "markdown",
   "id": "c10de9f0",
   "metadata": {},
   "source": [
    "This Python program is a simple calculator that performs basic arithmetic operations: addition, subtraction, multiplication, and division. Let's break down the code:\n",
    "\n",
    "1.The program defines four functions (add, subtract, multiply, and divide) that perform the respective operations.\n",
    "\n",
    "2.The program then enters a while loop that displays a menu for the user with options to perform different operations or exit the calculator.\n",
    "\n",
    "3.Inside the loop, the user is prompted to enter their choice (1 for addition, 2 for subtraction, 3 for multiplication, 4 for division, and 5 to exit).\n",
    "\n",
    "4.If the user chooses to exit (input '5'), the program prints a farewell message and breaks out of the loop, terminating the program.\n",
    "\n",
    "5.If the user chooses an arithmetic operation (input '1', '2', '3', or '4'), the program prompts the user to enter two numbers.\n",
    "\n",
    "6.Depending on the chosen operation, it calls the corresponding function and prints the result. If the user attempts division by zero, it handles this case and prints an error message.\n",
    "\n",
    "7.If the user enters an invalid choice, the program prints an error message."
   ]
  },
  {
   "cell_type": "code",
   "execution_count": 35,
   "id": "3e7c2e5d",
   "metadata": {},
   "outputs": [
    {
     "name": "stdout",
     "output_type": "stream",
     "text": [
      "Enter coefficient a: 1\n",
      "Enter coefficient b: -4\n",
      "Enter coefficient c: 15\n",
      "Enter coefficient d: -9\n",
      "Cubic Roots:\n",
      "(0.7107837807559308-0j)\n",
      "(1.6446081096220342-3.15552572889644j)\n",
      "(1.6446081096220349+3.155525728896439j)\n"
     ]
    }
   ],
   "source": [
    "# Question 20\n",
    "# Write a program that determines the roots of a cubic equation using the Cardano formula.\n",
    "import cmath\n",
    "\n",
    "def cubic_roots(a, b, c, d):\n",
    "    discriminant1 = b**2 - 3*a*c\n",
    "    discriminant2 = 2*b**3 - 9*a*b*c + 27*a**2*d\n",
    "    C = ((discriminant2 + cmath.sqrt(discriminant2**2 - 4*discriminant1**3)) / 2)**(1/3)\n",
    "    \n",
    "    root1 = (-1/(3*a)) * (b + C + (discriminant1 / C))\n",
    "    root2 = (-1/(3*a)) * (b + (C * cmath.exp(2j*cmath.pi/3)) + (discriminant1 / (C * cmath.exp(2j*cmath.pi/3))))\n",
    "    root3 = (-1/(3*a)) * (b + (C * cmath.exp(4j*cmath.pi/3)) + (discriminant1 / (C * cmath.exp(4j*cmath.pi/3))))\n",
    "    \n",
    "    return root1, root2, root3\n",
    "\n",
    "a = float(input(\"Enter coefficient a: \"))\n",
    "b = float(input(\"Enter coefficient b: \"))\n",
    "c = float(input(\"Enter coefficient c: \"))\n",
    "d = float(input(\"Enter coefficient d: \"))\n",
    "\n",
    "roots = cubic_roots(a, b, c, d)\n",
    "print(\"Cubic Roots:\")\n",
    "for root in roots:\n",
    "    print(root)"
   ]
  },
  {
   "cell_type": "markdown",
   "id": "3280f921",
   "metadata": {},
   "source": [
    "This Python program calculates the roots of a cubic equation using the Cardano formula, which is a method for solving cubic equations. Let's break down the code:\n",
    "\n",
    "1.The program defines a function cubic_roots that takes four coefficients (a, b, c, and d) as input and calculates the roots of the cubic equation.\n",
    "\n",
    "2.Inside the function, it calculates two discriminants (discriminant1 and discriminant2) based on the coefficients.\n",
    "\n",
    "3.It then calculates a complex number C using the Cardano formula.\n",
    "\n",
    "4.The program calculates three roots (root1, root2, and root3) using the Cardano formula and returns them.\n",
    "\n",
    "5.The main part of the program takes user input for coefficients a, b, c, and d.\n",
    "\n",
    "6.It calls the cubic_roots function with the user-provided coefficients.\n",
    "\n",
    "7.Finally, it prints the roots of the cubic equation."
   ]
  },
  {
   "cell_type": "markdown",
   "id": "314a503b",
   "metadata": {},
   "source": [
    "# Advanced Level"
   ]
  },
  {
   "cell_type": "code",
   "execution_count": 1,
   "id": "ded20df2",
   "metadata": {},
   "outputs": [
    {
     "name": "stdout",
     "output_type": "stream",
     "text": [
      "Enter your annual income: Rs 100000\n",
      "Your income tax is: Rs 23000.00\n"
     ]
    }
   ],
   "source": [
    "# Question 21\n",
    "# Create a program that calculates the income tax based on the user's income and tax brackets.\n",
    "def calculate_income_tax(income):\n",
    "    brackets = [0, 10000, 30000, 70000, float('inf')]\n",
    "    rates = [0.1, 0.15, 0.25, 0.3]\n",
    "\n",
    "    tax_owed = 0\n",
    "    remaining_income = income\n",
    "\n",
    "    for i in range(1, len(brackets)):\n",
    "        if remaining_income <= 0:\n",
    "            break\n",
    "\n",
    "        bracket_range = brackets[i] - brackets[i-1]\n",
    "        taxable_income_in_bracket = min(remaining_income, bracket_range)\n",
    "        tax_owed += taxable_income_in_bracket * rates[i-1]\n",
    "        remaining_income -= taxable_income_in_bracket\n",
    "\n",
    "    return tax_owed\n",
    "\n",
    "def main():\n",
    "    try:\n",
    "        income = float(input(\"Enter your annual income: Rs \"))\n",
    "    except ValueError:\n",
    "        print(\"Invalid input. Please enter a numerical value for income.\")\n",
    "        return\n",
    "\n",
    "    tax_owed = calculate_income_tax(income)\n",
    "\n",
    "    print(f\"Your income tax is: Rs {tax_owed:.2f}\")\n",
    "\n",
    "if __name__ == \"__main__\":\n",
    "    main()"
   ]
  },
  {
   "cell_type": "markdown",
   "id": "f3f26405",
   "metadata": {},
   "source": [
    "This Pytho program calculates income tax based on the user's income and tax brackets. Let's break down each part of the code:\n",
    "\n",
    "1.Function Definition (calculate_income_tax):\n",
    "This function takes the user's income as a parameter.\n",
    "It defines tax brackets and corresponding tax rates.\n",
    "It initializes variables tax_owed and remaining_income to keep track of the calculated tax and the remaining income to be taxed.\n",
    "The function then iterates through the tax brackets.\n",
    "For each bracket, it calculates the taxable income within that bracket and adds the corresponding tax to tax_owed.\n",
    "It updates remaining_income by subtracting the taxable income within the current bracket.\n",
    "The function returns the total calculated tax.\n",
    "\n",
    "2.Main Function (main):\n",
    "The main function is the entry point of the program.\n",
    "It uses a try-except block to handle user input for annual income. If the user enters a non-numeric value, it prints an error message and exits the program.\n",
    "It calls the calculate_income_tax function with the user's income and stores the result in tax_owed.\n",
    "It then prints the calculated income tax.\n",
    "\n",
    "3.Program Entry Point (`if name == \"main\":):\n",
    "This condition checks if the script is being run as the main program.\n",
    "If true, it calls the main function, initiating the execution of the program."
   ]
  },
  {
   "cell_type": "code",
   "execution_count": 57,
   "id": "f5e03683",
   "metadata": {},
   "outputs": [
    {
     "name": "stdout",
     "output_type": "stream",
     "text": [
      "Enter your choice (rock, paper, scissors, or quit to exit): scissors\n",
      "Computer chose: paper\n",
      "You win!\n",
      "Enter your choice (rock, paper, scissors, or quit to exit): quit\n",
      "Thanks for playing!\n"
     ]
    }
   ],
   "source": [
    "# Question 22\n",
    "# Write a program that simulates a rock-paper-scissors game against the computer.\n",
    "import random\n",
    "\n",
    "choices = [\"rock\", \"paper\", \"scissors\"]\n",
    "\n",
    "def determine_winner(player_choice, computer_choice):\n",
    "    if player_choice == computer_choice:\n",
    "        return \"It's a tie!\"\n",
    "    elif (\n",
    "        (player_choice == \"rock\" and computer_choice == \"scissors\")\n",
    "        or (player_choice == \"scissors\" and computer_choice == \"paper\")\n",
    "        or (player_choice == \"paper\" and computer_choice == \"rock\")\n",
    "    ):\n",
    "        return \"You win!\"\n",
    "    else:\n",
    "        return \"Computer wins!\"\n",
    "\n",
    "while True:\n",
    "    player_choice = input(\"Enter your choice (rock, paper, scissors, or quit to exit): \").lower()\n",
    "\n",
    "    if player_choice == \"quit\":\n",
    "        print(\"Thanks for playing!\")\n",
    "        break\n",
    "    elif player_choice not in choices:\n",
    "        print(\"Invalid choice. Please choose rock, paper, or scissors.\")\n",
    "    else:\n",
    "        computer_choice = random.choice(choices)\n",
    "        print(f\"Computer chose: {computer_choice}\")\n",
    "\n",
    "        result = determine_winner(player_choice, computer_choice)\n",
    "        print(result)"
   ]
  },
  {
   "cell_type": "markdown",
   "id": "86c4328d",
   "metadata": {},
   "source": [
    "This Python program simulates a rock-paper-scissors game against the computer. Let's break down each part of the code:\n",
    "\n",
    "1.Choices:\n",
    "The program defines a list called choices containing the possible moves: \"rock\", \"paper\", and \"scissors\".\n",
    "\n",
    "2.Function Definition (determine_winner):\n",
    "This function takes two parameters: player_choice and computer_choice.\n",
    "It determines the winner based on the rules of rock-paper-scissors.\n",
    "If the choices are the same, it's a tie. If not, it checks the winning conditions for the player and returns the appropriate message.\n",
    "\n",
    "3.Game Loop (while True):\n",
    "The program enters an infinite loop to allow the player to play multiple rounds.\n",
    "In each iteration, the player is prompted to enter their choice using the input function.\n",
    "If the player enters \"quit,\" the program prints a message and breaks out of the loop, ending the game.\n",
    "If the player's choice is not in the list of valid choices, it prints an error message and prompts the player to choose again.\n",
    "Otherwise, the computer randomly selects a choice from the list, and both choices are displayed.\n",
    "The determine_winner function is called with the player's and computer's choices to determine the winner.\n",
    "The result is printed to the console."
   ]
  },
  {
   "cell_type": "code",
   "execution_count": 63,
   "id": "5c0e8d93",
   "metadata": {},
   "outputs": [
    {
     "name": "stdout",
     "output_type": "stream",
     "text": [
      "Enter the desired password length: 6\n",
      "Enter complexity level (low, medium, high): medium\n",
      "Generated password: Sr%*?f\n"
     ]
    }
   ],
   "source": [
    "# Question 23\n",
    "# Develop a program that generates a random password based on user preferences (length, complexity).\n",
    "import random\n",
    "import string\n",
    "\n",
    "def generate_password(length, complex_level):\n",
    "    if complex_level == \"low\":\n",
    "        characters = string.ascii_letters + string.digits\n",
    "    elif complex_level == \"medium\":\n",
    "        characters = string.ascii_letters + string.digits + string.punctuation\n",
    "    elif complex_level == \"high\":\n",
    "        characters = string.printable\n",
    "\n",
    "    password = ''.join(random.choice(characters) for _ in range(length))\n",
    "    return password\n",
    "\n",
    "length = int(input(\"Enter the desired password length: \"))\n",
    "complexity = input(\"Enter complexity level (low, medium, high): \").lower()\n",
    "\n",
    "if complexity in [\"low\", \"medium\", \"high\"]:\n",
    "    password = generate_password(length, complexity)\n",
    "    print(f\"Generated password: {password}\")\n",
    "else:\n",
    "    print(\"Invalid complexity level. Please choose low, medium, or high.\")"
   ]
  },
  {
   "cell_type": "markdown",
   "id": "f5d71e51",
   "metadata": {},
   "source": [
    "This Python program generates a random password based on user preferences for length and complexity. Let's break down each part of the code:\n",
    "\n",
    "1.Function Definition (generate_password):\n",
    "This function takes two parameters: length and complex_level.\n",
    "Based on the complexity level, it defines a set of characters that can be used to generate the password.\n",
    "It uses the random.choice function to randomly select characters from the specified character set and concatenate them to create the password.\n",
    "The function returns the generated password.\n",
    "\n",
    "2.User Input:\n",
    "The program prompts the user to enter the desired password length and complexity level using the input function.\n",
    "The entered length is converted to an integer and stored in the variable length.\n",
    "The entered complexity level is converted to lowercase and stored in the variable complexity.\n",
    "\n",
    "3.Complexity Levels:\n",
    "The program defines three complexity levels: \"low,\" \"medium,\" and \"high.\"\n",
    "For each complexity level, it specifies the set of characters that can be used in the password.\n",
    "\n",
    "4.Input Validation:\n",
    "The program checks if the entered complexity level is one of the valid options.\n",
    "If it is, it calls the generate_password function with the user's specified length and complexity and prints the generated password.\n",
    "If the complexity level is not valid, it prints an error message."
   ]
  },
  {
   "cell_type": "code",
   "execution_count": 66,
   "id": "fa6045b9",
   "metadata": {},
   "outputs": [
    {
     "name": "stdout",
     "output_type": "stream",
     "text": [
      "Welcome to the Text Adventure Game!\n",
      "You find yourself standing in front of a mysterious cave entrance.\n",
      "Do you want to enter the cave? (yes/no)\n",
      "> yes\n",
      "You enter the dark cave and follow a narrow path.\n",
      "After a while, you find a fork in the path.\n",
      "Do you want to go left or right? (left/right)\n",
      "> left\n",
      "You go left and discover a hidden treasure chest!\n",
      "Congratulations, you've found the treasure. You win!\n"
     ]
    }
   ],
   "source": [
    "# Question 24\n",
    "# Create a program that implements a simple text-based adventure game with branching scenarios.\n",
    "import time\n",
    "\n",
    "def slow_type(text, delay=0.03):\n",
    "    for char in text:\n",
    "        print(char, end='', flush=True)\n",
    "        time.sleep(delay)\n",
    "    print()\n",
    "\n",
    "def start_game():\n",
    "    slow_type(\"Welcome to the Text Adventure Game!\")\n",
    "    slow_type(\"You find yourself standing in front of a mysterious cave entrance.\")\n",
    "    slow_type(\"Do you want to enter the cave? (yes/no)\")\n",
    "\n",
    "    while True:\n",
    "        choice = input(\"> \").lower()\n",
    "\n",
    "        if choice == \"yes\":\n",
    "            cave_scenario()\n",
    "            break\n",
    "        elif choice == \"no\":\n",
    "            slow_type(\"You decide not to enter the cave. The adventure ends.\")\n",
    "            break\n",
    "        else:\n",
    "            slow_type(\"Please enter 'yes' or 'no'.\")\n",
    "\n",
    "def cave_scenario():\n",
    "    slow_type(\"You enter the dark cave and follow a narrow path.\")\n",
    "    slow_type(\"After a while, you find a fork in the path.\")\n",
    "    slow_type(\"Do you want to go left or right? (left/right)\")\n",
    "\n",
    "    while True:\n",
    "        choice = input(\"> \").lower()\n",
    "\n",
    "        if choice == \"left\":\n",
    "            slow_type(\"You go left and discover a hidden treasure chest!\")\n",
    "            slow_type(\"Congratulations, you've found the treasure. You win!\")\n",
    "            break\n",
    "        elif choice == \"right\":\n",
    "            slow_type(\"You go right and encounter a dragon!\")\n",
    "            slow_type(\"The dragon breathes fire, and it's the end of your adventure.\")\n",
    "            break\n",
    "        else:\n",
    "            slow_type(\"Please choose 'left' or 'right'.\")\n",
    "\n",
    "if __name__ == \"__main__\":\n",
    "    start_game()"
   ]
  },
  {
   "cell_type": "markdown",
   "id": "a96e90a4",
   "metadata": {},
   "source": [
    "This Python program implements a simple text-based adventure game with branching scenarios. Let's break down each part of the code:\n",
    "\n",
    "1.Function Definition (slow_type):\n",
    "This function takes two parameters: text (the text to be displayed) and delay (the delay between each character printing).\n",
    "It iterates through each character in the text, printing it with a delay, creating a typewriter effect.\n",
    "The time.sleep function is used to introduce a delay between characters.\n",
    "\n",
    "2.Function Definition (start_game):\n",
    "This function initiates the game and sets the scene.\n",
    "It welcomes the player and describes the initial scenario.\n",
    "It prompts the player to decide whether to enter the cave with a \"yes/no\" choice.\n",
    "It uses a loop to handle the player's input, ensuring a valid choice.\n",
    "If the player chooses to enter the cave, it calls the cave_scenario function.\n",
    "If the player chooses not to enter, the game ends.\n",
    "\n",
    "3.Function Definition (cave_scenario):\n",
    "This function represents the scenario inside the cave.\n",
    "It describes the player's journey in the cave, introduces a fork in the path, and prompts the player to choose \"left\" or \"right.\"\n",
    "Another loop handles the player's input, ensuring a valid choice.\n",
    "If the player goes left, they find a hidden treasure chest, and the game ends with a victory message.\n",
    "If the player goes right, they encounter a dragon, and the game ends with a defeat message.\n",
    "\n",
    "4.Program Entry Point (`if name == \"main\":):\n",
    "This condition checks if the script is being run as the main program.\n",
    "If true, it calls the start_game function, initiating the execution of the game."
   ]
  },
  {
   "cell_type": "code",
   "execution_count": 68,
   "id": "8d1f683a",
   "metadata": {},
   "outputs": [
    {
     "name": "stdout",
     "output_type": "stream",
     "text": [
      "Enter the coefficient 'a': 4\n",
      "Enter the constant term 'b': -4\n",
      "The solution is x = 1.0\n"
     ]
    }
   ],
   "source": [
    "# Question 25\n",
    "# Build a program that solves a linear equation for x, considering different cases.\n",
    "def solve_linear_equation(a, b):\n",
    "    if a == 0 and b != 0:\n",
    "        return \"No solution\"\n",
    "    elif a == 0 and b == 0:\n",
    "        return \"Infinite solutions (all real numbers)\"\n",
    "    else:\n",
    "        x = -b / a\n",
    "        return f\"The solution is x = {x}\"\n",
    "\n",
    "a = float(input(\"Enter the coefficient 'a': \"))\n",
    "b = float(input(\"Enter the constant term 'b': \"))\n",
    "\n",
    "result = solve_linear_equation(a, b)\n",
    "print(result)"
   ]
  },
  {
   "cell_type": "markdown",
   "id": "ca99726f",
   "metadata": {},
   "source": [
    "This program solves a linear equation of the form ax+b=0 for x, considering different cases. Let's break down each part of the code:\n",
    "\n",
    "1.Function Definition (solve_linear_equation):\n",
    "This function takes two parameters, a and b, representing the coefficients of the linear equation.\n",
    "It checks different cases to determine the solution:\n",
    "If a=0 and b≠0, there is no solution.\n",
    "If a=0 and b=0, there are infinite solutions (all real numbers).\n",
    "Otherwise, it calculates the solution x=−b/a.\n",
    "The function returns a string indicating the solution.\n",
    "\n",
    "2.User Input:\n",
    "The program prompts the user to enter the coefficient a and the constant term b using the input function.\n",
    "The entered values are converted to floating-point numbers and stored in the variables a and b.\n",
    "\n",
    "3..Function Call:\n",
    "The program calls the solve_linear_equation function with the user-provided values for a and b.\n",
    "The result is stored in the variable result.\n",
    "\n",
    "4.Printing Result:\n",
    "The program prints the result of the linear equation solution using the print function."
   ]
  },
  {
   "cell_type": "code",
   "execution_count": 72,
   "id": "1d33c092",
   "metadata": {},
   "outputs": [
    {
     "name": "stdout",
     "output_type": "stream",
     "text": [
      "Welcome to the Quiz Game!\n",
      "\n",
      "Enter your name: Arpan\n",
      "Hello, Arpan!\n",
      "\n",
      "Which planet is known as the Red Planet?\n",
      "1. Venus\n",
      "2. Mars\n",
      "3. Jupiter\n",
      "4. Saturn\n",
      "Your answer (1-4): 2\n",
      "Correct!\n",
      "\n",
      "What is the largest mammal in the world?\n",
      "1. Elephant\n",
      "2. Whale Shark\n",
      "3. Giraffe\n",
      "4. Lion\n",
      "Your answer (1-4): 2\n",
      "Correct!\n",
      "\n",
      "What is the capital of France?\n",
      "1. Paris\n",
      "2. London\n",
      "3. Berlin\n",
      "4. Madrid\n",
      "Your answer (1-4): 1\n",
      "Correct!\n",
      "\n",
      "Quiz completed, Arpan!\n",
      "Your score is: 3/3\n"
     ]
    }
   ],
   "source": [
    "# Question 26\n",
    "# Write a program that simulates a basic quiz game with multiple-choice questions and scoring.\n",
    "import random\n",
    "\n",
    "quiz_questions = [\n",
    "    {\n",
    "        \"question\": \"What is the capital of France?\",\n",
    "        \"options\": [\"Paris\", \"London\", \"Berlin\", \"Madrid\"],\n",
    "        \"answer\": \"Paris\"\n",
    "    },\n",
    "    {\n",
    "        \"question\": \"Which planet is known as the Red Planet?\",\n",
    "        \"options\": [\"Venus\", \"Mars\", \"Jupiter\", \"Saturn\"],\n",
    "        \"answer\": \"Mars\"\n",
    "    },\n",
    "    {\n",
    "        \"question\": \"What is the largest mammal in the world?\",\n",
    "        \"options\": [\"Elephant\", \"Whale Shark\", \"Giraffe\", \"Lion\"],\n",
    "        \"answer\": \"Whale Shark\"\n",
    "    }\n",
    "]\n",
    "\n",
    "def shuffle_questions(questions):\n",
    "    random.shuffle(questions)\n",
    "\n",
    "def play_quiz(questions):\n",
    "    score = 0\n",
    "    for question in questions:\n",
    "        print(question[\"question\"])\n",
    "        for i, option in enumerate(question[\"options\"], start=1):\n",
    "            print(f\"{i}. {option}\")\n",
    "        \n",
    "        user_answer = input(\"Your answer (1-4): \")\n",
    "        if user_answer.isnumeric() and 1 <= int(user_answer) <= 4:\n",
    "            user_answer = int(user_answer) - 1  # Convert to list index\n",
    "            if question[\"options\"][user_answer] == question[\"answer\"]:\n",
    "                print(\"Correct!\\n\")\n",
    "                score += 1\n",
    "            else:\n",
    "                print(f\"Wrong! The correct answer is: {question['answer']}\\n\")\n",
    "        else:\n",
    "            print(\"Invalid choice. Please enter a number from 1 to 4.\\n\")\n",
    "\n",
    "    return score\n",
    "\n",
    "if __name__ == \"__main__\":\n",
    "    shuffle_questions(quiz_questions)\n",
    "    print(\"Welcome to the Quiz Game!\\n\")\n",
    "    player_name = input(\"Enter your name: \")\n",
    "    print(f\"Hello, {player_name}!\\n\")\n",
    "    \n",
    "    score = play_quiz(quiz_questions)\n",
    "    \n",
    "    print(f\"Quiz completed, {player_name}!\")\n",
    "    print(f\"Your score is: {score}/{len(quiz_questions)}\")"
   ]
  },
  {
   "cell_type": "markdown",
   "id": "576bb018",
   "metadata": {},
   "source": [
    "This Python program simulates a basic quiz game with multiple-choice questions and scoring. Let's break down each part of the code:\n",
    "\n",
    "1.List of Quiz Questions (quiz_questions):\n",
    "This list contains dictionaries, each representing a quiz question.\n",
    "Each question dictionary has keys for the question itself (\"question\"), a list of options (\"options\"), and the correct answer (\"answer\").\n",
    "\n",
    "2.Function Definition (shuffle_questions):\n",
    "This function takes a list of questions as input and shuffles the order of the questions using the random.shuffle function.\n",
    "This ensures that the questions are presented in a random order when the quiz is played.\n",
    "\n",
    "3.Function Definition (play_quiz):\n",
    "This function takes a list of shuffled questions as input and simulates the quiz game.\n",
    "It initializes a score variable to keep track of the player's correct answers.\n",
    "It iterates through each question, presents the question and options to the player, and takes their input.\n",
    "It checks if the user input is a valid numeric choice (1-4) and compares it to the correct answer.\n",
    "The function provides feedback on the correctness of the answer and updates the score accordingly.\n",
    "The final score is returned.\n",
    "\n",
    "4.Program Entry Point (`if name == \"main\":):\n",
    "This condition checks if the script is being run as the main program.\n",
    "If true, it calls the shuffle_questions function to randomize the order of questions.\n",
    "It welcomes the player, prompts them to enter their name, and then calls the play_quiz function with the shuffled questions.\n",
    "After the quiz is completed, it prints the player's name and their final score."
   ]
  },
  {
   "cell_type": "code",
   "execution_count": 74,
   "id": "b6c82376",
   "metadata": {},
   "outputs": [
    {
     "name": "stdout",
     "output_type": "stream",
     "text": [
      "Enter a year to check if it's prime: 2023\n",
      "2023 is not a prime year.\n"
     ]
    }
   ],
   "source": [
    "# Question 27\n",
    "# Develop a program that determines whether a given year is a prime number or not.\n",
    "def is_prime(year):\n",
    "    if year <= 1:\n",
    "        return False\n",
    "    if year <= 3:\n",
    "        return True\n",
    "\n",
    "    if year % 2 == 0 or year % 3 == 0:\n",
    "        return False\n",
    "\n",
    "    i = 5\n",
    "    while i * i <= year:\n",
    "        if year % i == 0 or year % (i + 2) == 0:\n",
    "            return False\n",
    "        i += 6\n",
    "\n",
    "    return True\n",
    "\n",
    "year = int(input(\"Enter a year to check if it's prime: \"))\n",
    "\n",
    "if is_prime(year):\n",
    "    print(f\"{year} is a prime year.\")\n",
    "else:\n",
    "    print(f\"{year} is not a prime year.\")"
   ]
  },
  {
   "cell_type": "markdown",
   "id": "be8ae57d",
   "metadata": {},
   "source": [
    "This Python program determines whether a given year is a prime number or not. Let's break down each part of the code:\n",
    "\n",
    "1.Function Definition (is_prime):\n",
    "This function takes a year as input and determines whether it is a prime number.\n",
    "It checks some special cases:\n",
    "If the year is less than or equal to 1, it returns False because 1 is not a prime number.\n",
    "If the year is less than or equal to 3, it returns True because 2 and 3 are prime numbers.\n",
    "The function then checks for divisibility by 2 and 3 to eliminate even numbers.\n",
    "It uses a loop starting from 5 and checks for divisibility by i and i + 2 until i**2 exceeds the given year.\n",
    "The loop increments i by 6 in each iteration, taking advantage of the fact that all primes greater than 5 can be expressed in the form 6k±1.\n",
    "If the year is divisible by any of the checked numbers, the function returns False; otherwise, it returns True.\n",
    "\n",
    "2.User Input:\n",
    "The program prompts the user to enter a year using the input function.\n",
    "The entered value is converted to an integer and stored in the variable year.\n",
    "\n",
    "3.Function Call and Result Printing:\n",
    "The program calls the is_prime function with the user-provided year.\n",
    "Depending on the result, it prints whether the year is a prime year or not."
   ]
  },
  {
   "cell_type": "code",
   "execution_count": 76,
   "id": "1fd33266",
   "metadata": {},
   "outputs": [
    {
     "name": "stdout",
     "output_type": "stream",
     "text": [
      "Enter the first number: 70\n",
      "Enter the second number: 30\n",
      "Enter the third number: 60\n",
      "Sorted numbers in ascending order: 30.0 60.0 70.0\n"
     ]
    }
   ],
   "source": [
    "# Question 28\n",
    "# Create a program that sorts three numbers in ascending order using conditional statements.\n",
    "num1 = float(input(\"Enter the first number: \"))\n",
    "num2 = float(input(\"Enter the second number: \"))\n",
    "num3 = float(input(\"Enter the third number: \"))\n",
    "\n",
    "if num1 <= num2 and num1 <= num3:\n",
    "    minimum = num1\n",
    "    if num2 <= num3:\n",
    "        middle = num2\n",
    "        maximum = num3\n",
    "    else:\n",
    "        middle = num3\n",
    "        maximum = num2\n",
    "elif num2 <= num1 and num2 <= num3:\n",
    "    minimum = num2\n",
    "    if num1 <= num3:\n",
    "        middle = num1\n",
    "        maximum = num3\n",
    "    else:\n",
    "        middle = num3\n",
    "        maximum = num1\n",
    "else:\n",
    "    minimum = num3\n",
    "    if num1 <= num2:\n",
    "        middle = num1\n",
    "        maximum = num2\n",
    "    else:\n",
    "        middle = num2\n",
    "        maximum = num1\n",
    "\n",
    "print(\"Sorted numbers in ascending order:\", minimum, middle, maximum)"
   ]
  },
  {
   "cell_type": "markdown",
   "id": "948563be",
   "metadata": {},
   "source": [
    "This Python program takes three numbers as input from the user and sorts them in ascending order using conditional statements. Let's break down each part of the code:\n",
    "\n",
    "1.User Input:\n",
    "The program prompts the user to enter three numbers using the input function.\n",
    "The entered values are converted to floating-point numbers and stored in the variables num1, num2, and num3.\n",
    "\n",
    "2.Sorting Algorithm:\n",
    "The program uses a series of nested if and else statements to compare the three numbers and determine their order.\n",
    "It starts by comparing the first number (num1) with the other two (num2 and num3).\n",
    "Based on these comparisons, it determines the minimum, middle, and maximum values among the three numbers.\n",
    "The algorithm considers all possible combinations of the three numbers and places them in the correct order.\n",
    "\n",
    "3.Printing Result:\n",
    "After determining the order, the program prints the sorted numbers in ascending order using the print function."
   ]
  },
  {
   "cell_type": "code",
   "execution_count": 77,
   "id": "3cd1bd8f",
   "metadata": {},
   "outputs": [
    {
     "name": "stdout",
     "output_type": "stream",
     "text": [
      "The roots of the quartic equation are:\n",
      "0\n",
      "1.00000000000000\n",
      "2.00000000000000\n",
      "3.00000000000000\n"
     ]
    }
   ],
   "source": [
    "# Question 29\n",
    "# Build a program that determines the roots of a quartic equation using numerical methods.\n",
    "import sympy as sp\n",
    "\n",
    "x = sp.symbols('x')\n",
    "quartic_eq = x**4 - 6*x**3 + 11*x**2 - 6*x\n",
    "\n",
    "roots = sp.solve(quartic_eq, x)\n",
    "\n",
    "print(\"The roots of the quartic equation are:\")\n",
    "for root in roots:\n",
    "    print(root.evalf())"
   ]
  },
  {
   "cell_type": "markdown",
   "id": "1d528711",
   "metadata": {},
   "source": [
    "This program determines the roots of a quartic equation using the SymPy library in Python. Let's break down each part of the code:\n",
    "\n",
    "1.Importing the Sympy Library:\n",
    "The program begins by importing the sympy library, which is a Python library for symbolic mathematics.\n",
    "The as sp alias is used to simplify references to functions and objects from the sympy library.\n",
    "\n",
    "2.Defining the Symbolic Variable:\n",
    "The program defines a symbolic variable x using sp.symbols('x'). This is necessary for expressing the quartic equation symbolically.\n",
    "\n",
    "3.Defining the Quartic Equation:\n",
    "The quartic equation is defined using the symbolic variable x. In this example, the quartic equation is x**4 - 6*x**3 + 11*x**2 - 6*x.\n",
    "The coefficients of the quartic equation are given as constants in the expression.\n",
    "\n",
    "4.Solving the Quartic Equation:\n",
    "The solve function from the sympy library is then used to find the roots of the quartic equation. The syntax is sp.solve(equation, variable).\n",
    "In this case, it finds the roots of the quartic equation with respect to the variable x.\n",
    "The roots are symbolic expressions.\n",
    "\n",
    "5.Displaying the Roots:\n",
    "The program prints a message indicating that it is displaying the roots of the quartic equation.\n",
    "It then iterates through the roots obtained from the solve function and prints each root after evaluating it using the evalf() method.\n",
    "The evalf() method is used to obtain numerical approximations for the roots."
   ]
  },
  {
   "cell_type": "code",
   "execution_count": 80,
   "id": "2872da6b",
   "metadata": {},
   "outputs": [
    {
     "name": "stdout",
     "output_type": "stream",
     "text": [
      "Enter your weight (in kilograms): 78\n",
      "Enter your height (in meters): 1.8034\n",
      "Your BMI is 23.98\n",
      "Your BMI is in the healthy range. Keep up the good work!\n"
     ]
    }
   ],
   "source": [
    "# Question 30\n",
    "# Write a program that calculates the BMI (Body Mass Index) and provides health recommendations based on the user's input.\n",
    "def calculate_bmi(weight, height):\n",
    "    return weight / (height ** 2)\n",
    "\n",
    "def provide_recommendations(bmi):\n",
    "    if bmi < 18.5:\n",
    "        return \"You are underweight. Consider gaining some weight to reach a healthy BMI.\"\n",
    "    elif 18.5 <= bmi < 24.9:\n",
    "        return \"Your BMI is in the healthy range. Keep up the good work!\"\n",
    "    elif 25 <= bmi < 29.9:\n",
    "        return \"You are overweight. Consider losing some weight to reach a healthy BMI.\"\n",
    "    else:\n",
    "        return \"You are obese. It's important to consult a healthcare professional for guidance.\"\n",
    "\n",
    "weight = float(input(\"Enter your weight (in kilograms): \"))\n",
    "height = float(input(\"Enter your height (in meters): \"))\n",
    "\n",
    "bmi = calculate_bmi(weight, height)\n",
    "\n",
    "print(f\"Your BMI is {bmi:.2f}\")\n",
    "recommendations = provide_recommendations(bmi)\n",
    "print(recommendations)"
   ]
  },
  {
   "cell_type": "markdown",
   "id": "fb3befc2",
   "metadata": {},
   "source": [
    "This program calculates the Body Mass Index (BMI) based on user input and provides health recommendations. Let's break down each part of the code:\n",
    "\n",
    "1.Function calculate_bmi(weight, height):\n",
    "This function takes two parameters, weight and height.\n",
    "It calculates the Body Mass Index (BMI) using the formula: BMI = weight / (height ** 2).\n",
    "BMI is a numerical value that is commonly used to categorize individuals into different weight status categories.\n",
    "\n",
    "2.Function provide_recommendations(bmi):\n",
    "This function takes the calculated BMI as a parameter.\n",
    "It provides health recommendations based on the BMI value.\n",
    "The recommendations are divided into four categories:\n",
    "If BMI is less than 18.5: \"You are underweight. Consider gaining some weight to reach a healthy BMI.\"\n",
    "If BMI is between 18.5 (inclusive) and 24.9 (exclusive): \"Your BMI is in the healthy range. Keep up the good work!\"\n",
    "If BMI is between 25 (inclusive) and 29.9 (exclusive): \"You are overweight. Consider losing some weight to reach a healthy BMI.\"\n",
    "If BMI is 30 or greater: \"You are obese. It's important to consult a healthcare professional for guidance.\"\n",
    "\n",
    "3.Taking User Input:\n",
    "The program prompts the user to input their weight and height.\n",
    "The weight and height are expected to be entered in kilograms and meters, respectively.\n",
    "\n",
    "4.Calculating BMI:\n",
    "The program calls the calculate_bmi function with the user-inputted weight and height to calculate the BMI.\n",
    "\n",
    "5.Displaying BMI:\n",
    "The program prints the calculated BMI with two decimal places.\n",
    "\n",
    "6.Providing Recommendations:\n",
    "The program calls the provide_recommendations function with the calculated BMI to get health recommendations based on the user's BMI category.\n",
    "\n",
    "7.Displaying Recommendations:\n",
    "Finally, the program prints the health recommendations for the user based on their BMI category."
   ]
  },
  {
   "cell_type": "markdown",
   "id": "af0dfbe0",
   "metadata": {},
   "source": [
    "# Challenge Level"
   ]
  },
  {
   "cell_type": "code",
   "execution_count": 1,
   "id": "188e30ce",
   "metadata": {},
   "outputs": [
    {
     "name": "stdout",
     "output_type": "stream",
     "text": [
      "Enter a password: kFHfdf351@#d\n",
      "Password is valid.\n"
     ]
    }
   ],
   "source": [
    "# Question 31\n",
    "# Create a program that validates a password based on complexity rules (length, characters, etc.).\n",
    "import re\n",
    "\n",
    "def validate_password(password):\n",
    "    if len(password) < 8:\n",
    "        return \"Password is too short. It should be at least 8 characters long.\"\n",
    "    \n",
    "    if not any(char.isupper() for char in password):\n",
    "        return \"Password must contain at least one uppercase letter.\"\n",
    "    \n",
    "    if not any(char.islower() for char in password):\n",
    "        return \"Password must contain at least one lowercase letter.\"\n",
    "    \n",
    "    if not any(char.isdigit() for char in password):\n",
    "        return \"Password must contain at least one digit.\"\n",
    "    \n",
    "    if not re.search(r'[!@#\\$%^&*]', password):\n",
    "        return \"Password must contain at least one special character.\"\n",
    "\n",
    "    return \"Password is valid.\"\n",
    "\n",
    "password = input(\"Enter a password: \")\n",
    "\n",
    "result = validate_password(password)\n",
    "\n",
    "print(result)"
   ]
  },
  {
   "cell_type": "markdown",
   "id": "b8308145",
   "metadata": {},
   "source": [
    "This Python program is designed to validate a password based on specific complexity rules. Let's break down each part of the code:\n",
    "\n",
    "1.Function Definition (validate_password):\n",
    "The function takes a password as an argument.\n",
    "The first if statement checks if the password is less than 8 characters long. If it is, it returns a message indicating that the password is too short.\n",
    "The second if statement checks if there is at least one uppercase letter in the password.\n",
    "The third if statement checks if there is at least one lowercase letter in the password.\n",
    "The fourth if statement checks if there is at least one digit in the password.\n",
    "The fifth if statement uses a regular expression to check if there is at least one special character (one of !@#$%^&*) in the password.\n",
    "If all the conditions are met, the function returns \"Password is valid.\" Otherwise, it returns a message indicating the specific requirement that is not met.\n",
    "\n",
    "2.User Input:\n",
    "The program prompts the user to enter a password using the input function, and the entered password is stored in the variable password.\n",
    "\n",
    "3.Function Call:\n",
    "The validate_password function is called with the user-entered password as an argument, and the result is stored in the variable result.\n",
    "\n",
    "4.Printing Result:\n",
    "The program prints the result, which is either \"Password is valid\" or a message indicating a specific validation requirement that is not met."
   ]
  },
  {
   "cell_type": "code",
   "execution_count": 2,
   "id": "63f732b6",
   "metadata": {},
   "outputs": [
    {
     "name": "stdout",
     "output_type": "stream",
     "text": [
      "Enter the number of rows for the matrices: 2\n",
      "Enter the number of columns for the matrices: 2\n",
      "Enter the elements of the first matrix:\n",
      "Enter the element at row 1, column 1: 12\n",
      "Enter the element at row 1, column 2: 8\n",
      "Enter the element at row 2, column 1: 48\n",
      "Enter the element at row 2, column 2: 37\n",
      "Enter the elements of the second matrix:\n",
      "Enter the element at row 1, column 1: 23\n",
      "Enter the element at row 1, column 2: 9\n",
      "Enter the element at row 2, column 1: 35\n",
      "Enter the element at row 2, column 2: 18\n",
      "\n",
      "Matrix Addition Result:\n",
      "[35.0, 17.0]\n",
      "[83.0, 55.0]\n",
      "\n",
      "Matrix Subtraction Result:\n",
      "[-11.0, -1.0]\n",
      "[13.0, 19.0]\n"
     ]
    }
   ],
   "source": [
    "# Question 32\n",
    "# Develop a program that performs matrix addition and subtraction based on user input.\n",
    "def create_matrix(rows, columns):\n",
    "    matrix = []\n",
    "    for i in range(rows):\n",
    "        row = []\n",
    "        for j in range(columns):\n",
    "            element = float(input(f\"Enter the element at row {i + 1}, column {j + 1}: \"))\n",
    "            row.append(element)\n",
    "        matrix.append(row)\n",
    "    return matrix\n",
    "\n",
    "def add_matrices(matrix1, matrix2):\n",
    "    result = []\n",
    "    for i in range(len(matrix1)):\n",
    "        row = []\n",
    "        for j in range(len(matrix1[0])):\n",
    "            row.append(matrix1[i][j] + matrix2[i][j])\n",
    "        result.append(row)\n",
    "    return result\n",
    "\n",
    "def subtract_matrices(matrix1, matrix2):\n",
    "    result = []\n",
    "    for i in range(len(matrix1)):\n",
    "        row = []\n",
    "        for j in range(len(matrix1[0])):\n",
    "            row.append(matrix1[i][j] - matrix2[i][j])\n",
    "        result.append(row)\n",
    "    return result\n",
    "\n",
    "rows = int(input(\"Enter the number of rows for the matrices: \"))\n",
    "columns = int(input(\"Enter the number of columns for the matrices: \"))\n",
    "\n",
    "print(\"Enter the elements of the first matrix:\")\n",
    "matrix1 = create_matrix(rows, columns)\n",
    "\n",
    "print(\"Enter the elements of the second matrix:\")\n",
    "matrix2 = create_matrix(rows, columns)\n",
    "\n",
    "sum_matrix = add_matrices(matrix1, matrix2)\n",
    "difference_matrix = subtract_matrices(matrix1, matrix2)\n",
    "\n",
    "print(\"\\nMatrix Addition Result:\")\n",
    "for row in sum_matrix:\n",
    "    print(row)\n",
    "\n",
    "print(\"\\nMatrix Subtraction Result:\")\n",
    "for row in difference_matrix:\n",
    "    print(row)"
   ]
  },
  {
   "cell_type": "markdown",
   "id": "33b77ac9",
   "metadata": {},
   "source": [
    "This Python program performs matrix addition and subtraction based on user input. Let's break down each part of the code:\n",
    "\n",
    "1.Function Definition (create_matrix):\n",
    "This function takes the number of rows and columns as parameters.\n",
    "It uses nested loops to iterate through each element of the matrix.\n",
    "The user is prompted to enter the value for each element, and the elements are stored in a 2D list (matrix).\n",
    "The function returns the created matrix.\n",
    "\n",
    "2.Function Definition (add_matrices and subtract_matrices):\n",
    "These functions take two matrices as parameters.\n",
    "They iterate through the elements of the matrices and perform addition or subtraction element-wise.\n",
    "The result is stored in a new matrix, which is then returned.\n",
    "\n",
    "3.User Input:\n",
    "The program prompts the user to enter the number of rows and columns for the matrices using the input function.\n",
    "The entered values are stored in the variables rows and columns.\n",
    "\n",
    "4.Matrix Creation:\n",
    "The program then prompts the user to enter the elements for the first matrix using the create_matrix function.\n",
    "The same process is repeated for the second matrix.\n",
    "\n",
    "5.Matrix Addition and Subtraction:\n",
    "The add_matrices and subtract_matrices functions are called with the two input matrices, and the results are stored in the variables sum_matrix and difference_matrix, respectively.\n",
    "\n",
    "6.Printing Results:\n",
    "The program prints the result of matrix addition and subtraction.\n",
    "It iterates through the rows of each result matrix and prints the elements."
   ]
  },
  {
   "cell_type": "code",
   "execution_count": 90,
   "id": "203b21b2",
   "metadata": {},
   "outputs": [
    {
     "name": "stdout",
     "output_type": "stream",
     "text": [
      "Enter the first number: 45\n",
      "Enter the second number: 75\n",
      "The greatest common divisor (GCD) of 45 and 75 is: 15\n"
     ]
    }
   ],
   "source": [
    "# Question 33\n",
    "# Write a program that calculates the greatest common divisor (GCD) of two numbers using the Euclidean algorithm.\n",
    "def euclidean_gcd(a, b):\n",
    "    while b:\n",
    "        a, b = b, a % b\n",
    "    return a\n",
    "\n",
    "num1 = int(input(\"Enter the first number: \"))\n",
    "num2 = int(input(\"Enter the second number: \"))\n",
    "\n",
    "gcd = euclidean_gcd(num1, num2)\n",
    "\n",
    "print(f\"The greatest common divisor (GCD) of {num1} and {num2} is: {gcd}\")"
   ]
  },
  {
   "cell_type": "markdown",
   "id": "47a7f197",
   "metadata": {},
   "source": [
    "This Python program calculates the greatest common divisor (GCD) of two numbers using the Euclidean algorithm. Let's break down the code step by step:\n",
    "\n",
    "1.Function Definition (euclidean_gcd):\n",
    "This function takes two parameters, a and b, which represent the two numbers for which we want to find the GCD.\n",
    "It uses a while loop that continues as long as b is not equal to zero.\n",
    "In each iteration of the loop, the values of a and b are updated. Specifically, a is assigned the value of b, and b is assigned the remainder of the division of the original values of a and b (i.e., a % b).\n",
    "This process is repeated until b becomes zero. At this point, the loop terminates, and the last non-zero value of b becomes the GCD.\n",
    "\n",
    "2.User Input:\n",
    "The program prompts the user to enter two numbers using the input function.\n",
    "The entered values are converted to integers and stored in the variables num1 and num2.\n",
    "\n",
    "3.Function Call:\n",
    "The euclidean_gcd function is called with num1 and num2 as arguments, and the result is stored in the variable gcd.\n",
    "\n",
    "4.Printing Result:\n",
    "The program then prints a message indicating the GCD of the two numbers using an f-string.\n",
    "The result is displayed in the format: \"The greatest common divisor (GCD) of [num1] and [num2] is: [gcd]\"."
   ]
  },
  {
   "cell_type": "code",
   "execution_count": 93,
   "id": "fbce35ac",
   "metadata": {},
   "outputs": [
    {
     "name": "stdout",
     "output_type": "stream",
     "text": [
      "Enter the number of rows for the first matrix: 2\n",
      "Enter the number of columns for the first matrix: 2\n",
      "Enter the number of rows for the second matrix: 2\n",
      "Enter the number of columns for the second matrix: 2\n",
      "Enter the elements of the first matrix:\n",
      "Enter the element at row 1, column 1: 45\n",
      "Enter the element at row 1, column 2: 23\n",
      "Enter the element at row 2, column 1: 12\n",
      "Enter the element at row 2, column 2: 93\n",
      "Enter the elements of the second matrix:\n",
      "Enter the element at row 1, column 1: 38\n",
      "Enter the element at row 1, column 2: 72\n",
      "Enter the element at row 2, column 1: 89\n",
      "Enter the element at row 2, column 2: 61\n",
      "\n",
      "Matrix Multiplication Result:\n",
      "[3757.0, 4643.0]\n",
      "[8733.0, 6537.0]\n"
     ]
    }
   ],
   "source": [
    "# Question 34\n",
    "# Build a program that performs matrix multiplication using nested loops and conditional statements.\n",
    "def create_matrix(rows, columns):\n",
    "    matrix = []\n",
    "    for i in range(rows):\n",
    "        row = []\n",
    "        for j in range(columns):\n",
    "            element = float(input(f\"Enter the element at row {i + 1}, column {j + 1}: \"))\n",
    "            row.append(element)\n",
    "        matrix.append(row)\n",
    "    return matrix\n",
    "\n",
    "def multiply_matrices(matrix1, matrix2):\n",
    "    if len(matrix1[0]) != len(matrix2):\n",
    "        return None\n",
    "\n",
    "    result = []\n",
    "    for i in range(len(matrix1)):\n",
    "        row = []\n",
    "        for j in range(len(matrix2[0])):\n",
    "            cell_value = 0\n",
    "            for k in range(len(matrix2)):\n",
    "                cell_value += matrix1[i][k] * matrix2[k][j]\n",
    "            row.append(cell_value)\n",
    "        result.append(row)\n",
    "    return result\n",
    "\n",
    "rows1 = int(input(\"Enter the number of rows for the first matrix: \"))\n",
    "columns1 = int(input(\"Enter the number of columns for the first matrix: \"))\n",
    "\n",
    "rows2 = int(input(\"Enter the number of rows for the second matrix: \"))\n",
    "columns2 = int(input(\"Enter the number of columns for the second matrix: \"))\n",
    "\n",
    "print(\"Enter the elements of the first matrix:\")\n",
    "matrix1 = create_matrix(rows1, columns1)\n",
    "\n",
    "print(\"Enter the elements of the second matrix:\")\n",
    "matrix2 = create_matrix(rows2, columns2)\n",
    "\n",
    "product_matrix = multiply_matrices(matrix1, matrix2)\n",
    "\n",
    "if product_matrix:\n",
    "    print(\"\\nMatrix Multiplication Result:\")\n",
    "    for row in product_matrix:\n",
    "        print(row)\n",
    "else:\n",
    "    print(\"Matrix multiplication is not possible due to incompatible dimensions.\")"
   ]
  },
  {
   "cell_type": "markdown",
   "id": "b01c1d5d",
   "metadata": {},
   "source": [
    "This Python program performs matrix multiplication using nested loops and conditional statements. Let's break down each part of the code:\n",
    "\n",
    "1.Function Definition (create_matrix):\n",
    "This function takes the number of rows and columns as parameters.\n",
    "It uses nested loops to iterate through each element of the matrix.\n",
    "The user is prompted to enter the value for each element, and the elements are stored in a 2D list (matrix).\n",
    "The function returns the created matrix.\n",
    "\n",
    "2.Function Definition (multiply_matrices):\n",
    "This function takes two matrices as parameters.\n",
    "It checks whether the number of columns in the first matrix is equal to the number of rows in the second matrix (a requirement for matrix multiplication). If not, it returns None.\n",
    "If the matrices have compatible dimensions, it initializes an empty result matrix and uses nested loops to perform the matrix multiplication.\n",
    "The result is stored in the new matrix, which is then returned.\n",
    "\n",
    "3.User Input:\n",
    "The program prompts the user to enter the number of rows and columns for the first and second matrices using the input function.\n",
    "The entered values are stored in the variables rows1, columns1, rows2, and columns2.\n",
    "\n",
    "4.Matrix Creation:\n",
    "The program then prompts the user to enter the elements for the first and second matrices using the create_matrix function.\n",
    "\n",
    "5.Matrix Multiplication:\n",
    "The multiply_matrices function is called with the two input matrices, and the result is stored in the variable product_matrix.\n",
    "\n",
    "6.Printing Results:\n",
    "The program checks if matrix multiplication is possible by evaluating whether product_matrix is not None.\n",
    "If multiplication is possible, it prints the result of matrix multiplication.\n",
    "If multiplication is not possible due to incompatible dimensions, it prints a message indicating this limitation."
   ]
  },
  {
   "cell_type": "code",
   "execution_count": 97,
   "id": "a85c1d98",
   "metadata": {},
   "outputs": [
    {
     "name": "stdout",
     "output_type": "stream",
     "text": [
      "  |   |  \n",
      "---------\n",
      "  |   |  \n",
      "---------\n",
      "  |   |  \n",
      "---------\n",
      "Enter your move (row col): 1 1\n",
      "  |   |  \n",
      "---------\n",
      "  | X |  \n",
      "---------\n",
      "  |   |  \n",
      "---------\n",
      "Computer's turn...\n",
      "  |   |  \n",
      "---------\n",
      "O | X |  \n",
      "---------\n",
      "  |   |  \n",
      "---------\n",
      "Enter your move (row col): 2 0\n",
      "  |   |  \n",
      "---------\n",
      "O | X |  \n",
      "---------\n",
      "X |   |  \n",
      "---------\n",
      "Computer's turn...\n",
      "  |   |  \n",
      "---------\n",
      "O | X | O\n",
      "---------\n",
      "X |   |  \n",
      "---------\n",
      "Enter your move (row col): 2 2\n",
      "  |   |  \n",
      "---------\n",
      "O | X | O\n",
      "---------\n",
      "X |   | X\n",
      "---------\n",
      "Computer's turn...\n",
      "  |   | O\n",
      "---------\n",
      "O | X | O\n",
      "---------\n",
      "X |   | X\n",
      "---------\n",
      "Enter your move (row col): 0 0\n",
      "X |   | O\n",
      "---------\n",
      "O | X | O\n",
      "---------\n",
      "X |   | X\n",
      "---------\n",
      "X wins! Congratulations!\n"
     ]
    }
   ],
   "source": [
    "# Question 35\n",
    "# Create a program that simulates a basic text-based tic-tac-toe game against the computer.\n",
    "import random\n",
    "\n",
    "def print_board(board):\n",
    "    for row in board:\n",
    "        print(\" | \".join(row))\n",
    "        print(\"-\" * 9)\n",
    "\n",
    "def check_win(board, player):\n",
    "    for row in board:\n",
    "        if all(cell == player for cell in row):\n",
    "            return True\n",
    "\n",
    "    for col in range(3):\n",
    "        if all(board[row][col] == player for row in range(3)):\n",
    "            return True\n",
    "\n",
    "    if all(board[i][i] == player for i in range(3)) or all(board[i][2 - i] == player for i in range(3)):\n",
    "        return True\n",
    "\n",
    "    return False\n",
    "\n",
    "def check_full(board):\n",
    "    return all(cell != \" \" for row in board for cell in row)\n",
    "\n",
    "def computer_move(board):\n",
    "    empty_cells = [(row, col) for row in range(3) for col in range(3) if board[row][col] == \" \"]\n",
    "    return random.choice(empty_cells)\n",
    "\n",
    "board = [[\" \" for _ in range(3)] for _ in range(3)]\n",
    "\n",
    "current_player = \"X\"\n",
    "while True:\n",
    "    print_board(board)\n",
    "    if current_player == \"X\":\n",
    "        row, col = map(int, input(\"Enter your move (row col): \").split())\n",
    "    else:\n",
    "        print(\"Computer's turn...\")\n",
    "        row, col = computer_move(board)\n",
    "    \n",
    "    if board[row][col] == \" \":\n",
    "        board[row][col] = current_player\n",
    "        if check_win(board, current_player):\n",
    "            print_board(board)\n",
    "            print(f\"{current_player} wins! Congratulations!\")\n",
    "            break\n",
    "        elif check_full(board):\n",
    "            print_board(board)\n",
    "            print(\"It's a tie! The game is a draw.\")\n",
    "            break\n",
    "        current_player = \"O\" if current_player == \"X\" else \"X\"\n",
    "    else:\n",
    "        print(\"Invalid move. Try again.\")"
   ]
  },
  {
   "cell_type": "markdown",
   "id": "49dbf665",
   "metadata": {},
   "source": [
    "This Python program simulates a basic text-based tic-tac-toe game against the computer. Let's break down each part of the code:\n",
    "\n",
    "1.Function Definition (print_board):\n",
    "This function takes a 2D list representing the tic-tac-toe board as a parameter.\n",
    "It prints the current state of the board in a user-friendly format, with separators between cells and rows.\n",
    "\n",
    "2.Function Definition (check_win):\n",
    "This function checks if the current player has won the game.\n",
    "It examines each row, column, and both diagonals to see if all cells contain the player's symbol.\n",
    "If any of these conditions are met, the function returns True; otherwise, it returns False.\n",
    "\n",
    "3.Function Definition (check_full):\n",
    "This function checks if the board is full, indicating a tie.\n",
    "It returns True if all cells in the board are occupied, and False otherwise.\n",
    "\n",
    "4.Function Definition (computer_move):\n",
    "This function generates a random move for the computer by selecting an empty cell on the board.\n",
    "\n",
    "5.Main Game Loop:\n",
    "The program initializes an empty 3x3 board with all cells set to \" \".\n",
    "It starts a loop that continues until the game is won or ends in a tie.\n",
    "In each iteration, the current state of the board is printed using the print_board function.\n",
    "If it's the player's turn (current_player == \"X\"), the player is prompted to enter their move as row and column coordinates.\n",
    "If it's the computer's turn (current_player == \"O\"), a move is generated using the computer_move function.\n",
    "The program checks if the selected cell is empty. If yes, it updates the board with the current player's symbol.\n",
    "It then checks for a win or a tie using the check_win and check_full functions.\n",
    "If the game is won, it prints the winner and exits the loop. If it's a tie, it prints a tie message and exits the loop.\n",
    "The turn switches to the other player (current_player = \"O\" if it was \"X\" and vice versa).\n",
    "\n",
    "6.Invalid Move Handling:\n",
    "If the player attempts to make a move in an already occupied cell, the program prints an \"Invalid move. Try again.\" message."
   ]
  },
  {
   "cell_type": "code",
   "execution_count": 98,
   "id": "cca19b13",
   "metadata": {},
   "outputs": [
    {
     "name": "stdout",
     "output_type": "stream",
     "text": [
      "Enter the number of Fibonacci terms to generate: 10\n",
      "Fibonacci Sequence:\n",
      "[0, 1, 1, 2, 3, 5, 8, 13, 21, 34]\n"
     ]
    }
   ],
   "source": [
    "# Question 36\n",
    "# Write a program that generates Fibonacci numbers up to a specified term using iterative methods.\n",
    "def generate_fibonacci(n):\n",
    "    fibonacci_sequence = [0, 1]\n",
    "\n",
    "    while len(fibonacci_sequence) < n:\n",
    "        next_number = fibonacci_sequence[-1] + fibonacci_sequence[-2]\n",
    "        fibonacci_sequence.append(next_number)\n",
    "\n",
    "    return fibonacci_sequence\n",
    "\n",
    "n = int(input(\"Enter the number of Fibonacci terms to generate: \"))\n",
    "\n",
    "fibonacci_sequence = generate_fibonacci(n)\n",
    "print(\"Fibonacci Sequence:\")\n",
    "print(fibonacci_sequence)"
   ]
  },
  {
   "cell_type": "markdown",
   "id": "e54542ca",
   "metadata": {},
   "source": [
    "This Python program generates Fibonacci numbers up to a specified term using iterative methods. Let's break down each part of the code:\n",
    "\n",
    "1.Function Definition (generate_fibonacci):\n",
    "This function takes a parameter n, representing the number of Fibonacci terms to generate.\n",
    "It initializes a list fibonacci_sequence with the first two terms of the Fibonacci sequence (0 and 1).\n",
    "The function enters a while loop that continues until the length of fibonacci_sequence reaches the specified number n.\n",
    "In each iteration, it calculates the next Fibonacci number by adding the last two numbers in the sequence.\n",
    "The calculated Fibonacci number is then appended to the fibonacci_sequence.\n",
    "The function returns the generated Fibonacci sequence.\n",
    "\n",
    "2.User Input:\n",
    "The program prompts the user to enter the number of Fibonacci terms to generate using the input function.\n",
    "The entered value is converted to an integer and stored in the variable n.\n",
    "\n",
    "3.Function Call:\n",
    "The generate_fibonacci function is called with the input value n, and the resulting Fibonacci sequence is stored in the variable fibonacci_sequence.\n",
    "\n",
    "4.Printing Results:\n",
    "The program prints the generated Fibonacci sequence using print.\n",
    "The sequence is printed in a readable format, showing each term."
   ]
  },
  {
   "cell_type": "code",
   "execution_count": 99,
   "id": "7b3aca62",
   "metadata": {},
   "outputs": [
    {
     "name": "stdout",
     "output_type": "stream",
     "text": [
      "Enter the value of n to calculate the nth Fibonacci term: 10\n",
      "The 10th Fibonacci term is: 55\n"
     ]
    }
   ],
   "source": [
    "# Question 37\n",
    "# Develop a program that calculates the nth term of the Fibonacci sequence using memoization.\n",
    "fib_cache = {}\n",
    "\n",
    "def fibonacci(n):\n",
    "    if n in fib_cache:\n",
    "        return fib_cache[n]\n",
    "    \n",
    "    if n <= 1:\n",
    "        result = n\n",
    "    else:\n",
    "        result = fibonacci(n - 1) + fibonacci(n - 2)\n",
    "    \n",
    "    fib_cache[n] = result\n",
    "    return result\n",
    "\n",
    "n = int(input(\"Enter the value of n to calculate the nth Fibonacci term: \"))\n",
    "\n",
    "fib_term = fibonacci(n)\n",
    "print(f\"The {n}th Fibonacci term is: {fib_term}\")"
   ]
  },
  {
   "cell_type": "markdown",
   "id": "1500f8f4",
   "metadata": {},
   "source": [
    "This Python program calculates the nth term of the Fibonacci sequence using memoization. Let's break down each part of the code:\n",
    "\n",
    "1.Memoization Cache (fib_cache):\n",
    "fib_cache is a global dictionary that will be used to store previously calculated Fibonacci values.\n",
    "It is initialized as an empty dictionary.\n",
    "\n",
    "2.Function Definition (fibonacci):\n",
    "This function takes a parameter n, representing the term in the Fibonacci sequence to calculate.\n",
    "It first checks if the value of n is already in the fib_cache. If it is, the function returns the cached result.\n",
    "If n is less than or equal to 1, the result is set to n (base case).\n",
    "If n is greater than 1, the function recursively calculates the nth Fibonacci term by summing the (n-1)th and (n-2)th terms using recursive calls to itself.\n",
    "The calculated result is stored in fib_cache for future use.\n",
    "The function returns the calculated result.\n",
    "\n",
    "3.User Input:\n",
    "The program prompts the user to enter the value of n (the term in the Fibonacci sequence to calculate) using the input function.\n",
    "The entered value is converted to an integer and stored in the variable n.\n",
    "\n",
    "4.Function Call:\n",
    "The fibonacci function is called with the input value n, and the resulting Fibonacci term is stored in the variable fib_term.\n",
    "\n",
    "5.Printing Result:\n",
    "The program prints the calculated Fibonacci term for the specified value of n using the print function."
   ]
  },
  {
   "cell_type": "code",
   "execution_count": 3,
   "id": "b345b11b",
   "metadata": {},
   "outputs": [
    {
     "name": "stdout",
     "output_type": "stream",
     "text": [
      "Enter the year (e.g., 2023): 2023\n",
      "Enter the month (1-12): 11\n",
      "Calendar for November 2023:\n",
      "   November 2023\n",
      "Mo Tu We Th Fr Sa Su\n",
      "       1  2  3  4  5\n",
      " 6  7  8  9 10 11 12\n",
      "13 14 15 16 17 18 19\n",
      "20 21 22 23 24 25 26\n",
      "27 28 29 30\n",
      "\n"
     ]
    }
   ],
   "source": [
    "# Question 38\n",
    "# Create a program that generates a calendar for a given month and year using conditional statements.\n",
    "import calendar\n",
    "\n",
    "year = int(input(\"Enter the year (e.g., 2023): \"))\n",
    "month = int(input(\"Enter the month (1-12): \"))\n",
    "\n",
    "if month < 1 or month > 12:\n",
    "    print(\"Invalid month. Please enter a month between 1 and 12.\")\n",
    "else:\n",
    "    cal = calendar.month(year, month)\n",
    "    \n",
    "    print(f\"Calendar for {calendar.month_name[month]} {year}:\")\n",
    "    print(cal)"
   ]
  },
  {
   "cell_type": "markdown",
   "id": "7ebba075",
   "metadata": {},
   "source": [
    "This Python program generates a calendar for a given month and year using the calendar module in Python. Let's break down each part of the code:\n",
    "\n",
    "1.User Input:\n",
    "The program prompts the user to enter the year and month using the input function.\n",
    "The entered values are converted to integers and stored in the variables year and month.\n",
    "\n",
    "2.Input Validation:\n",
    "The program uses a conditional statement to check if the entered month is valid (between 1 and 12). If not, it prints an error message and does not proceed with generating the calendar.\n",
    "\n",
    "3.Calendar Generation:\n",
    "If the entered month is valid, the program uses the calendar.month function to generate a textual calendar for the specified month and year.\n",
    "The result is stored in the variable cal.\n",
    "\n",
    "4.Printing Results:\n",
    "The program prints a header indicating the month and year using the calendar.month_name list, which maps month numbers to month names.\n",
    "It then prints the generated calendar using the print function."
   ]
  },
  {
   "cell_type": "code",
   "execution_count": 107,
   "id": "d0b29245",
   "metadata": {},
   "outputs": [
    {
     "name": "stdout",
     "output_type": "stream",
     "text": [
      "\n",
      "Your hand:\n",
      "Five of Hearts\n",
      "Ten of Hearts\n",
      "\n",
      "Dealer's hand:\n",
      "Queen of Spades\n",
      "Hidden Card\n",
      "\n",
      "Dealer's hand:\n",
      "Queen of Spades\n",
      "Five of Spades\n",
      "Nine of Spades\n",
      "Dealer busts! You win!\n"
     ]
    }
   ],
   "source": [
    "# Question 39\n",
    "# Build a program that simulates a basic text-based blackjack game against the computer.\n",
    "import random\n",
    "\n",
    "def calculate_hand_value(hand):\n",
    "    value = 0\n",
    "    aces = 0\n",
    "\n",
    "    for rank in hand:\n",
    "        if rank in [\"King\", \"Queen\", \"Jack\"]:\n",
    "            value += 10\n",
    "        elif rank == \"Ace\":\n",
    "            value += 11\n",
    "            aces += 1\n",
    "        else:\n",
    "            value += int(rank)\n",
    "\n",
    "    while aces > 0 and value > 21:\n",
    "        value -= 10\n",
    "        aces -= 1\n",
    "\n",
    "    return value\n",
    "\n",
    "suits = [\"Hearts\", \"Diamonds\", \"Clubs\", \"Spades\"]\n",
    "ranks = {\"Two\": 2, \"Three\": 3, \"Four\": 4, \"Five\": 5, \"Six\": 6, \"Seven\": 7, \"Eight\": 8, \"Nine\": 9, \"Ten\": 10, \"Jack\": 10, \"Queen\": 10, \"King\": 10, \"Ace\": 11}\n",
    "deck = [(rank, suit) for suit in suits for rank in ranks]\n",
    "\n",
    "player_hand = []\n",
    "dealer_hand = []\n",
    "\n",
    "for _ in range(2):\n",
    "    player_card = random.choice(deck)\n",
    "    player_hand.append(player_card)\n",
    "    deck.remove(player_card)\n",
    "    \n",
    "    dealer_card = random.choice(deck)\n",
    "    dealer_hand.append(dealer_card)\n",
    "    deck.remove(dealer_card)\n",
    "\n",
    "while True:\n",
    "    player_value = calculate_hand_value([ranks[rank] for rank, _ in player_hand])\n",
    "    dealer_value = calculate_hand_value([ranks[rank] for rank, _ in dealer_hand])\n",
    "    \n",
    "    print(\"\\nYour hand:\")\n",
    "    for rank, suit in player_hand:\n",
    "        print(f\"{rank} of {suit}\")\n",
    "    \n",
    "    print(\"\\nDealer's hand:\")\n",
    "    print(f\"{dealer_hand[0][0]} of {dealer_hand[0][1]}\")\n",
    "    print(\"Hidden Card\")\n",
    "    \n",
    "    if player_value == 21 and len(player_hand) == 2:\n",
    "        print(\"Blackjack! You win!\")\n",
    "        break\n",
    "    \n",
    "    if player_value > 21:\n",
    "        print(\"Bust! You lose.\")\n",
    "        break\n",
    "    \n",
    "    while dealer_value < 17:\n",
    "        dealer_card = random.choice(deck)\n",
    "        dealer_hand.append(dealer_card)\n",
    "        deck.remove(dealer_card)\n",
    "        dealer_value = calculate_hand_value([ranks[rank] for rank, _ in dealer_hand])\n",
    "    \n",
    "    print(\"\\nDealer's hand:\")\n",
    "    for rank, suit in dealer_hand:\n",
    "        print(f\"{rank} of {suit}\")\n",
    "    \n",
    "    if dealer_value > 21:\n",
    "        print(\"Dealer busts! You win!\")\n",
    "        break\n",
    "    elif dealer_value > player_value:\n",
    "        print(\"Dealer wins.\")\n",
    "        break\n",
    "    elif dealer_value < player_value:\n",
    "        print(\"You win!\")\n",
    "        break\n",
    "    else:\n",
    "        print(\"It's a tie! Push.\")\n",
    "        break"
   ]
  },
  {
   "cell_type": "markdown",
   "id": "3c2fd981",
   "metadata": {},
   "source": [
    "This Python program simulates a basic text-based blackjack game against the computer. Let's break down each part of the code:\n",
    "\n",
    "1.Function Definition (calculate_hand_value):\n",
    "This function takes a hand (list of card ranks) as a parameter.\n",
    "It calculates the total value of the hand considering the special case of Aces, which can be either 1 or 11.\n",
    "It iterates through the ranks, adding the corresponding values to the total.\n",
    "If the hand has Aces and the total value is greater than 21, it adjusts the value of Aces from 11 to 1 until the total is less than or equal to 21.\n",
    "The calculated total value is returned.\n",
    "\n",
    "2.Card Representation:\n",
    "Suits and ranks are defined, and a deck is created using list comprehension, consisting of tuples representing each card (rank, suit).\n",
    "\n",
    "3.Player and Dealer Hands:\n",
    "Two cards are dealt to both the player and the dealer from the deck.\n",
    "The cards are removed from the deck after being dealt.\n",
    "\n",
    "4.Game Loop:\n",
    "The program enters a loop where the player's and dealer's hands are evaluated in each iteration.\n",
    "\n",
    "5.Player's Turn:\n",
    "The program calculates the total value of the player's hand using the calculate_hand_value function.\n",
    "The player's hand is displayed, and if the player has a blackjack (a total of 21 with two cards), they win.\n",
    "If the player's total exceeds 21, they bust and lose the game.\n",
    "\n",
    "6.Dealer's Turn:\n",
    "The dealer's face-up card is displayed.\n",
    "If the dealer's total is less than 17, the dealer continues to draw cards until their total is 17 or higher.\n",
    "The dealer's hand is then displayed.\n",
    "\n",
    "7.Determine Winner:\n",
    "The program compares the total values of the player's and dealer's hands to determine the winner.\n",
    "If the dealer busts (total > 21), the player wins.\n",
    "If the dealer's total is greater than the player's total, the dealer wins.\n",
    "If the player's total is greater than the dealer's total, the player wins.\n",
    "If both totals are equal, it's a tie (push).\n",
    "\n",
    "8.Breaking the Loop:\n",
    "The game loop breaks when there is a winner, and the corresponding message is printed."
   ]
  },
  {
   "cell_type": "code",
   "execution_count": 108,
   "id": "b4f2056c",
   "metadata": {},
   "outputs": [
    {
     "name": "stdout",
     "output_type": "stream",
     "text": [
      "Enter a number: 351\n",
      "The prime factors of 351 are: [3, 3, 3, 13]\n"
     ]
    }
   ],
   "source": [
    "# Question 40\n",
    "# Write a program that generates the prime factors of a given number using trial division.\n",
    "def prime_factors(n):\n",
    "    factors = []\n",
    "    divisor = 2\n",
    "\n",
    "    while n > 1:\n",
    "        while n % divisor == 0:\n",
    "            factors.append(divisor)\n",
    "            n //= divisor\n",
    "        divisor += 1\n",
    "\n",
    "    return factors\n",
    "\n",
    "number = int(input(\"Enter a number: \"))\n",
    "\n",
    "if number < 2:\n",
    "    print(\"Prime factors are not defined for numbers less than 2.\")\n",
    "else:\n",
    "    factors = prime_factors(number)\n",
    "    print(f\"The prime factors of {number} are: {factors}\")"
   ]
  },
  {
   "cell_type": "markdown",
   "id": "2eeb2edf",
   "metadata": {},
   "source": [
    "This Python program generates the prime factors of a given number using the trial division method. Let's break down each part of the code:\n",
    "\n",
    "1.Function Definition (prime_factors):\n",
    "This function takes an integer n as a parameter.\n",
    "It initializes an empty list factors to store the prime factors.\n",
    "A while loop continues until the number n becomes 1.\n",
    "Inside the loop, there is another while loop that divides n by the smallest prime divisor (starting from 2) as many times as possible.\n",
    "The prime factors are appended to the factors list, and n is updated by dividing it by the divisor.\n",
    "The divisor is then incremented.\n",
    "The function returns the list of prime factors.\n",
    "\n",
    "2.User Input:\n",
    "The program prompts the user to enter a number using the input function.\n",
    "The entered value is converted to an integer and stored in the variable number.\n",
    "\n",
    "3.Input Validation:\n",
    "The program checks if the entered number is less than 2. If so, it prints a message indicating that prime factors are not defined for numbers less than 2.\n",
    "\n",
    "4.Function Call:\n",
    "If the entered number is 2 or greater, the prime_factors function is called with the input value number, and the resulting list of prime factors is stored in the variable factors.\n",
    "\n",
    "5.Printing Result:\n",
    "The program prints the calculated prime factors using the print function."
   ]
  }
 ],
 "metadata": {
  "kernelspec": {
   "display_name": "Python 3 (ipykernel)",
   "language": "python",
   "name": "python3"
  },
  "language_info": {
   "codemirror_mode": {
    "name": "ipython",
    "version": 3
   },
   "file_extension": ".py",
   "mimetype": "text/x-python",
   "name": "python",
   "nbconvert_exporter": "python",
   "pygments_lexer": "ipython3",
   "version": "3.9.13"
  }
 },
 "nbformat": 4,
 "nbformat_minor": 5
}
