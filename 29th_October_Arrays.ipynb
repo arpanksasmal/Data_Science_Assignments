{
 "cells": [
  {
   "cell_type": "code",
   "execution_count": 1,
   "id": "ef52e1e7",
   "metadata": {},
   "outputs": [
    {
     "name": "stdout",
     "output_type": "stream",
     "text": [
      "True\n"
     ]
    }
   ],
   "source": [
    "# Question 1\n",
    "# 1. Given an array, check if it contains any duplicates or not.\n",
    "# arr = [1, 2, 4, 2, 5, 9]\n",
    "# Output = True\n",
    "def contains_duplicates(arr):\n",
    "    unique_elements = set()\n",
    "\n",
    "    for num in arr:\n",
    "        if num in unique_elements:\n",
    "            return True\n",
    "        else:\n",
    "            unique_elements.add(num)\n",
    "\n",
    "    return False\n",
    "\n",
    "arr = [1, 2, 4, 2, 5, 9]\n",
    "output = contains_duplicates(arr)\n",
    "print(output)"
   ]
  },
  {
   "cell_type": "markdown",
   "id": "4563e423",
   "metadata": {},
   "source": [
    "This Python function checks whether there are any duplicate elements in the given array. It uses a set to keep track of unique elements encountered while iterating through the array. If it finds a duplicate, it returns True; otherwise, it returns False.\n",
    "\n",
    "Here's a step by step explanation of the code:\n",
    "\n",
    "1.Function Definition:\n",
    "The function is named contains_duplicates.\n",
    "It takes one parameter arr, which is assumed to be a list.\n",
    "\n",
    "2.Initialize an Empty Set:\n",
    "A set named unique_elements is initialized. A set is a collection of unique elements, and it's used to keep track of unique numbers encountered in the array.\n",
    "\n",
    "3.Iterate Through the Array:\n",
    "A for loop is used to iterate through each element num in the input array arr.\n",
    "\n",
    "4.Check for Duplicates:\n",
    "Inside the loop, it checks whether the current element num is already present in the unique_elements set.\n",
    "If num is found in the set, it means a duplicate is found, and the function returns True immediately.\n",
    "\n",
    "5.Update the Set:\n",
    "If the current element num is not in the set, it adds it to the unique_elements set using the add method.\n",
    "\n",
    "6.Return False if No Duplicates:\n",
    "If the loop completes without finding any duplicates, the function returns False.\n",
    "\n",
    "7.Example Usage:\n",
    "An example array arr = [1, 2, 4, 2, 5, 9] is provided.\n",
    "The function is called with this array, and the result is stored in the variable output.\n",
    "\n",
    "8.Print the Result:\n",
    "The result (output) is printed to the console. In the example array, the function would return True since there are duplicate elements (e.g., the number 2 appears twice)."
   ]
  },
  {
   "cell_type": "code",
   "execution_count": 2,
   "id": "f85c25bf",
   "metadata": {},
   "outputs": [
    {
     "name": "stdout",
     "output_type": "stream",
     "text": [
      "[5, 6, 7, 1, 2, 3, 4]\n"
     ]
    }
   ],
   "source": [
    "# Question 2\n",
    "# 2. Given an array and an integer k, rotate the array to the right by k steps.\n",
    "# arr = [1, 2, 3, 4, 5, 6, 7] k = 3\n",
    "# Output = [5, 6, 7, 1, 2, 3, 4]\n",
    "def rotate_array(arr, k):\n",
    "    n = len(arr)\n",
    "\n",
    "    k = k % n\n",
    "\n",
    "    reverse_array(arr, 0, n - 1)\n",
    "\n",
    "    reverse_array(arr, 0, k - 1)\n",
    "\n",
    "    reverse_array(arr, k, n - 1)\n",
    "\n",
    "def reverse_array(arr, start, end):\n",
    "    while start < end:\n",
    "        arr[start], arr[end] = arr[end], arr[start]\n",
    "        start += 1\n",
    "        end -= 1\n",
    "\n",
    "arr = [1, 2, 3, 4, 5, 6, 7]\n",
    "k = 3\n",
    "rotate_array(arr, k)\n",
    "print(arr)"
   ]
  },
  {
   "cell_type": "markdown",
   "id": "f60e15d5",
   "metadata": {},
   "source": [
    "This Python function rotates the given array to the right by the specified number of steps (k) using a reversal algorithm. It reverses the entire array first, then reverses the first part, and finally reverses the second part to achieve the desired rotation.\n",
    "\n",
    "Here's an explanation of the code:\n",
    "\n",
    "1.Function Definition:\n",
    "The function rotate_array takes two parameters: arr, which is the array to be rotated, and k, which is the number of steps to rotate the array to the right.\n",
    "\n",
    "2.Calculate Effective Rotation:\n",
    "It calculates the effective rotation by taking the modulus of k with the length of the array (n). This is done to handle cases where k is greater than the length of the array. For instance, if the array length is 7 and k is 10, rotating by 10 is equivalent to rotating by 3 (10 % 7).\n",
    "\n",
    "3.Reverse Entire Array:\n",
    "The function reverse_array is called to reverse the entire array. This effectively moves the last k elements to the beginning of the array.\n",
    "\n",
    "4.Reverse First Part:\n",
    "Then, it calls reverse_array again to reverse the first k elements. This step corrects the order of the first part of the array after the rotation.\n",
    "\n",
    "5.Reverse Second Part:\n",
    "Finally, it reverses the remaining part of the array (from index k to the end) to maintain the correct order for the last part of the array.\n",
    "\n",
    "6.Reverse Array Function:\n",
    "The reverse_array function takes three parameters: the array arr, the starting index start, and the ending index end.\n",
    "It uses a while loop to swap elements from the start and end of the array until they meet in the middle, effectively reversing the array in place.\n",
    "\n",
    "7.Example Usage:\n",
    "An example array arr = [1, 2, 3, 4, 5, 6, 7] and k = 3 are provided.\n",
    "The function rotate_array is called with these parameters to rotate the array arr to the right by 3 steps.\n",
    "\n",
    "8.Print the Result:\n",
    "The rotated array is printed to the console."
   ]
  },
  {
   "cell_type": "code",
   "execution_count": 3,
   "id": "9535930b",
   "metadata": {},
   "outputs": [
    {
     "name": "stdout",
     "output_type": "stream",
     "text": [
      "[12, 9, 7, 5, 4, 2]\n"
     ]
    }
   ],
   "source": [
    "# Question 3\n",
    "# 3. Reverse the given array in-place, means without using any extra data structure.\n",
    "# arr = [2, 4, 5, 7, 9, 12]\n",
    "# Output = [12, 9, 7, 5, 4, 2]\n",
    "def reverse_array_in_place(arr):\n",
    "    start = 0\n",
    "    end = len(arr) - 1\n",
    "\n",
    "    while start < end:\n",
    "        arr[start], arr[end] = arr[end], arr[start]\n",
    "\n",
    "        start += 1\n",
    "        end -= 1\n",
    "\n",
    "arr = [2, 4, 5, 7, 9, 12]\n",
    "reverse_array_in_place(arr)\n",
    "print(arr)"
   ]
  },
  {
   "cell_type": "markdown",
   "id": "dfb19fc4",
   "metadata": {},
   "source": [
    "This Python function uses two pointers and a while loop to reverse the elements of the given array in-place. The pointers move towards each other, swapping elements until the entire array is reversed. The result is the reversed array.\n",
    "\n",
    "Here's an explanation of the code:\n",
    "\n",
    "1.Function Purpose:\n",
    "The function reverse_array_in_place is designed to reverse the given array in-place, meaning it modifies the original array without using any additional data structures.\n",
    "\n",
    "2.Initialization:\n",
    "Two pointers, start and end, are initialized.\n",
    "start is set to the beginning of the array (index 0).\n",
    "end is set to the end of the array (index len(arr) - 1).\n",
    "\n",
    "3.In-Place Reversal Using Two Pointers:\n",
    "The function employs a while loop to continue the reversal until the start pointer surpasses the end pointer.\n",
    "Inside the loop, the elements at the start and end indices are swapped, effectively reversing the array.\n",
    "\n",
    "4.Move Pointers Inward:\n",
    "After each swap, the start pointer is incremented, and the end pointer is decremented.\n",
    "This process continues until the pointers meet or cross each other in the middle of the array.\n",
    "\n",
    "5.Example Usage:\n",
    "An example array arr = [2, 4, 5, 7, 9, 12] is provided.\n",
    "The reverse_array_in_place function is called with this array, and it modifies the array in-place, reversing the elements.\n",
    "\n",
    "6.Print the Result:\n",
    "The modified array is printed to the console after the in-place reversal."
   ]
  },
  {
   "cell_type": "code",
   "execution_count": 4,
   "id": "8a52bf60",
   "metadata": {},
   "outputs": [
    {
     "name": "stdout",
     "output_type": "stream",
     "text": [
      "20\n"
     ]
    }
   ],
   "source": [
    "# Question 4\n",
    "# 4. Given an array of integers, find the maximum element in an array\n",
    "# arr = [10, 5, 20, 8, 15]\n",
    "# Output = 20\n",
    "def find_max_element(arr):\n",
    "    max_value = arr[0]\n",
    "\n",
    "    for num in arr[1:]:\n",
    "        if num > max_value:\n",
    "            max_value = num\n",
    "\n",
    "    return max_value\n",
    "\n",
    "arr = [10, 5, 20, 8, 15]\n",
    "output = find_max_element(arr)\n",
    "print(output)"
   ]
  },
  {
   "cell_type": "markdown",
   "id": "021232e5",
   "metadata": {},
   "source": [
    "This Python function iterates through the given array, updates the maximum value whenever a larger element is encountered, and finally returns the maximum element found in the array.\n",
    "\n",
    "Here's an explanation of the code:\n",
    "\n",
    "1.Function Purpose:\n",
    "The function find_max_element is designed to find and return the maximum element in a given array of integers.\n",
    "\n",
    "2.Initialization:\n",
    "The variable max_value is initialized with the first element of the array (arr[0]). This assumes the array is not empty.\n",
    "\n",
    "3.Iterating Through the Array:\n",
    "A for loop is used to iterate through each element num in the array starting from the second element (arr[1:]).\n",
    "This loop compares each element with the current maximum value (max_value).\n",
    "\n",
    "4.Update Maximum Value:\n",
    "If the current element num is greater than the current maximum value (max_value), the maximum value is updated to be the current element (max_value = num).\n",
    "\n",
    "5.Return Maximum Value:\n",
    "After the loop completes, the function returns the final maximum value found in the array.\n",
    "\n",
    "6.Example Usage:\n",
    "An example array arr = [10, 5, 20, 8, 15] is provided.\n",
    "The find_max_element function is called with this array, and it returns the maximum element, which is then stored in the variable output.\n",
    "\n",
    "7.Print the Result:\n",
    "The result (output) is printed to the console. In this example, the maximum element in the array is 20."
   ]
  },
  {
   "cell_type": "code",
   "execution_count": 5,
   "id": "f7974dbb",
   "metadata": {},
   "outputs": [
    {
     "name": "stdout",
     "output_type": "stream",
     "text": [
      "[1, 2, 3, 4, 5]\n"
     ]
    }
   ],
   "source": [
    "# Question 5\n",
    "# 5. Given a sorted array, remove the duplicate element without using any extra data structure.\n",
    "# arr = [1, 1, 2, 2, 2, 3, 3, 4, 4, 4, 5, 5]\n",
    "# Output = [1, 2, 3, 4, 5]\n",
    "def remove_duplicates(arr):\n",
    "    if len(arr) == 0:\n",
    "        return []\n",
    "\n",
    "    index = 1\n",
    "\n",
    "    for i in range(1, len(arr)):\n",
    "        if arr[i] != arr[i - 1]:\n",
    "            arr[index] = arr[i]\n",
    "            index += 1\n",
    "\n",
    "    arr = arr[:index]\n",
    "\n",
    "    return arr\n",
    "\n",
    "arr = [1, 1, 2, 2, 2, 3, 3, 4, 4, 4, 5, 5]\n",
    "output = remove_duplicates(arr)\n",
    "print(output)"
   ]
  },
  {
   "cell_type": "markdown",
   "id": "0936c1d3",
   "metadata": {},
   "source": [
    "This Python function iterates through the sorted array, identifies and removes duplicate elements in-place, and returns the modified array. The trimming step ensures that the array only contains unique elements up to the last unique element found.\n",
    "\n",
    "Here's a step by step explanation of the code:\n",
    "\n",
    "1.Function Purpose:\n",
    "The function remove_duplicates is designed to remove duplicate elements from a sorted array without using any extra data structure.\n",
    "\n",
    "2.Edge Case Check:\n",
    "The function checks if the length of the array is 0. If the array is empty, it immediately returns an empty list, as there are no duplicates to remove.\n",
    "\n",
    "3.Initialization:\n",
    "The variable index is initialized to 1. This variable is used to keep track of the position where unique elements should be placed in the array.\n",
    "\n",
    "4.Iterating Through the Array:\n",
    "A for loop is used to iterate through the array starting from the second element (index 1).\n",
    "Inside the loop, it compares the current element with the previous one (arr[i] != arr[i - 1]).\n",
    "\n",
    "5.Removing Duplicates:\n",
    "If the current element is different from the previous one, it means a new unique element is found.\n",
    "The unique element is then placed at the position indicated by the index variable.\n",
    "The index variable is incremented to point to the next position where a unique element should be placed.\n",
    "\n",
    "6.Trimming the Array:\n",
    "After the loop completes, the function trims the array by slicing it up to the position indicated by the index variable.\n",
    "This step removes any elements in the array beyond the last unique element.\n",
    "\n",
    "7.Return Result:\n",
    "The modified array with duplicates removed is returned.\n",
    "\n",
    "8.Example Usage:\n",
    "An example array arr = [1, 1, 2, 2, 2, 3, 3, 4, 4, 4, 5, 5] is provided.\n",
    "The remove_duplicates function is called with this array, and it returns a new array with duplicate elements removed.\n",
    "\n",
    "9.Print the Result:\n",
    "The result is printed to the console. In this example, the output would be [1, 2, 3, 4, 5], which is the original array with duplicates removed."
   ]
  }
 ],
 "metadata": {
  "kernelspec": {
   "display_name": "Python 3 (ipykernel)",
   "language": "python",
   "name": "python3"
  },
  "language_info": {
   "codemirror_mode": {
    "name": "ipython",
    "version": 3
   },
   "file_extension": ".py",
   "mimetype": "text/x-python",
   "name": "python",
   "nbconvert_exporter": "python",
   "pygments_lexer": "ipython3",
   "version": "3.9.13"
  }
 },
 "nbformat": 4,
 "nbformat_minor": 5
}
