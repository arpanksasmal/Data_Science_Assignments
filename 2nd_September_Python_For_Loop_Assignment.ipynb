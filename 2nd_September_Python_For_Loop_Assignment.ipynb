{
 "cells": [
  {
   "cell_type": "markdown",
   "id": "ab3963fe",
   "metadata": {},
   "source": [
    "# Basic Level"
   ]
  },
  {
   "cell_type": "code",
   "execution_count": 2,
   "id": "79ede494",
   "metadata": {},
   "outputs": [
    {
     "name": "stdout",
     "output_type": "stream",
     "text": [
      "1\n",
      "2\n",
      "3\n",
      "4\n",
      "5\n",
      "6\n",
      "7\n",
      "8\n",
      "9\n",
      "10\n"
     ]
    }
   ],
   "source": [
    "# Question 1\n",
    "# Write a Python program to print the numbers from 1 to 10 using a `for` loop.\n",
    "for i in range(1,11):\n",
    "    print(i)"
   ]
  },
  {
   "cell_type": "markdown",
   "id": "f33d8dd6",
   "metadata": {},
   "source": [
    "This Python program uses a for loop to print the numbers from 1 to 10. Here's an explanation of each part of the code:\n",
    "\n",
    "1.for i in range(1, 11):: This line initiates a for loop that iterates through a range of numbers from 1 to 10. The range(1, 11) function generates a sequence of numbers starting from 1 (inclusive) and ending at 11 (exclusive), so it covers the numbers 1 to 10.\n",
    "\n",
    "2.print(i): Inside the loop, the print() function is used to display the current value of the loop variable i. The loop iterates through each number in the specified range, and i takes on the values from 1 to 10 in sequence."
   ]
  },
  {
   "cell_type": "code",
   "execution_count": 3,
   "id": "6f00bb1c",
   "metadata": {},
   "outputs": [
    {
     "name": "stdout",
     "output_type": "stream",
     "text": [
      "The sum of the numbers is: 30\n"
     ]
    }
   ],
   "source": [
    "# Question 2\n",
    "# Create a program that calculates the sum of all numbers in a list using a `for` loop.\n",
    "numbers = [2, 4, 6, 8, 10]\n",
    "total = 0\n",
    "\n",
    "for number in numbers:\n",
    "    total += number\n",
    "\n",
    "print(\"The sum of the numbers is:\", total)"
   ]
  },
  {
   "cell_type": "markdown",
   "id": "da73cf58",
   "metadata": {},
   "source": [
    "This Python program calculates the sum of all numbers in a list using a for loop. Here's an explanation of each part of the code:\n",
    "\n",
    "1.numbers = [2, 4, 6, 8, 10]: This line defines a list named numbers that contains the elements 2, 4, 6, 8, and 10.\n",
    "\n",
    "2.total = 0: This line initializes a variable total to 0. This variable will be used to store the sum of the numbers in the list.\n",
    "\n",
    "3.The for loop: The loop iterates through each number in the numbers list using the number variable as an iterator.\n",
    "for number in numbers:: This line initiates the loop, and for each iteration, the current element in the numbers list is assigned to the number variable.\n",
    "total += number: Inside the loop, the value of number is added to the total variable. This accumulates the sum of all numbers in the list.\n",
    "\n",
    "4.print(\"The sum of the numbers is:\", total): After the loop has processed all numbers, this line prints the result. It displays the message \"The sum of the numbers is:\" followed by the value stored in the total variable, which is the sum of the numbers in the list."
   ]
  },
  {
   "cell_type": "code",
   "execution_count": 4,
   "id": "8ba48e0d",
   "metadata": {},
   "outputs": [
    {
     "name": "stdout",
     "output_type": "stream",
     "text": [
      "!dlroW ,olleH\n"
     ]
    }
   ],
   "source": [
    "# Question 3\n",
    "# Write a program to print the characters of a string in reverse order using a `for` loop.\n",
    "input_string = \"Hello, World!\"\n",
    "reversed_string = \"\"\n",
    "\n",
    "for char in reversed(input_string):\n",
    "    reversed_string += char\n",
    "\n",
    "print(reversed_string)"
   ]
  },
  {
   "cell_type": "markdown",
   "id": "7c3f07da",
   "metadata": {},
   "source": [
    "This Python program prints the characters of a string in reverse order using a for loop. Here's an explanation of each part of the code:\n",
    "\n",
    "1.input_string = \"Hello, World!\": This line defines the input_string variable and assigns it the value \"Hello, World!\".\n",
    "\n",
    "2.reversed_string = \"\": This line initializes an empty string called reversed_string. This string will be used to store the reversed version of input_string.\n",
    "\n",
    "3.The for loop: The loop iterates through each character in the input_string, but it iterates in reverse order.\n",
    "for char in reversed(input_string):: This line initiates the loop. The reversed(input_string) function returns an iterable that contains the characters of input_string in reverse order. The loop variable char represents each character in reverse order.\n",
    "reversed_string += char: Inside the loop, each character char is appended to the reversed_string, effectively reversing the characters.\n",
    "\n",
    "4.print(reversed_string): After the loop has processed all characters, this line prints the reversed_string, which now contains the characters of input_string in reverse order."
   ]
  },
  {
   "cell_type": "code",
   "execution_count": 37,
   "id": "31685abc",
   "metadata": {},
   "outputs": [
    {
     "name": "stdout",
     "output_type": "stream",
     "text": [
      "Enter a number: 5\n",
      "The factorial of 5 is: 120\n"
     ]
    }
   ],
   "source": [
    "# Question 4\n",
    "# Develop a program that finds the factorial of a given number using a `for` loop.\n",
    "n = int(input(\"Enter a number: \"))\n",
    "\n",
    "factorial = 1\n",
    "\n",
    "for i in range(1, n + 1):\n",
    "    factorial *= i\n",
    "\n",
    "print(f\"The factorial of {n} is: {factorial}\")"
   ]
  },
  {
   "cell_type": "markdown",
   "id": "050fdb82",
   "metadata": {},
   "source": [
    "This Python program calculates the factorial of a given number using a for loop. Here's an explanation of each part of the code:\n",
    "\n",
    "1.n = int(input(\"Enter a number: \")): This line prompts the user to enter a number, and the input is read as an integer and stored in the n variable.\n",
    "\n",
    "2.factorial = 1: This line initializes a variable called factorial to 1. This variable will be used to store the factorial of the input number.\n",
    "\n",
    "3.The for loop: The for loop calculates the factorial of the input number.\n",
    "for i in range(1, n + 1):: This line initiates a for loop that iterates through the numbers from 1 to n (inclusive). The loop variable i represents the current number in this range.\n",
    "factorial *= i: Inside the loop, the factorial is updated by multiplying it with the current value of i. This accumulates the factorial.\n",
    "\n",
    "4.print(f\"The factorial of {n} is: {factorial}\"): After the loop has calculated the factorial, this line prints the result. It displays the message \"The factorial of {n} is: {factorial}\" with the actual values of n and factorial substituted in."
   ]
  },
  {
   "cell_type": "code",
   "execution_count": 6,
   "id": "ec6de2f5",
   "metadata": {},
   "outputs": [
    {
     "name": "stdout",
     "output_type": "stream",
     "text": [
      "Enter a number: 5\n",
      "Multiplication Table for 5:\n",
      "5 x 1 = 5\n",
      "5 x 2 = 10\n",
      "5 x 3 = 15\n",
      "5 x 4 = 20\n",
      "5 x 5 = 25\n",
      "5 x 6 = 30\n",
      "5 x 7 = 35\n",
      "5 x 8 = 40\n",
      "5 x 9 = 45\n",
      "5 x 10 = 50\n"
     ]
    }
   ],
   "source": [
    "# Question 5\n",
    "# Create a program to print the multiplication table of a given number using a `for` loop.\n",
    "num = int(input(\"Enter a number: \"))\n",
    "print(f\"Multiplication Table for {num}:\")\n",
    "\n",
    "for i in range(1, 11):\n",
    "    result = num * i\n",
    "    print(f\"{num} x {i} = {result}\")"
   ]
  },
  {
   "cell_type": "markdown",
   "id": "7cf5b332",
   "metadata": {},
   "source": [
    "This Python program prints the multiplication table of a given number using a for loop. Here's an explanation of each part of the code:\n",
    "\n",
    "1.num = int(input(\"Enter a number: \")): This line prompts the user to enter a number, and the input is read as an integer and stored in the num variable.\n",
    "\n",
    "2.print(f\"Multiplication Table for {num}:\"): This line prints a message indicating that it's the multiplication table for the entered number. It uses an f-string to insert the actual value of num into the message.\n",
    "\n",
    "3.The for loop: The loop calculates and prints the multiplication table for the given number.\n",
    "for i in range(1, 11):: This line initiates a for loop that iterates through the numbers from 1 to 10. The loop variable i represents the current number in this range.\n",
    "result = num * i: Inside the loop, it calculates the product of num and i and stores it in the result variable.\n",
    "print(f\"{num} x {i} = {result}\"): This line uses an f-string to print each multiplication step. It displays the multiplication in the format \"{num} x {i} = {result}\" with the actual values of num, i, and result substituted in."
   ]
  },
  {
   "cell_type": "code",
   "execution_count": 7,
   "id": "9feeb83f",
   "metadata": {},
   "outputs": [
    {
     "name": "stdout",
     "output_type": "stream",
     "text": [
      "Count of even numbers: 5\n",
      "Count of odd numbers: 4\n"
     ]
    }
   ],
   "source": [
    "# Question 6\n",
    "# Write a program that counts the number of even and odd numbers in a list using a `for` loop.\n",
    "numbers = [2, 7, 4, 9, 6, 5, 8, 12, 15]\n",
    "\n",
    "even_count = 0\n",
    "odd_count = 0\n",
    "\n",
    "for number in numbers:\n",
    "    if number % 2 == 0:\n",
    "        even_count += 1\n",
    "    else:\n",
    "        odd_count += 1\n",
    "\n",
    "print(\"Count of even numbers:\", even_count)\n",
    "print(\"Count of odd numbers:\", odd_count)"
   ]
  },
  {
   "cell_type": "markdown",
   "id": "5197af20",
   "metadata": {},
   "source": [
    "This Python program counts the number of even and odd numbers in a list using a for loop. Here's an explanation of each part of the code:\n",
    "\n",
    "1.numbers = [2, 7, 4, 9, 6, 5, 8, 12, 15]: This line defines a list named numbers that contains various integers.\n",
    "\n",
    "2.even_count = 0 and odd_count = 0: These lines initialize two variables, even_count and odd_count, to 0. These variables will be used to keep track of the counts of even and odd numbers, respectively.\n",
    "\n",
    "3.The for loop: The loop iterates through each number in the numbers list.\n",
    "for number in numbers:: This line initiates the loop, and for each iteration, the current number in the numbers list is assigned to the number variable.\n",
    "if number % 2 == 0:: Inside the loop, it checks if the current number is even. The condition number % 2 == 0 checks if the number is divisible by 2 without a remainder, indicating it's even.\n",
    "If the condition is met, even_count is incremented by 1 using even_count += 1, indicating that an even number has been found.\n",
    "If the condition is not met (i.e., the number is odd), odd_count is incremented by 1 using odd_count += 1, indicating that an odd number has been found.\n",
    "\n",
    "4.print(\"Count of even numbers:\", even_count): After the loop has processed all numbers, this line prints the count of even numbers.\n",
    "\n",
    "5.print(\"Count of odd numbers:\", odd_count): Similarly, this line prints the count of odd numbers."
   ]
  },
  {
   "cell_type": "code",
   "execution_count": 8,
   "id": "0af39b2a",
   "metadata": {},
   "outputs": [
    {
     "name": "stdout",
     "output_type": "stream",
     "text": [
      "The square of 1 is 1\n",
      "The square of 2 is 4\n",
      "The square of 3 is 9\n",
      "The square of 4 is 16\n",
      "The square of 5 is 25\n"
     ]
    }
   ],
   "source": [
    "# Question 7\n",
    "# Develop a program that prints the squares of numbers from 1 to 5 using a `for` loop.\n",
    "for i in range(1, 6):\n",
    "    square = i * i\n",
    "    print(f\"The square of {i} is {square}\")"
   ]
  },
  {
   "cell_type": "markdown",
   "id": "f64617e2",
   "metadata": {},
   "source": [
    "This Python program prints the squares of numbers from 1 to 5 using a for loop. Here's an explanation of each part of the code:\n",
    "\n",
    "1.The for loop: The loop iterates through the numbers from 1 to 5.\n",
    "for i in range(1, 6):: This line initiates a for loop that iterates through the numbers from 1 to 5. The loop variable i represents the current number in this range.\n",
    "square = i * i: Inside the loop, it calculates the square of the current value of i by multiplying it by itself and stores it in the square variable.\n",
    "print(f\"The square of {i} is {square}\"): This line uses an f-string to print each square. It displays the square in the format \"The square of {i} is {square}\" with the actual values of i and square substituted in."
   ]
  },
  {
   "cell_type": "code",
   "execution_count": 9,
   "id": "b1c2b6dc",
   "metadata": {},
   "outputs": [
    {
     "name": "stdout",
     "output_type": "stream",
     "text": [
      "Enter a string: Arpan\n",
      "The length of the string is: 5\n"
     ]
    }
   ],
   "source": [
    "# Question 8\n",
    "# Create a program to find the length of a string without using the `len()` function.\n",
    "input_string = input(\"Enter a string: \")\n",
    "length = 0\n",
    "\n",
    "for char in input_string:\n",
    "    length += 1\n",
    "\n",
    "print(f\"The length of the string is: {length}\")"
   ]
  },
  {
   "cell_type": "markdown",
   "id": "d787eb58",
   "metadata": {},
   "source": [
    "This Python program finds the length of a string entered by the user without using the len() function. Here's an explanation of each part of the code:\n",
    "\n",
    "1.input_string = input(\"Enter a string: \"): This line prompts the user to enter a string, and the input is read and stored in the input_string variable.\n",
    "\n",
    "2.length = 0: This line initializes a variable called length to 0. This variable will be used to store the length of the input string.\n",
    "\n",
    "3.The for loop: The loop iterates through each character in the input_string.\n",
    "for char in input_string:: This line initiates the loop, and for each iteration, the current character in the input_string is assigned to the char variable.\n",
    "length += 1: Inside the loop, the length variable is incremented by 1 for each character, effectively counting the characters in the string.\n",
    "\n",
    "4.print(f\"The length of the string is: {length}\"): After the loop has counted all the characters, this line prints the result. It displays the message \"The length of the string is: {length}\" with the actual value of length substituted in."
   ]
  },
  {
   "cell_type": "code",
   "execution_count": 10,
   "id": "32dd8eb8",
   "metadata": {},
   "outputs": [
    {
     "name": "stdout",
     "output_type": "stream",
     "text": [
      "Average: 7.2\n"
     ]
    }
   ],
   "source": [
    "# Question 9\n",
    "# Write a program that calculates the average of a list of numbers using a `for` loop.\n",
    "numbers = [3, 7, 12, 5, 9]\n",
    "total = 0\n",
    "count = 0\n",
    "\n",
    "for number in numbers:\n",
    "    total += number\n",
    "    count += 1\n",
    "\n",
    "if count == 0:\n",
    "    average = 0\n",
    "else:\n",
    "    average = total / count\n",
    "\n",
    "print(\"Average:\", average)"
   ]
  },
  {
   "cell_type": "markdown",
   "id": "ecada95f",
   "metadata": {},
   "source": [
    "This Python program calculates the average of a list of numbers using a for loop. Here's an explanation of each part of the code:\n",
    "\n",
    "1.numbers = [3, 7, 12, 5, 9]: This line defines a list named numbers that contains a sequence of numbers.\n",
    "\n",
    "2.total = 0 and count = 0: These lines initialize two variables, total and count, to 0. These variables will be used to keep track of the total sum of numbers and the count of numbers in the list, respectively.\n",
    "\n",
    "3.The for loop: The loop iterates through each number in the numbers list.\n",
    "for number in numbers:: This line initiates the loop, and for each iteration, the current number in the numbers list is assigned to the number variable.\n",
    "total += number and count += 1: Inside the loop, it calculates the running total by adding the current number to the total and increments the count by 1 to keep track of how many numbers have been processed.\n",
    "\n",
    "4.The conditional statements: These conditions handle the case where the list is empty.\n",
    "if count == 0:: This condition checks if the count is 0, which means there are no numbers in the list. In this case, it sets the average to 0 to avoid division by zero.\n",
    "Else, it calculates the average by dividing the total by the count.\n",
    "\n",
    "5.print(\"Average:\", average): After processing all the numbers, this line prints the calculated average."
   ]
  },
  {
   "cell_type": "code",
   "execution_count": 13,
   "id": "b32462e1",
   "metadata": {},
   "outputs": [
    {
     "name": "stdout",
     "output_type": "stream",
     "text": [
      "Enter the value of n: 10\n",
      "The first 10 Fibonacci numbers are:\n",
      "0 1 1 2 3 5 8 13 21 34 "
     ]
    }
   ],
   "source": [
    "# Question 10\n",
    "# Develop a program that prints the first `n` Fibonacci numbers using a `for` loop.\n",
    "n = int(input(\"Enter the value of n: \"))\n",
    "fibonacci_numbers = [0, 1]\n",
    "\n",
    "for i in range(2, n):\n",
    "    next_fibonacci = fibonacci_numbers[i-1] + fibonacci_numbers[i-2]\n",
    "    fibonacci_numbers.append(next_fibonacci)\n",
    "\n",
    "print(f\"The first {n} Fibonacci numbers are:\")\n",
    "for num in fibonacci_numbers[:n]:\n",
    "    print(num, end=' ')"
   ]
  },
  {
   "cell_type": "markdown",
   "id": "8777623d",
   "metadata": {},
   "source": [
    "This Python program prints the first n Fibonacci numbers using a for loop. Here's an explanation of each part of the code:\n",
    "\n",
    "1.n = int(input(\"Enter the value of n: \")): This line prompts the user to enter the value of n, which represents how many Fibonacci numbers they want to generate. The input is read as an integer and stored in the n variable.\n",
    "\n",
    "2.fibonacci_numbers = [0, 1]: This line initializes a list called fibonacci_numbers with the first two Fibonacci numbers, 0 and 1. These are used as starting points for generating the rest of the Fibonacci sequence.\n",
    "\n",
    "3.The for loop: This loop generates the Fibonacci numbers and stores them in the fibonacci_numbers list.\n",
    "for i in range(2, n): This line initiates a for loop that starts from the third Fibonacci number (index 2) and goes up to the n-th number.\n",
    "next_fibonacci = fibonacci_numbers[i-1] + fibonacci_numbers[i-2]: Inside the loop, it calculates the next Fibonacci number by adding the two previous Fibonacci numbers. The Fibonacci sequence is generated by adding the last two numbers to get the next one.\n",
    "fibonacci_numbers.append(next_fibonacci): The next_fibonacci is added to the fibonacci_numbers list to store the newly generated number.\n",
    "\n",
    "4.Printing the Fibonacci numbers: After generating the sequence, the program prints the first n Fibonacci numbers.\n",
    "print(f\"The first {n} Fibonacci numbers are:\"): This line prints a message indicating that it's displaying the first n Fibonacci numbers using an f-string.\n",
    "for num in fibonacci_numbers[:n]:: This line initiates a for loop that iterates through the first n Fibonacci numbers.\n",
    "print(num, end=' '): Inside the loop, each Fibonacci number is printed, separated by a space and without a newline character (thanks to end=' '). This allows the numbers to be printed on the same line."
   ]
  },
  {
   "cell_type": "markdown",
   "id": "2bbcbabe",
   "metadata": {},
   "source": [
    "# Intermediate Level"
   ]
  },
  {
   "cell_type": "code",
   "execution_count": 14,
   "id": "cbd1bb34",
   "metadata": {},
   "outputs": [
    {
     "name": "stdout",
     "output_type": "stream",
     "text": [
      "The list contains duplicates.\n"
     ]
    }
   ],
   "source": [
    "# Question 11\n",
    "# Write a program to check if a given list contains any duplicates using a `for` loop.\n",
    "my_list = [3, 7, 2, 5, 7, 9]\n",
    "has_duplicates = False\n",
    "\n",
    "for i in range(len(my_list)):\n",
    "    for j in range(i + 1, len(my_list)):\n",
    "        if my_list[i] == my_list[j]:\n",
    "            has_duplicates = True\n",
    "            break\n",
    "    if has_duplicates:\n",
    "        break\n",
    "\n",
    "if has_duplicates:\n",
    "    print(\"The list contains duplicates.\")\n",
    "else:\n",
    "    print(\"The list does not contain duplicates.\")"
   ]
  },
  {
   "cell_type": "markdown",
   "id": "c4654d26",
   "metadata": {},
   "source": [
    "This Python program checks if a given list contains any duplicates using a for loop. Here's an explanation of each part of the code:\n",
    "\n",
    "1.my_list = [3, 7, 2, 5, 7, 9]: This line defines a list named my_list that contains several elements, including some duplicates.\n",
    "\n",
    "2.has_duplicates = False: This line initializes a boolean variable has_duplicates to False. This variable will be used to keep track of whether duplicates have been found in the list.\n",
    "\n",
    "3.The nested for loops: These loops compare each pair of elements in the list to check for duplicates.\n",
    "for i in range(len(my_list)):: The outer loop iterates through the indices of elements in the list. The variable i represents the index of the first element in a potential pair.\n",
    "for j in range(i + 1, len(my_list)):: The inner loop iterates through the indices of elements that come after the element at index i. The variable j represents the index of the second element in the pair.\n",
    "if my_list[i] == my_list[j]:: Inside the inner loop, it checks if the elements at indices i and j are equal, indicating a duplicate.\n",
    "If a duplicate is found, has_duplicates is set to True, and the loop breaks to avoid further unnecessary comparisons.\n",
    "After the inner loop, the code checks if has_duplicates is True. If it is, this means that a duplicate has been found, and the outer loop breaks as well.\n",
    "\n",
    "4.The final conditional statements: These conditions determine whether the list contains duplicates and print an appropriate message.\n",
    "if has_duplicates:: This condition checks if has_duplicates is True, indicating that duplicates have been found.\n",
    "If duplicates are found, it prints \"The list contains duplicates.\"\n",
    "else:: If has_duplicates is still `False, indicating no duplicates have been found.\n",
    "In this case, it prints \"The list does not contain duplicates.\""
   ]
  },
  {
   "cell_type": "code",
   "execution_count": 15,
   "id": "6b09ae6f",
   "metadata": {},
   "outputs": [
    {
     "name": "stdout",
     "output_type": "stream",
     "text": [
      "Enter the start of the range: 1\n",
      "Enter the end of the range: 50\n",
      "Prime numbers in the range from 1 to 50 are:\n",
      "2 3 5 7 11 13 17 19 23 29 31 37 41 43 47 "
     ]
    }
   ],
   "source": [
    "# Question 12\n",
    "# Create a program that prints the prime numbers in a given range using a `for` loop.\n",
    "start = int(input(\"Enter the start of the range: \"))\n",
    "end = int(input(\"Enter the end of the range: \"))\n",
    "\n",
    "def is_prime(num):\n",
    "    if num <= 1:\n",
    "        return False\n",
    "    for i in range(2, int(num**0.5) + 1):\n",
    "        if num % i == 0:\n",
    "            return False\n",
    "    return True\n",
    "\n",
    "print(\"Prime numbers in the range from\", start, \"to\", end, \"are:\")\n",
    "for number in range(start, end + 1):\n",
    "    if is_prime(number):\n",
    "        print(number, end=' ') "
   ]
  },
  {
   "cell_type": "markdown",
   "id": "f31f364d",
   "metadata": {},
   "source": [
    "This Python program prints the prime numbers within a given range using a for loop. Here's an explanation of each part of the code:\n",
    "\n",
    "1.start = int(input(\"Enter the start of the range: \")) and end = int(input(\"Enter the end of the range: \")): These lines prompt the user to enter the start and end of the range within which prime numbers should be found. The inputs are read as integers and stored in the start and end variables.\n",
    "\n",
    "2.def is_prime(num): This line defines a function called is_prime that takes a number num as an argument and checks if it's a prime number. The function uses a common algorithm to determine primality:\n",
    "If num is less than or equal to 1, it immediately returns False because prime numbers are greater than 1.\n",
    "It then iterates through numbers from 2 to the square root of num using a for loop to check for divisibility.\n",
    "If num is divisible by any number in that range, it returns False, indicating that the number is not prime.\n",
    "If no divisors are found, it returns True, indicating that the number is prime.\n",
    "\n",
    "3.print(\"Prime numbers in the range from\", start, \"to\", end, \"are:\"): This line prints a message indicating the range within which prime numbers will be found.\n",
    "\n",
    "4.The for loop: This loop iterates through numbers within the specified range.\n",
    "for number in range(start, end + 1):: The loop starts from the start and goes up to and including the end.\n",
    "if is_prime(number):: Inside the loop, it calls the is_prime function to check if the current number is prime.\n",
    "If a number is prime, it prints the number using print(number, end=' '). The end=' ' part ensures that the prime numbers are printed on the same line with a space separator."
   ]
  },
  {
   "cell_type": "code",
   "execution_count": 17,
   "id": "4d9b11a4",
   "metadata": {},
   "outputs": [
    {
     "name": "stdout",
     "output_type": "stream",
     "text": [
      "Enter a string: My name is Arpan\n",
      "The number of vowels in the string is: 5\n"
     ]
    }
   ],
   "source": [
    "# Question 13\n",
    "# Develop a program that counts the number of vowels in a string using a `for` loop.\n",
    "input_string = input(\"Enter a string: \")\n",
    "vowel_count = 0\n",
    "\n",
    "input_string = input_string.lower()\n",
    "vowels = set(\"aeiou\")\n",
    "\n",
    "for char in input_string:\n",
    "    if char in vowels:\n",
    "        vowel_count += 1\n",
    "\n",
    "print(f\"The number of vowels in the string is: {vowel_count}\")"
   ]
  },
  {
   "cell_type": "markdown",
   "id": "86590b87",
   "metadata": {},
   "source": [
    "This Python program counts the number of vowels in a string entered by the user using a for loop. Here's an explanation of each part of the code:\n",
    "\n",
    "1.input_string = input(\"Enter a string: \"): This line prompts the user to enter a string, and the input is read and stored in the input_string variable.\n",
    "\n",
    "2.vowel_count = 0: This line initializes a variable called vowel_count to 0. This variable will be used to keep track of the count of vowels in the input string.\n",
    "\n",
    "3.input_string = input_string.lower(): This line converts the entire input_string to lowercase. This step ensures that both uppercase and lowercase vowels are counted correctly, as the comparison is case-insensitive.\n",
    "\n",
    "4.vowels = set(\"aeiou\"): This line creates a set called vowels containing the five lowercase vowel characters ('a', 'e', 'i', 'o', 'u'). The set data structure is used for efficient membership testing.\n",
    "\n",
    "5.The for loop: This loop iterates through each character in the input_string.\n",
    "for char in input_string:: This line initiates the loop, and for each iteration, the current character in the input_string is assigned to the char variable.\n",
    "if char in vowels:: Inside the loop, it checks if the char variable (the current character) is a vowel. It does this by testing if char is in the vowels set.\n",
    "If the character is a vowel, it increments the vowel_count by 1.\n",
    "\n",
    "6.print(f\"The number of vowels in the string is: {vowel_count}\"): After processing all the characters in the input string, this line prints the result. It displays the count of vowels in the string with a suitable message."
   ]
  },
  {
   "cell_type": "code",
   "execution_count": 134,
   "id": "4b87554c",
   "metadata": {},
   "outputs": [
    {
     "name": "stdout",
     "output_type": "stream",
     "text": [
      "The maximum element in the 2D list is: 9\n"
     ]
    }
   ],
   "source": [
    "# Question 14\n",
    "# Write a program to find the maximum element in a 2D list using a nested `for` loop.\n",
    "matrix = [\n",
    "    [1,2,3],\n",
    "    [4,5,6],\n",
    "    [7,8,9]\n",
    "]\n",
    "max_element = matrix[0][0]\n",
    "for row in matrix:\n",
    "    for element in row:\n",
    "        if element > max_element:\n",
    "            max_element = element\n",
    "print(f\"The maximum element in the 2D list is: {max_element}\")"
   ]
  },
  {
   "cell_type": "markdown",
   "id": "ecfe67cf",
   "metadata": {},
   "source": [
    "This Python program finds the maximum element in a 2D list using nested for loops. Here's an explanation of each part of the code:\n",
    "\n",
    "1.matrix is a 2D list containing multiple rows and columns of elements.\n",
    "\n",
    "2.max_element = matrix[0][0] initializes a variable max_element with the value of the first element in the 2D list, which is 1 in this case. This serves as the initial assumption that the first element is the maximum.\n",
    "\n",
    "3.The nested for loops: These loops iterate through each element in the 2D list to find the maximum element.\n",
    "for row in matrix:: The outer loop iterates through each row in the matrix. It assigns the current row to the row variable.\n",
    "for element in row:: The inner loop iterates through each element in the current row. It assigns the current element to the element variable.\n",
    "if element > max_element:: Inside the inner loop, it checks if the element is greater than the current max_element.\n",
    "If the element is greater, it updates the max_element with the new value found in that element.\n",
    "\n",
    "4.print(f\"The maximum element in the 2D list is: {max_element}\") prints the result, indicating the maximum element found in the 2D list."
   ]
  },
  {
   "cell_type": "code",
   "execution_count": 21,
   "id": "d60fcac2",
   "metadata": {},
   "outputs": [
    {
     "name": "stdout",
     "output_type": "stream",
     "text": [
      "Enter the element to remove: 4\n",
      "List after removing all occurrences of 4 : [1, 2, 3, 2, 2, 5]\n"
     ]
    }
   ],
   "source": [
    "# Question 15\n",
    "# Create a program that removes all occurrences of a specific element from a list using a `for` loop.\n",
    "my_list = [1, 2, 3, 2, 4, 2, 5]\n",
    "element_to_remove = int(input(\"Enter the element to remove: \"))\n",
    "\n",
    "for element in my_list[:]:\n",
    "    if element == element_to_remove:\n",
    "        my_list.remove(element)\n",
    "\n",
    "print(\"List after removing all occurrences of\", element_to_remove, \":\", my_list)"
   ]
  },
  {
   "cell_type": "markdown",
   "id": "ce360c91",
   "metadata": {},
   "source": [
    "This Python program removes all occurrences of a specific element from a list using a for loop. Here's an explanation of each part of the code:\n",
    "\n",
    "1.my_list is a list that contains multiple elements, including some occurrences of the element to be removed.\n",
    "\n",
    "2.element_to_remove = int(input(\"Enter the element to remove: \")) prompts the user to enter the element they want to remove from the list. The input is read as an integer and stored in the element_to_remove variable.\n",
    "\n",
    "3.The for loop: This loop iterates through each element in the list to find and remove the specified element.\n",
    "for element in my_list[:]: The [:] slicing notation is used to create a copy of the list, which is important because you shouldn't modify a list while iterating over it.\n",
    "if element == element_to_remove:: Inside the loop, it checks if the current element is equal to the element_to_remove.\n",
    "If the current element matches the one to be removed, it removes that element from the original list using my_list.remove(element).\n",
    "\n",
    "4.print(\"List after removing all occurrences of\", element_to_remove, \":\", my_list): After removing all occurrences of the specified element, this line prints the updated list to show the result."
   ]
  },
  {
   "cell_type": "code",
   "execution_count": 22,
   "id": "4d851fa4",
   "metadata": {},
   "outputs": [
    {
     "name": "stdout",
     "output_type": "stream",
     "text": [
      "Multiplication table for 1:\n",
      "1 x 1 = 1\n",
      "1 x 2 = 2\n",
      "1 x 3 = 3\n",
      "1 x 4 = 4\n",
      "1 x 5 = 5\n",
      "1 x 6 = 6\n",
      "1 x 7 = 7\n",
      "1 x 8 = 8\n",
      "1 x 9 = 9\n",
      "1 x 10 = 10\n",
      "\n",
      "Multiplication table for 2:\n",
      "2 x 1 = 2\n",
      "2 x 2 = 4\n",
      "2 x 3 = 6\n",
      "2 x 4 = 8\n",
      "2 x 5 = 10\n",
      "2 x 6 = 12\n",
      "2 x 7 = 14\n",
      "2 x 8 = 16\n",
      "2 x 9 = 18\n",
      "2 x 10 = 20\n",
      "\n",
      "Multiplication table for 3:\n",
      "3 x 1 = 3\n",
      "3 x 2 = 6\n",
      "3 x 3 = 9\n",
      "3 x 4 = 12\n",
      "3 x 5 = 15\n",
      "3 x 6 = 18\n",
      "3 x 7 = 21\n",
      "3 x 8 = 24\n",
      "3 x 9 = 27\n",
      "3 x 10 = 30\n",
      "\n",
      "Multiplication table for 4:\n",
      "4 x 1 = 4\n",
      "4 x 2 = 8\n",
      "4 x 3 = 12\n",
      "4 x 4 = 16\n",
      "4 x 5 = 20\n",
      "4 x 6 = 24\n",
      "4 x 7 = 28\n",
      "4 x 8 = 32\n",
      "4 x 9 = 36\n",
      "4 x 10 = 40\n",
      "\n",
      "Multiplication table for 5:\n",
      "5 x 1 = 5\n",
      "5 x 2 = 10\n",
      "5 x 3 = 15\n",
      "5 x 4 = 20\n",
      "5 x 5 = 25\n",
      "5 x 6 = 30\n",
      "5 x 7 = 35\n",
      "5 x 8 = 40\n",
      "5 x 9 = 45\n",
      "5 x 10 = 50\n",
      "\n"
     ]
    }
   ],
   "source": [
    "# Question 16\n",
    "# Develop a program that generates a multiplication table for numbers from 1 to 5 using a nested `for` loop.\n",
    "start = 1\n",
    "end = 5\n",
    "\n",
    "for i in range(start, end + 1):\n",
    "    print(f\"Multiplication table for {i}:\")\n",
    "    for j in range(1, 11):\n",
    "        result = i * j\n",
    "        print(f\"{i} x {j} = {result}\")\n",
    "    print()"
   ]
  },
  {
   "cell_type": "markdown",
   "id": "44ed3e52",
   "metadata": {},
   "source": [
    "This Python program generates a multiplication table for numbers from 1 to 5 using nested for loops. Here's an explanation of each part of the code:\n",
    "\n",
    "1.start = 1 and end = 5 define the range for which you want to create multiplication tables, from 1 to 5.\n",
    "\n",
    "2.The outer for loop: This loop iterates through the numbers within the specified range.\n",
    "for i in range(start, end + 1):: The loop starts from start (1) and goes up to and including end (5).\n",
    "print(f\"Multiplication table for {i}:\") prints a header for the multiplication table of the current number i.\n",
    "\n",
    "3.The inner for loop: Inside the outer loop, this loop generates the multiplication table for the current number.\n",
    "for j in range(1, 11):: The inner loop iterates from 1 to 10.\n",
    "result = i * j calculates the multiplication result for the current row in the table.\n",
    "print(f\"{i} x {j} = {result}\") prints each multiplication equation and its result, such as \"1 x 1 = 1,\" \"1 x 2 = 2,\" and so on.\n",
    "\n",
    "4.print(): After generating the multiplication table for one number, an empty line is printed to separate it from the next multiplication table."
   ]
  },
  {
   "cell_type": "code",
   "execution_count": 23,
   "id": "3bc47606",
   "metadata": {},
   "outputs": [
    {
     "name": "stdout",
     "output_type": "stream",
     "text": [
      "Fahrenheit Temperatures: [32, 68, 86, 104, 122]\n",
      "Celsius Temperatures: [0.0, 20.0, 30.0, 40.0, 50.0]\n"
     ]
    }
   ],
   "source": [
    "# Question 17\n",
    "# Write a program that converts a list of Fahrenheit temperatures to Celsius using a `for` loop.\n",
    "fahrenheit_temperatures = [32, 68, 86, 104, 122]\n",
    "celsius_temperatures = []\n",
    "\n",
    "for fahrenheit in fahrenheit_temperatures:\n",
    "    celsius = (fahrenheit - 32) * 5/9\n",
    "    celsius_temperatures.append(celsius)\n",
    "\n",
    "print(\"Fahrenheit Temperatures:\", fahrenheit_temperatures)\n",
    "print(\"Celsius Temperatures:\", celsius_temperatures)"
   ]
  },
  {
   "cell_type": "markdown",
   "id": "689dbc6a",
   "metadata": {},
   "source": [
    "This Python program converts a list of Fahrenheit temperatures to Celsius using a for loop. Here's an explanation of each part of the code:\n",
    "\n",
    "1.fahrenheit_temperatures is a list containing Fahrenheit temperature values that you want to convert to Celsius.\n",
    "\n",
    "2.celsius_temperatures is an empty list that will store the converted Celsius temperature values.\n",
    "\n",
    "3.The for loop: This loop iterates through each Fahrenheit temperature in the fahrenheit_temperatures list and performs the conversion to Celsius for each temperature.\n",
    "for fahrenheit in fahrenheit_temperatures:: The loop iterates through the list, and for each iteration, the current Fahrenheit temperature is assigned to the fahrenheit variable.\n",
    "celsius = (fahrenheit - 32) * 5/9: Inside the loop, it calculates the equivalent Celsius temperature using the formula for Fahrenheit to Celsius conversion. It then assigns the result to the celsius variable.\n",
    "celsius_temperatures.append(celsius): After the conversion, the celsius value is added to the celsius_temperatures list, effectively building a list of converted Celsius temperatures.\n",
    "\n",
    "4.print(\"Fahrenheit Temperatures:\", fahrenheit_temperatures): This line prints the original Fahrenheit temperatures.\n",
    "\n",
    "5.print(\"Celsius Temperatures:\", celsius_temperatures): This line prints the converted Celsius temperatures."
   ]
  },
  {
   "cell_type": "code",
   "execution_count": 24,
   "id": "1de3a8db",
   "metadata": {},
   "outputs": [
    {
     "name": "stdout",
     "output_type": "stream",
     "text": [
      "Common elements: [3, 4, 5]\n"
     ]
    }
   ],
   "source": [
    "# Question 18\n",
    "# Create a program to print the common elements from two lists using a `for` loop.\n",
    "list1 = [1, 2, 3, 4, 5]\n",
    "list2 = [3, 4, 5, 6, 7]\n",
    "\n",
    "common_elements = []\n",
    "\n",
    "for element1 in list1:\n",
    "    for element2 in list2:\n",
    "        if element1 == element2:\n",
    "            common_elements.append(element1)\n",
    "\n",
    "print(\"Common elements:\", common_elements)"
   ]
  },
  {
   "cell_type": "markdown",
   "id": "024820e1",
   "metadata": {},
   "source": [
    "This Python program finds and prints the common elements from two lists using a for loop. Here's an explanation of each part of the code:\n",
    "\n",
    "1.list1 and list2 are two lists containing elements. You want to find the common elements between these two lists.\n",
    "\n",
    "2.common_elements is an empty list that will store the common elements found in list1 and list2.\n",
    "\n",
    "3.The nested for loops: These loops iterate through each element in both lists to find common elements.\n",
    "The outer for loop iterates through list1.\n",
    "for element1 in list1:: For each iteration, the current element from list1 is assigned to the variable element1.\n",
    "The inner for loop iterates through list2.\n",
    "for element2 in list2:: For each iteration, the current element from list2 is assigned to the variable element2.\n",
    "if element1 == element2:: Inside the inner loop, it checks if the current element from list1 (element1) is equal to the current element from list2 (element2).\n",
    "If they are equal, it means the elements are common between the two lists, and the common element (element1) is appended to the common_elements list.\n",
    "\n",
    "4.print(\"Common elements:\", common_elements): After completing the nested loops, this line prints the list of common elements found in both list1 and list2."
   ]
  },
  {
   "cell_type": "code",
   "execution_count": 25,
   "id": "500887e8",
   "metadata": {},
   "outputs": [
    {
     "name": "stdout",
     "output_type": "stream",
     "text": [
      "Enter the number of rows for the right-angled triangle: 5\n",
      "* \n",
      "* * \n",
      "* * * \n",
      "* * * * \n",
      "* * * * * \n"
     ]
    }
   ],
   "source": [
    "# Question 19\n",
    "# Develop a program that prints the pattern of right-angled triangles using a `for` loop. Use ‘*’ to draw the pattern.\n",
    "num_rows = int(input(\"Enter the number of rows for the right-angled triangle: \"))\n",
    "\n",
    "for i in range(1, num_rows + 1):\n",
    "    for j in range(1, i + 1):\n",
    "        print('*', end=' ')\n",
    "    print()"
   ]
  },
  {
   "cell_type": "markdown",
   "id": "2ab1a167",
   "metadata": {},
   "source": [
    "This Python program prints a right-angled triangle pattern using asterisks ('*') and a for loop. Here's an explanation of each part of the code:\n",
    "\n",
    "1.num_rows is a variable that stores the number of rows you want in the right-angled triangle. It is obtained as user input using input().\n",
    "\n",
    "2.The outer for loop: This loop controls the number of rows in the right-angled triangle.\n",
    "for i in range(1, num_rows + 1):: The loop starts from 1 and goes up to num_rows, which is the user-defined number of rows.\n",
    "\n",
    "3.The inner for loop: This loop is responsible for printing the asterisks in each row to form the right-angled triangle.\n",
    "for j in range(1, i + 1):: The inner loop iterates from 1 to i + 1, where i represents the current row number in the outer loop.\n",
    "print('*', end=' '): Inside the inner loop, it prints an asterisk ('*') followed by a space, all on the same line, without moving to the next line. This forms the pattern for each row.\n",
    "\n",
    "4.print(): After completing the inner loop for each row, this line prints an empty line to move to the next row."
   ]
  },
  {
   "cell_type": "code",
   "execution_count": 28,
   "id": "bc74f11f",
   "metadata": {},
   "outputs": [
    {
     "name": "stdout",
     "output_type": "stream",
     "text": [
      "Enter the first number: 36\n",
      "Enter the second number: 48\n",
      "The GCD of 36 and 48 is: 12\n"
     ]
    }
   ],
   "source": [
    "# Question 20\n",
    "# Write a program to find the greatest common divisor (GCD) of two numbers using a `for` loop.\n",
    "num1 = int(input(\"Enter the first number: \"))\n",
    "num2 = int(input(\"Enter the second number: \"))\n",
    "\n",
    "gcd = 1\n",
    "\n",
    "for i in range(1, min(num1, num2) + 1):\n",
    "    if num1 % i == 0 and num2 % i == 0:\n",
    "        gcd = i\n",
    "\n",
    "print(f\"The GCD of {num1} and {num2} is: {gcd}\")"
   ]
  },
  {
   "cell_type": "markdown",
   "id": "c0fa4f82",
   "metadata": {},
   "source": [
    "This Python program calculates the greatest common divisor (GCD) of two numbers using a for loop. Here's an explanation of each part of the code:\n",
    "\n",
    "1.num1 and num2 are variables that store the two numbers for which you want to find the GCD. You input these numbers using input().\n",
    "\n",
    "2.gcd is initially set to 1. It will be updated within the for loop to store the GCD.\n",
    "\n",
    "3.The for loop: This loop iterates from 1 to the minimum of num1 and num2. The GCD is always less than or equal to the smaller of the two numbers.\n",
    "for i in range(1, min(num1, num2) + 1):: The loop iterates from 1 to the minimum of num1 and num2, inclusively.\n",
    "\n",
    "4.if num1 % i == 0 and num2 % i == 0:: Inside the loop, it checks if i is a common divisor of both num1 and num2. This is done by verifying if both num1 and num2 are divisible by i without any remainder.\n",
    "If i is a common divisor, it updates the gcd variable to store i.\n",
    "\n",
    "5.print(f\"The GCD of {num1} and {num2} is: {gcd}\"): After completing the for loop, this line prints the GCD of the two input numbers."
   ]
  },
  {
   "cell_type": "markdown",
   "id": "b7a65b5b",
   "metadata": {},
   "source": [
    "# Advanced Level"
   ]
  },
  {
   "cell_type": "code",
   "execution_count": 29,
   "id": "3deee8ed",
   "metadata": {},
   "outputs": [
    {
     "name": "stdout",
     "output_type": "stream",
     "text": [
      "Number: 123, Sum of Digits: 6\n",
      "Number: 45, Sum of Digits: 9\n",
      "Number: 678, Sum of Digits: 21\n",
      "Number: 9, Sum of Digits: 9\n",
      "Number: 12, Sum of Digits: 3\n"
     ]
    }
   ],
   "source": [
    "# Question 21\n",
    "# Create a program that calculates the sum of the digits of numbers in a list using a list comprehension.\n",
    "numbers = [123, 45, 678, 9, 12]\n",
    "digit_sums = [sum(int(digit) for digit in str(number)) for number in numbers]\n",
    "\n",
    "for i in range(len(numbers)):\n",
    "    print(f\"Number: {numbers[i]}, Sum of Digits: {digit_sums[i]}\")"
   ]
  },
  {
   "cell_type": "markdown",
   "id": "ebf01ae1",
   "metadata": {},
   "source": [
    "This Python program calculates the sum of the digits of numbers in a list using list comprehension. Here's an explanation of each part of the code:\n",
    "\n",
    "1.numbers is a list containing integers. You want to calculate the sum of digits for each number in the list.\n",
    "\n",
    "2.digit_sums is a list comprehension that calculates the sum of digits for each number in the numbers list.\n",
    "[sum(int(digit) for digit in str(number)) for number in numbers]: This list comprehension iterates through each number in the numbers list.\n",
    "str(number) converts the integer into a string so that you can iterate through its digits.\n",
    "int(digit) converts each digit (character) back to an integer for summation.\n",
    "sum(...) calculates the sum of the individual digits for each number.\n",
    "The result is a new list, digit_sums, which contains the sum of digits for each number in the original numbers list.\n",
    "\n",
    "3.The for loop: This loop is used to print the numbers along with their respective sum of digits.\n",
    "for i in range(len(numbers)):: It iterates through the indices of the numbers list using the variable i.\n",
    "print(f\"Number: {numbers[i]}, Sum of Digits: {digit_sums[i]}\"): Inside the loop, it prints each number from the numbers list and its corresponding sum of digits from the digit_sums list."
   ]
  },
  {
   "cell_type": "code",
   "execution_count": 30,
   "id": "e8679d44",
   "metadata": {},
   "outputs": [
    {
     "name": "stdout",
     "output_type": "stream",
     "text": [
      "Enter a number: 314\n",
      "Prime factors of 314 are: [2, 157]\n"
     ]
    }
   ],
   "source": [
    "# Question 22\n",
    "# Write a program to find the prime factors of a given number using a `for` loop and list comprehension.\n",
    "number = int(input(\"Enter a number: \"))\n",
    "prime_factors = [i for i in range(2, number + 1) if number % i == 0 and all(i % j != 0 for j in range(2, i))]\n",
    "print(f\"Prime factors of {number} are: {prime_factors}\")"
   ]
  },
  {
   "cell_type": "markdown",
   "id": "fc0e3123",
   "metadata": {},
   "source": [
    "This Python program finds the prime factors of a given number using a for loop and list comprehension. Here's an explanation of each part of the code:\n",
    "\n",
    "1.number is a variable that stores the number for which you want to find the prime factors. You input this number using input().\n",
    "\n",
    "2.prime_factors is a list comprehension that calculates the prime factors of the given number.\n",
    "[i for i in range(2, number + 1) if number % i == 0 and all(i % j != 0 for j in range(2, i))]: This list comprehension iterates through numbers from 2 to the given number, inclusively.\n",
    "For each i in this range:\n",
    "number % i == 0 checks if i is a factor of the given number. If it is, it proceeds to the next condition.\n",
    "all(i % j != 0 for j in range(2, i)) checks if i is a prime number by verifying that it's not divisible by any number j from 2 to i - 1.\n",
    "The result is a list, prime_factors, which contains the prime factors of the given number.\n",
    "\n",
    "3.print(f\"Prime factors of {number} are: {prime_factors}\"): This line prints the prime factors of the input number."
   ]
  },
  {
   "cell_type": "code",
   "execution_count": 38,
   "id": "0f140aee",
   "metadata": {},
   "outputs": [
    {
     "name": "stdout",
     "output_type": "stream",
     "text": [
      "Original list: [1, 2, 2, 3, 4, 4, 5, 5, 6]\n",
      "List with unique elements: [1, 2, 3, 4, 5, 6]\n"
     ]
    }
   ],
   "source": [
    "# Question 23\n",
    "# Develop a program that extracts unique elements from a list and stores them in a new list using a list comprehension.\n",
    "input_list = [1, 2, 2, 3, 4, 4, 5, 5, 6]\n",
    "unique_list = []\n",
    "[unique_list.append(x) for x in input_list if x not in unique_list]\n",
    "\n",
    "print(\"Original list:\", input_list)\n",
    "print(\"List with unique elements:\", unique_list)"
   ]
  },
  {
   "cell_type": "markdown",
   "id": "1b08e835",
   "metadata": {},
   "source": [
    "This Python program extracts unique elements from an original list and stores them in a new list using a list comprehension. Here's an explanation of each part of the code:\n",
    "\n",
    "1.input_list is a list that contains elements, some of which may be repeated.\n",
    "\n",
    "2.unique_list is an empty list that will store the unique elements from input_list.\n",
    "\n",
    "3.The list comprehension is used to create unique_list:\n",
    "[unique_list.append(x) for x in input_list if x not in unique_list]: This list comprehension iterates through each element (x) in the input_list.\n",
    "if x not in unique_list checks if the element x is not already in the unique_list. If it's not in the list, it proceeds to the next step.\n",
    "unique_list.append(x) appends the element x to the unique_list if it's not already present.\n",
    "The result of this list comprehension is not typically used, but it updates the unique_list with unique elements.\n",
    "\n",
    "4.print(\"Original list:\", input_list): This line prints the original input_list.\n",
    "\n",
    "5.print(\"List with unique elements:\", unique_list): This line prints the unique_list, which contains only the unique elements from the original list."
   ]
  },
  {
   "cell_type": "code",
   "execution_count": 32,
   "id": "cc7aff9d",
   "metadata": {},
   "outputs": [
    {
     "name": "stdout",
     "output_type": "stream",
     "text": [
      "Enter the limit: 100\n",
      "Palindromic numbers: [0, 1, 2, 3, 4, 5, 6, 7, 8, 9, 11, 22, 33, 44, 55, 66, 77, 88, 99]\n"
     ]
    }
   ],
   "source": [
    "# Question 24\n",
    "# Create a program that generates a list of all palindromic numbers up to a specified limit using a list comprehension.\n",
    "limit = int(input(\"Enter the limit: \"))\n",
    "palindromic_numbers = [num for num in range(limit + 1) if str(num) == str(num)[::-1]]\n",
    "print(\"Palindromic numbers:\", palindromic_numbers)"
   ]
  },
  {
   "cell_type": "markdown",
   "id": "956c2572",
   "metadata": {},
   "source": [
    "This Python program generates a list of all palindromic numbers up to a specified limit using a list comprehension. Here's an explanation of each part of the code:\n",
    "\n",
    "1.limit is a variable that stores the user-specified limit. You input this limit using input().\n",
    "\n",
    "2.palindromic_numbers is an empty list that will store the palindromic numbers found.\n",
    "\n",
    "3.The list comprehension is used to generate the palindromic_numbers list:\n",
    "[num for num in range(limit + 1) if str(num) == str(num)[::-1]]: This list comprehension iterates through numbers from 0 to the specified limit.\n",
    "For each num in this range:\n",
    "if str(num) == str(num)[::-1] checks if the string representation of the number is the same as its reverse. In other words, it checks if the number is a palindrome.\n",
    "The result is a list, palindromic_numbers, which contains all palindromic numbers up to the specified limit.\n",
    "\n",
    "4.print(\"Palindromic numbers:\", palindromic_numbers): This line prints the palindromic_numbers list, which contains all the palindromic numbers found."
   ]
  },
  {
   "cell_type": "code",
   "execution_count": 34,
   "id": "a47c37d9",
   "metadata": {},
   "outputs": [
    {
     "name": "stdout",
     "output_type": "stream",
     "text": [
      "Flattened List: [1, 2, 3, 4, 5, 6, 7, 8]\n"
     ]
    }
   ],
   "source": [
    "# Question 25\n",
    "# Write a program to flatten a nested list using list comprehension.\n",
    "nested_list = [[1, 2, 3], [4, 5], [6, [7, 8]]]\n",
    "\n",
    "def flatten_list(nested_list):\n",
    "    return [item for sublist in nested_list for item in (flatten_list(sublist) if isinstance(sublist, list) else [sublist])]\n",
    "\n",
    "flattened_list = flatten_list(nested_list)\n",
    "print(\"Flattened List:\", flattened_list)"
   ]
  },
  {
   "cell_type": "markdown",
   "id": "1f0dba68",
   "metadata": {},
   "source": [
    "This Python program flattens a nested list using a recursive function and list comprehension. Here's an explanation of each part of the code:\n",
    "\n",
    "1.nested_list is a nested list that contains sublists within it.\n",
    "\n",
    "2.flatten_list is a recursive function that flattens the nested list. It takes a nested_list as input and returns a flattened list.\n",
    "\n",
    "3.The list comprehension is used within the flatten_list function:\n",
    "[item for sublist in nested_list for item in (flatten_list(sublist) if isinstance(sublist, list) else [sublist])]: This list comprehension iterates through the elements of the nested_list.\n",
    "for sublist in nested_list iterates through the sublists within the nested_list.\n",
    "for item in (flatten_list(sublist) if isinstance(sublist, list) else [sublist]) flattens each sublist:\n",
    "If sublist is itself a list, it calls flatten_list(sublist) recursively to flatten it.\n",
    "If sublist is not a list, it puts it in a list as [sublist].\n",
    "The result is a flattened list.\n",
    "\n",
    "4.flattened_list is assigned the result of calling flatten_list(nested_list). This is where the flattening process begins.\n",
    "\n",
    "5.print(\"Flattened List:\", flattened_list): This line prints the flattened_list, which is the result of flattening the nested list."
   ]
  },
  {
   "cell_type": "code",
   "execution_count": 35,
   "id": "49d6bf73",
   "metadata": {},
   "outputs": [
    {
     "name": "stdout",
     "output_type": "stream",
     "text": [
      "Sum of even numbers: 30\n",
      "Sum of odd numbers: 25\n"
     ]
    }
   ],
   "source": [
    "# Question 26\n",
    "# Develop a program that computes the sum of even and odd numbers in a list separately using list comprehension.\n",
    "numbers = [1, 2, 3, 4, 5, 6, 7, 8, 9, 10]\n",
    "even_sum = sum([num for num in numbers if num % 2 == 0])\n",
    "odd_sum = sum([num for num in numbers if num % 2 != 0])\n",
    "\n",
    "print(\"Sum of even numbers:\", even_sum)\n",
    "print(\"Sum of odd numbers:\", odd_sum)"
   ]
  },
  {
   "cell_type": "markdown",
   "id": "de5868ac",
   "metadata": {},
   "source": [
    "This Python program computes the sum of even and odd numbers in a list separately using list comprehension. Here's an explanation of each part of the code:\n",
    "\n",
    "1.numbers is a list that contains a sequence of numbers.\n",
    "\n",
    "2.even_sum is a variable that will store the sum of even numbers.\n",
    "\n",
    "3.odd_sum is a variable that will store the sum of odd numbers.\n",
    "\n",
    "4.List comprehensions are used to calculate even_sum and odd_sum:\n",
    "even_sum = sum([num for num in numbers if num % 2 == 0]): This list comprehension iterates through the elements in the numbers list.\n",
    "[num for num in numbers if num % 2 == 0] selects only the even numbers from the list.\n",
    "sum(...) calculates the sum of the even numbers.\n",
    "odd_sum = sum([num for num in numbers if num % 2 != 0]): This list comprehension also iterates through the elements in the numbers list.\n",
    "[num for num in numbers if num % 2 != 0] selects only the odd numbers from the list.\n",
    "sum(...) calculates the sum of the odd numbers.\n",
    "\n",
    "5.print(\"Sum of even numbers:\", even_sum): This line prints the sum of even numbers.\n",
    "\n",
    "6.print(\"Sum of odd numbers:\", odd_sum): This line prints the sum of odd numbers."
   ]
  },
  {
   "cell_type": "code",
   "execution_count": 36,
   "id": "3d7046a9",
   "metadata": {},
   "outputs": [
    {
     "name": "stdout",
     "output_type": "stream",
     "text": [
      "Squares of odd numbers: [1, 9, 25, 49, 81]\n"
     ]
    }
   ],
   "source": [
    "# Question 27\n",
    "# Create a program that generates a list of squares of odd numbers between 1 and 10 using list comprehension.\n",
    "odd_squares = [x ** 2 for x in range(1, 11) if x % 2 != 0]\n",
    "print(\"Squares of odd numbers:\", odd_squares)"
   ]
  },
  {
   "cell_type": "markdown",
   "id": "54736796",
   "metadata": {},
   "source": [
    "This Python program generates a list of squares of odd numbers between 1 and 10 using list comprehension. Here's an explanation of each part of the code:\n",
    "\n",
    "1.odd_squares is a variable that will store the list of squares of odd numbers.\n",
    "\n",
    "2.List comprehension is used to generate odd_squares:\n",
    "[x ** 2 for x in range(1, 11) if x % 2 != 0]: This list comprehension iterates through the numbers from 1 to 10 (inclusive) using x as the loop variable.\n",
    "x ** 2 calculates the square of each number.\n",
    "for x in range(1, 11) specifies the range of numbers to consider (from 1 to 10).\n",
    "if x % 2 != 0 is a condition that filters out only the odd numbers. The % operator is used to check if the number is not divisible by 2, which makes it an odd number.\n",
    "\n",
    "3.print(\"Squares of odd numbers:\", odd_squares): This line prints the list of squares of odd numbers."
   ]
  },
  {
   "cell_type": "code",
   "execution_count": 38,
   "id": "8ca567f6",
   "metadata": {},
   "outputs": [
    {
     "name": "stdout",
     "output_type": "stream",
     "text": [
      "Combined Dictionary: {'name': 'Arpan', 'age': 25, 'city': 'Kolkata'}\n"
     ]
    }
   ],
   "source": [
    "# Question 28\n",
    "# Write a program that combines two lists into a dictionary using list comprehension.\n",
    "keys = [\"name\", \"age\", \"city\"]\n",
    "values = [\"Arpan\", 25, \"Kolkata\"]\n",
    "result_dict = {keys[i]: values[i] for i in range(min(len(keys), len(values)))}\n",
    "print(\"Combined Dictionary:\", result_dict)"
   ]
  },
  {
   "cell_type": "markdown",
   "id": "a06a1ff2",
   "metadata": {},
   "source": [
    "This Python program combines two lists into a dictionary using list comprehension. Here's an explanation of each part of the code:\n",
    "\n",
    "1.keys is a list that contains keys for the dictionary.\n",
    "\n",
    "2.values is a list that contains values for the dictionary. The position of each value corresponds to the position of the key in the keys list.\n",
    "\n",
    "3.result_dict is a variable that will store the combined dictionary.\n",
    "\n",
    "4.List comprehension is used to create result_dict:\n",
    "{keys[i]: values[i] for i in range(min(len(keys), len(values))}: This list comprehension iterates through the indices i in the range from 0 to the minimum length of keys and values. It ensures that the iteration only goes up to the length of the shorter list to avoid an index out-of-range error.\n",
    "keys[i]: values[i] pairs each key from the keys list with the corresponding value from the values list.\n",
    "\n",
    "5.print(\"Combined Dictionary:\", result_dict): This line prints the combined dictionary."
   ]
  },
  {
   "cell_type": "code",
   "execution_count": 41,
   "id": "1a5c826d",
   "metadata": {},
   "outputs": [
    {
     "name": "stdout",
     "output_type": "stream",
     "text": [
      "Vowels in the string: ['e', 'o', 'o']\n"
     ]
    }
   ],
   "source": [
    "# Question 29\n",
    "# Develop a program that extracts the vowels from a string and stores them in a list using list comprehension.\n",
    "input_string = \"Hello, World\"\n",
    "vowels = [char for char in input_string if char.lower() in 'aeiou']\n",
    "print(\"Vowels in the string:\", vowels)"
   ]
  },
  {
   "cell_type": "markdown",
   "id": "51521a64",
   "metadata": {},
   "source": [
    "This Python program extracts the vowels from a string and stores them in a list using list comprehension. Here's an explanation of each part of the code:\n",
    "\n",
    "1.input_string is a variable that holds the input string from which vowels will be extracted.\n",
    "\n",
    "2.vowels is a variable that will store the list of vowels extracted from the string.\n",
    "\n",
    "3.List comprehension is used to generate the vowels list:\n",
    "[char for char in input_string if char.lower() in 'aeiou']: This list comprehension iterates through each character char in the input_string.\n",
    "char.lower() in 'aeiou' checks if the lowercase version of char is one of the vowels ('a', 'e', 'i', 'o', 'u').\n",
    "If the condition is met, the character char is included in the list.\n",
    "\n",
    "4.print(\"Vowels in the string:\", vowels): This line prints the list of vowels extracted from the string."
   ]
  },
  {
   "cell_type": "code",
   "execution_count": 1,
   "id": "93840a44",
   "metadata": {},
   "outputs": [
    {
     "name": "stdout",
     "output_type": "stream",
     "text": [
      "Numeric strings: ['123', '456', '7', '4']\n"
     ]
    }
   ],
   "source": [
    "# Question 30\n",
    "# Create a program that removes all non-numeric characters from a list of strings using list comprehension.\n",
    "string_list = [\"abc123\", \"456def\", \"7ghi\", \"4jkl\"]\n",
    "numeric_strings = [''.join(char for char in string if char.isnumeric()) for string in string_list]\n",
    "print(\"Numeric strings:\", numeric_strings)"
   ]
  },
  {
   "cell_type": "markdown",
   "id": "bf52f417",
   "metadata": {},
   "source": [
    "This Python program removes all non-numeric characters from a list of strings and stores the resulting numeric strings in a new list using list comprehension. Here's an explanation of each part of the code:\n",
    "\n",
    "1.string_list is a list that contains strings with a mix of alphanumeric characters.\n",
    "\n",
    "2.numeric_strings is a variable that will store the list of numeric strings after the non-numeric characters are removed.\n",
    "\n",
    "3.List comprehension is used to generate the numeric_strings list:\n",
    "[''.join(char for char in string if char.isnumeric()) for string in string_list]: This list comprehension iterates through each string string in the string_list.\n",
    "''.join(char for char in string if char.isnumeric()) iterates through each character char in the string string and joins (concatenates) the characters that are numeric (i.e., char.isnumeric() is True).\n",
    "\n",
    "4.print(\"Numeric strings:\", numeric_strings): This line prints the list of numeric strings."
   ]
  },
  {
   "cell_type": "markdown",
   "id": "402af230",
   "metadata": {},
   "source": [
    "# Challenge Level"
   ]
  },
  {
   "cell_type": "code",
   "execution_count": 3,
   "id": "16fa518c",
   "metadata": {},
   "outputs": [
    {
     "name": "stdout",
     "output_type": "stream",
     "text": [
      "[2, 3, 5, 7, 11, 13, 17, 19, 23, 29, 31, 37, 41, 43, 47]\n"
     ]
    }
   ],
   "source": [
    "# Question 31\n",
    "# Write a program to generate a list of prime numbers using the Sieve of Eratosthenes algorithm and list comprehension.\n",
    "def sieve_eratosthenes(n):\n",
    "    is_prime = [True] * (n + 1)\n",
    "    is_prime[0] = is_prime[1] = False\n",
    "\n",
    "    p = 2\n",
    "    while p**2 <= n:\n",
    "        if is_prime[p]:\n",
    "            for i in range(p**2, n + 1, p):\n",
    "                is_prime[i] = False\n",
    "        p += 1\n",
    "\n",
    "    primes = [i for i in range(2, n + 1) if is_prime[i]]\n",
    "    return primes\n",
    "\n",
    "n = 50\n",
    "prime_numbers = sieve_eratosthenes(n)\n",
    "print(prime_numbers)"
   ]
  },
  {
   "cell_type": "markdown",
   "id": "867ed293",
   "metadata": {},
   "source": [
    "This Python program generates a list of prime numbers up to a specified limit (n) using the Sieve of Eratosthenes algorithm and list comprehension. Here's an explanation of each part of the code:\n",
    "\n",
    "1.sieve_eratosthenes(n) is a function that takes an integer n as input and returns a list of prime numbers up to n.\n",
    "\n",
    "2.Inside the sieve_eratosthenes function:\n",
    "is_prime is a list of Boolean values initialized to True, representing whether a number at that index is prime. The first two elements, is_prime[0] and is_prime[1], are set to False because 0 and 1 are not prime numbers.\n",
    "The algorithm iterates through numbers starting from 2 (p = 2) up to the square root of n. For each prime number found (is_prime[p] is True), it marks all multiples of that prime as False, indicating they are not prime.\n",
    "After processing all numbers, the remaining True values in the is_prime list correspond to prime numbers.\n",
    "primes is a list comprehension that generates a list of prime numbers by iterating through the indices and selecting the numbers corresponding to True values in is_prime.\n",
    "\n",
    "3.n is set to 50, indicating that we want to find prime numbers up to 50.\n",
    "\n",
    "4.prime_numbers is assigned the result of calling the sieve_eratosthenes function with the value of n.\n",
    "\n",
    "5.Finally, print(prime_numbers) displays the list of prime numbers."
   ]
  },
  {
   "cell_type": "code",
   "execution_count": 317,
   "id": "809b2da9",
   "metadata": {},
   "outputs": [
    {
     "name": "stdout",
     "output_type": "stream",
     "text": [
      "Enter the limit: 10\n",
      "Pythagorean Triplets:\n",
      "(6, 8, 10)\n",
      "(3, 4, 5)\n"
     ]
    }
   ],
   "source": [
    "# Question 32\n",
    "# Create a program that generates a list of all Pythagorean triplets up to a specified limit using list comprehension.\n",
    "limit = int(input(\"Enter the limit: \"))\n",
    "\n",
    "triplets = [(a, b, c) for a in range(1, limit + 1)\n",
    "                       for b in range(a, limit + 1)\n",
    "                       for c in range(b, limit + 1)\n",
    "                       if a**2 + b**2 == c**2]\n",
    "\n",
    "unique_triplets = list(set(triplets))\n",
    "print(\"Pythagorean Triplets:\")\n",
    "for triplet in unique_triplets:\n",
    "    print(triplet)"
   ]
  },
  {
   "cell_type": "markdown",
   "id": "d66d08f3",
   "metadata": {},
   "source": [
    "This Python program generates a list of all Pythagorean triplets up to a specified limit (limit) using list comprehension. Here's an explanation of each part of the code:\n",
    "\n",
    "1.The user is prompted to enter the limit (limit) up to which the program will search for Pythagorean triplets.\n",
    "\n",
    "2.triplets is a list comprehension that generates all possible triplets (a, b, c) that satisfy the Pythagorean theorem (a^2 + b^2 = c^2). The comprehension uses three nested for loops to generate combinations of a, b, and c values within the specified limit.\n",
    "\n",
    "The outer loop iterates over the values of a from 1 to limit.\n",
    "\n",
    "The middle loop iterates over the values of b from a to limit.\n",
    "\n",
    "The innermost loop iterates over the values of c from b to limit.\n",
    "\n",
    "The if condition checks whether the current combination of (a, b, c) satisfies the Pythagorean theorem.\n",
    "\n",
    "3.Since the same triplets can be generated in multiple ways, unique_triplets is created by converting the triplets list to a set to eliminate duplicates and then converting it back to a list.\n",
    "\n",
    "4.The program then prints the unique Pythagorean triplets found."
   ]
  },
  {
   "cell_type": "code",
   "execution_count": 318,
   "id": "b9a4d979",
   "metadata": {},
   "outputs": [
    {
     "name": "stdout",
     "output_type": "stream",
     "text": [
      "[(1, 'a'), (1, 'b'), (1, 'c'), (2, 'a'), (2, 'b'), (2, 'c'), (3, 'a'), (3, 'b'), (3, 'c')]\n"
     ]
    }
   ],
   "source": [
    "# Question 33\n",
    "# Develop a program that generates a list of all possible combinations of two lists using list comprehension.\n",
    "list1 = [1, 2, 3]\n",
    "list2 = ['a', 'b', 'c']\n",
    "\n",
    "combinations = [(x, y) for x in list1 for y in list2]\n",
    "print(combinations)"
   ]
  },
  {
   "cell_type": "markdown",
   "id": "c3b14eb0",
   "metadata": {},
   "source": [
    "This Python program generates a list of all possible combinations of elements from two input lists (list1 and list2) using list comprehension. Here's an explanation of each part of the code:\n",
    "\n",
    "1.Two input lists are defined: list1 containing integers [1, 2, 3] and list2 containing strings ['a', 'b', 'c'].\n",
    "\n",
    "2.combinations is a list comprehension that generates all possible combinations of elements from list1 and list2. It uses two for loops, one for each list, to iterate through all possible combinations.\n",
    "The outer loop iterates through each element x in list1.\n",
    "The inner loop iterates through each element y in `list2.\n",
    "\n",
    "3.For each combination of x and y, a tuple (x, y) is created and added to the combinations list.\n",
    "\n",
    "4.Finally, the program prints the combinations list, which contains all the possible combinations of elements from list1 and list2."
   ]
  },
  {
   "cell_type": "code",
   "execution_count": 34,
   "id": "fb8521e9",
   "metadata": {},
   "outputs": [
    {
     "name": "stdout",
     "output_type": "stream",
     "text": [
      "Mean: 29.6\n",
      "Median: 28.5\n",
      "Mode(s): 12\n"
     ]
    }
   ],
   "source": [
    "# Question 34\n",
    "# Write a program that calculates the mean, median, and mode of a list of numbers using list comprehension.\n",
    "numbers = [12, 34, 45, 12, 23, 45, 34, 56, 23, 12]\n",
    "mean = sum([num for num in numbers])/len(numbers)\n",
    "print(f\"Mean: {mean}\")\n",
    "\n",
    "sorted_numbers = sorted(numbers)\n",
    "n = len(sorted_numbers)\n",
    "median = (sorted_numbers[n // 2] + sorted_numbers[n // 2 - 1]) / 2 if n % 2 == 0 else sorted_numbers[n // 2]\n",
    "print(f\"Median: {median}\")\n",
    "\n",
    "modes = [x for x in numbers if numbers.count(x) == max([numbers.count(n) for n in numbers])]\n",
    "for i in set(modes):\n",
    "    unique_modes = i\n",
    "print(f\"Mode(s): {unique_modes}\")"
   ]
  },
  {
   "cell_type": "markdown",
   "id": "f211e6d6",
   "metadata": {},
   "source": [
    "This Python program calculates the mean, median, and mode of a list of numbers using list comprehension. Here's an explanation of each part of the code:\n",
    "\n",
    "1.A list of numbers is defined: numbers containing [12, 34, 45, 12, 23, 45, 34, 56, 23, 12].\n",
    "\n",
    "2.The mean (average) of the list is calculated using list comprehension:\n",
    "\n",
    "mean is computed as the sum of all the numbers in numbers divided by the length of the list (len(numbers)). The list comprehension [num for num in numbers] extracts all the numbers from the list, and their sum is divided by the number of elements.\n",
    "\n",
    "3.The list is sorted in ascending order, and the median is calculated using list comprehension:\n",
    "The list sorted_numbers is created by sorting numbers in ascending order.\n",
    "The variable n is set to the length of sorted_numbers.\n",
    "The median median is calculated using conditional logic. If the list has an even number of elements (i.e., n is even), the median is the average of the two middle values, accessed as sorted_numbers[n // 2] and sorted_numbers[n // 2 - 1]. If the list has an odd number of elements, the median is the middle value (i.e., sorted_numbers[n // 2]).\n",
    "\n",
    "4.The mode(s) of the list is calculated using list comprehension:\n",
    "The modes list is created using list comprehension. It iterates over each element x in numbers and checks if the count of x in numbers is equal to the maximum count of any number in the list (found using list comprehension with [numbers.count(n) for n in numbers]). This list comprehension generates a list of modes, and if multiple values have the maximum count, they will all be included in modes.\n",
    "\n",
    "5.To handle multiple modes, a set is created to eliminate duplicates, and the final unique_modes variable is set to the last mode in the set. This ensures that if there are multiple modes, unique_modes holds only one of them.\n",
    "\n",
    "6.The program prints the calculated mean, median, and mode(s) of the list."
   ]
  },
  {
   "cell_type": "code",
   "execution_count": 1,
   "id": "ecd521d9",
   "metadata": {},
   "outputs": [
    {
     "name": "stdout",
     "output_type": "stream",
     "text": [
      "    1    \n",
      "   1 1   \n",
      "  1 2 1  \n",
      " 1 3 3 1 \n",
      "1 4 6 4 1\n"
     ]
    }
   ],
   "source": [
    "# Question 35\n",
    "# Create a program that generates Pascal's triangle up to a specified number of rows using list comprehension.\n",
    "from math import comb\n",
    "def generate_pascals_triangle(num_rows):\n",
    "    return [[comb(n, k) for k in range(n + 1)] for n in range(num_rows)]\n",
    "\n",
    "def print_pascals_triangle(triangle):\n",
    "    max_width = len(' '.join(map(str, triangle[-1])))\n",
    "    for row in triangle:\n",
    "        row_str = ' '.join(map(str, row))\n",
    "        print(row_str.center(max_width))\n",
    "\n",
    "num_rows = 5\n",
    "pascals_triangle = generate_pascals_triangle(num_rows)\n",
    "print_pascals_triangle(pascals_triangle)"
   ]
  },
  {
   "cell_type": "markdown",
   "id": "d502d9eb",
   "metadata": {},
   "source": [
    "This Python program generates Pascal's triangle up to a specified number of rows using list comprehension. Here's an explanation of each part of the code:\n",
    "\n",
    "1.The program imports the comb function from the math module. The comb(n, k) function calculates the binomial coefficient \"n choose k\" which is required to generate Pascal's triangle.\n",
    "\n",
    "2.generate_pascals_triangle(num_rows) is a function that generates Pascal's triangle for a given number of rows num_rows. This function uses a nested list comprehension to calculate the binomial coefficients for each row and stores them in a list of lists representing the triangle.\n",
    "The outer list comprehension iterates from n = 0 to num_rows - 1, where n represents the row number.\n",
    "The inner list comprehension iterates from k = 0 to n, where k represents the position in the row.\n",
    "comb(n, k) calculates the binomial coefficient for the n and k values.\n",
    "The result is a list of lists where each inner list represents a row of Pascal's triangle.\n",
    "\n",
    "3.print_pascals_triangle(triangle) is a function that prints Pascal's triangle in a visually appealing format. It first calculates the maximum width required to center-align the triangle.\n",
    "max_width is set to the length of the longest row in the triangle, obtained by joining all the numbers in the last row into a string.\n",
    "\n",
    "4.The function then iterates through each row of the triangle and prints them in a centered format. It uses the str.center() method to ensure the triangle is symmetric.\n",
    "\n",
    "5.The variable num_rows is set to 5, indicating that we want to generate Pascal's triangle up to the 5th row.\n",
    "\n",
    "6.pascals_triangle is generated by calling the generate_pascals_triangle(num_rows) function with the specified number of rows.\n",
    "\n",
    "7.Finally, the program calls print_pascals_triangle(pascals_triangle) to print Pascal's triangle."
   ]
  },
  {
   "cell_type": "code",
   "execution_count": 28,
   "id": "d7337275",
   "metadata": {},
   "outputs": [
    {
     "name": "stdout",
     "output_type": "stream",
     "text": [
      "Sum of digits for 1! (1 factorial) is: 1\n",
      "Sum of digits for 2! (2 factorial) is: 2\n",
      "Sum of digits for 3! (3 factorial) is: 6\n",
      "Sum of digits for 4! (4 factorial) is: 6\n",
      "Sum of digits for 5! (5 factorial) is: 3\n"
     ]
    }
   ],
   "source": [
    "# Question 36\n",
    "# Develop a program that calculates the sum of the digits of a factorial of numbers from 1 to 5 using list comprehension.\n",
    "import math\n",
    "factorials = [math.factorial(i) for i in range(1, 6)]\n",
    "\n",
    "def sum_of_digits(number):\n",
    "    return sum(int(digit) for digit in str(number))\n",
    "\n",
    "digit_sums = [sum_of_digits(factorial) for factorial in factorials]\n",
    "for i in range(1, 6):\n",
    "    print(f\"Sum of digits for {i}! ({i} factorial) is:\", digit_sums[i - 1])"
   ]
  },
  {
   "cell_type": "markdown",
   "id": "3e9a38db",
   "metadata": {},
   "source": [
    "This Python program calculates the sum of the digits of the factorials of numbers from 1 to 5 using list comprehension. Here's an explanation of each part of the code:\n",
    "\n",
    "1.The program first imports the math module to use the math.factorial() function for calculating factorials.\n",
    "\n",
    "2.factorials is a list comprehension that calculates the factorials of numbers from 1 to 5. The list comprehension iterates through i in the range from 1 to 5 (inclusive) and calculates math.factorial(i) for each value of i. The results are stored in the factorials list.\n",
    "\n",
    "3.sum_of_digits(number) is a function that takes an integer number as input and returns the sum of its digits. The function first converts the number to a string using str(number). Then, it uses a list comprehension to iterate through each digit in the string, converts the digit back to an integer using int(digit), and calculates the sum of these digits using the sum() function.\n",
    "\n",
    "4.digit_sums is a list comprehension that calculates the sum of the digits for each factorial in the factorials list. It iterates through factorial for each factorial in the factorials list and calculates sum_of_digits(factorial).\n",
    "\n",
    "5.A for loop is used to print the sum of the digits for each factorial from 1 to 5. The loop iterates from 1 to 5, and for each value of i, it prints the sum of digits for the i! (factorial of i) by accessing the corresponding element in the digit_sums list. It uses the i - 1 index because the list is 0-indexed, but the numbers range from 1 to 5."
   ]
  },
  {
   "cell_type": "code",
   "execution_count": 2,
   "id": "2a556722",
   "metadata": {},
   "outputs": [
    {
     "name": "stdout",
     "output_type": "stream",
     "text": [
      "The longest word in the sentence is: sentence\n"
     ]
    }
   ],
   "source": [
    "# Question 37\n",
    "# Write a program that finds the longest word in a sentence using list comprehension.\n",
    "sentence = \"This is a sample sentence with some long words\"\n",
    "\n",
    "longest_word = max([word for word in sentence.split()], key=len)\n",
    "\n",
    "print(\"The longest word in the sentence is:\", longest_word)"
   ]
  },
  {
   "cell_type": "markdown",
   "id": "321a3be2",
   "metadata": {},
   "source": [
    "This Python program finds the longest word in a sentence using list comprehension. Here's an explanation of each part of the code:\n",
    "\n",
    "1.The sentence variable contains the input sentence in the form of a string.\n",
    "\n",
    "2.The sentence is split into words using the split() method, which creates a list of words. For example, the sentence \"This is a sample sentence with some long words\" would be split into a list like [\"This\", \"is\", \"a\", \"sample\", \"sentence\", \"with\", \"some\", \"long\", \"words\"].\n",
    "\n",
    "3.The list comprehension [word for word in sentence.split()] iterates through the words in the list of words. This list comprehension creates a list containing all the words from the sentence.\n",
    "\n",
    "4.The max() function is used to find the longest word among the words in the list. It takes two arguments: the iterable (the list of words) and the key argument, which specifies the function to use to determine the maximum value. In this case, key=len is used, which means it will find the word with the maximum length.\n",
    "\n",
    "5.The result of the max function is stored in the longest_word variable. It will contain the longest word from the sentence.\n",
    "\n",
    "6.Finally, a print statement displays the longest word found in the sentence."
   ]
  },
  {
   "cell_type": "code",
   "execution_count": 31,
   "id": "3276a469",
   "metadata": {},
   "outputs": [
    {
     "name": "stdout",
     "output_type": "stream",
     "text": [
      "Words with more than three vowels: ['education']\n"
     ]
    }
   ],
   "source": [
    "# Question 38\n",
    "# Create a program that filters a list of strings to include only those with more than three vowels using list comprehension.\n",
    "word_list = [\"hello\", \"world\", \"apple\", \"python\", \"education\"]\n",
    "\n",
    "def count_vowels(word):\n",
    "    vowels = \"AEIOUaeiou\"\n",
    "    return sum(1 for letter in word if letter in vowels)\n",
    "\n",
    "filtered_words = [word for word in word_list if count_vowels(word) > 3]\n",
    "print(\"Words with more than three vowels:\", filtered_words)"
   ]
  },
  {
   "cell_type": "markdown",
   "id": "a55d59e2",
   "metadata": {},
   "source": [
    "This Python program filters a list of strings to include only those with more than three vowels using list comprehension. Here's an explanation of each part of the code:\n",
    "\n",
    "1.The word_list variable contains a list of words as strings: [\"hello\", \"world\", \"apple\", \"python\", \"education\"].\n",
    "\n",
    "2.The count_vowels(word) function is defined to count the number of vowels in a given word. It takes a word as input and returns the count of vowels in that word. It does this by iterating through each letter in the word and checking if it's a vowel (either uppercase or lowercase). It uses a generator expression within the sum() function to count the vowels.\n",
    "\n",
    "3.The list comprehension [word for word in word_list if count_vowels(word) > 3] iterates through each word in the word_list. For each word, it checks if the count of vowels in that word, as computed by the count_vowels() function, is greater than 3. If it is, the word is included in the filtered list.\n",
    "\n",
    "4.The result of the list comprehension is stored in the filtered_words variable, which contains the words from the original list with more than three vowels.\n",
    "\n",
    "5.Finally, a print statement displays the words that have more than three vowels from the filtered_words list."
   ]
  },
  {
   "cell_type": "code",
   "execution_count": 32,
   "id": "62a103b5",
   "metadata": {},
   "outputs": [
    {
     "name": "stdout",
     "output_type": "stream",
     "text": [
      "The total sum of the digits from 1 to 1000 is: 13501\n"
     ]
    }
   ],
   "source": [
    "# Question 39\n",
    "# Develop a program that calculates the sum of the digits of numbers from 1 to 1000 using list comprehension.\n",
    "def sum_of_digits(number):\n",
    "    return sum(int(digit) for digit in str(number))\n",
    "\n",
    "sums = [sum_of_digits(num) for num in range(1, 1001)]\n",
    "total_sum = sum(sums)\n",
    "\n",
    "print(\"The total sum of the digits from 1 to 1000 is:\", total_sum)"
   ]
  },
  {
   "cell_type": "markdown",
   "id": "72fc601c",
   "metadata": {},
   "source": [
    "This Python program calculates the sum of the digits of numbers from 1 to 1000 using list comprehension. Here's an explanation of each part of the code:\n",
    "\n",
    "1.The sum_of_digits(number) function is defined to calculate the sum of the digits of a given number. It takes an integer number as input and converts it to a string. It then iterates through each digit in the string representation of the number, converting each digit back to an integer, and finally sums up all the digits. This sum is the sum of the digits of the number.\n",
    "\n",
    "2.The list comprehension [sum_of_digits(num) for num in range(1, 1001)] generates a list of sums of digits for numbers ranging from 1 to 1000. It iterates through numbers in the range, passing each number to the sum_of_digits() function. The results (sums of digits) are collected into a list.\n",
    "\n",
    "3.The total_sum variable is used to calculate the sum of all the individual sums of digits in the sums list. It does this by calling the sum() function on the sums list.\n",
    "\n",
    "4.Finally, a print statement displays the total sum of the digits from 1 to 1000 by printing the value stored in the total_sum variable."
   ]
  },
  {
   "cell_type": "code",
   "execution_count": 33,
   "id": "284633cf",
   "metadata": {},
   "outputs": [
    {
     "name": "stdout",
     "output_type": "stream",
     "text": [
      "Prime Palindromic Numbers: [2, 3, 5, 7, 11, 101, 131, 151, 181, 191, 313, 353, 373, 383, 727, 757, 787, 797, 919, 929]\n"
     ]
    }
   ],
   "source": [
    "# Question 40\n",
    "# Write a program that generates a list of prime palindromic numbers using list comprehension.\n",
    "def is_prime(n):\n",
    "    if n <= 1:\n",
    "        return False\n",
    "    if n <= 3:\n",
    "        return True\n",
    "    if n % 2 == 0 or n % 3 == 0:\n",
    "        return False\n",
    "    i = 5\n",
    "    while i * i <= n:\n",
    "        if n % i == 0 or n % (i + 2) == 0:\n",
    "            return False\n",
    "        i += 6\n",
    "    return True\n",
    "\n",
    "prime_palindromic_numbers = [num for num in range(1, 1000) if is_prime(num) and str(num) == str(num)[::-1]]\n",
    "\n",
    "print(\"Prime Palindromic Numbers:\", prime_palindromic_numbers)"
   ]
  },
  {
   "cell_type": "markdown",
   "id": "3a7f8da1",
   "metadata": {},
   "source": [
    "This Python program generates a list of prime palindromic numbers from 1 to 999 using list comprehension. Here's an explanation of each part of the code:\n",
    "\n",
    "1.The is_prime(n) function is defined to check if a given integer n is prime. It uses a primality test based on trial division. It returns True if n is prime and False otherwise.\n",
    "\n",
    "2.The list comprehension [num for num in range(1, 1000) if is_prime(num) and str(num) == str(num)[::-1]] generates a list of prime palindromic numbers. It iterates through numbers in the range from 1 to 999 (inclusive) using num. For each num, it checks two conditions:\n",
    "is_prime(num) checks if the number is prime using the is_prime() function.\n",
    "str(num) == str(num)[::-1] checks if the string representation of the number is equal to its reverse. This checks if the number is a palindrome.\n",
    "If both conditions are met, the number is included in the list of prime palindromic numbers.\n",
    "\n",
    "3.The prime_palindromic_numbers list contains the prime palindromic numbers that satisfy both conditions.\n",
    "\n",
    "4.Finally, a print statement displays the prime palindromic numbers found in the prime_palindromic_numbers list."
   ]
  }
 ],
 "metadata": {
  "kernelspec": {
   "display_name": "Python 3 (ipykernel)",
   "language": "python",
   "name": "python3"
  },
  "language_info": {
   "codemirror_mode": {
    "name": "ipython",
    "version": 3
   },
   "file_extension": ".py",
   "mimetype": "text/x-python",
   "name": "python",
   "nbconvert_exporter": "python",
   "pygments_lexer": "ipython3",
   "version": "3.9.13"
  }
 },
 "nbformat": 4,
 "nbformat_minor": 5
}
