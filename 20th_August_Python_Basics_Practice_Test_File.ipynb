{
 "cells": [
  {
   "cell_type": "markdown",
   "id": "b7bc71a7",
   "metadata": {},
   "source": [
    "# String Based Assignment Problem"
   ]
  },
  {
   "cell_type": "code",
   "execution_count": 1,
   "id": "28d4acfd",
   "metadata": {},
   "outputs": [
    {
     "name": "stdout",
     "output_type": "stream",
     "text": [
      "Enter a string: Hello World!\n",
      "Reversed string: !dlroW olleH\n"
     ]
    }
   ],
   "source": [
    "# Question 1\n",
    "# Write a program to reverse a string\n",
    "def reverse_string(input_string):\n",
    "    reversed_string = input_string[::-1]\n",
    "    return reversed_string\n",
    "\n",
    "input_str = input(\"Enter a string: \")\n",
    "result = reverse_string(input_str)\n",
    "print(\"Reversed string:\", result)"
   ]
  },
  {
   "cell_type": "markdown",
   "id": "3dd29376",
   "metadata": {},
   "source": [
    "This Python code defines a function reverse_string that takes an input string, reverses it, and then returns the reversed string. The code then uses this function to reverse a string entered by the user. Here's a step-by-step explanation of how the code works:\n",
    "\n",
    "1.Function Definition:\n",
    "The code defines a function named reverse_string that takes one argument, input_string. Inside the function, it reverses the input string using slicing (input_string[::-1]) and stores the reversed string in the reversed_string variable.\n",
    "Finally, the function returns the reversed_string.\n",
    "\n",
    "2.User Input:\n",
    "The program uses the input() function to prompt the user to enter a string. The user can input any sequence of characters, including letters, numbers, spaces, and symbols. The entered string is stored in the input_str variable.\n",
    "\n",
    "3.Function Call:\n",
    "The reverse_string function is called with the input_str as its argument. This means that the entered string will be reversed by the function.\n",
    "\n",
    "4.Printing the Result:\n",
    "The reversed string returned by the reverse_string function is stored in the result variable.\n",
    "The program then prints the reversed string using the print() function, displaying it as \"Reversed string:\" followed by the content of the result variable."
   ]
  },
  {
   "cell_type": "code",
   "execution_count": 2,
   "id": "176b8d40",
   "metadata": {},
   "outputs": [
    {
     "name": "stdout",
     "output_type": "stream",
     "text": [
      "Enter a string: eye\n",
      "The string is a palindrome.\n"
     ]
    }
   ],
   "source": [
    "# Question 2\n",
    "# Check if a string is a palindrome.\n",
    "def is_palindrome(input_string):\n",
    "    cleaned_string = ''.join(input_string.split()).lower()\n",
    "    return cleaned_string == cleaned_string[::-1]\n",
    "\n",
    "input_str = input(\"Enter a string: \")\n",
    "result = is_palindrome(input_str)\n",
    "\n",
    "if result:\n",
    "    print(\"The string is a palindrome.\")\n",
    "else:\n",
    "    print(\"The string is not a palindrome.\")"
   ]
  },
  {
   "cell_type": "markdown",
   "id": "7af074e1",
   "metadata": {},
   "source": [
    "This Python code defines a function is_palindrome that checks whether a given input string is a palindrome. A palindrome is a word, phrase, number, or other sequence of characters that reads the same forward and backward. Here's a step-by-step explanation of how the code works:\n",
    "\n",
    "1.Function Definition:\n",
    "The code defines a function named is_palindrome that takes one argument, input_string. Inside the function, it performs the following steps to determine if the input string is a palindrome:\n",
    "It first removes all spaces from the input string using input_string.split() to split the string into words and then ''.join(...) to join the words back together without spaces.\n",
    "It converts the cleaned string to lowercase using .lower().\n",
    "It checks if the cleaned string is equal to its reverse (cleaned_string[::-1]). If they are equal, it returns True, indicating that the string is a palindrome. Otherwise, it returns False.\n",
    "\n",
    "2.User Input:\n",
    "The program uses the input() function to prompt the user to enter a string. The user can input any sequence of characters, including letters, numbers, spaces, and symbols. The entered string is stored in the input_str variable.\n",
    "\n",
    "3.Function Call:\n",
    "The is_palindrome function is called with the input_str as its argument. This means that the entered string will be checked for palindrome status.\n",
    "\n",
    "4.Result Check and Printing:\n",
    "The result of the function call is stored in the result variable.\n",
    "The program then checks the value of result using an if statement:\n",
    "If result is True, it means that the input string is a palindrome, and the program prints \"The string is a palindrome.\"\n",
    "If result is False, it means that the input string is not a palindrome, and the program prints \"The string is not a palindrome.\""
   ]
  },
  {
   "cell_type": "code",
   "execution_count": 4,
   "id": "4aba055a",
   "metadata": {},
   "outputs": [
    {
     "name": "stdout",
     "output_type": "stream",
     "text": [
      "Enter a string: hello world!\n",
      "Given string after uppercase:  HELLO WORLD!\n"
     ]
    }
   ],
   "source": [
    "# Question 3\n",
    "# Convert a string to uppercase.\n",
    "input_string = input(\"Enter a string: \")\n",
    "uppercase_string = input_string.upper()\n",
    "print(\"Given string after uppercase: \", uppercase_string)"
   ]
  },
  {
   "cell_type": "markdown",
   "id": "a5606cfe",
   "metadata": {},
   "source": [
    "This Python code takes a string as input from the user and then converts it to uppercase using the .upper() method. Here's a step-by-step explanation of how the code works:\n",
    "\n",
    "1.User Input:\n",
    "The program starts by using the input() function to prompt the user to enter a string. The user can input any sequence of characters, including letters, numbers, spaces, and symbols. The entered string is stored in the variable input_string.\n",
    "\n",
    "2.Uppercase Conversion:\n",
    "The code uses the .upper() method to convert the input_string to uppercase. The .upper() method is a string method in Python that returns a new string with all alphabetic characters converted to uppercase.\n",
    "The result of this operation is stored in a new variable called uppercase_string.\n",
    "\n",
    "3.Printing the Result:\n",
    "Finally, the program prints the uppercase_string using the print() function. The output message indicates that it's the \"Given string after uppercase\" and then displays the content of the uppercase_string variable.\n"
   ]
  },
  {
   "cell_type": "code",
   "execution_count": 5,
   "id": "15e485db",
   "metadata": {},
   "outputs": [
    {
     "name": "stdout",
     "output_type": "stream",
     "text": [
      "Enter a string: HELLO WORLD!\n",
      "Given string after uppercase:  hello world!\n"
     ]
    }
   ],
   "source": [
    "# Question 4\n",
    "# Convert a string to lowercase.\n",
    "input_string = input(\"Enter a string: \")\n",
    "lowercase_string = input_string.lower()\n",
    "print(\"Given string after uppercase: \", lowercase_string)"
   ]
  },
  {
   "cell_type": "markdown",
   "id": "b289c139",
   "metadata": {},
   "source": [
    "This Python code takes a string as input from the user and then converts it to lowercase using the .lower() method. Here's a step-by-step explanation of how the code works:\n",
    "\n",
    "1.User Input:\n",
    "The program starts by using the input() function to prompt the user to enter a string. The user can input any sequence of characters, including letters, numbers, spaces, and symbols. The entered string is stored in the variable input_string.\n",
    "\n",
    "2.Lowercase Conversion:\n",
    "The code uses the .lower() method to convert the input_string to lowercase. The .lower() method is a string method in Python that returns a new string with all alphabetic characters converted to lowercase.\n",
    "The result of this operation is stored in a new variable called lowercase_string.\n",
    "\n",
    "3.Printing the Result:\n",
    "Finally, the program prints the lowercase_string using the print() function. The output message indicates that it's the \"Given string after lowercase\" and then displays the content of the lowercase_string variable."
   ]
  },
  {
   "cell_type": "code",
   "execution_count": 4,
   "id": "ffcf877c",
   "metadata": {},
   "outputs": [
    {
     "name": "stdout",
     "output_type": "stream",
     "text": [
      "Enter a string: My name is Arpan\n",
      "Number of vowels: 5\n"
     ]
    }
   ],
   "source": [
    "# Question 5\n",
    "# Count the number of vowels in a string.\n",
    "input_str = input(\"Enter a string: \")\n",
    "input_str = input_str.lower()\n",
    "count = 0\n",
    "vowels = 'aeiou'\n",
    "for i in input_str:\n",
    "    if i in vowels:\n",
    "        count += 1\n",
    "\n",
    "\n",
    "print(\"Number of vowels:\", count)"
   ]
  },
  {
   "cell_type": "markdown",
   "id": "0abd84e4",
   "metadata": {},
   "source": [
    "This Python code counts the number of vowels in a user-entered string in a case-insensitive manner. Here's a step-by-step explanation of how the code works:\n",
    "\n",
    "1.User Input:\n",
    "The program starts by using the input() function to prompt the user to enter a string. The user can input any sequence of characters, including letters, numbers, spaces, and symbols. The entered string is initially stored in the variable input_str.\n",
    "\n",
    "2.Lowercase Conversion:\n",
    "To ensure that the program counts both lowercase and uppercase vowels in a case-insensitive manner, the code converts the input_str to lowercase using the input_str.lower() method. This step makes all characters in the string lowercase.\n",
    "\n",
    "3.Vowel Counting:\n",
    "The code initializes a variable count to keep track of the number of vowels found in the string. The initial count is set to 0.\n",
    "\n",
    "4.Vowel Detection:\n",
    "The code enters a for loop that iterates through each character i in the input_str.\n",
    "Inside the loop, it checks if the current character i is in the string vowels, which contains the lowercase vowels 'aeiou'. The if i in vowels condition checks if i is a vowel.\n",
    "If i is indeed a vowel, it increments the count variable by 1.\n",
    "\n",
    "5.Printing the Result:\n",
    "After the loop finishes processing all characters in the input string, the program prints the total count of vowels found in the string using the print() function. The message \"Number of vowels:\" is displayed, followed by the value stored in the count variable, which represents the count of vowels in the input string."
   ]
  },
  {
   "cell_type": "code",
   "execution_count": 8,
   "id": "82620114",
   "metadata": {},
   "outputs": [
    {
     "name": "stdout",
     "output_type": "stream",
     "text": [
      "Enter a string: The boy is playing in a field\n",
      "Number of consonants: 14\n"
     ]
    }
   ],
   "source": [
    "# Question 6\n",
    "# Count the number of consonants in a string.\n",
    "def count_consonants(input_string):\n",
    "    consonants = \"bcdfghjklmnpqrstvwxyz\"\n",
    "    input_string = input_string.lower()\n",
    "    consonant_count = 0\n",
    "    for char in input_string:\n",
    "        if char in consonants:\n",
    "            consonant_count += 1\n",
    "            \n",
    "    return consonant_count\n",
    "\n",
    "input_str = input(\"Enter a string: \")\n",
    "result = count_consonants(input_str)\n",
    "print(\"Number of consonants:\", result)"
   ]
  },
  {
   "cell_type": "markdown",
   "id": "d93aefb8",
   "metadata": {},
   "source": [
    "This Python code defines a function count_consonants that takes a string as input and counts the number of consonants (non-vowel letters) in the string. Here's a step-by-step explanation of how the code works:\n",
    "\n",
    "1.Function Definition:\n",
    "The code defines a function named count_consonants that takes one argument, input_string.\n",
    "\n",
    "2.Consonant List:\n",
    "The code initializes a string variable consonants that contains all the lowercase consonant letters of the English alphabet: \"bcdfghjklmnpqrstvwxyz\". This string will be used to check if a character in the input string is a consonant.\n",
    "\n",
    "3.Lowercase Conversion:\n",
    "The input string, input_string, is converted to lowercase using input_string.lower(). This step ensures that the program counts consonants in a case-insensitive manner.\n",
    "\n",
    "4.Consonant Count Initialization:\n",
    "The variable consonant_count is initialized to 0. This variable will keep track of the number of consonants found in the input string.\n",
    "\n",
    "5.Consonant Detection:\n",
    "The code enters a for loop that iterates through each character char in the input_string.\n",
    "Inside the loop, it checks if the current character char is in the consonants string. If char is a consonant, it increments the consonant_count variable by 1.\n",
    "\n",
    "6.Returning the Result:\n",
    "After the loop finishes processing all characters in the input string, the function returns the value stored in the consonant_count, which represents the count of consonants in the input string.\n",
    "\n",
    "7.User Input and Result Printing:\n",
    "The code then prompts the user to enter a string using the input() function and stores the input in the variable input_str.\n",
    "The count_consonants function is called with input_str as its argument, and the result is stored in the variable result.\n",
    "Finally, the program prints the result using the print() function, displaying \"Number of consonants:\" followed by the value stored in the result variable."
   ]
  },
  {
   "cell_type": "code",
   "execution_count": 9,
   "id": "c01d24f8",
   "metadata": {},
   "outputs": [
    {
     "name": "stdout",
     "output_type": "stream",
     "text": [
      "Enter a string: He llo Wo r ld!\n",
      "New_string is:  HelloWorld!\n"
     ]
    }
   ],
   "source": [
    "# Question 7\n",
    "# Remove all whitespaces from a string.\n",
    "input_string = input('Enter a string: ')\n",
    "no_whitespace_string = input_string.replace(\" \", \"\")\n",
    "print(\"New_string is: \",no_whitespace_string)"
   ]
  },
  {
   "cell_type": "markdown",
   "id": "627f17eb",
   "metadata": {},
   "source": [
    "This Python code takes a string as input from the user and then removes all whitespace characters (spaces) from the input string. Here's a step-by-step explanation of how the code works:\n",
    "\n",
    "1.User Input:\n",
    "The program uses the input() function to prompt the user to enter a string. The user can input any sequence of characters, including letters, numbers, spaces, and symbols. The entered string is stored in the variable input_string.\n",
    "\n",
    "2.Removing Whitespace:\n",
    "The code uses the .replace() method to remove all instances of spaces from the input_string. \n",
    "The replace() method takes two arguments:\n",
    "The first argument is the substring to be replaced, which is a space \" \".\n",
    "The second argument is the replacement string, which is an empty string \"\".\n",
    "This effectively replaces all spaces with nothing, effectively removing them from the string.\n",
    "\n",
    "3.Storing the Result:\n",
    "The resulting string with spaces removed is stored in a new variable called no_whitespace_string.\n",
    "\n",
    "4.Printing the Result:\n",
    "Finally, the program prints the no_whitespace_string using the print() function. The output message indicates that it's the \"New_string is:\" followed by the content of the no_whitespace_string variable."
   ]
  },
  {
   "cell_type": "code",
   "execution_count": 10,
   "id": "525ff3fe",
   "metadata": {},
   "outputs": [
    {
     "name": "stdout",
     "output_type": "stream",
     "text": [
      "Enter a string: The dog is cute\n",
      "Length of the string: 15\n"
     ]
    }
   ],
   "source": [
    "# Question 8\n",
    "# Find the length of a string without using the `len()` function.\n",
    "def string_length(input_string):\n",
    "    count = 0\n",
    "    for char in input_string:\n",
    "        count += 1\n",
    "    return count\n",
    "\n",
    "input_str = input(\"Enter a string: \")\n",
    "result = string_length(input_str)\n",
    "print(\"Length of the string:\", result)"
   ]
  },
  {
   "cell_type": "markdown",
   "id": "bfe99767",
   "metadata": {},
   "source": [
    "This Python code defines a function string_length that calculates and returns the length of a given input string. The code then uses this function to determine and print the length of a string entered by the user. Here's a step-by-step explanation of how the code works:\n",
    "\n",
    "1.Function Definition:\n",
    "The code defines a function named string_length that takes one argument, input_string.\n",
    "\n",
    "2.Length Calculation:\n",
    "Inside the function, there is a for loop that iterates through each character char in the input_string.\n",
    "For each character encountered, the count variable is incremented by 1. This effectively counts the number of characters in the string, which is the string's length.\n",
    "\n",
    "3.Returning the Result:\n",
    "After the loop finishes processing all characters in the input string, the function returns the value stored in the count variable, which represents the length of the input string.\n",
    "\n",
    "4.User Input:\n",
    "The code then prompts the user to enter a string using the input() function and stores the input in the variable input_str.\n",
    "\n",
    "5.Function Call:\n",
    "The string_length function is called with input_str as its argument, and the result is stored in the variable result.\n",
    "\n",
    "6.Printing the Result:\n",
    "Finally, the program prints the result using the print() function, displaying \"Length of the string:\" followed by the value stored in the result variable, which represents the length of the input string."
   ]
  },
  {
   "cell_type": "code",
   "execution_count": 5,
   "id": "69b45e1d",
   "metadata": {},
   "outputs": [
    {
     "name": "stdout",
     "output_type": "stream",
     "text": [
      "Enter a string: Are you happy?\n",
      "Enter the word to check for: you\n",
      "The string contains the word 'you'.\n"
     ]
    }
   ],
   "source": [
    "# Question 9\n",
    "# Check if a string contains a specific word.\n",
    "input_string = input(\"Enter a string: \")\n",
    "specific_word = input(\"Enter the word to check for: \")\n",
    "\n",
    "if specific_word in input_string:\n",
    "    print(f\"The string contains the word '{specific_word}'.\")\n",
    "else:\n",
    "    print(f\"The string does not contain the word '{specific_word}'.\")"
   ]
  },
  {
   "cell_type": "markdown",
   "id": "4fc301f9",
   "metadata": {},
   "source": [
    "This Python code allows a user to enter a string and a specific word, and it checks if the specific word is present in the entered string. Here's a step-by-step explanation of how the code works:\n",
    "\n",
    "1.User Input:\n",
    "The program starts by using the input() function to prompt the user to enter two pieces of information:\n",
    "First, the user is asked to enter a string by displaying the message \"Enter a string: \". The user can input any sequence of characters, including letters, numbers, spaces, and symbols. The entered string is stored in the variable input_string.\n",
    "Second, the user is asked to enter the specific word they want to check for by displaying the message \"Enter the word to check for: \". The user enters the word they want to check, and it is stored in the variable specific_word.\n",
    "\n",
    "2.Word Check:\n",
    "The code uses an if statement to check if specific_word is present in input_string. This is done with the condition if specific_word in input_string:.\n",
    "If specific_word is found in input_string, the program prints a message indicating that the word is present in the string using print(f\"The string contains the word '{specific_word}'.\").\n",
    "If specific_word is not found in input_string, the program prints a message indicating that the word is not present in the string using print(f\"The string does not contain the word '{specific_word}'.\")."
   ]
  },
  {
   "cell_type": "code",
   "execution_count": 17,
   "id": "1020fff3",
   "metadata": {},
   "outputs": [
    {
     "name": "stdout",
     "output_type": "stream",
     "text": [
      "Enter a string: This is a bad day\n",
      "This is a good day\n"
     ]
    }
   ],
   "source": [
    "# Question 10\n",
    "# Replace a word in a string with another word.\n",
    "input_string = input('Enter a string: ')\n",
    "word_to_replace = 'bad'\n",
    "replacement_word = 'good'\n",
    "new_string = input_string.replace(word_to_replace, replacement_word)\n",
    "print(new_string)"
   ]
  },
  {
   "cell_type": "markdown",
   "id": "3a1149eb",
   "metadata": {},
   "source": [
    "This Python code takes a string as input from the user, and then it replaces all occurrences of a specific word (word_to_replace) with another word (replacement_word) in the input string. Here's a step-by-step explanation of how the code works:\n",
    "\n",
    "1.User Input:\n",
    "The program uses the input() function to prompt the user to enter a string. The user can input any sequence of characters, including letters, numbers, spaces, and symbols. The entered string is stored in the variable input_string.\n",
    "\n",
    "2.Define Replacement Words:\n",
    "The code specifies two words:\n",
    "word_to_replace: This is the word you want to search for and replace in the input_string. In this code, it is set to 'bad'.\n",
    "replacement_word: This is the word that will be used to replace all occurrences of word_to_replace. In this code, it is set to 'good'.\n",
    "\n",
    "3.Replacement Using .replace():\n",
    "The code uses the .replace() method to replace all instances of word_to_replace with replacement_word in the input_string.\n",
    "The result of this operation is stored in the variable new_string.\n",
    "\n",
    "4.Printing the Result:\n",
    "Finally, the program prints the new_string using the print() function. The output displays the modified string, which is the input_string with all occurrences of word_to_replace replaced by replacement_word."
   ]
  },
  {
   "cell_type": "code",
   "execution_count": 21,
   "id": "8b646e6f",
   "metadata": {},
   "outputs": [
    {
     "name": "stdout",
     "output_type": "stream",
     "text": [
      "The word 'Hello' appears 3 times in the string.\n"
     ]
    }
   ],
   "source": [
    "# Question 11\n",
    "# Count the occurrences of a word in a string.\n",
    "input_string = \"Hello World, Hello World, Hello World!\"\n",
    "word_to_count = \"Hello\"\n",
    "count = input_string.lower().count(word_to_count.lower())\n",
    "print(f\"The word '{word_to_count}' appears {count} times in the string.\")"
   ]
  },
  {
   "cell_type": "markdown",
   "id": "7aeaa4df",
   "metadata": {},
   "source": [
    "This Python code counts the number of occurrences of a specific word (word_to_count) within a given input string (input_string). It performs the count in a case-insensitive manner, meaning it considers both uppercase and lowercase versions of the word as the same. Here's a step-by-step explanation of how the code works:\n",
    "\n",
    "1.String Initialization:\n",
    "The code initializes two strings:\n",
    "input_string: This is the input string in which you want to count the occurrences of a specific word. In this code, it is set to \"Hello World, Hello World, Hello World!\" for demonstration purposes.\n",
    "word_to_count: This is the word you want to count within input_string. In this code, it is set to \"Hello.\"\n",
    "\n",
    "2.Counting Occurrences:\n",
    "The code uses the .lower() method to make both the input_string and word_to_count lowercase. This is done to perform a case-insensitive count.\n",
    "It then uses the .count() method to count how many times word_to_count appears in the input_string. The result of this count is stored in the count variable.\n",
    "\n",
    "3.Printing the Result:\n",
    "Finally, the program prints the result using the print() function. The output message indicates the word being counted and the count itself: \"The word '{word_to_count}' appears {count} times in the string.\""
   ]
  },
  {
   "cell_type": "code",
   "execution_count": 20,
   "id": "9293fdf7",
   "metadata": {},
   "outputs": [
    {
     "name": "stdout",
     "output_type": "stream",
     "text": [
      "The first occurrence of 'World' starts at index 6.\n"
     ]
    }
   ],
   "source": [
    "# Question 12\n",
    "# Find the first occurrence of a word in a string.\n",
    "text = \"Hello World!\"\n",
    "word_to_find = \"World\"\n",
    "first_occurrence = text.find(word_to_find)\n",
    "if first_occurrence != -1:\n",
    "    print(f\"The first occurrence of '{word_to_find}' starts at index {first_occurrence}.\")\n",
    "else:\n",
    "    print(f\"'{word_to_find}' is not found in the text.\")"
   ]
  },
  {
   "cell_type": "markdown",
   "id": "5d835986",
   "metadata": {},
   "source": [
    "This Python code is designed to find the index of the first occurrence of a specific word (word_to_find) within a given text (text). Here's a step-by-step explanation of how the code works:\n",
    "\n",
    "1.String Initialization:\n",
    "The code initializes two strings:\n",
    "text: This is the text in which you want to find the first occurrence of a specific word. In this code, it is set to \"Hello World!\" for demonstration purposes.\n",
    "word_to_find: This is the word you want to locate within the text. In this code, it is set to \"World.\"\n",
    "\n",
    "2.Finding the First Occurrence:\n",
    "The code uses the .find() method to find the index of the first occurrence of word_to_find within text.\n",
    "The result of this operation is stored in the first_occurrence variable. If word_to_find is not found in text, .find() returns -1.\n",
    "\n",
    "3.Checking the Result:\n",
    "The code enters an if statement to check the value of first_occurrence. If first_occurrence is not equal to -1 (meaning the word was found), it prints a message indicating the starting index of the first occurrence.\n",
    "If first_occurrence is -1 (meaning the word was not found), it prints a message indicating that word_to_find is not present in the text.\n",
    "\n",
    "4.Printing the Result:\n",
    "Finally, the program prints the result using the print() function. Depending on whether the word is found or not, it prints one of two messages:\n",
    "If found: \"The first occurrence of '{word_to_find}' starts at index {first_occurrence}.\"\n",
    "If not found: \"'{word_to_find}' is not found in the text.\""
   ]
  },
  {
   "cell_type": "code",
   "execution_count": 23,
   "id": "189b274c",
   "metadata": {},
   "outputs": [
    {
     "name": "stdout",
     "output_type": "stream",
     "text": [
      "The last occurrence of 'day' starts at index 43.\n"
     ]
    }
   ],
   "source": [
    "# Question 13\n",
    "# Find the last occurrence of a word in a string.\n",
    "text = \"This is a rainy day. But it is a beautiful day\"\n",
    "word_to_find = \"day\"\n",
    "last_occurrence = text.rfind(word_to_find)\n",
    "if last_occurrence != -1:\n",
    "    print(f\"The last occurrence of '{word_to_find}' starts at index {last_occurrence}.\")\n",
    "else:\n",
    "    print(f\"'{word_to_find}' is not found in the text.\")"
   ]
  },
  {
   "cell_type": "markdown",
   "id": "427c6cd5",
   "metadata": {},
   "source": [
    "This Python code is designed to find the index of the last occurrence of a specific word (word_to_find) within a given text (text). Here's a step-by-step explanation of how the code works:\n",
    "\n",
    "1.String Initialization:\n",
    "The code initializes two strings:\n",
    "text: This is the text in which you want to find the last occurrence of a specific word. In this code, it is set to \"This is a rainy day. But it is a beautiful day\" for demonstration purposes.\n",
    "word_to_find: This is the word you want to locate within the text. In this code, it is set to \"day.\"\n",
    "\n",
    "2.Finding the Last Occurrence:\n",
    "The code uses the .rfind() method to find the index of the last occurrence of word_to_find within text. The .rfind() method searches the string from right to left and returns the index of the last occurrence.\n",
    "The result of this operation is stored in the last_occurrence variable. If word_to_find is not found in text, .rfind() returns -1.\n",
    "\n",
    "3.Checking the Result:\n",
    "The code enters an if statement to check the value of last_occurrence. If last_occurrence is not equal to -1 (meaning the word was found), it prints a message indicating the starting index of the last occurrence.\n",
    "If last_occurrence is -1 (meaning the word was not found), it prints a message indicating that word_to_find is not present in the text.\n",
    "\n",
    "4.Printing the Result:\n",
    "Finally, the program prints the result using the print() function. Depending on whether the word is found or not, it prints one of two messages:\n",
    "If found: \"The last occurrence of '{word_to_find}' starts at index {last_occurrence}.\"\n",
    "If not found: \"'{word_to_find}' is not found in the text.\""
   ]
  },
  {
   "cell_type": "code",
   "execution_count": 24,
   "id": "69658d2d",
   "metadata": {},
   "outputs": [
    {
     "name": "stdout",
     "output_type": "stream",
     "text": [
      "['Hello', 'this', 'is', 'a', 'dog!']\n"
     ]
    }
   ],
   "source": [
    "# Question 14\n",
    "# Split a string into a list of words.\n",
    "string = 'Hello this is a dog!'\n",
    "string = string.split()\n",
    "print(string)"
   ]
  },
  {
   "cell_type": "markdown",
   "id": "b8e1af80",
   "metadata": {},
   "source": [
    "This Python code takes a string, splits it into individual words, and stores those words as elements in a list. Here's a step-by-step explanation of how the code works:\n",
    "\n",
    "1.String Initialization:\n",
    "The code initializes a string variable called string with the value \"Hello this is a dog!\" for demonstration purposes.\n",
    "\n",
    "2.Splitting the String:\n",
    "The code uses the .split() method on the string variable. When you call .split() without any arguments, it splits the string into words by whitespace (spaces, tabs, or line breaks). Each word becomes an element in a list.\n",
    "\n",
    "3.Storing the Result:\n",
    "The result of the .split() operation is a list containing the words extracted from the original string. In this case, the list is stored back in the string variable, effectively overwriting the original string.\n",
    "\n",
    "4.Printing the Result:\n",
    "Finally, the program prints the string using the print() function. The output displays the list of words, where each word is a separate element in the list."
   ]
  },
  {
   "cell_type": "code",
   "execution_count": 26,
   "id": "5c94d074",
   "metadata": {},
   "outputs": [
    {
     "name": "stdout",
     "output_type": "stream",
     "text": [
      "hello this is a string\n"
     ]
    }
   ],
   "source": [
    "# Question 15\n",
    "# Join a list of words into a string.\n",
    "list_of_words = ['hello', 'this', 'is', 'a', 'string']\n",
    "string = (' ').join(list_of_words)\n",
    "print(string)"
   ]
  },
  {
   "cell_type": "markdown",
   "id": "bf9f567e",
   "metadata": {},
   "source": [
    "This Python code takes a list of words, joins them together into a single string, and then prints the resulting string. Here's a step-by-step explanation of how the code works:\n",
    "\n",
    "1.List Initialization:\n",
    "The code initializes a list called list_of_words with several string elements: 'hello', 'this', 'is', 'a', 'string'.\n",
    "\n",
    "2.Joining the List Elements:\n",
    "The code uses the .join() method on the string ' ' (a single space) to join the elements of list_of_words together into a single string.\n",
    "The .join() method takes a sequence (in this case, the list) and combines its elements into a string, placing the specified separator (' ' in this case) between each pair of elements.\n",
    "\n",
    "3.Storing the Result:\n",
    "The resulting joined string is assigned back to the string variable.\n",
    "\n",
    "4.Printing the Result:\n",
    "Finally, the program prints the string using the print() function. The output displays the string created by joining the words from the list_of_words, with a space separating each word."
   ]
  },
  {
   "cell_type": "code",
   "execution_count": 27,
   "id": "d28bde47",
   "metadata": {},
   "outputs": [
    {
     "name": "stdout",
     "output_type": "stream",
     "text": [
      "Hi_my_name_is_Arpan\n"
     ]
    }
   ],
   "source": [
    "# Question 16\n",
    "# Convert a string where words are separated by spaces to one where words are separated by underscores.\n",
    "input_string = \"Hi my name is Arpan\"\n",
    "output_string = input_string.replace(\" \", \"_\")\n",
    "print(output_string)"
   ]
  },
  {
   "cell_type": "markdown",
   "id": "f4de0b6f",
   "metadata": {},
   "source": [
    "This Python code takes an input string, replaces all spaces with underscores, and then prints the modified string. Here's a step-by-step explanation of how the code works:\n",
    "\n",
    "1.String Initialization:\n",
    "The code initializes a string variable called input_string with the value \"Hi my name is Arpan\" for demonstration purposes.\n",
    "\n",
    "2.Replacing Spaces with Underscores:\n",
    "The code uses the .replace() method on the input_string variable to replace all occurrences of spaces with underscores. The .replace() method takes two arguments:\n",
    "The first argument is the substring to be replaced, which is a space \" \".\n",
    "The second argument is the replacement string, which is an underscore \"_\".\n",
    "This operation effectively replaces all spaces with underscores in the string.\n",
    "\n",
    "3.Storing the Result:\n",
    "The result of the .replace() operation is stored in a new string variable called output_string.\n",
    "\n",
    "4.Printing the Result:\n",
    "Finally, the program prints the output_string using the print() function. The output displays the modified string with spaces replaced by underscores."
   ]
  },
  {
   "cell_type": "code",
   "execution_count": 28,
   "id": "729bdfbe",
   "metadata": {},
   "outputs": [
    {
     "name": "stdout",
     "output_type": "stream",
     "text": [
      "The string starts with 'Hello'.\n"
     ]
    }
   ],
   "source": [
    "# Question 17\n",
    "# Check if a string starts with a specific word or phrase.\n",
    "text = \"Hello, world! This is evening.\"\n",
    "word_to_check = \"Hello\"\n",
    "starts_with = text.startswith(word_to_check)\n",
    "\n",
    "if starts_with:\n",
    "    print(f\"The string starts with '{word_to_check}'.\")\n",
    "else:\n",
    "    print(f\"The string does not start with '{word_to_check}'.\")"
   ]
  },
  {
   "cell_type": "markdown",
   "id": "e15d9d90",
   "metadata": {},
   "source": [
    "This Python code checks whether a given text (text) starts with a specific word (word_to_check) and then prints a message based on the result. Here's a step-by-step explanation of how the code works:\n",
    "\n",
    "1.String Initialization:\n",
    "The code initializes a string variable called text with the value \"Hello, world! This is evening.\" for demonstration purposes.\n",
    "\n",
    "2.Checking the Start:\n",
    "The code uses the .startswith() method to check if the text starts with the word_to_check. The .startswith() method takes one argument, which is the substring to check for at the beginning of the string.\n",
    "It assigns the result of this check to the starts_with variable. If text starts with word_to_check, starts_with will be True; otherwise, it will be False.\n",
    "\n",
    "3.Conditional Check:\n",
    "The code enters an if statement to evaluate the value of starts_with. If starts_with is True (meaning the text starts with the word), it prints a message indicating that the string starts with word_to_check.\n",
    "If starts_with is False (meaning the text does not start with the word), it prints a message indicating that the string does not start with word_to_check.\n",
    "\n",
    "4.Printing the Result:\n",
    "Finally, the program prints the result using the print() function, displaying one of two messages:\n",
    "If the text starts with the specified word: \"The string starts with '{word_to_check}'.\"\n",
    "If the text does not start with the specified word: \"The string does not start with '{word_to_check}'.\""
   ]
  },
  {
   "cell_type": "code",
   "execution_count": 30,
   "id": "471d9d4a",
   "metadata": {},
   "outputs": [
    {
     "name": "stdout",
     "output_type": "stream",
     "text": [
      "The string ends with 'day'.\n"
     ]
    }
   ],
   "source": [
    "# Question 18\n",
    "# Check if a string ends with a specific word or phrase.\n",
    "text = \"Hello, This is a beautiful day\"\n",
    "word_to_check = \"day\"\n",
    "ends_with = text.endswith(word_to_check)\n",
    "\n",
    "if ends_with:\n",
    "    print(f\"The string ends with '{word_to_check}'.\")\n",
    "else:\n",
    "    print(f\"The string does not end with '{word_to_check}'.\")"
   ]
  },
  {
   "cell_type": "markdown",
   "id": "e916763a",
   "metadata": {},
   "source": [
    "This Python code checks whether a given text (text) ends with a specific word (word_to_check) and then prints a message based on the result. Here's a step-by-step explanation of how the code works:\n",
    "\n",
    "1.String Initialization:\n",
    "The code initializes a string variable called text with the value \"Hello, This is a beautiful day\" for demonstration purposes.\n",
    "\n",
    "2.Checking the End:\n",
    "The code uses the .endswith() method to check if the text ends with the word_to_check. The .endswith() method takes one argument, which is the substring to check for at the end of the string.\n",
    "It assigns the result of this check to the ends_with variable. If text ends with word_to_check, ends_with will be True; otherwise, it will be False.\n",
    "\n",
    "3.Conditional Check:\n",
    "The code enters an if statement to evaluate the value of ends_with. If ends_with is True (meaning the text ends with the word), it prints a message indicating that the string ends with word_to_check.\n",
    "If ends_with is False (meaning the text does not end with the word), it prints a message indicating that the string does not end with word_to_check.\n",
    "\n",
    "4.Printing the Result:\n",
    "Finally, the program prints the result using the print() function, displaying one of two messages:\n",
    "If the text ends with the specified word: \"The string ends with '{word_to_check}'.\"\n",
    "If the text does not end with the specified word: \"The string does not end with '{word_to_check}'.\""
   ]
  },
  {
   "cell_type": "code",
   "execution_count": 34,
   "id": "93f9b8ea",
   "metadata": {},
   "outputs": [
    {
     "name": "stdout",
     "output_type": "stream",
     "text": [
      "Hello World\n"
     ]
    }
   ],
   "source": [
    "# Question 19\n",
    "# Convert a string to title case (e.g., \"hello world\" to \"Hello World\").\n",
    "text = \"hello world\"\n",
    "title_case_text = text.title()\n",
    "print(title_case_text)"
   ]
  },
  {
   "cell_type": "markdown",
   "id": "f996f8ba",
   "metadata": {},
   "source": [
    "This Python code converts a given text (text) into title case and then prints the resulting title-cased string. Here's a step-by-step explanation of how the code works:\n",
    "\n",
    "1.String Initialization:\n",
    "The code initializes a string variable called text with the value \"hello world\" for demonstration purposes.\n",
    "\n",
    "2.Title Case Conversion:\n",
    "The code uses the .title() method on the text variable to convert the text into title case. Title case means that the first letter of each word is capitalized, and the rest of the letters are in lowercase.\n",
    "The result of this operation is stored in the variable title_case_text.\n",
    "\n",
    "3.Printing the Result:\n",
    "Finally, the program prints the title_case_text using the print() function. The output displays the text in title case."
   ]
  },
  {
   "cell_type": "code",
   "execution_count": 36,
   "id": "a2aface4",
   "metadata": {},
   "outputs": [
    {
     "name": "stdout",
     "output_type": "stream",
     "text": [
      "The longest word in the string is 'hippopotamus' with a length of 12 characters.\n"
     ]
    }
   ],
   "source": [
    "# Question 20\n",
    "# Find the longest word in a string.\n",
    "text = \"Some animals like 'crocodile' and 'hippopotamus' can survive in water.\"\n",
    "words = text.split()\n",
    "longest_word = \"\"\n",
    "max_length = 0\n",
    "\n",
    "for word in words:\n",
    "    cleaned_word = ''.join(filter(str.isalnum, word))\n",
    "    \n",
    "    if len(cleaned_word) > max_length:\n",
    "        longest_word = cleaned_word\n",
    "        max_length = len(cleaned_word)\n",
    "\n",
    "print(f\"The longest word in the string is '{longest_word}' with a length of {max_length} characters.\")"
   ]
  },
  {
   "cell_type": "markdown",
   "id": "dd484105",
   "metadata": {},
   "source": [
    "This Python code finds and prints the longest word in a given text (text). Here's a step-by-step explanation of how the code works:\n",
    "\n",
    "1.String Initialization:\n",
    "The code initializes a string variable called text with the value \"Some animals like 'crocodile' and 'hippopotamus' can survive in water.\" for demonstration purposes.\n",
    "\n",
    "2.Splitting the String into Words:\n",
    "The code uses the .split() method to split the text into individual words. By default, .split() splits the string based on whitespace (spaces, tabs, or line breaks). The resulting words are stored in the words list.\n",
    "\n",
    "3.Initializing Variables:\n",
    "The code initializes two variables:\n",
    "longest_word: This variable will eventually store the longest word found in the text.\n",
    "max_length: This variable will store the length of the longest word found.\n",
    "\n",
    "4.Iterating Through Words:\n",
    "The code enters a for loop to iterate through each word in the words list.\n",
    "For each word, it performs the following steps:\n",
    "It uses the filter() function to remove non-alphanumeric characters from the word. This is done by applying the str.isalnum function to each character of the word. The result is a cleaned version of the word with only letters and digits.\n",
    "It checks if the length of the cleaned word is greater than the current max_length. If it is, it updates both the longest_word and max_length variables with the cleaned word and its length, respectively.\n",
    "\n",
    "5.Printing the Result:\n",
    "After iterating through all words, the program prints the result using the print() function. It displays a message indicating the longest word found and its length."
   ]
  },
  {
   "cell_type": "code",
   "execution_count": 37,
   "id": "0381d86b",
   "metadata": {},
   "outputs": [
    {
     "name": "stdout",
     "output_type": "stream",
     "text": [
      "The shortest word in the string is 'in' with a length of 2 characters.\n"
     ]
    }
   ],
   "source": [
    "# Question 21\n",
    "# Find the shortest word in a string.\n",
    "text = \"Some animals like 'tiger' and 'lion' lives in forest.\"\n",
    "words = text.split()\n",
    "shortest_word = \"\"\n",
    "min_length = float('inf')\n",
    "\n",
    "for word in words:\n",
    "    cleaned_word = ''.join(filter(str.isalnum, word))\n",
    "    \n",
    "    if len(cleaned_word) < min_length:\n",
    "        shortest_word = cleaned_word\n",
    "        min_length = len(cleaned_word)\n",
    "\n",
    "print(f\"The shortest word in the string is '{shortest_word}' with a length of {min_length} characters.\")"
   ]
  },
  {
   "cell_type": "markdown",
   "id": "6919472a",
   "metadata": {},
   "source": [
    "This Python code finds and prints the shortest word in a given text (text). Here's a step-by-step explanation of how the code works:\n",
    "\n",
    "1.String Initialization:\n",
    "The code initializes a string variable called text with the value \"Some animals like 'tiger' and 'lion' lives in the forest.\" for demonstration purposes.\n",
    "\n",
    "2.Splitting the String into Words:\n",
    "The code uses the .split() method to split the text into individual words. By default, .split() splits the string based on whitespace (spaces, tabs, or line breaks). The resulting words are stored in the words list.\n",
    "\n",
    "3.Initializing Variables:\n",
    "The code initializes two variables:\n",
    "shortest_word: This variable will eventually store the shortest word found in the text.\n",
    "min_length: This variable is initialized with positive infinity (float('inf')). It will be used to keep track of the minimum word length found.\n",
    "\n",
    "4.Iterating Through Words:\n",
    "The code enters a for loop to iterate through each word in the words list.\n",
    "For each word, it performs the following steps:\n",
    "It uses the filter() function to remove non-alphanumeric characters from the word. This is done by applying the str.isalnum function to each character of the word. The result is a cleaned version of the word with only letters and digits.\n",
    "It checks if the length of the cleaned word is less than the current min_length. If it is, it updates both the shortest_word and min_length variables with the cleaned word and its length, respectively.\n",
    "\n",
    "5.Printing the Result:\n",
    "After iterating through all words, the program prints the result using the print() function. It displays a message indicating the shortest word found and its length."
   ]
  },
  {
   "cell_type": "code",
   "execution_count": 39,
   "id": "2be09b12",
   "metadata": {},
   "outputs": [
    {
     "name": "stdout",
     "output_type": "stream",
     "text": [
      "tall very is He\n"
     ]
    }
   ],
   "source": [
    "# Question 22\n",
    "# Reverse the order of words in a string.\n",
    "text = \"He is very tall\"\n",
    "words = text.split()\n",
    "reversed_words = words[::-1]\n",
    "reversed_text = ' '.join(reversed_words)\n",
    "print(reversed_text)"
   ]
  },
  {
   "cell_type": "markdown",
   "id": "6cea9cfb",
   "metadata": {},
   "source": [
    "This Python code takes a given text (text), splits it into individual words, reverses the order of those words, and then prints the resulting reversed text. Here's a step-by-step explanation of how the code works:\n",
    "\n",
    "1.String Initialization:\n",
    "The code initializes a string variable called text with the value \"He is very tall\" for demonstration purposes.\n",
    "\n",
    "2.Splitting the String into Words:\n",
    "The code uses the .split() method to split the text into individual words. By default, .split() splits the string based on whitespace (spaces, tabs, or line breaks). The resulting words are stored in the words list.\n",
    "\n",
    "3.Reversing the Word Order:\n",
    "The code reverses the order of the words in the words list using slicing. It does this by using the [::-1] slicing notation, which effectively reverses the list.\n",
    "\n",
    "4.Joining the Reversed Words:\n",
    "After reversing the words, the code uses the .join() method to join them back together into a single string, separated by spaces. The result is stored in the reversed_text variable.\n",
    "\n",
    "5.Printing the Result:\n",
    "Finally, the program prints the reversed_text using the print() function. The output displays the original text with the order of its words reversed."
   ]
  },
  {
   "cell_type": "code",
   "execution_count": 40,
   "id": "0fd7ce1e",
   "metadata": {},
   "outputs": [
    {
     "name": "stdout",
     "output_type": "stream",
     "text": [
      "The string is alphanumeric.\n"
     ]
    }
   ],
   "source": [
    "# Question 23\n",
    "# Check if a string is alphanumeric.\n",
    "text = \"Hello123\"\n",
    "is_alphanumeric = text.isalnum()\n",
    "if is_alphanumeric:\n",
    "    print(\"The string is alphanumeric.\")\n",
    "else:\n",
    "    print(\"The string is not alphanumeric.\")"
   ]
  },
  {
   "cell_type": "markdown",
   "id": "56d18f8f",
   "metadata": {},
   "source": [
    "This Python code checks whether a given string (text) is alphanumeric and then prints a message based on the result. Here's a step-by-step explanation of how the code works:\n",
    "\n",
    "1.String Initialization:\n",
    "The code initializes a string variable called text with the value \"Hello123\" for demonstration purposes.\n",
    "\n",
    "2.Checking Alphanumeric:\n",
    "The code uses the .isalnum() method on the text variable. The .isalnum() method checks if all characters in the string are alphanumeric, meaning they are either letters (A-Z or a-z) or digits (0-9).\n",
    "The result of this check (a boolean value) is stored in the variable is_alphanumeric.\n",
    "\n",
    "3.Conditional Check:\n",
    "The code enters an if statement to evaluate the value of is_alphanumeric. If is_alphanumeric is True (meaning the string contains only letters and digits), it prints a message indicating that the string is alphanumeric.\n",
    "If is_alphanumeric is False (meaning the string contains characters other than letters and digits), it prints a message indicating that the string is not alphanumeric.\n",
    "\n",
    "4.Printing the Result:\n",
    "Finally, the program prints the result using the print() function, displaying one of two messages:\n",
    "If the string is alphanumeric: \"The string is alphanumeric.\"\n",
    "If the string is not alphanumeric: \"The string is not alphanumeric.\""
   ]
  },
  {
   "cell_type": "code",
   "execution_count": 42,
   "id": "f5584ced",
   "metadata": {},
   "outputs": [
    {
     "name": "stdout",
     "output_type": "stream",
     "text": [
      "Extracted digits: 20000\n"
     ]
    }
   ],
   "source": [
    "# Question 24\n",
    "# Extract all digits from a string.\n",
    "import re\n",
    "text = \"The price of the product is 200.00 rupees.\"\n",
    "digits = re.findall(r'\\d', text)\n",
    "digit_string = ''.join(digits)\n",
    "print(\"Extracted digits:\", digit_string)"
   ]
  },
  {
   "cell_type": "markdown",
   "id": "00cad6b2",
   "metadata": {},
   "source": [
    "This Python code uses the re module (regular expressions) to extract and print all the digits from a given text (text). Here's a step-by-step explanation of how the code works:\n",
    "\n",
    "1.Module Import:\n",
    "The code first imports the re module, which provides support for regular expressions in Python.\n",
    "\n",
    "2.String Initialization:\n",
    "The code initializes a string variable called text with the value \"The price of the product is 200.00 rupees.\" for demonstration purposes.\n",
    "\n",
    "3.Regular Expression Usage:\n",
    "The code uses the re.findall() function to search for all occurrences of a specified regular expression pattern within the text.\n",
    "The regular expression pattern used here is r'\\d', which matches any single digit (0-9) in the text.\n",
    "\n",
    "4.Finding Digits:\n",
    "re.findall(r'\\d', text) finds all the individual digits in the text and returns them as a list of strings. In this case, the list may contain the following digits: ['2', '0', '0', '0', '0'].\n",
    "\n",
    "5.Joining Digits:\n",
    "The code uses the join() method to join the individual digit strings from the list into a single string. This is done by specifying an empty string '' as the separator. This results in a single string that contains all the extracted digits.\n",
    "\n",
    "6.Printing the Result:\n",
    "Finally, the program prints the extracted digit string using the print() function. The output displays the digits that were found in the original text."
   ]
  },
  {
   "cell_type": "code",
   "execution_count": 43,
   "id": "2a65ee72",
   "metadata": {},
   "outputs": [
    {
     "name": "stdout",
     "output_type": "stream",
     "text": [
      "Extracted alphabets: Thepriceoftheproductisrupees\n"
     ]
    }
   ],
   "source": [
    "# Question 25\n",
    "# Extract all alphabets from a string.\n",
    "import re\n",
    "text = \"The price of the product is 100.00 rupees.\"\n",
    "alphabets = re.findall(r'[a-zA-Z]', text)\n",
    "alphabet_string = ''.join(alphabets)\n",
    "print(\"Extracted alphabets:\", alphabet_string)"
   ]
  },
  {
   "cell_type": "markdown",
   "id": "543a5cdf",
   "metadata": {},
   "source": [
    "This Python code uses the re module (regular expressions) to extract and print all the alphabetic characters (letters) from a given text (text). Here's a step-by-step explanation of how the code works:\n",
    "\n",
    "1.Module Import:\n",
    "The code first imports the re module, which provides support for regular expressions in Python.\n",
    "\n",
    "2.String Initialization:\n",
    "The code initializes a string variable called text with the value \"The price of the product is 100.00 rupees.\" for demonstration purposes.\n",
    "\n",
    "3.Regular Expression Usage:\n",
    "The code uses the re.findall() function to search for all occurrences of a specified regular expression pattern within the text.\n",
    "The regular expression pattern used here is [a-zA-Z], which matches any single alphabetic character (either uppercase or lowercase) in the text.\n",
    "\n",
    "4.Finding Alphabetic Characters:\n",
    "re.findall(r'[a-zA-Z]', text) finds all the individual alphabetic characters in the text and returns them as a list of strings. In this case, the list may contain the following alphabetic characters: ['T', 'h', 'e', 'p', 'r', 'i', 'c', 'e', 'o', 'f', 't', 'h', 'e', 'p', 'r', 'o', 'd', 'u', 'c', 't', 'i', 's', 'r', 'u', 'p', 'e', 'e', 's'].\n",
    "\n",
    "5.Joining Alphabetic Characters:\n",
    "The code uses the join() method to join the individual alphabetic character strings from the list into a single string. This is done by specifying an empty string '' as the separator. This results in a single string that contains all the extracted alphabetic characters.\n",
    "\n",
    "6.Printing the Result:\n",
    "Finally, the program prints the extracted alphabet string using the print() function. The output displays the alphabetic characters that were found in the original text."
   ]
  },
  {
   "cell_type": "code",
   "execution_count": 44,
   "id": "36a1ca3a",
   "metadata": {},
   "outputs": [
    {
     "name": "stdout",
     "output_type": "stream",
     "text": [
      "Number of uppercase letters: 13\n"
     ]
    }
   ],
   "source": [
    "# Question 26\n",
    "# Count the number of uppercase letters in a string.\n",
    "text = \"The Quick Brown Fox JUMPS Over The Lazy Dog\"\n",
    "uppercase_count = 0\n",
    "for char in text:\n",
    "    if char.isupper():\n",
    "        uppercase_count += 1\n",
    "\n",
    "print(\"Number of uppercase letters:\", uppercase_count)"
   ]
  },
  {
   "cell_type": "markdown",
   "id": "3c2a26b8",
   "metadata": {},
   "source": [
    "This Python code counts the number of uppercase letters in a given text (text). Here's a step-by-step explanation of how the code works:\n",
    "\n",
    "1.String Initialization:\n",
    "The code initializes a string variable called text with the value \"The Quick Brown Fox JUMPS Over The Lazy Dog\" for demonstration purposes.\n",
    "\n",
    "2.Initializing Variables:\n",
    "The code initializes a variable called uppercase_count to 0. This variable will be used to keep track of the number of uppercase letters found in the text.\n",
    "\n",
    "3.Iterating Through Characters:\n",
    "The code enters a for loop to iterate through each character in the text.\n",
    "For each character, it performs the following steps:\n",
    "\n",
    "4.Checking Uppercase:\n",
    "It uses the .isupper() method on the character (represented by the variable char) to check if the character is an uppercase letter (A-Z).\n",
    "If char is an uppercase letter, it increments the uppercase_count by 1.\n",
    "\n",
    "5.Counting Uppercase Letters:\n",
    "As the loop iterates through all characters in the text, the uppercase_count variable is incremented each time an uppercase letter is encountered.\n",
    "\n",
    "6.Printing the Result:\n",
    "After iterating through all characters, the program prints the uppercase_count using the print() function. The output displays the total number of uppercase letters found in the original text."
   ]
  },
  {
   "cell_type": "code",
   "execution_count": 45,
   "id": "7f78fe0c",
   "metadata": {},
   "outputs": [
    {
     "name": "stdout",
     "output_type": "stream",
     "text": [
      "Number of lowercase letters: 22\n"
     ]
    }
   ],
   "source": [
    "# Question 27\n",
    "# Count the number of lowercase letters in a string.\n",
    "text = \"The Quick Brown Fox JUMPS Over The Lazy Dog\"\n",
    "lowercase_count = 0\n",
    "for char in text:\n",
    "    if char.islower():\n",
    "        lowercase_count += 1\n",
    "\n",
    "print(\"Number of lowercase letters:\", lowercase_count)"
   ]
  },
  {
   "cell_type": "markdown",
   "id": "f04610e4",
   "metadata": {},
   "source": [
    "This Python code counts the number of lowercase letters in a given text (text). Here's a step-by-step explanation of how the code works:\n",
    "\n",
    "1.String Initialization:\n",
    "The code initializes a string variable called text with the value \"The Quick Brown Fox JUMPS Over The Lazy Dog\" for demonstration purposes.\n",
    "\n",
    "2.Initializing Variables:\n",
    "The code initializes a variable called lowercase_count to 0. This variable will be used to keep track of the number of lowercase letters found in the text.\n",
    "\n",
    "3.Iterating Through Characters:\n",
    "The code enters a for loop to iterate through each character in the text.\n",
    "For each character, it performs the following steps:\n",
    "\n",
    "4.Checking Lowercase:\n",
    "It uses the .islower() method on the character (represented by the variable char) to check if the character is a lowercase letter (a-z).\n",
    "If char is a lowercase letter, it increments the lowercase_count by 1.\n",
    "\n",
    "5.Counting Lowercase Letters:\n",
    "As the loop iterates through all characters in the text, the lowercase_count variable is incremented each time a lowercase letter is encountered.\n",
    "\n",
    "6.Printing the Result:\n",
    "After iterating through all characters, the program prints the lowercase_count using the print() function. The output displays the total number of lowercase letters found in the original text."
   ]
  },
  {
   "cell_type": "code",
   "execution_count": 46,
   "id": "cd03a9b4",
   "metadata": {},
   "outputs": [
    {
     "name": "stdout",
     "output_type": "stream",
     "text": [
      "Swapped case: tHE qUICK bROWN fOX jumps oVER tHE lAZY dOG\n"
     ]
    }
   ],
   "source": [
    "# Question 28\n",
    "# Swap the case of each character in a string.\n",
    "text = \"The Quick Brown Fox JUMPS Over The Lazy Dog\"\n",
    "swapped_text = text.swapcase()\n",
    "print(\"Swapped case:\", swapped_text)"
   ]
  },
  {
   "cell_type": "markdown",
   "id": "70194e75",
   "metadata": {},
   "source": [
    "This Python code swaps the case of letters in a given text (text) and then prints the resulting swapped text. Here's a step-by-step explanation of how the code works:\n",
    "\n",
    "1.String Initialization:\n",
    "The code initializes a string variable called text with the value \"The Quick Brown Fox JUMPS Over The Lazy Dog\" for demonstration purposes.\n",
    "\n",
    "2.Swapping the Case:\n",
    "The code uses the .swapcase() method on the text variable. The .swapcase() method in Python swaps the case of all alphabetic characters in the string, converting uppercase letters to lowercase and lowercase letters to uppercase.\n",
    "The result of this operation is stored in the swapped_text variable.\n",
    "\n",
    "3.Printing the Result:\n",
    "Finally, the program prints the swapped_text using the print() function. The output displays the original text with the case of its letters swapped."
   ]
  },
  {
   "cell_type": "code",
   "execution_count": 47,
   "id": "a2fcd80b",
   "metadata": {},
   "outputs": [
    {
     "name": "stdout",
     "output_type": "stream",
     "text": [
      "Modified string: Hello! are you there \n"
     ]
    }
   ],
   "source": [
    "# Question 29\n",
    "# Remove a specific word from a string.\n",
    "text = \"Hello! are you there man\"\n",
    "word_to_remove = \"man\"\n",
    "modified_text = text.replace(word_to_remove, '')\n",
    "print(\"Modified string:\", modified_text)"
   ]
  },
  {
   "cell_type": "markdown",
   "id": "eaf50393",
   "metadata": {},
   "source": [
    "This Python code removes a specific word from a given text (text) and then prints the modified text. Here's a step-by-step explanation of how the code works:\n",
    "\n",
    "1.String Initialization:\n",
    "The code initializes a string variable called text with the value \"Hello! are you there man\" for demonstration purposes.\n",
    "\n",
    "2.Word to Remove:\n",
    "The code specifies a word to remove from the text using the variable word_to_remove. In this case, the word to be removed is \"man.\"\n",
    "\n",
    "3.Removing the Word:\n",
    "The code uses the .replace() method on the text variable to remove all occurrences of the word_to_remove from the text.\n",
    "The .replace() method takes two arguments: the first argument is the substring to be replaced (word_to_remove), and the second argument is an empty string ''. This effectively replaces all occurrences of the specified word with an empty string, effectively removing it.\n",
    "\n",
    "4.Storing the Modified Text:\n",
    "The result of the .replace() operation, which is the modified text with the specified word removed, is stored in the modified_text variable.\n",
    "\n",
    "5.Printing the Result:\n",
    "Finally, the program prints the modified_text using the print() function. The output displays the text with the specified word (\"man\") removed."
   ]
  },
  {
   "cell_type": "code",
   "execution_count": 50,
   "id": "2ae674a9",
   "metadata": {},
   "outputs": [
    {
     "name": "stdout",
     "output_type": "stream",
     "text": [
      "Valid email address\n"
     ]
    }
   ],
   "source": [
    "# Question 30\n",
    "# Check if a string is a valid email address.\n",
    "import re\n",
    "email = \"example@email.com\"\n",
    "pattern = r'^[a-zA-Z0-9._%+-]+@[a-zA-Z0-9.-]+\\.[a-zA-Z]{2,}$'\n",
    "if re.match(pattern, email):\n",
    "    print(\"Valid email address\")\n",
    "else:\n",
    "    print(\"Invalid email address\")"
   ]
  },
  {
   "cell_type": "markdown",
   "id": "ffd71f71",
   "metadata": {},
   "source": [
    "This Python code checks whether a given email address (email) is valid or not using regular expressions. Here's a step-by-step explanation of how the code works:\n",
    "\n",
    "1.Module Import:\n",
    "The code imports the re module, which provides support for regular expressions in Python. Regular expressions are used to define and match patterns in strings.\n",
    "\n",
    "2.Email Initialization:\n",
    "The code initializes a string variable called email with the value \"example@email.com\" for demonstration purposes. This is the email address to be checked for validity.\n",
    "\n",
    "3.Regular Expression Pattern:\n",
    "The code defines a regular expression pattern stored in the pattern variable. This pattern is designed to match valid email addresses based on common email address rules.\n",
    "Here's a breakdown of the regular expression pattern:\n",
    "^[a-zA-Z0-9._%+-]+: Matches one or more alphanumeric characters, dots, underscores, percent signs, plus signs, or hyphens at the start of the string (before the \"@\" symbol).\n",
    "@: Matches the \"@\" symbol.\n",
    "[a-zA-Z0-9.-]+: Matches one or more alphanumeric characters, dots, or hyphens in the domain part of the email address (between \"@\" and \".\").\n",
    "\\.: Matches the \".\" symbol (dot) that separates the domain from the top-level domain (TLD).\n",
    "[a-zA-Z]{2,}$: Matches two or more alphabetic characters at the end of the string (the TLD).\n",
    "\n",
    "4.Matching the Pattern:\n",
    "The code uses the re.match() function to attempt to match the regular expression pattern (pattern) to the email string.\n",
    "If the re.match() function successfully matches the pattern to the email string (i.e., the email address follows the expected format), it returns a match object, indicating a valid email address.\n",
    "\n",
    "5.Conditional Check:\n",
    "The code enters an if statement to check the result of the re.match() operation.\n",
    "If a match object is returned (i.e., the email address is valid), it prints \"Valid email address.\"\n",
    "If no match object is returned (i.e., the email address is not valid), it prints \"Invalid email address.\"\n",
    "\n",
    "6.Printing the Result:\n",
    "Finally, the program prints the result of the email address validation using the print() function."
   ]
  },
  {
   "cell_type": "code",
   "execution_count": 1,
   "id": "edd0cd7f",
   "metadata": {},
   "outputs": [
    {
     "name": "stdout",
     "output_type": "stream",
     "text": [
      "Enter an email address: arpankumarsasmal@gmail.com\n",
      "The username is: arpankumarsasmal\n"
     ]
    }
   ],
   "source": [
    "# Question 31\n",
    "# Extract the username from an email address string.\n",
    "email = input(\"Enter an email address: \")\n",
    "at_index = email.find(\"@\")\n",
    "\n",
    "if at_index != -1:\n",
    "    username = email[:at_index]\n",
    "    print(f\"The username is: {username}\")\n",
    "else:\n",
    "    print(\"Invalid email address. No '@' symbol found.\")"
   ]
  },
  {
   "cell_type": "markdown",
   "id": "5f80ba98",
   "metadata": {},
   "source": [
    "This Python code is designed to extract and display the username from an email address entered by the user. Here's a step-by-step explanation of how it works:\n",
    "\n",
    "1.User Input:\n",
    "The program begins by using the input() function to request input from the user. It presents a prompt: \"Enter an email address:\" and waits for the user to provide their input.\n",
    "The user is expected to enter an email address as a string. The entered email address is stored in the variable email.\n",
    "\n",
    "2.Finding the \"@\" Symbol:\n",
    "The code utilizes the .find(\"@\") method on the email string to locate the position (index) of the \"@\" symbol within the email address.\n",
    "The .find() method searches for the \"@\" symbol in the email string and returns its index if found. If the \"@\" symbol is not found, it returns -1.\n",
    "The result of this search is stored in the variable at_index.\n",
    "\n",
    "3.Username Extraction:\n",
    "The code checks if at_index is not equal to -1 using the conditional statement if at_index != -1:.\n",
    "If the \"@\" symbol is found in the email address (i.e., at_index is not -1), the code extracts the characters from the beginning of the email string up to, but not including, the \"@\" symbol using slicing.\n",
    "The extracted portion represents the username, which is stored in the variable username.\n",
    "\n",
    "4.Output:\n",
    "If a valid email address was provided and the \"@\" symbol was found, the program prints a message using an f-string: \"The username is: {username}\". This message includes the extracted username.\n",
    "If the \"@\" symbol was not found in the email address (i.e., at_index is -1), the code prints an error message: \"Invalid email address. No '@' symbol found.\""
   ]
  },
  {
   "cell_type": "code",
   "execution_count": 2,
   "id": "01eb470b",
   "metadata": {},
   "outputs": [
    {
     "name": "stdout",
     "output_type": "stream",
     "text": [
      "Enter an email address: arpankumarsasmal@gmail.com\n",
      "The domain name is: gmail.com\n"
     ]
    }
   ],
   "source": [
    "# Question 32\n",
    "# Extract the domain name from an email address string.\n",
    "email = input(\"Enter an email address: \")\n",
    "parts = email.split(\"@\")\n",
    "\n",
    "if len(parts) == 2:\n",
    "    domain = parts[1]\n",
    "    print(f\"The domain name is: {domain}\")\n",
    "else:\n",
    "    print(\"Invalid email address. No '@' symbol found.\")"
   ]
  },
  {
   "cell_type": "markdown",
   "id": "574697f0",
   "metadata": {},
   "source": [
    "This Python code is designed to extract and display the domain name from an email address entered by the user. Here's a step-by-step explanation of how it works:\n",
    "\n",
    "1.User Input:\n",
    "The program starts by using the input() function to prompt the user to enter an email address. It presents a user-friendly message: \"Enter an email address:\", and waits for the user to provide their input.\n",
    "The user is expected to enter an email address as a string, which is stored in the variable email.\n",
    "\n",
    "2.Splitting the Email Address:\n",
    "The code uses the .split(\"@\") method on the email string to split it into two parts, dividing it at the \"@\" symbol. This creates a list called parts.\n",
    "The parts list will contain two elements: the part before the \"@\" symbol (username) and the part after the \"@\" symbol (domain).\n",
    "\n",
    "3.Checking for the \"@\" Symbol:\n",
    "The code checks if the length of the parts list is exactly 2. If it is, it indicates that the \"@\" symbol was found in the email address, and both the username and domain are present.\n",
    "\n",
    "4.Extracting the Domain Name:\n",
    "If the \"@\" symbol was found (i.e., len(parts) == 2), the code extracts the domain name from the parts list. It's stored in the domain variable, which corresponds to the second element of the list (parts[1]).\n",
    "\n",
    "5.Output:\n",
    "If a valid email address was provided and the \"@\" symbol was found, the program prints a message using an f-string: \"The domain name is: {domain}\". This message includes the extracted domain name.\n",
    "If the \"@\" symbol was not found in the email address (i.e., len(parts) != 2), it indicates that the email address is invalid, and the code prints an error message: \"Invalid email address. No '@' symbol found.\""
   ]
  },
  {
   "cell_type": "code",
   "execution_count": 102,
   "id": "890bab45",
   "metadata": {},
   "outputs": [
    {
     "name": "stdout",
     "output_type": "stream",
     "text": [
      "Cleaned string: Hello my name is Arpan\n"
     ]
    }
   ],
   "source": [
    "# Question 33\n",
    "# Replace multiple spaces in a string with a single space.\n",
    "text = 'Hello    my         name    is                Arpan'\n",
    "cleaned_text = ' '.join(text.split())\n",
    "print(\"Cleaned string:\", cleaned_text)"
   ]
  },
  {
   "cell_type": "markdown",
   "id": "7f622a3f",
   "metadata": {},
   "source": [
    "This Python code is designed to clean up and remove extra whitespace (including multiple consecutive spaces) from a given text string. Here's a step-by-step explanation of how it works:\n",
    "\n",
    "1.Input Text:\n",
    "The program starts with a given text string stored in the variable text. This text string may contain multiple spaces, including extra spaces between words.\n",
    "\n",
    "2.Cleaning the Text:\n",
    "\n",
    "2.1. The code processes the text string to remove extra whitespace using the following steps:\n",
    "\n",
    "2.2. text.split(): The .split() method without any arguments splits the text string into a list of substrings based on whitespace characters (spaces, tabs, and newline characters). This effectively splits the text into words or chunks, eliminating any extra spaces between them.\n",
    "\n",
    "2.3.  ' '.join(...): After splitting the text into words, the code uses the .join(...) method to join these words back together into a single string, separated by a single space. This step effectively replaces consecutive spaces with a single space, resulting in a cleaned version of the text.\n",
    "\n",
    "3.Output:\n",
    "The cleaned text string is stored in the variable cleaned_text.\n",
    "To provide feedback to the user, the program uses the print() function to display the cleaned text with the message \"Cleaned string:\"."
   ]
  },
  {
   "cell_type": "code",
   "execution_count": 119,
   "id": "fcb684b5",
   "metadata": {},
   "outputs": [
    {
     "name": "stdout",
     "output_type": "stream",
     "text": [
      "Valid URL\n"
     ]
    }
   ],
   "source": [
    "# Question 34\n",
    "# Check if a string is a valid URL\n",
    "import re\n",
    "url = \"https://www.example.com\"\n",
    "url_pattern = r\"^(http|https|ftp)://[^\\s/$.?#].[^\\s]*$\"\n",
    "\n",
    "if re.match(url_pattern, url):\n",
    "    print(\"Valid URL\")\n",
    "else:\n",
    "    print(\"Invalid URL\")"
   ]
  },
  {
   "cell_type": "markdown",
   "id": "a75fe00a",
   "metadata": {},
   "source": [
    "This Python code checks whether a given URL is valid based on a regular expression pattern. Here's a step-by-step explanation of how it works:\n",
    "\n",
    "1.Defining the Input URL:\n",
    "The variable url contains the input URL that will be validated. In this case, it's set to \"https://www.example.com.\" You can replace this URL with any other URL you want to validate.\n",
    "\n",
    "2.Regular Expression Pattern:\n",
    "The code defines a regular expression pattern url_pattern that is used to validate the URL. Let's break down this pattern:\n",
    "^: Asserts the start of the string.\n",
    "(http|https|ftp): This part of the pattern is a group that matches one of three options: \"http,\" \"https,\" or \"ftp.\"\n",
    "://: Matches the \"://\" sequence that separates the protocol from the rest of the URL.\n",
    "[^\\s/$.?#]: Matches any character that is not a whitespace character (\\s) or one of the characters \"/\", \"$,\" \"?,\" or \"#.\" This part ensures that the URL does not contain any spaces or certain special characters in its path.\n",
    ".*: Matches any sequence of characters (zero or more) in the path portion of the URL.\n",
    "$: Asserts the end of the string.\n",
    "\n",
    "3.URL Validation:\n",
    "The re.match(url_pattern, url) function is used to check if the url string matches the url_pattern. This function returns a match object if the URL matches the pattern, or None if it doesn't.\n",
    "\n",
    "4.Printing the Result:\n",
    "The code uses an if-else statement to determine whether the URL is valid:\n",
    "If re.match() returns a match object (indicating a valid URL), it prints \"Valid URL.\"\n",
    "If re.match() returns None (indicating an invalid URL), it prints \"Invalid URL.\""
   ]
  },
  {
   "cell_type": "code",
   "execution_count": 129,
   "id": "1fbe7f90",
   "metadata": {},
   "outputs": [
    {
     "name": "stdout",
     "output_type": "stream",
     "text": [
      "https\n"
     ]
    }
   ],
   "source": [
    "# Question 35\n",
    "# Extract the protocol (http or https) from a URL string.\n",
    "string = \"https://www.example.com\"\n",
    "protocol = string.split('://')[0]\n",
    "print(protocol)"
   ]
  },
  {
   "cell_type": "markdown",
   "id": "d453bf96",
   "metadata": {},
   "source": [
    "This Python code is used to extract the protocol part from a given URL string. Here's a step-by-step explanation of how it works:\n",
    "\n",
    "1.Defining the URL:\n",
    "The URL to be processed is stored in the variable string. In this case, it contains the URL \"https://www.example.com.\" You can replace this URL with any other URL you want to extract the protocol from.\n",
    "\n",
    "2.Splitting the URL:\n",
    "The code uses the split('://') method on the string variable. This method takes a separator as an argument and splits the string into two parts at the first occurrence of that separator. In this case, \"://\" is used as the separator.\n",
    "After the split, the URL is divided into two parts: the protocol (e.g., \"https\") and the rest of the URL (e.g., \"www.example.com\").\n",
    "\n",
    "3.Extracting the Protocol:\n",
    "The code retrieves the first part (i.e., the protocol) resulting from the split operation and stores it in the variable protocol. In this case, protocol will contain the string \"https.\"\n",
    "\n",
    "4.Printing the Result:\n",
    "Finally, the program uses the print() function to display the extracted protocol. In this example, it will print \"https\" as the output."
   ]
  },
  {
   "cell_type": "code",
   "execution_count": 4,
   "id": "da251ace",
   "metadata": {},
   "outputs": [
    {
     "name": "stdout",
     "output_type": "stream",
     "text": [
      "'H': 1\n",
      "'e': 1\n",
      "'l': 3\n",
      "'o': 2\n",
      "',': 1\n",
      "'W': 1\n",
      "'r': 1\n",
      "'d': 1\n",
      "'!': 1\n"
     ]
    }
   ],
   "source": [
    "# Question 36\n",
    "# Find the frequency of each character in a string.\n",
    "text = \"Hello, World!\"\n",
    "char_frequency = {}\n",
    "\n",
    "for char in text:\n",
    "    if char != \" \":\n",
    "        char_frequency[char] = char_frequency.get(char, 0) + 1\n",
    "\n",
    "for char, count in char_frequency.items():\n",
    "    print(f\"'{char}': {count}\")"
   ]
  },
  {
   "cell_type": "markdown",
   "id": "93401cfe",
   "metadata": {},
   "source": [
    "This Python code is used to count the frequency of each character in a given string text and then print out the results in the form of character-count pairs. Here's a step-by-step explanation of how it works:\n",
    "\n",
    "1.Defining the Input String:\n",
    "The variable text contains the input string that will be processed. In this case, it's set to \"Hello, World!\" You can replace this string with any other text you want to analyze.\n",
    "\n",
    "2.Initializing the char_frequency Dictionary:\n",
    "The code initializes an empty dictionary named char_frequency. This dictionary will be used to store character frequencies.\n",
    "\n",
    "3.Counting Character Frequencies:\n",
    "The code enters a for loop that iterates through each character in the text string.\n",
    "Inside the loop, it checks if the current character (char) is not a space character. This is done using the condition if char != \" \". This step excludes spaces from character counting.\n",
    "If the character is not a space, it uses the get() method of the char_frequency dictionary to retrieve the current count for that character. If the character is not present in the dictionary, it defaults to 0.\n",
    "It then increments the count by 1 and updates the count in the char_frequency dictionary.\n",
    "\n",
    "4.Printing Character-Count Pairs:\n",
    "After processing the entire text string, the code enters another for loop that iterates through the items (character-count pairs) in the char_frequency dictionary.\n",
    "For each character (char) and its corresponding count (count), it uses the print() function to display the character and its count.\n",
    "The output consists of lines like \"'H': 1,\" \"'e': 1,\" \"'l': 3,\" and so on, indicating the character and its frequency in the input string."
   ]
  },
  {
   "cell_type": "code",
   "execution_count": 5,
   "id": "18aa5493",
   "metadata": {},
   "outputs": [
    {
     "name": "stdout",
     "output_type": "stream",
     "text": [
      "enter a string: my @#name$ is %Arpan@\n",
      "my name is Arpan\n"
     ]
    }
   ],
   "source": [
    "# Question 37\n",
    "# Remove all punctuation from a string.\n",
    "import re\n",
    "test_str = input(\"enter a string: \")\n",
    "res = re.sub(r'[^\\w\\s]', '', test_str)\n",
    "print(res)"
   ]
  },
  {
   "cell_type": "markdown",
   "id": "e5419f05",
   "metadata": {},
   "source": [
    "This Python code uses the re (regular expressions) module to remove all non-alphanumeric characters and non-whitespace characters from a given input string. Here's a step-by-step explanation of how it works:\n",
    "\n",
    "1.User Input:\n",
    "The program starts by using the input() function to prompt the user to enter a string. The user can input any sequence of characters, including letters, numbers, spaces, punctuation, and symbols. The entered string is stored in the variable test_str.\n",
    "\n",
    "2.Regular Expression Substitution:\n",
    "The re.sub() function is used to perform a regular expression substitution operation on the test_str string.\n",
    "The regular expression r'[^\\w\\s]' is specified as the pattern to match. Let's break down this pattern:\n",
    "[^\\w\\s]: This part of the pattern is a character class that matches any character that is not (^) a word character (\\w) or a whitespace character (\\s).\n",
    "The replacement for the matched characters is specified as an empty string '', which means that any character matching the pattern will be replaced with nothing, effectively removing them from the string.\n",
    "\n",
    "3.Printing the Result:\n",
    "The result of the re.sub() operation, which is the modified test_str with non-alphanumeric and non-whitespace characters removed, is stored in the variable res.\n",
    "Finally, the program uses the print() function to display the res string, which is the input string with unwanted characters removed."
   ]
  },
  {
   "cell_type": "code",
   "execution_count": 235,
   "id": "ecddc5f1",
   "metadata": {},
   "outputs": [
    {
     "name": "stdout",
     "output_type": "stream",
     "text": [
      "This string contains only digits\n"
     ]
    }
   ],
   "source": [
    "# Question 38\n",
    "# Check if a string contains only digits.\n",
    "string = '123'\n",
    "if string.isdigit() == True:\n",
    "    print('This string contains only digits')\n",
    "else:\n",
    "    print('Oops! there is word in string')"
   ]
  },
  {
   "cell_type": "markdown",
   "id": "2faf4f7a",
   "metadata": {},
   "source": [
    "This Python code checks whether a given string consists entirely of digits (numeric characters) or if it contains other non-numeric characters. Here's a step-by-step explanation of how it works:\n",
    "\n",
    "1.Defining the Input String:\n",
    "The variable string contains the input string that will be examined. In this case, it's set to '123,' which is a string consisting of digits. You can replace this string with any other string you want to check.\n",
    "\n",
    "2.Checking if the String Contains Only Digits:\n",
    "The code uses the isdigit() method on the string variable to check if the string consists entirely of digits.\n",
    "string.isdigit() returns True if all characters in the string are numeric digits (0-9), and False if there is at least one non-digit character in the string.\n",
    "\n",
    "3.Printing the Result:\n",
    "The code uses an if-else statement to determine the outcome of the string.isdigit() check:\n",
    "If string.isdigit() returns True (indicating that the string contains only digits), it prints the message \"This string contains only digits.\"\n",
    "If string.isdigit() returns False (indicating that the string contains at least one non-digit character), it prints the message \"Oops! there is a word in the string.\""
   ]
  },
  {
   "cell_type": "code",
   "execution_count": 262,
   "id": "6007a2af",
   "metadata": {},
   "outputs": [
    {
     "name": "stdout",
     "output_type": "stream",
     "text": [
      "This string contains only alphabets\n"
     ]
    }
   ],
   "source": [
    "# Question 39\n",
    "# Check if a string contains only alphabets\n",
    "string = 'abcdDSFWA'\n",
    "if string.isalpha() == True:\n",
    "    print('This string contains only alphabets')\n",
    "else:\n",
    "    print('Oops! there is digit in string')"
   ]
  },
  {
   "cell_type": "markdown",
   "id": "69e6d2e4",
   "metadata": {},
   "source": [
    "This Python code checks whether a given string consists entirely of alphabetic characters (letters) or if it contains non-alphabetic characters such as digits or special symbols. Here's a step-by-step explanation of how it works:\n",
    "\n",
    "1.Defining the Input String:\n",
    "The variable string contains the input string that will be examined. In this case, it's set to 'abcdDSFWA,' which is a string consisting of alphabetic characters. You can replace this string with any other string you want to check.\n",
    "\n",
    "2.Checking if the String Contains Only Alphabets:\n",
    "The code uses the isalpha() method on the string variable to check if the string consists entirely of alphabetic characters.\n",
    "string.isalpha() returns True if all characters in the string are alphabetic (letters), and False if there is at least one non-alphabetic character in the string.\n",
    "\n",
    "3.Printing the Result:\n",
    "The code uses an if-else statement to determine the outcome of the string.isalpha() check:\n",
    "If string.isalpha() returns True (indicating that the string contains only alphabetic characters), it prints the message \"This string contains only alphabets.\"\n",
    "If string.isalpha() returns False (indicating that the string contains at least one non-alphabetic character), it prints the message \"Oops! there is a digit in the string.\""
   ]
  },
  {
   "cell_type": "code",
   "execution_count": 272,
   "id": "72f60394",
   "metadata": {},
   "outputs": [
    {
     "name": "stdout",
     "output_type": "stream",
     "text": [
      "enter a string: My name is Arpan\n",
      "['M', 'y', ' ', 'n', 'a', 'm', 'e', ' ', 'i', 's', ' ', 'A', 'r', 'p', 'a', 'n']\n"
     ]
    }
   ],
   "source": [
    "# Question 40\n",
    "# Convert a string to a list of characters\n",
    "string = input('enter a string: ')\n",
    "my_list = list(string)\n",
    "print(my_list)"
   ]
  },
  {
   "cell_type": "markdown",
   "id": "baa6f7be",
   "metadata": {},
   "source": [
    "This Python code takes an input string from the user and converts it into a list of individual characters. Here's a step-by-step explanation of how it works:\n",
    "\n",
    "1.User Input:\n",
    "The code uses the input() function to prompt the user to enter a string. The user can input any sequence of characters, including letters, numbers, spaces, and symbols.\n",
    "\n",
    "2.Converting the String to a List of Characters:\n",
    "The list() constructor is used to convert the input string into a list of individual characters (characters separated by commas).\n",
    "The list() constructor takes an iterable (in this case, a string is an iterable of characters), and it creates a list containing each character as an element.\n",
    "\n",
    "3.Storing the List:\n",
    "The resulting list of characters is stored in the variable my_list.\n",
    "\n",
    "4.Printing the List:\n",
    "Finally, the code uses the print() function to display the my_list variable, which contains the list of characters from the original input string."
   ]
  },
  {
   "cell_type": "code",
   "execution_count": 6,
   "id": "61ae2480",
   "metadata": {},
   "outputs": [
    {
     "name": "stdout",
     "output_type": "stream",
     "text": [
      "enter first string: listen\n",
      "enter second string: silent\n",
      "'listen' and 'silent' are anagrams.\n"
     ]
    }
   ],
   "source": [
    "# Question 41\n",
    "# Check if two strings are anagrams.\n",
    "def are_anagrams(str1, str2):\n",
    "    str1 = ''.join(e for e in str1 if e.isalnum()).lower()\n",
    "    str2 = ''.join(e for e in str2 if e.isalnum()).lower()\n",
    "\n",
    "    return sorted(str1) == sorted(str2)\n",
    "\n",
    "string1 = input('enter first string: ')\n",
    "string2 = input('enter second string: ')\n",
    "\n",
    "if are_anagrams(string1, string2):\n",
    "    print(f\"'{string1}' and '{string2}' are anagrams.\")\n",
    "else:\n",
    "    print(f\"'{string1}' and '{string2}' are not anagrams.\")"
   ]
  },
  {
   "cell_type": "markdown",
   "id": "93d0cf38",
   "metadata": {},
   "source": [
    "This Python code defines a function are_anagrams(str1, str2) that checks whether two input strings, str1 and str2, are anagrams of each other. Anagrams are words or phrases that have the same characters, only in a different order. Here's a step-by-step explanation of how the code works:\n",
    "\n",
    "1.Defining the are_anagrams Function:\n",
    "The are_anagrams function takes two arguments, str1 and str2, which represent the two strings to be compared for anagram status.\n",
    "\n",
    "2.Cleaning and Preprocessing Strings:\n",
    "Within the function, both str1 and str2 are cleaned and preprocessed to remove non-alphanumeric characters (using .isalnum()) and converted to lowercase. This preprocessing ensures that the comparison is case-insensitive and doesn't consider non-alphanumeric characters.\n",
    "\n",
    "3.Sorting Strings:\n",
    "The cleaned and preprocessed strings, str1 and str2, are sorted using the sorted() function. Sorting ensures that the characters in both strings are in the same order for comparison.\n",
    "\n",
    "4.Comparison:\n",
    "The sorted str1 and str2 are compared using the == operator to check if they are equal. If they are equal, it means that the two input strings are anagrams.\n",
    "\n",
    "5.User Input and Output:\n",
    "The code prompts the user to enter two strings, string1 and string2, which are stored in the variables string1 and string2.\n",
    "\n",
    "6.Calling the are_anagrams Function:\n",
    "The are_anagrams function is called with string1 and string2 as arguments to determine if they are anagrams.\n",
    "\n",
    "7.Printing the Result:\n",
    "Based on the result of the anagram check, the code prints an appropriate message:\n",
    "If the strings are anagrams, it prints a message indicating that they are anagrams.\n",
    "If the strings are not anagrams, it prints a message indicating that they are not anagrams."
   ]
  },
  {
   "cell_type": "code",
   "execution_count": 12,
   "id": "dcfd1bee",
   "metadata": {},
   "outputs": [
    {
     "name": "stdout",
     "output_type": "stream",
     "text": [
      "Enter a string: Hello my name is Arpan\n",
      "Enter the Caesar cipher shift value (an integer): 8\n",
      "Encrypted text: Pmttw ug vium qa Izxiv\n"
     ]
    }
   ],
   "source": [
    "# Question 42\n",
    "# Encode a string using a Caesar cipher.\n",
    "def caesar_cipher(text, shift):\n",
    "    encrypted_text = \"\"\n",
    "\n",
    "    for char in text:\n",
    "        if char.isalpha():\n",
    "            is_upper = char.isupper()\n",
    "            char = char.lower()\n",
    "            shifted = ord(char) + shift\n",
    "\n",
    "            if shifted > ord('z'):\n",
    "                shifted -= 26\n",
    "            elif shifted < ord('a'):\n",
    "                shifted += 26\n",
    "\n",
    "            char = chr(shifted)\n",
    "\n",
    "            if is_upper:\n",
    "                char = char.upper()\n",
    "\n",
    "        encrypted_text += char\n",
    "\n",
    "    return encrypted_text\n",
    "\n",
    "text = input(\"Enter a string: \")\n",
    "shift = int(input(\"Enter the Caesar cipher shift value (an integer): \"))\n",
    "\n",
    "encrypted_text = caesar_cipher(text, shift)\n",
    "\n",
    "print(\"Encrypted text:\", encrypted_text)"
   ]
  },
  {
   "cell_type": "markdown",
   "id": "991246ab",
   "metadata": {},
   "source": [
    "This code defines a Python function `caesar_cipher` that implements a Caesar cipher encryption technique. Caesar cipher is a simple substitution cipher in which each letter in the plaintext is shifted a certain number of places down or up the alphabet. In this case, the shift value is provided by the user as input.\n",
    "\n",
    "Here's an explanation of the code:\n",
    "\n",
    "1. `def caesar_cipher(text, shift):`: This line defines a function named `caesar_cipher` that takes two arguments: `text` (the input string to be encrypted) and `shift` (an integer representing the number of positions to shift each letter).\n",
    "\n",
    "2. `encrypted_text = \"\"`: Initializes an empty string `encrypted_text` where the encrypted result will be stored.\n",
    "\n",
    "3. `for char in text:`: This line starts a loop that iterates over each character in the input `text`.\n",
    "\n",
    "4. `if char.isalpha():`: Checks if the current character `char` is an alphabet letter (A-Z or a-z).\n",
    "\n",
    "5. `is_upper = char.isupper()`: Determines if the current character is uppercase and stores this information in the `is_upper` variable.\n",
    "\n",
    "6. `char = char.lower()`: Converts the character to lowercase to simplify the shifting operation.\n",
    "\n",
    "7. `shifted = ord(char) + shift`: Computes the new character position by adding the `shift` value to the Unicode code point (integer value) of the character.\n",
    "\n",
    "8. The following `if` statements handle cases where the shifted character goes beyond 'z' (the last letter in the alphabet) or before 'a' (the first letter in the alphabet). If this happens, it wraps around by subtracting or adding 26, which is the number of letters in the English alphabet.\n",
    "\n",
    "9. `char = chr(shifted)`: Converts the shifted integer back to a character.\n",
    "\n",
    "10. `if is_upper:`: If the original character was uppercase, this line capitalizes the shifted character.\n",
    "\n",
    "11. `encrypted_text += char`: Appends the shifted character to the `encrypted_text` string.\n",
    "\n",
    "12. After processing all characters in the input `text`, the loop ends, and the function returns the `encrypted_text` containing the encrypted result.\n",
    "\n",
    "13. The program then takes user input for the string to be encrypted (`text`) and the Caesar cipher shift value (`shift`).\n",
    "\n",
    "14. It calls the `caesar_cipher` function with the provided inputs and prints the encrypted result.\n",
    "\n",
    "This code effectively encrypts an input string using the Caesar cipher technique with the specified shift value."
   ]
  },
  {
   "cell_type": "code",
   "execution_count": 13,
   "id": "b7c43f22",
   "metadata": {},
   "outputs": [
    {
     "name": "stdout",
     "output_type": "stream",
     "text": [
      "Enter the encrypted text: Pmttw ug vium qa Izxiv\n",
      "Enter the Caesar cipher shift value (an integer): 8\n",
      "Decrypted text: Hello my name is Arpan\n"
     ]
    }
   ],
   "source": [
    "# Question 43\n",
    "# Decode a Caesar cipher encoded string.\n",
    "def caesar_decipher(encrypted_text, shift):\n",
    "    decrypted_text = \"\"\n",
    "\n",
    "    for char in encrypted_text:\n",
    "        if char.isalpha():\n",
    "            is_upper = char.isupper()\n",
    "            char = char.lower()\n",
    "            shifted = ord(char) - shift\n",
    "\n",
    "            if shifted < ord('a'):\n",
    "                shifted += 26\n",
    "            elif shifted > ord('z'):\n",
    "                shifted -= 26\n",
    "\n",
    "            char = chr(shifted)\n",
    "\n",
    "            if is_upper:\n",
    "                char = char.upper()\n",
    "\n",
    "        decrypted_text += char\n",
    "\n",
    "    return decrypted_text\n",
    "\n",
    "encrypted_text = input(\"Enter the encrypted text: \")\n",
    "shift = int(input(\"Enter the Caesar cipher shift value (an integer): \"))\n",
    "\n",
    "decrypted_text = caesar_decipher(encrypted_text, shift)\n",
    "\n",
    "print(\"Decrypted text:\", decrypted_text)"
   ]
  },
  {
   "cell_type": "markdown",
   "id": "7c9d9eac",
   "metadata": {},
   "source": [
    "This code defines a Python function `caesar_decipher` that performs the decryption of text encrypted using a Caesar cipher. It takes the encrypted text and the Caesar cipher shift value as input and returns the decrypted text.\n",
    "\n",
    "Here's an explanation of the code:\n",
    "\n",
    "1. `def caesar_decipher(encrypted_text, shift):`: This line defines a function named `caesar_decipher` that takes two arguments: `encrypted_text` (the text to be decrypted) and `shift` (an integer representing the number of positions the letters were shifted during encryption).\n",
    "\n",
    "2. `decrypted_text = \"\"`: Initializes an empty string `decrypted_text` where the decrypted result will be stored.\n",
    "\n",
    "3. `for char in encrypted_text:`: This line starts a loop that iterates over each character in the input `encrypted_text`.\n",
    "\n",
    "4. `if char.isalpha():`: Checks if the current character `char` is an alphabet letter (A-Z or a-z).\n",
    "\n",
    "5. `is_upper = char.isupper()`: Determines if the current character is uppercase and stores this information in the `is_upper` variable.\n",
    "\n",
    "6. `char = char.lower()`: Converts the character to lowercase to simplify the shifting operation.\n",
    "\n",
    "7. `shifted = ord(char) - shift`: Computes the new character position by subtracting the `shift` value from the Unicode code point (integer value) of the character.\n",
    "\n",
    "8. The following `if` statements handle cases where the shifted character goes before 'a' (the first letter in the alphabet) or beyond 'z' (the last letter in the alphabet). If this happens, it wraps around by adding or subtracting 26, which is the number of letters in the English alphabet.\n",
    "\n",
    "9. `char = chr(shifted)`: Converts the shifted integer back to a character.\n",
    "\n",
    "10. `if is_upper:`: If the original character was uppercase, this line capitalizes the shifted character.\n",
    "\n",
    "11. `decrypted_text += char`: Appends the shifted character to the `decrypted_text` string.\n",
    "\n",
    "12. After processing all characters in the input `encrypted_text`, the loop ends, and the function returns the `decrypted_text` containing the decrypted result.\n",
    "\n",
    "13. The program takes user input for the encrypted text (`encrypted_text`) and the Caesar cipher shift value (`shift`).\n",
    "\n",
    "14. It calls the `caesar_decipher` function with the provided inputs and prints the decrypted result.\n",
    "\n",
    "This code effectively decrypts an input string that was encrypted using the Caesar cipher technique with the specified shift value, allowing the original text to be recovered."
   ]
  },
  {
   "cell_type": "code",
   "execution_count": 7,
   "id": "e0c5cf11",
   "metadata": {},
   "outputs": [
    {
     "name": "stdout",
     "output_type": "stream",
     "text": [
      "The most frequent word is 'this' with a frequency of 2.\n"
     ]
    }
   ],
   "source": [
    "# Question 44\n",
    "# Find the most frequent word in a string\n",
    "from collections import Counter\n",
    "import re\n",
    "\n",
    "def most_frequent_word(text):\n",
    "    words = re.findall(r'\\w+', text.lower())\n",
    "\n",
    "    word_counts = Counter(words)\n",
    "    most_common_word, frequency = word_counts.most_common(1)[0]\n",
    "\n",
    "    return most_common_word, frequency\n",
    "text = \"This is a sample sentence. This sentence contains sample words.\"\n",
    "most_common_word, frequency = most_frequent_word(text)\n",
    "print(f\"The most frequent word is '{most_common_word}' with a frequency of {frequency}.\")"
   ]
  },
  {
   "cell_type": "markdown",
   "id": "6a161f73",
   "metadata": {},
   "source": [
    "This Python code defines a function most_frequent_word(text) that finds the most frequent word in a given text along with its frequency. Here's a step-by-step explanation of how the code works:\n",
    "\n",
    "1.Importing Libraries:\n",
    "The code begins by importing two libraries:\n",
    "collections: This library is used to create a counter of words to count their frequencies.\n",
    "re (regular expressions): This library is used to extract words from the input text.\n",
    "\n",
    "2.Defining the most_frequent_word Function:\n",
    "The most_frequent_word function takes one argument, text, which represents the input text to be analyzed.\n",
    "\n",
    "3.Extracting Words from the Text:\n",
    "Within the function, the re.findall() method is used with a regular expression pattern (r'\\w+') to extract words from the input text. This pattern matches one or more word characters (letters, digits, or underscores) and returns a list of words.\n",
    "The extracted words are converted to lowercase to ensure case-insensitive counting.\n",
    "\n",
    "4.Counting Word Frequencies:\n",
    "The code uses the Counter() function from the collections library to create a dictionary-like object called word_counts. This object stores each word as a key and its frequency as the corresponding value.\n",
    "\n",
    "5.Finding the Most Common Word:\n",
    "The most_common() method is applied to the word_counts object with an argument of 1 to retrieve the most common word and its frequency as a list of tuples. The [0] index is used to access the first (most common) tuple.\n",
    "The most common word and its frequency are extracted and stored in the variables most_common_word and frequency.\n",
    "\n",
    "6.Returning the Result:\n",
    "The function returns a tuple containing the most common word and its frequency.\n",
    "\n",
    "7.User Input and Output:\n",
    "The code provides an example text, text, for demonstration purposes.\n",
    "The most_frequent_word() function is called with text as an argument to find the most frequent word and its frequency.\n",
    "\n",
    "8.Printing the Result:\n",
    "Finally, the code uses an f-string to print the result, displaying the most frequent word and its frequency."
   ]
  },
  {
   "cell_type": "code",
   "execution_count": 1,
   "id": "c7e4b270",
   "metadata": {},
   "outputs": [
    {
     "name": "stdout",
     "output_type": "stream",
     "text": [
      "Unique words in the string:\n",
      "this\n",
      "are\n",
      "and\n",
      "contains\n",
      "is\n",
      "a\n",
      "repeated\n",
      "some\n",
      "words\n",
      "string\n",
      "sample\n"
     ]
    }
   ],
   "source": [
    "# Question 45\n",
    "# Find all unique words in a string.\n",
    "input_string = \"This is a sample string. This string contains some words, and some words are repeated.\"\n",
    "\n",
    "import string\n",
    "translator = str.maketrans('', '', string.punctuation)\n",
    "words = input_string.translate(translator).split()\n",
    "\n",
    "unique_words = set()\n",
    "\n",
    "for word in words:\n",
    "    unique_words.add(word.lower())\n",
    "\n",
    "print(\"Unique words in the string:\")\n",
    "for word in unique_words:\n",
    "    print(word)"
   ]
  },
  {
   "cell_type": "markdown",
   "id": "d8207703",
   "metadata": {},
   "source": [
    "This code is designed to find and print unique words in an input string while ignoring punctuation and treating words in a case-insensitive manner. Here's an explanation of the code:\n",
    "\n",
    "1.input_string = \"This is a sample string. This string contains some words, and some words are repeated.\": This line defines an input string containing text.\n",
    "\n",
    "2.import string: Imports the string module, which provides a collection of punctuation characters.\n",
    "\n",
    "3.translator = str.maketrans('', '', string.punctuation): Creates a translation table using str.maketrans(). This translation table is used to remove punctuation characters from the input string. It effectively maps each punctuation character to None.\n",
    "\n",
    "4.words = input_string.translate(translator).split(): The translate() method is applied to the input_string using the translator to remove punctuation. Then, split() is called to split the resulting string into a list of words. This list of words is stored in the words variable.\n",
    "\n",
    "5.unique_words = set(): Initializes an empty set called unique_words to store unique words from the words list.\n",
    "\n",
    "6.for word in words:: Initiates a loop that iterates over each word in the words list.\n",
    "\n",
    "7.unique_words.add(word.lower()): Within the loop, each word is converted to lowercase using the lower() method, ensuring that words are treated in a case-insensitive manner. Then, the lowercase word is added to the unique_words set. This set automatically discards duplicates, so it only contains unique words.\n",
    "\n",
    "8.After processing all words in the input string, the loop ends.\n",
    "\n",
    "9.print(\"Unique words in the string:\"): Prints a header message to indicate that the following lines will display the unique words.\n",
    "\n",
    "10.for word in unique_words:: Initiates another loop that iterates over each unique word in the unique_words set.\n",
    "\n",
    "11.print(word): Within the loop, each unique word is printed to the console, displaying the unique words in the input string one by one.\n",
    "\n",
    "In summary, this code removes punctuation from an input string, splits the string into words, and then finds and prints the unique words while ignoring letter case. It's a simple way to analyze and extract the unique words from a text."
   ]
  },
  {
   "cell_type": "code",
   "execution_count": 4,
   "id": "b23c4806",
   "metadata": {},
   "outputs": [
    {
     "name": "stderr",
     "output_type": "stream",
     "text": [
      "[nltk_data] Downloading package cmudict to\n",
      "[nltk_data]     C:\\Users\\User\\AppData\\Roaming\\nltk_data...\n",
      "[nltk_data]   Package cmudict is already up-to-date!\n"
     ]
    },
    {
     "name": "stdout",
     "output_type": "stream",
     "text": [
      "The word 'elephant' has 3 syllables.\n"
     ]
    }
   ],
   "source": [
    "# Question 46\n",
    "# Count the number of syllables in a string.\n",
    "import nltk\n",
    "\n",
    "nltk.download('cmudict')\n",
    "\n",
    "def count_syllables(word):\n",
    "    syllables = nltk.corpus.cmudict.dict()\n",
    "    if word.lower() in syllables:\n",
    "        return max([len(list(y for y in x if y[-1].isdigit())) for x in syllables[word.lower()]])\n",
    "    else:\n",
    "        return 1\n",
    "\n",
    "word = \"elephant\"\n",
    "print(f\"The word '{word}' has {count_syllables(word)} syllables.\")"
   ]
  },
  {
   "cell_type": "markdown",
   "id": "a3a913e8",
   "metadata": {},
   "source": [
    "This code is designed to count the number of syllables in a given word using the CMU Pronouncing Dictionary from the Natural Language Toolkit (NLTK) in Python. Here's an explanation of the code:\n",
    "\n",
    "1.import nltk: Imports the NLTK library, which is a popular library for working with natural language processing tasks in Python.\n",
    "\n",
    "2.nltk.download('cmudict'): Downloads the CMU Pronouncing Dictionary dataset from NLTK. This dataset contains phonetic transcriptions for many English words, including information about syllables.\n",
    "\n",
    "3.def count_syllables(word): Defines a function called count_syllables that takes a single argument, word, which is the word for which you want to count syllables.\n",
    "\n",
    "4.syllables = nltk.corpus.cmudict.dict(): Loads the CMU Pronouncing Dictionary into the syllables variable. This dictionary maps words to lists of their phonetic transcriptions, including information about syllables.\n",
    "\n",
    "5.if word.lower() in syllables:: Checks if the lowercase version of the input word exists in the syllables dictionary. The .lower() method is used to ensure case-insensitive matching.\n",
    "\n",
    "6.return max([len(list(y for y in x if y[-1].isdigit())) for x in syllables[word.lower()]]):\n",
    "\n",
    "syllables[word.lower()] retrieves the list of phonetic transcriptions for the lowercase input word.\n",
    "list(y for y in x if y[-1].isdigit()) iterates through each phonetic transcription (x) and selects the elements that end with a digit, which typically represents a syllable.\n",
    "len(...) calculates the length of the list of selected syllables.\n",
    "max(...) finds the maximum number of syllables among all the phonetic transcriptions for the word.\n",
    "The max function is used because a word may have multiple pronunciations, and we want to consider the maximum syllable count among them.\n",
    "\n",
    "7.else:: If the word is not found in the CMU Pronouncing Dictionary, this block of code is executed.\n",
    "\n",
    "8.return 1: Returns 1 as the default syllable count for words that are not found in the dictionary. This is a simple fallback value.\n",
    "\n",
    "9.word = \"elephant\": Defines a test word, in this case, \"elephant.\"\n",
    "\n",
    "10.print(f\"The word '{word}' has {count_syllables(word)} syllables.\"): Calls the count_syllables function with the test word and prints the result, indicating the number of syllables in the word."
   ]
  },
  {
   "cell_type": "code",
   "execution_count": 80,
   "id": "5aab46dd",
   "metadata": {},
   "outputs": [
    {
     "name": "stdout",
     "output_type": "stream",
     "text": [
      "Enter a string: hello world#\n",
      "The string contains special characters.\n"
     ]
    }
   ],
   "source": [
    "# Question 47\n",
    "# Check if a string contains any special characters.\n",
    "import re\n",
    "def contains_special_characters(input_string):\n",
    "    \n",
    "    pattern = r'[!@#$%^&*()_+{}\\[\\]:;\"\\'<>,.?\\\\|/`~]'\n",
    "\n",
    "    if re.search(pattern, input_string):\n",
    "        return True\n",
    "    else:\n",
    "        return False\n",
    "\n",
    "input_string = input(\"Enter a string: \")\n",
    "\n",
    "if contains_special_characters(input_string):\n",
    "    print(\"The string contains special characters.\")\n",
    "else:\n",
    "    print(\"The string does not contain special characters.\")"
   ]
  },
  {
   "cell_type": "markdown",
   "id": "0a4619a4",
   "metadata": {},
   "source": [
    "This code is designed to determine whether a given input string contains any special characters. Special characters are defined as any characters that are not letters (both uppercase and lowercase) or digits. Here's an explanation of the code:\n",
    "\n",
    "1.import re: Imports the Python re module, which provides support for regular expressions.\n",
    "\n",
    "2.def contains_special_characters(input_string): Defines a function called contains_special_characters that takes one argument, input_string, which is the string to be checked for special characters.\n",
    "\n",
    "3.pattern = r'[!@#$%^&*()_+{}\\[\\]:;\"\\'<>,.?\\\\|/~]'`: Defines a regular expression pattern using a string. This pattern includes various special characters enclosed within square brackets. These characters represent the set of special characters we want to check for in the input string.\n",
    "\n",
    "4.if re.search(pattern, input_string):: Uses the re.search() function to search for occurrences of the regular expression pattern (pattern) within the input_string.\n",
    "\n",
    "If the pattern is found in the input_string, the re.search() function returns a match object, which is considered \"truthy\" in Python, and the if block is executed.\n",
    "If the pattern is not found, the re.search() function returns None, which is considered \"falsy\" in Python, and the else block is executed.\n",
    "\n",
    "5.return True: If a match is found (i.e., the input string contains special characters), the function returns True.\n",
    "\n",
    "6.return False: If no match is found (i.e., the input string does not contain special characters), the function returns False.\n",
    "\n",
    "7.input_string = input(\"Enter a string: \"): Prompts the user to enter a string and stores it in the input_string variable.\n",
    "\n",
    "8.if contains_special_characters(input_string):: Calls the contains_special_characters function with the user-provided input_string and checks the returned value.\n",
    "\n",
    "9.If True is returned (indicating that special characters were found), the code within this block is executed.\n",
    "print(\"The string contains special characters.\"): Prints a message indicating that the input string contains special characters.\n",
    "\n",
    "10.else:: If False is returned (indicating that no special characters were found), this block of code is executed.\n",
    "\n",
    "11.print(\"The string does not contain special characters.\"): Prints a message indicating that the input string does not contain special characters."
   ]
  },
  {
   "cell_type": "code",
   "execution_count": 9,
   "id": "6dce8d3e",
   "metadata": {},
   "outputs": [
    {
     "name": "stdout",
     "output_type": "stream",
     "text": [
      "Modified string: This is sample sentence.\n"
     ]
    }
   ],
   "source": [
    "# Question 48\n",
    "# Remove the nth word from a string.\n",
    "def remove_nth_word(input_string, n):\n",
    "    words = input_string.split()\n",
    "\n",
    "    if n >= 0 and n < len(words):\n",
    "        del words[n]\n",
    "        \n",
    "        result_string = ' '.join(words)\n",
    "        return result_string\n",
    "    else:\n",
    "        return \"Invalid index, word not removed.\"\n",
    "\n",
    "input_string = \"This is a sample sentence.\"\n",
    "n = 2 \n",
    "\n",
    "new_string = remove_nth_word(input_string, n)\n",
    "print(\"Modified string:\", new_string)"
   ]
  },
  {
   "cell_type": "markdown",
   "id": "16b2f1e9",
   "metadata": {},
   "source": [
    "This code defines a function called remove_nth_word that removes the nth word from an input string. Here's an explanation of the code:\n",
    "\n",
    "1.def remove_nth_word(input_string, n): Defines a function called remove_nth_word that takes two arguments:\n",
    "\n",
    "input_string: The input string from which a word will be removed.\n",
    "n: The index of the word to be removed.\n",
    "\n",
    "2.words = input_string.split(): Splits the input_string into a list of words. This is done by using the split() method, which splits a string into a list of substrings based on whitespace (spaces and/or tabs).\n",
    "\n",
    "3.if n >= 0 and n < len(words):: Checks if the value of n is a valid index for the list of words. It ensures that n is non-negative and less than the number of words in the list.\n",
    "\n",
    "4.del words[n]: If n is a valid index, this line of code deletes the word at the specified index (n) from the words list using the del statement.\n",
    "\n",
    "5.result_string = ' '.join(words): Reconstructs the modified list of words into a single string, where the words are separated by spaces. This is done using the join() method, which joins a list of strings into a single string with a specified delimiter (in this case, a space).\n",
    "\n",
    "6.return result_string: Returns the modified string with the nth word removed.\n",
    "\n",
    "7.else:: If n is not a valid index (i.e., it's negative or greater than or equal to the number of words), this block of code is executed.\n",
    "\n",
    "8.return \"Invalid index, word not removed.\": Returns a message indicating that the index provided is invalid, and no word is removed.\n",
    "\n",
    "9.input_string = \"This is a sample sentence.\": Initializes an example input string.\n",
    "\n",
    "10.n = 2: Specifies that the 2nd word (0-based index) in the input string should be removed.\n",
    "\n",
    "11.new_string = remove_nth_word(input_string, n): Calls the remove_nth_word function with the provided input string and index n, and assigns the result to the variable new_string.\n",
    "\n",
    "12.print(\"Modified string:\", new_string): Prints the modified string after removing the nth word, or an error message if the index is invalid."
   ]
  },
  {
   "cell_type": "code",
   "execution_count": 82,
   "id": "11c73a4b",
   "metadata": {},
   "outputs": [
    {
     "name": "stdout",
     "output_type": "stream",
     "text": [
      "Modified string: This is new_word a sample sentence.\n"
     ]
    }
   ],
   "source": [
    "# Question 49\n",
    "# Insert a word at the nth position in a string.\n",
    "def insert_word_at_nth_position(input_string, word_to_insert, n):\n",
    "    words = input_string.split()\n",
    "\n",
    "    if n >= 0 and n <= len(words):\n",
    "        words.insert(n, word_to_insert)\n",
    "        \n",
    "        result_string = ' '.join(words)\n",
    "        return result_string\n",
    "    else:\n",
    "        return \"Invalid index, word not inserted.\"\n",
    "\n",
    "input_string = \"This is a sample sentence.\"\n",
    "word_to_insert = \"new_word\"\n",
    "n = 2\n",
    "\n",
    "new_string = insert_word_at_nth_position(input_string, word_to_insert, n)\n",
    "print(\"Modified string:\", new_string)"
   ]
  },
  {
   "cell_type": "markdown",
   "id": "4ed3781a",
   "metadata": {},
   "source": [
    "This code defines a function called insert_word_at_nth_position that inserts a word at the nth position in an input string. Here's an explanation of the code:\n",
    "\n",
    "1.def insert_word_at_nth_position(input_string, word_to_insert, n): Defines a function called insert_word_at_nth_position that takes three arguments:\n",
    "\n",
    "input_string: The input string into which a word will be inserted.\n",
    "word_to_insert: The word to be inserted.\n",
    "n: The index at which the word will be inserted.\n",
    "\n",
    "2.words = input_string.split(): Splits the input_string into a list of words. This is done by using the split() method, which splits a string into a list of substrings based on whitespace (spaces and/or tabs).\n",
    "\n",
    "3.if n >= 0 and n <= len(words):: Checks if the value of n is a valid index for the list of words. It ensures that n is non-negative and less than or equal to the number of words in the list. This condition ensures that the word can be inserted at a valid position.\n",
    "\n",
    "4.words.insert(n, word_to_insert): If n is a valid index, this line of code inserts the word_to_insert into the words list at the specified index (n) using the insert() method.\n",
    "\n",
    "5.result_string = ' '.join(words): Reconstructs the modified list of words into a single string, where the words are separated by spaces. This is done using the join() method, which joins a list of strings into a single string with a specified delimiter (in this case, a space).\n",
    "\n",
    "6.return result_string: Returns the modified string with the word inserted at the nth position.\n",
    "\n",
    "7.else:: If n is not a valid index (i.e., it's negative or greater than the number of words), this block of code is executed.\n",
    "\n",
    "8.return \"Invalid index, word not inserted.\": Returns an error message indicating that the index provided is invalid, and no word is inserted.\n",
    "\n",
    "9.input_string = \"This is a sample sentence.\": Initializes an example input string.\n",
    "\n",
    "10.word_to_insert = \"new_word\": Specifies the word to be inserted.\n",
    "\n",
    "11.n = 2: Specifies that the word should be inserted at the 2nd position (0-based index) in the input string.\n",
    "\n",
    "12.new_string = insert_word_at_nth_position(input_string, word_to_insert, n): Calls the insert_word_at_nth_position function with the provided input string, word to insert, and index n, and assigns the result to the variable new_string.\n",
    "\n",
    "13.print(\"Modified string:\", new_string): Prints the modified string after inserting the word at the nth position, or an error message if the index is invalid."
   ]
  },
  {
   "cell_type": "code",
   "execution_count": 83,
   "id": "b52aea38",
   "metadata": {},
   "outputs": [
    {
     "name": "stdout",
     "output_type": "stream",
     "text": [
      "['Name', 'Age', 'Location']\n",
      "['John', '30', 'New York']\n",
      "['Alice', '25', 'Los Angeles']\n",
      "['Bob', '35', 'Chicago']\n"
     ]
    }
   ],
   "source": [
    "# Question 50\n",
    "# Convert a CSV string to a list of lists.\n",
    "import csv\n",
    "from io import StringIO\n",
    "\n",
    "csv_string = \"\"\"Name,Age,Location\n",
    "John,30,New York\n",
    "Alice,25,Los Angeles\n",
    "Bob,35,Chicago\n",
    "\"\"\"\n",
    "\n",
    "csv_data = []\n",
    "csv_reader = csv.reader(StringIO(csv_string))\n",
    "\n",
    "for row in csv_reader:\n",
    "    csv_data.append(row)\n",
    "\n",
    "for row in csv_data:\n",
    "    print(row)"
   ]
  },
  {
   "cell_type": "markdown",
   "id": "14e8b40c",
   "metadata": {},
   "source": [
    "This code demonstrates how to read CSV data from a string using the csv module in Python. Here's an explanation of the code:\n",
    "\n",
    "1.Import necessary modules:\n",
    "\n",
    "import csv: This line imports the csv module, which provides functionality for working with CSV (Comma-Separated Values) files.\n",
    "from io import StringIO: This line imports the StringIO class from the io module, which allows us to work with strings as file-like objects.\n",
    "\n",
    "2.Define the csv_string:\n",
    "\n",
    "csv_string is a multi-line string that contains CSV data. It simulates the content of a CSV file with three columns: \"Name,\" \"Age,\" and \"Location.\" Each line represents a record with data separated by commas.\n",
    "\n",
    "3.Initialize an empty list to store CSV data:\n",
    "\n",
    "csv_data = []: This empty list will be used to store the CSV data after parsing it.\n",
    "\n",
    "4.Create a CSV reader object:\n",
    "\n",
    "csv_reader = csv.reader(StringIO(csv_string)): This line creates a CSV reader object named csv_reader. It takes the csv_string and converts it into a file-like object using StringIO, which allows the csv module to read it as if it were a file.\n",
    "\n",
    "5.Read and append CSV rows to csv_data:\n",
    "\n",
    "The for loop iterates through each row in the csv_reader object, which represents the lines in the CSV data.\n",
    "For each row, it appends the row as a list to the csv_data list. Each list represents a row of data with individual elements for each column.\n",
    "\n",
    "6.Print the CSV data:\n",
    "\n",
    "Another for loop iterates through csv_data and prints each row. This demonstrates that the CSV data has been successfully read and stored in the csv_data list."
   ]
  },
  {
   "cell_type": "markdown",
   "id": "a4ea8f4d",
   "metadata": {},
   "source": [
    "# List Based Practice Problem"
   ]
  },
  {
   "cell_type": "code",
   "execution_count": 1,
   "id": "073b2903",
   "metadata": {},
   "outputs": [
    {
     "name": "stdout",
     "output_type": "stream",
     "text": [
      "[1, 2, 3, 4, 5, 6, 7, 8, 9, 10]\n"
     ]
    }
   ],
   "source": [
    "# Question 1\n",
    "# Create a list with integers from 1 to 10\n",
    "my_list = list(range(1, 11))\n",
    "print(my_list)"
   ]
  },
  {
   "cell_type": "markdown",
   "id": "af028fc3",
   "metadata": {},
   "source": [
    "This Python code creates a list called my_list containing integers from 1 to 10. Here's an explanation of each part of the code:\n",
    "\n",
    "1.list(range(1, 11)): This is a list comprehension-like construct that generates a list of numbers using the range() function. Let's break it down:\n",
    "range(1, 11): The range() function generates a sequence of numbers starting from 1 up to, but not including, 11. So, it produces the numbers from 1 to 10.\n",
    "list(...): The list() constructor is used to convert the sequence generated by range() into a list. This is done to create a list of integers rather than a range object.\n",
    "\n",
    "2.my_list: This variable stores the resulting list of integers.\n",
    "\n",
    "3.print(my_list): This line of code prints the my_list variable, which contains the list of integers from 1 to 10."
   ]
  },
  {
   "cell_type": "code",
   "execution_count": 2,
   "id": "0105c40b",
   "metadata": {},
   "outputs": [
    {
     "name": "stdout",
     "output_type": "stream",
     "text": [
      "Length of the list: 10\n"
     ]
    }
   ],
   "source": [
    "# Question 2\n",
    "# Find the length of a list without using the `len()` function\n",
    "my_list = [1, 2, 3, 4, 5, 6, 7, 8, 9, 10]\n",
    "count = 0\n",
    "\n",
    "for _ in my_list:\n",
    "    count += 1\n",
    "\n",
    "print(\"Length of the list:\", count)"
   ]
  },
  {
   "cell_type": "markdown",
   "id": "6fa3fde3",
   "metadata": {},
   "source": [
    "This Python code calculates the length of a list without using the len() function by manually counting the elements in the list using a for loop. Here's an explanation of each part of the code:\n",
    "\n",
    "1.my_list: This variable stores a list of integers [1, 2, 3, 4, 5, 6, 7, 8, 9, 10]. This is the list for which we want to find the length.\n",
    "\n",
    "2.count = 0: This initializes a variable count to 0. This variable will be used to keep track of the number of elements in the list.\n",
    "\n",
    "3.for _ in my_list:: This is a for loop that iterates through each element in my_list. We use an underscore (_) as the loop variable because we don't need to use the value of the elements in this case; we're just counting them.\n",
    "\n",
    "4.count += 1: Inside the loop, for each element in my_list, we increment the count variable by 1. This effectively counts each element in the list.\n",
    "\n",
    "5.print(\"Length of the list:\", count): After the loop, this line of code prints the value of the count variable, which represents the length of the list."
   ]
  },
  {
   "cell_type": "code",
   "execution_count": 58,
   "id": "7db9ac8c",
   "metadata": {},
   "outputs": [
    {
     "name": "stdout",
     "output_type": "stream",
     "text": [
      "[1, 2, 3, 4, 5, 6]\n"
     ]
    }
   ],
   "source": [
    "# Question 3\n",
    "# Append an element to the end of a list\n",
    "my_list = [1, 2, 3, 4, 5]\n",
    "element_to_append = 6\n",
    "\n",
    "my_list.append(element_to_append)\n",
    "print(my_list)"
   ]
  },
  {
   "cell_type": "markdown",
   "id": "fc10745f",
   "metadata": {},
   "source": [
    "This Python code appends an element to the end of a list my_list and then prints the updated list. Here's how the code works:\n",
    "\n",
    "1.my_list = [1, 2, 3, 4, 5]: This line defines an example list called my_list, which initially contains the numbers 1 through 5.\n",
    "\n",
    "2.element_to_append = 6: This line defines a variable element_to_append and assigns it the value 6. This is the element that we want to add to the end of my_list.\n",
    "\n",
    "3.my_list.append(element_to_append): This line uses the append() method to add element_to_append to the end of my_list. The append() method is a built-in method for lists in Python, and it adds a single element to the end of the list.\n",
    "After this line is executed, my_list will be modified to include the number 6 at the end.\n",
    "\n",
    "4.print(my_list): Finally, this line prints the modified my_list to the console."
   ]
  },
  {
   "cell_type": "code",
   "execution_count": 57,
   "id": "a534f85a",
   "metadata": {
    "scrolled": true
   },
   "outputs": [
    {
     "name": "stdout",
     "output_type": "stream",
     "text": [
      "[1, 2, 6, 3, 4, 5]\n"
     ]
    }
   ],
   "source": [
    "# Question 4\n",
    "# Insert an element at a specific index in a list\n",
    "my_list = [1, 2, 3, 4, 5]\n",
    "\n",
    "index = 2\n",
    "element_to_insert = 6\n",
    "\n",
    "my_list.insert(index, element_to_insert)\n",
    "print(my_list)"
   ]
  },
  {
   "cell_type": "markdown",
   "id": "e2d2bdc4",
   "metadata": {},
   "source": [
    "This Python code inserts an element into a list my_list at a specific index position and then prints the updated list. Here's how the code works:\n",
    "\n",
    "1.my_list = [1, 2, 3, 4, 5]: This line defines an example list called my_list, which initially contains the numbers 1 through 5.\n",
    "\n",
    "2.index = 2: This line defines a variable index and assigns it the value 2. This variable represents the index position where we want to insert a new element into my_list.\n",
    "\n",
    "3.element_to_insert = 6: This line defines a variable element_to_insert and assigns it the value 6. This is the element that we want to insert into my_list at the specified index.\n",
    "\n",
    "4.my_list.insert(index, element_to_insert): This line uses the insert() method to insert element_to_insert into my_list at the specified index. The insert() method is a built-in method for lists in Python, and it takes two arguments:\n",
    "index: The index position at which to insert the element.\n",
    "element_to_insert: The element to be inserted into the list.\n",
    "After this line is executed, my_list will be modified to include the number 6 at index 2. The existing elements at and after index 2 will be shifted to make room for the new element.\n",
    "\n",
    "5.print(my_list): Finally, this line prints the modified my_list to the console."
   ]
  },
  {
   "cell_type": "code",
   "execution_count": 59,
   "id": "e905df07",
   "metadata": {},
   "outputs": [
    {
     "name": "stdout",
     "output_type": "stream",
     "text": [
      "[1, 2, 4, 5]\n"
     ]
    }
   ],
   "source": [
    "# Question 5\n",
    "# Remove an element from a list by its value\n",
    "my_list = [1, 2, 3, 4, 5]\n",
    "element_to_remove = 3\n",
    "\n",
    "my_list.remove(element_to_remove)\n",
    "print(my_list)"
   ]
  },
  {
   "cell_type": "markdown",
   "id": "e0345ac4",
   "metadata": {},
   "source": [
    "This Python code removes a specific element from a list my_list and then prints the updated list. Here's how the code works:\n",
    "\n",
    "1.my_list = [1, 2, 3, 4, 5]: This line defines an example list called my_list, which initially contains the numbers 1 through 5.\n",
    "\n",
    "2.element_to_remove = 3: This line defines a variable element_to_remove and assigns it the value 3. This is the element that we want to remove from my_list.\n",
    "\n",
    "3.my_list.remove(element_to_remove): This line uses the remove() method to remove the first occurrence of element_to_remove from my_list. The remove() method is a built-in method for lists in Python.\n",
    "After this line is executed, the first occurrence of the number 3 in my_list will be removed.\n",
    "\n",
    "4.print(my_list): Finally, this line prints the modified my_list to the console."
   ]
  },
  {
   "cell_type": "code",
   "execution_count": 6,
   "id": "77d00dc0",
   "metadata": {},
   "outputs": [
    {
     "name": "stdout",
     "output_type": "stream",
     "text": [
      "Updated list: [1, 2, 4, 5]\n",
      "Removed element: 3\n"
     ]
    }
   ],
   "source": [
    "# Question 6\n",
    "# Remove an element from a list by its index\n",
    "my_list = [1, 2, 3, 4, 5]\n",
    "removed_element = my_list.pop(2)\n",
    "\n",
    "print(\"Updated list:\", my_list)\n",
    "print(\"Removed element:\", removed_element)"
   ]
  },
  {
   "cell_type": "markdown",
   "id": "52844f49",
   "metadata": {},
   "source": [
    "This Python code removes an element from a list by its index in Python using the pop() method. Here's an explanation of each part of the code:\n",
    "\n",
    "1.my_list: This variable stores a list of integers [1, 2, 3, 4, 5]. This is the initial list from which we want to remove an element.\n",
    "\n",
    "2.removed_element = my_list.pop(2): This line of code uses the pop() method, which is a built-in list method in Python. The pop() method removes and returns an element from the list based on its index. In this case:\n",
    "2 is the index of the element that we want to remove from my_list. In Python, indexing starts at 0, so 2 corresponds to the third element in the list, which is 3.\n",
    "The pop(2) call removes the element at index 2 (which is 3) from the list and assigns it to the variable removed_element. So, removed_element will contain the value 3.\n",
    "\n",
    "3.print(\"Updated list:\", my_list): After removing the element, this line of code prints the modified my_list, which no longer contains the removed element.\n",
    "\n",
    "4.print(\"Removed element:\", removed_element): This line of code prints the value of the removed element, which is stored in the removed_element variable."
   ]
  },
  {
   "cell_type": "code",
   "execution_count": 7,
   "id": "49827ebc",
   "metadata": {},
   "outputs": [
    {
     "name": "stdout",
     "output_type": "stream",
     "text": [
      "check element exists in the list\n"
     ]
    }
   ],
   "source": [
    "# Question 7\n",
    "# Check if an element exists in a list\n",
    "my_list = [1,2,3,4,5,6]\n",
    "check_element = 3\n",
    "if check_element in my_list:\n",
    "    print(f'check element exists in the list')\n",
    "else:\n",
    "    print(f'check element does not exist in the list')"
   ]
  },
  {
   "cell_type": "markdown",
   "id": "5425d9cd",
   "metadata": {},
   "source": [
    "This Python code checks whether a specific element exists in a list in Python and prints a corresponding message. Here's an explanation of each part of the code:\n",
    "\n",
    "1.my_list: This variable stores a list of integers [1, 2, 3, 4, 5, 6]. This is the list in which we want to check for the existence of a specific element.\n",
    "\n",
    "2.check_element: This variable stores the element that we want to check for in the list. In this case, it's set to 3.\n",
    "\n",
    "3.The if check_element in my_list: statement is used to check whether check_element exists in the my_list list. It uses the in operator, which returns True if check_element is found in my_list, and False otherwise.\n",
    "\n",
    "4.If check_element is found in my_list (i.e., True), the code inside the if block is executed:\n",
    "print(f'check element exists in the list'): This line of code prints a message indicating that the check_element exists in the list.\n",
    "\n",
    "5.If check_element is not found in my_list (i.e., False), the code inside the else block is executed:\n",
    "print(f'check element does not exist in the list'): This line of code prints a message indicating that the check_element does not exist in the list."
   ]
  },
  {
   "cell_type": "code",
   "execution_count": 8,
   "id": "39d977a4",
   "metadata": {},
   "outputs": [
    {
     "name": "stdout",
     "output_type": "stream",
     "text": [
      "The element 3 is first found at index 2.\n"
     ]
    }
   ],
   "source": [
    "# Question 8\n",
    "# Find the index of the first occurrence of an element in a list\n",
    "my_list = [1, 2, 3, 4, 5, 6]\n",
    "element_to_find = 3\n",
    "\n",
    "if element_to_find in my_list:\n",
    "    index = my_list.index(element_to_find)\n",
    "    print(f\"The element {element_to_find} is first found at index {index}.\")\n",
    "else:\n",
    "    print(f\"The element {element_to_find} is not in the list.\")"
   ]
  },
  {
   "cell_type": "markdown",
   "id": "fb129896",
   "metadata": {},
   "source": [
    "This Python code finds the index of the first occurrence of a specific element in a list and prints a message indicating the result. Here's an explanation of each part of the code:\n",
    "\n",
    "1.my_list: This variable stores a list of integers [1, 2, 3, 4, 5, 6]. This is the list in which we want to find the index of a specific element.\n",
    "\n",
    "2.element_to_find: This variable stores the element that we want to find in the list. In this case, it's set to 3.\n",
    "\n",
    "3.The if element_to_find in my_list: statement is used to check whether element_to_find exists in the my_list list. It uses the in operator, which returns True if element_to_find is found in my_list, and False otherwise.\n",
    "\n",
    "4.If element_to_find is found in my_list (i.e., True), the code inside the if block is executed:\n",
    "index = my_list.index(element_to_find): This line of code uses the index() method, which is a built-in list method in Python. The index() method returns the index of the first occurrence of the specified element (element_to_find) in the list (my_list). This index is assigned to the variable index.\n",
    "print(f\"The element {element_to_find} is first found at index {index}.\"): This line of code prints a message indicating that the element_to_find is found in the list at the specified index.\n",
    "\n",
    "5.If element_to_find is not found in my_list (i.e., False), the code inside the else block is executed:\n",
    "print(f\"The element {element_to_find} is not in the list.\"): This line of code prints a message indicating that the element_to_find is not present in the list."
   ]
  },
  {
   "cell_type": "code",
   "execution_count": 9,
   "id": "76fd13b0",
   "metadata": {},
   "outputs": [
    {
     "name": "stdout",
     "output_type": "stream",
     "text": [
      "The element 2 appears 4 times in the list.\n"
     ]
    }
   ],
   "source": [
    "# Question 9\n",
    "# Count the occurrences of an element in a list\n",
    "my_list = [1, 2, 2, 3, 4, 2, 5, 2]\n",
    "element_to_count = 2\n",
    "\n",
    "count = my_list.count(element_to_count)\n",
    "print(f\"The element {element_to_count} appears {count} times in the list.\")"
   ]
  },
  {
   "cell_type": "markdown",
   "id": "c3a32956",
   "metadata": {},
   "source": [
    "This Python code counts the number of occurrences of a specific element in a list and then prints a message indicating the count. Here's an explanation of each part of the code:\n",
    "\n",
    "1.my_list: This variable stores a list of integers [1, 2, 2, 3, 4, 2, 5, 2]. This is the list in which we want to count the occurrences of a specific element.\n",
    "\n",
    "2.element_to_count: This variable stores the element that we want to count in the list. In this case, it's set to 2.\n",
    "\n",
    "3.The count = my_list.count(element_to_count) line of code uses the count() method, which is a built-in list method in Python. The count() method counts the number of occurrences of the specified element (element_to_count) in the list (my_list). The count is assigned to the variable count.\n",
    "\n",
    "4.print(f\"The element {element_to_count} appears {count} times in the list.\"): This line of code uses an f-string to print a message indicating the count of the specified element in the list. It displays the element's value (element_to_count) and the count (count) in the message."
   ]
  },
  {
   "cell_type": "code",
   "execution_count": 10,
   "id": "0294b7cf",
   "metadata": {},
   "outputs": [
    {
     "name": "stdout",
     "output_type": "stream",
     "text": [
      "Reversed List: [5, 4, 3, 2, 1]\n"
     ]
    }
   ],
   "source": [
    "# Question 10\n",
    "# Reverse the order of elements in a list\n",
    "my_list = [1, 2, 3, 4, 5]\n",
    "my_list.reverse()\n",
    "print(\"Reversed List:\", my_list)"
   ]
  },
  {
   "cell_type": "markdown",
   "id": "8a25220e",
   "metadata": {},
   "source": [
    "This Python code reverses the order of elements in a list in Python using the reverse() method. Here's an explanation of each part of the code:\n",
    "\n",
    "1.my_list: This variable stores a list of integers [1, 2, 3, 4, 5]. This is the list for which we want to reverse the order of elements.\n",
    "\n",
    "2.my_list.reverse(): This line of code uses the reverse() method, which is a built-in list method in Python. The reverse() method is used to reverse the order of elements in the list in place. After this line of code executes, my_list will contain the elements in reverse order.\n",
    "\n",
    "3.print(\"Reversed List:\", my_list): This line of code prints the modified my_list, which now contains the elements in reverse order. It also includes a message indicating that the list has been reversed."
   ]
  },
  {
   "cell_type": "code",
   "execution_count": 11,
   "id": "3f7e0f68",
   "metadata": {},
   "outputs": [
    {
     "name": "stdout",
     "output_type": "stream",
     "text": [
      "Sorted List (Ascending Order): [1, 2, 3, 5, 8]\n"
     ]
    }
   ],
   "source": [
    "# Question 11\n",
    "# Sort a list in ascending order\n",
    "my_list = [5, 2, 8, 1, 3]\n",
    "my_list.sort()\n",
    "print(\"Sorted List (Ascending Order):\", my_list)"
   ]
  },
  {
   "cell_type": "markdown",
   "id": "60178ad1",
   "metadata": {},
   "source": [
    "This Python code sorts a list of integers in ascending order in Python using the sort() method. Here's an explanation of each part of the code:\n",
    "\n",
    "1.my_list: This variable stores a list of integers [5, 2, 8, 1, 3]. This is the list that we want to sort in ascending order.\n",
    "\n",
    "2.my_list.sort(): This line of code uses the sort() method, which is a built-in list method in Python. The sort() method is used to sort the elements of the list in ascending order in place. After this line of code executes, my_list will contain the elements sorted in ascending order.\n",
    "\n",
    "3.print(\"Sorted List (Ascending Order):\", my_list): This line of code prints the modified my_list, which now contains the elements sorted in ascending order. It also includes a message indicating that the list has been sorted in ascending order."
   ]
  },
  {
   "cell_type": "code",
   "execution_count": 12,
   "id": "70edcf56",
   "metadata": {},
   "outputs": [
    {
     "name": "stdout",
     "output_type": "stream",
     "text": [
      "Sorted List (Descending Order): [8, 5, 3, 2, 1]\n"
     ]
    }
   ],
   "source": [
    "# Question 12\n",
    "# Sort a list in decending order\n",
    "my_list = [5, 2, 8, 1, 3]\n",
    "my_list.sort(reverse=True)\n",
    "print(\"Sorted List (Descending Order):\", my_list)"
   ]
  },
  {
   "cell_type": "markdown",
   "id": "4d20ac06",
   "metadata": {},
   "source": [
    "This Python code sorts a list of integers in descending order in Python using the sort() method with the reverse=True argument. Here's an explanation of each part of the code:\n",
    "\n",
    "1.my_list: This variable stores a list of integers [5, 2, 8, 1, 3]. This is the list that we want to sort in descending order.\n",
    "\n",
    "2.my_list.sort(reverse=True): This line of code uses the sort() method, which is a built-in list method in Python. The sort() method is used to sort the elements of the list. By passing reverse=True as an argument, we instruct Python to sort the list in descending order instead of the default ascending order. After this line of code executes, my_list will contain the elements sorted in descending order.\n",
    "\n",
    "3.print(\"Sorted List (Descending Order):\", my_list): This line of code prints the modified my_list, which now contains the elements sorted in descending order. It also includes a message indicating that the list has been sorted in descending order."
   ]
  },
  {
   "cell_type": "code",
   "execution_count": 13,
   "id": "4c3e516b",
   "metadata": {},
   "outputs": [
    {
     "name": "stdout",
     "output_type": "stream",
     "text": [
      "[2, 4, 6, 8, 10, 12, 14, 16, 18, 20]\n"
     ]
    }
   ],
   "source": [
    "# Question 13\n",
    "# Create a list of even numbers from 1 to 20\n",
    "even_numbers = [x for x in range(1, 21) if x % 2 == 0]\n",
    "print(even_numbers)"
   ]
  },
  {
   "cell_type": "markdown",
   "id": "5e70fcae",
   "metadata": {},
   "source": [
    "This Python code creates a list of even numbers from 1 to 20 using a list comprehension in Python. Here's an explanation of each part of the code:\n",
    "\n",
    "1.even_numbers: This variable stores the result of the list comprehension, which will be a list containing even numbers.\n",
    "\n",
    "2.[x for x in range(1, 21) if x % 2 == 0]: This is the list comprehension itself. Let's break it down step by step:\n",
    "x is the variable that represents each element in the list we are creating.\n",
    "for x in range(1, 21) specifies that we want to iterate over a range of numbers from 1 to 20 (inclusive). This means x will take on values from 1 to 20.\n",
    "if x % 2 == 0 is a conditional expression. It checks if the current value of x is even. If x is even (i.e., divisible by 2 without a remainder), it includes x in the resulting list.\n",
    "\n",
    "3.print(even_numbers): After the list comprehension, this line of code prints the even_numbers list, which contains the even numbers from 1 to 20."
   ]
  },
  {
   "cell_type": "code",
   "execution_count": 14,
   "id": "0e8e4264",
   "metadata": {},
   "outputs": [
    {
     "name": "stdout",
     "output_type": "stream",
     "text": [
      "[1, 3, 5, 7, 9, 11, 13, 15, 17, 19]\n"
     ]
    }
   ],
   "source": [
    "# Question 14\n",
    "# Create a list of odd numbers from 1 to 20.\n",
    "odd_numbers = [x for x in range(1, 21) if x % 2 != 0]\n",
    "print(odd_numbers)"
   ]
  },
  {
   "cell_type": "markdown",
   "id": "482005a6",
   "metadata": {},
   "source": [
    "This Python code creates a list of odd numbers from 1 to 20 using a list comprehension in Python. Here's an explanation of each part of the code:\n",
    "\n",
    "1.odd_numbers: This variable stores the result of the list comprehension, which will be a list containing odd numbers.\n",
    "\n",
    "2.[x for x in range(1, 21) if x % 2 != 0]: This is the list comprehension itself. Let's break it down step by step:\n",
    "x is the variable that represents each element in the list we are creating.\n",
    "for x in range(1, 21) specifies that we want to iterate over a range of numbers from 1 to 20 (inclusive). This means x will take on values from 1 to 20.\n",
    "if x % 2 != 0 is a conditional expression. It checks if the current value of x is odd. If x is odd (i.e., not divisible by 2 with a remainder of 0), it includes x in the resulting list.\n",
    "\n",
    "3.print(odd_numbers): After the list comprehension, this line of code prints the odd_numbers list, which contains the odd numbers from 1 to 20."
   ]
  },
  {
   "cell_type": "code",
   "execution_count": 15,
   "id": "91694c8f",
   "metadata": {},
   "outputs": [
    {
     "name": "stdout",
     "output_type": "stream",
     "text": [
      "The sum of all elements in the list is: 15\n"
     ]
    }
   ],
   "source": [
    "# Question 15\n",
    "# Find the sum of all elements in a list\n",
    "my_list = [1, 2, 3, 4, 5]\n",
    "total_sum = sum(my_list)\n",
    "print(f\"The sum of all elements in the list is: {total_sum}\")"
   ]
  },
  {
   "cell_type": "markdown",
   "id": "a60d1120",
   "metadata": {},
   "source": [
    "This Python code calculates the sum of all elements in a list in Python using the sum() function. Here's an explanation of each part of the code:\n",
    "\n",
    "1.my_list: This variable stores a list of integers [1, 2, 3, 4, 5]. This is the list for which we want to calculate the sum of its elements.\n",
    "\n",
    "2.total_sum = sum(my_list): This line of code calculates the sum of all elements in my_list using the sum() function. The sum() function is a built-in Python function that takes an iterable (in this case, a list) as its argument and returns the sum of all the elements in that iterable. The result is assigned to the variable total_sum.\n",
    "\n",
    "3.print(f\"The sum of all elements in the list is: {total_sum}\"): This line of code uses an f-string to print a message indicating the sum of all elements in the list. It includes the value of total_sum in the message."
   ]
  },
  {
   "cell_type": "code",
   "execution_count": 16,
   "id": "6262c747",
   "metadata": {},
   "outputs": [
    {
     "name": "stdout",
     "output_type": "stream",
     "text": [
      "The maximum value in the list is: 9\n"
     ]
    }
   ],
   "source": [
    "# Question 16\n",
    "# Find the maximum value in a list.\n",
    "my_list = [3, 7, 1, 9, 4, 2]\n",
    "max_value = max(my_list)\n",
    "print(f\"The maximum value in the list is: {max_value}\")"
   ]
  },
  {
   "cell_type": "markdown",
   "id": "8d902180",
   "metadata": {},
   "source": [
    "This Python code finds the maximum value in a list of integers in Python using the max() function. Here's an explanation of each part of the code:\n",
    "\n",
    "1.my_list: This variable stores a list of integers [3, 7, 1, 9, 4, 2]. This is the list in which we want to find the maximum value.\n",
    "\n",
    "2.max_value = max(my_list): This line of code calculates the maximum value in my_list using the max() function. The max() function is a built-in Python function that takes an iterable (in this case, a list) as its argument and returns the maximum value within that iterable. The result is assigned to the variable max_value.\n",
    "\n",
    "3.print(f\"The maximum value in the list is: {max_value}\"): This line of code uses an f-string to print a message indicating the maximum value found in the list. It includes the value of max_value in the message."
   ]
  },
  {
   "cell_type": "code",
   "execution_count": 17,
   "id": "b72c39ae",
   "metadata": {},
   "outputs": [
    {
     "name": "stdout",
     "output_type": "stream",
     "text": [
      "The minimum value in the list is: 1\n"
     ]
    }
   ],
   "source": [
    "# Question 17\n",
    "# Find the minimum value in a list\n",
    "my_list = [3, 7, 1, 9, 4, 2]\n",
    "min_value = min(my_list)\n",
    "print(f\"The minimum value in the list is: {min_value}\")"
   ]
  },
  {
   "cell_type": "markdown",
   "id": "e8253037",
   "metadata": {},
   "source": [
    "This Python code finds the minimum value in a list of integers in Python using the min() function. Here's an explanation of each part of the code:\n",
    "\n",
    "1.my_list: This variable stores a list of integers [3, 7, 1, 9, 4, 2]. This is the list in which we want to find the minimum value.\n",
    "\n",
    "2.min_value = min(my_list): This line of code calculates the minimum value in my_list using the min() function. The min() function is a built-in Python function that takes an iterable (in this case, a list) as its argument and returns the minimum value within that iterable. The result is assigned to the variable min_value.\n",
    "\n",
    "3.print(f\"The minimum value in the list is: {min_value}\"): This line of code uses an f-string to print a message indicating the minimum value found in the list. It includes the value of min_value in the message."
   ]
  },
  {
   "cell_type": "code",
   "execution_count": 18,
   "id": "aab8bdad",
   "metadata": {},
   "outputs": [
    {
     "name": "stdout",
     "output_type": "stream",
     "text": [
      "[1, 4, 9, 16, 25, 36, 49, 64, 81, 100]\n"
     ]
    }
   ],
   "source": [
    "# Question 18\n",
    "# Create a list of squares of numbers from 1 to 10\n",
    "squares = [x**2 for x in range(1, 11)]\n",
    "print(squares)"
   ]
  },
  {
   "cell_type": "markdown",
   "id": "ce009318",
   "metadata": {},
   "source": [
    "This Python code creates a list of squares of numbers from 1 to 10 using a list comprehension in Python. Here's an explanation of each part of the code:\n",
    "\n",
    "1.squares: This variable stores the result of the list comprehension, which will be a list containing the squares of numbers.\n",
    "\n",
    "2.[x**2 for x in range(1, 11)]: This is the list comprehension itself. Let's break it down step by step:\n",
    "x is the variable that represents each number in the range we are iterating over.\n",
    "for x in range(1, 11) specifies that we want to iterate over a range of numbers from 1 to 10 (inclusive). This means x will take on values from 1 to 10.\n",
    "x**2 is the expression used to calculate the square of each x. It raises x to the power of 2, resulting in the square of the number.\n",
    "\n",
    "3.print(squares): After the list comprehension, this line of code prints the squares list, which contains the squares of numbers from 1 to 10."
   ]
  },
  {
   "cell_type": "code",
   "execution_count": 19,
   "id": "27f480d1",
   "metadata": {},
   "outputs": [
    {
     "name": "stdout",
     "output_type": "stream",
     "text": [
      "[91, 37, 15, 45, 7, 57, 45, 83, 80, 56]\n"
     ]
    }
   ],
   "source": [
    "# Question 19\n",
    "# Create a list of random numbers\n",
    "import random\n",
    "random_numbers = [random.randint(1, 100) for _ in range(10)]\n",
    "print(random_numbers)"
   ]
  },
  {
   "cell_type": "markdown",
   "id": "c22f1cff",
   "metadata": {},
   "source": [
    "This Python code creates a list of random numbers using Python's random module and a list comprehension. Here's an explanation of each part of the code:\n",
    "\n",
    "1.import random: This line imports the random module in Python. The random module provides functions for generating random numbers and performing random operations.\n",
    "\n",
    "2.random_numbers: This variable stores the result of the list comprehension, which will be a list containing random numbers.\n",
    "\n",
    "3.[random.randint(1, 100) for _ in range(10)]: This is the list comprehension itself. Let's break it down step by step:\n",
    "random.randint(1, 100) is an expression that generates a random integer between 1 and 100 (inclusive). It uses the randint() function from the random module to do this.\n",
    "for _ in range(10) specifies that we want to generate 10 random numbers. The underscore _ is used as a placeholder for the loop variable because we don't need to use the loop variable in this case. It simply means we want to execute the expression 10 times to generate 10 random numbers.\n",
    "\n",
    "4.print(random_numbers): After the list comprehension, this line of code prints the random_numbers list, which contains 10 random numbers."
   ]
  },
  {
   "cell_type": "code",
   "execution_count": 20,
   "id": "8fcb944f",
   "metadata": {},
   "outputs": [
    {
     "name": "stdout",
     "output_type": "stream",
     "text": [
      "[1, 2, 3, 4, 5]\n"
     ]
    }
   ],
   "source": [
    "# Question 20\n",
    "# Remove duplicates from a list\n",
    "my_list = [1, 2, 2, 3, 4, 4, 5]\n",
    "my_list = list(set(my_list))\n",
    "print(my_list)"
   ]
  },
  {
   "cell_type": "markdown",
   "id": "48a26ef9",
   "metadata": {},
   "source": [
    "This Python code removes duplicates from a list in Python by converting the list to a set and then back to a list. Here's an explanation of each part of the code:\n",
    "\n",
    "1.my_list: This variable stores a list of integers [1, 2, 2, 3, 4, 4, 5]. This is the list from which we want to remove duplicates.\n",
    "\n",
    "2.set(my_list): This line of code converts the my_list into a set. In a set, duplicate elements are automatically removed, and only unique elements are retained. So, when my_list is converted to a set, it removes duplicates, and you end up with a set of unique elements.\n",
    "\n",
    "3.list(...): After converting my_list to a set, this part of the code converts the set back to a list. This step is necessary because you may want to keep the result as a list (the original data structure).\n",
    "\n",
    "4.print(my_list): Finally, this line of code prints the modified my_list, which now contains unique elements without duplicates."
   ]
  },
  {
   "cell_type": "code",
   "execution_count": 21,
   "id": "e6821726",
   "metadata": {},
   "outputs": [
    {
     "name": "stdout",
     "output_type": "stream",
     "text": [
      "Common elements between two lists: [3, 4, 5]\n"
     ]
    }
   ],
   "source": [
    "# Question 21\n",
    "# Find the common elements between two lists\n",
    "list1 = [1, 2, 3, 4, 5]\n",
    "list2 = [3, 4, 5, 6, 7]\n",
    "\n",
    "common_elements = [item for item in list1 if item in list2]\n",
    "print(\"Common elements between two lists:\", common_elements)"
   ]
  },
  {
   "cell_type": "markdown",
   "id": "91ecb63b",
   "metadata": {},
   "source": [
    "This Python code finds the common elements between two lists, list1 and list2, in Python using list comprehension. Here's an explanation of each part of the code:\n",
    "\n",
    "1.list1: This variable stores the first list [1, 2, 3, 4, 5].\n",
    "\n",
    "2.list2: This variable stores the second list [3, 4, 5, 6, 7].\n",
    "\n",
    "3.common_elements: This variable will store the result of the list comprehension, which will be a list containing the common elements between list1 and list2.\n",
    "\n",
    "4.[item for item in list1 if item in list2]: This is the list comprehension itself. Let's break it down step by step:\n",
    "item is the variable that represents each element in list1.\n",
    "for item in list1 specifies that we want to iterate over the elements of list1.\n",
    "if item in list2 is a conditional expression that checks if the current element (item) from list1 is also present in list2. If it is, the element is included in the resulting list.\n",
    "\n",
    "5.print(\"Common elements between two lists:\", common_elements): This line of code prints the common_elements list, which contains the common elements between list1 and list2. It includes a message indicating that these are the common elements."
   ]
  },
  {
   "cell_type": "code",
   "execution_count": 22,
   "id": "a13555cc",
   "metadata": {},
   "outputs": [
    {
     "name": "stdout",
     "output_type": "stream",
     "text": [
      "Elements unique to list1: [1, 2]\n",
      "Elements unique to list2: [6, 7]\n"
     ]
    }
   ],
   "source": [
    "# Question 22\n",
    "# Find the difference between two lists\n",
    "list1 = [1, 2, 3, 4, 5]\n",
    "list2 = [3, 4, 5, 6, 7]\n",
    "\n",
    "difference_list1 = [item for item in list1 if item not in list2]\n",
    "difference_list2 = [item for item in list2 if item not in list1]\n",
    "\n",
    "print(\"Elements unique to list1:\", difference_list1)\n",
    "print(\"Elements unique to list2:\", difference_list2)"
   ]
  },
  {
   "cell_type": "markdown",
   "id": "ac54cb85",
   "metadata": {},
   "source": [
    "This Python code finds the difference between two lists, list1 and list2, in Python using list comprehension. It identifies elements that are unique to each list. Here's an explanation of each part of the code:\n",
    "\n",
    "1.list1: This variable stores the first list [1, 2, 3, 4, 5].\n",
    "\n",
    "2.list2: This variable stores the second list [3, 4, 5, 6, 7].\n",
    "\n",
    "3.difference_list1: This variable will store the result of the first list comprehension, which will be a list containing elements that are unique to list1 (not present in list2).\n",
    "\n",
    "4.difference_list2: This variable will store the result of the second list comprehension, which will be a list containing elements that are unique to list2 (not present in list1).\n",
    "\n",
    "5.[item for item in list1 if item not in list2]: This is the first list comprehension. It iterates over each element (item) in list1 and checks if the element is not present in list2. If the element is not in list2, it includes the element in difference_list1.\n",
    "\n",
    "6.[item for item in list2 if item not in list1]: This is the second list comprehension. It iterates over each element (item) in list2 and checks if the element is not present in list1. If the element is not in list1, it includes the element in difference_list2.\n",
    "\n",
    "7.print(\"Elements unique to list1:\", difference_list1): This line of code prints the elements that are unique to list1, which are stored in difference_list1.\n",
    "\n",
    "8.print(\"Elements unique to list2:\", difference_list2): This line of code prints the elements that are unique to list2, which are stored in difference_list2."
   ]
  },
  {
   "cell_type": "code",
   "execution_count": 23,
   "id": "43dd3937",
   "metadata": {},
   "outputs": [
    {
     "name": "stdout",
     "output_type": "stream",
     "text": [
      "Merged List: [1, 2, 3, 4, 5, 6]\n"
     ]
    }
   ],
   "source": [
    "# Question 23\n",
    "# Merge two lists\n",
    "list1 = [1, 2, 3]\n",
    "list2 = [4, 5, 6]\n",
    "\n",
    "merged_list = list1 + list2\n",
    "print(\"Merged List:\", merged_list)"
   ]
  },
  {
   "cell_type": "markdown",
   "id": "f35a18b6",
   "metadata": {},
   "source": [
    "This Python code merges two lists, list1 and list2, in Python by concatenating them using the + operator. Here's an explanation of each part of the code:\n",
    "\n",
    "1.list1: This variable stores the first list [1, 2, 3].\n",
    "\n",
    "2.list2: This variable stores the second list [4, 5, 6].\n",
    "\n",
    "3.merged_list: This variable stores the result of merging list1 and list2. It will be a new list that contains all the elements from list1 followed by all the elements from list2.\n",
    "\n",
    "4.list1 + list2: This expression uses the + operator to concatenate list1 and list2. When you use the + operator with lists, it combines the elements of the first list with the elements of the second list, creating a new list that contains all the elements in the order they appear in the original lists.\n",
    "\n",
    "5.print(\"Merged List:\", merged_list): This line of code prints the merged_list, which contains the elements from both list1 and list2. It includes a message indicating that it's the merged list."
   ]
  },
  {
   "cell_type": "code",
   "execution_count": 24,
   "id": "b1fca30c",
   "metadata": {},
   "outputs": [
    {
     "name": "stdout",
     "output_type": "stream",
     "text": [
      "Original List: [1, 2, 3, 4, 5]\n",
      "Doubled List: [2, 4, 6, 8, 10]\n"
     ]
    }
   ],
   "source": [
    "# Question 24\n",
    "# Multiply all elements in a list by 2\n",
    "original_list = [1, 2, 3, 4, 5]\n",
    "doubled_list = [x * 2 for x in original_list]\n",
    "\n",
    "print(\"Original List:\", original_list)\n",
    "print(\"Doubled List:\", doubled_list)"
   ]
  },
  {
   "cell_type": "markdown",
   "id": "1f90b229",
   "metadata": {},
   "source": [
    "This Python code multiplies all elements in a list by 2 using list comprehension in Python. Here's an explanation of each part of the code:\n",
    "\n",
    "1.original_list: This variable stores the original list of integers [1, 2, 3, 4, 5]. This is the list in which we want to double each element.\n",
    "\n",
    "2.doubled_list: This variable stores the result of the list comprehension, which will be a new list containing all the elements of original_list, each multiplied by 2.\n",
    "\n",
    "3.[x * 2 for x in original_list]: This is the list comprehension itself. Let's break it down step by step:\n",
    "x is the variable that represents each element in original_list.\n",
    "for x in original_list specifies that we want to iterate over the elements of original_list.\n",
    "x * 2 is the expression used to calculate the doubled value of each x. It multiplies each element by 2.\n",
    "\n",
    "4.print(\"Original List:\", original_list): This line of code prints the original list, which remains unchanged.\n",
    "\n",
    "5.print(\"Doubled List:\", doubled_list): This line of code prints the doubled_list, which contains the elements of original_list, each multiplied by 2."
   ]
  },
  {
   "cell_type": "code",
   "execution_count": 25,
   "id": "ab881e63",
   "metadata": {},
   "outputs": [
    {
     "name": "stdout",
     "output_type": "stream",
     "text": [
      "Original List: [1, 2, 3, 4, 5, 6, 7, 8, 9, 10]\n",
      "Even Numbers: [2, 4, 6, 8, 10]\n"
     ]
    }
   ],
   "source": [
    "# Question 25\n",
    "# Filter out all even numbers from a list\n",
    "original_list = [1, 2, 3, 4, 5, 6, 7, 8, 9, 10]\n",
    "even_numbers = [x for x in original_list if x % 2 == 0]\n",
    "\n",
    "print(\"Original List:\", original_list)\n",
    "print(\"Even Numbers:\", even_numbers)"
   ]
  },
  {
   "cell_type": "markdown",
   "id": "639853ad",
   "metadata": {},
   "source": [
    "This Python code filters out all even numbers from a list using list comprehension in Python. Here's an explanation of each part of the code:\n",
    "\n",
    "1.original_list: This variable stores the original list of integers [1, 2, 3, 4, 5, 6, 7, 8, 9, 10]. This is the list from which we want to filter out even numbers.\n",
    "\n",
    "2.even_numbers: This variable stores the result of the list comprehension, which will be a new list containing only the even numbers from original_list.\n",
    "\n",
    "3.[x for x in original_list if x % 2 == 0]: This is the list comprehension itself. Let's break it down step by step:\n",
    "x is the variable that represents each element in original_list.\n",
    "for x in original_list specifies that we want to iterate over the elements of original_list.\n",
    "if x % 2 == 0 is a conditional expression that checks if the current element x is even (i.e., divisible by 2). If it's even, the element is included in the resulting list.\n",
    "\n",
    "4.print(\"Original List:\", original_list): This line of code prints the original list, which remains unchanged.\n",
    "\n",
    "5.print(\"Even Numbers:\", even_numbers): This line of code prints the even_numbers list, which contains only the even numbers filtered from original_list."
   ]
  },
  {
   "cell_type": "code",
   "execution_count": 26,
   "id": "815f0222",
   "metadata": {},
   "outputs": [
    {
     "name": "stdout",
     "output_type": "stream",
     "text": [
      "Original String List: ['1', '2', '3', '4', '5']\n",
      "Converted Integer List: [1, 2, 3, 4, 5]\n"
     ]
    }
   ],
   "source": [
    "# Question 26\n",
    "# Convert a list of strings to a list of integers\n",
    "string_list = [\"1\", \"2\", \"3\", \"4\", \"5\"]\n",
    "integer_list = [int(x) for x in string_list]\n",
    "\n",
    "print(\"Original String List:\", string_list)\n",
    "print(\"Converted Integer List:\", integer_list)"
   ]
  },
  {
   "cell_type": "markdown",
   "id": "119bb416",
   "metadata": {},
   "source": [
    "This Python code converts a list of strings to a list of integers in Python using list comprehension. Here's an explanation of each part of the code:\n",
    "\n",
    "1.string_list: This variable stores the original list of strings [\"1\", \"2\", \"3\", \"4\", \"5\"].\n",
    "\n",
    "2.integer_list: This variable stores the result of the list comprehension, which will be a new list containing the same elements as string_list, but each element will be converted from a string to an integer.\n",
    "\n",
    "3.[int(x) for x in string_list]: This is the list comprehension itself. Let's break it down step by step:\n",
    "x is the variable that represents each element in string_list. In this case, x will be a string from the string_list.\n",
    "for x in string_list specifies that we want to iterate over the elements of string_list.\n",
    "int(x) is the expression used to convert each x (string) into an integer using the int() function. It converts each string element to its integer equivalent.\n",
    "\n",
    "4.print(\"Original String List:\", string_list): This line of code prints the original string list, which remains unchanged.\n",
    "\n",
    "5.print(\"Converted Integer List:\", integer_list): This line of code prints the integer_list, which contains the elements from string_list, but now they are integers."
   ]
  },
  {
   "cell_type": "code",
   "execution_count": 27,
   "id": "192f63f5",
   "metadata": {},
   "outputs": [
    {
     "name": "stdout",
     "output_type": "stream",
     "text": [
      "Original Integer List: [1, 2, 3, 4, 5]\n",
      "Converted String List: ['1', '2', '3', '4', '5']\n"
     ]
    }
   ],
   "source": [
    "# Question 27\n",
    "# Convert a list of integers to a list of strings\n",
    "integer_list = [1, 2, 3, 4, 5]\n",
    "string_list = [str(x) for x in integer_list]\n",
    "\n",
    "print(\"Original Integer List:\", integer_list)\n",
    "print(\"Converted String List:\", string_list)"
   ]
  },
  {
   "cell_type": "markdown",
   "id": "8fe2f097",
   "metadata": {},
   "source": [
    "This Python code converts a list of integers to a list of strings in Python using list comprehension. Here's an explanation of each part of the code:\n",
    "\n",
    "1.integer_list: This variable stores the original list of integers [1, 2, 3, 4, 5].\n",
    "\n",
    "2.string_list: This variable stores the result of the list comprehension, which will be a new list containing the same elements as integer_list, but each element will be converted from an integer to a string.\n",
    "\n",
    "3.[str(x) for x in integer_list]: This is the list comprehension itself. Let's break it down step by step:\n",
    "x is the variable that represents each element in integer_list. In this case, x will be an integer from the integer_list.\n",
    "for x in integer_list specifies that we want to iterate over the elements of integer_list.\n",
    "str(x) is the expression used to convert each x (integer) into a string using the str() function. It converts each integer element to its string representation.\n",
    "\n",
    "4.print(\"Original Integer List:\", integer_list): This line of code prints the original integer list, which remains unchanged.\n",
    "\n",
    "5.print(\"Converted String List:\", string_list): This line of code prints the string_list, which contains the elements from integer_list, but now they are strings."
   ]
  },
  {
   "cell_type": "code",
   "execution_count": 28,
   "id": "32e6619b",
   "metadata": {},
   "outputs": [
    {
     "name": "stdout",
     "output_type": "stream",
     "text": [
      "Original Nested List: [1, [2, 3], [4, [5, 6]]]\n",
      "Flattened List: [1, 2, 3, 4, 5, 6]\n"
     ]
    }
   ],
   "source": [
    "# Question 28\n",
    "# Flatten a nested list\n",
    "def flatten_list(nested_list):\n",
    "    flat_list = []\n",
    "    for sublist in nested_list:\n",
    "        if isinstance(sublist, list):\n",
    "            flat_list.extend(flatten_list(sublist))\n",
    "        else:\n",
    "            flat_list.append(sublist)\n",
    "    return flat_list\n",
    "\n",
    "nested_list = [1, [2, 3], [4, [5, 6]]]\n",
    "flat_list = flatten_list(nested_list)\n",
    "print(\"Original Nested List:\", nested_list)\n",
    "print(\"Flattened List:\", flat_list)"
   ]
  },
  {
   "cell_type": "markdown",
   "id": "63df7afe",
   "metadata": {},
   "source": [
    "This Python code flattens a nested list in Python using a recursive function called flatten_list. Here's an explanation of each part of the code:\n",
    "\n",
    "1.flatten_list: This is a recursive function that takes a nested_list as its input and returns a flattened list.\n",
    "\n",
    "2.flat_list: This variable stores the result of the flatten_list function, which will be a new list containing all the elements from the nested_list, with all nested sublists flattened.\n",
    "\n",
    "3.for sublist in nested_list:: This loop iterates over each element (sublist) in the nested_list.\n",
    "\n",
    "4.if isinstance(sublist, list):: This conditional statement checks if the current sublist is itself a list using the isinstance() function.\n",
    "\n",
    "5.flat_list.extend(flatten_list(sublist)): If the sublist is a list, the code recursively calls the flatten_list function on it to flatten any nested sublists, and then extends the flat_list with the flattened result.\n",
    "\n",
    "6.else:: If the sublist is not a list (i.e., it's an element), it appends that element to the flat_list.\n",
    "\n",
    "7.return flat_list: The function returns the flat_list once all elements in the nested_list and its sublists have been processed.\n",
    "\n",
    "8.nested_list: This variable stores the original nested list [1, [2, 3], [4, [5, 6]]].\n",
    "\n",
    "9.flat_list: This variable stores the flattened list obtained by calling flatten_list(nested_list).\n",
    "\n",
    "10.print(\"Original Nested List:\", nested_list): This line of code prints the original nested list.\n",
    "\n",
    "11.print(\"Flattened List:\", flat_list): This line of code prints the flattened list."
   ]
  },
  {
   "cell_type": "code",
   "execution_count": 29,
   "id": "76d971e2",
   "metadata": {},
   "outputs": [
    {
     "name": "stdout",
     "output_type": "stream",
     "text": [
      "First 10 Fibonacci Numbers:\n",
      "[0, 1, 1, 2, 3, 5, 8, 13, 21, 34]\n"
     ]
    }
   ],
   "source": [
    "# Question 29\n",
    "# Create a list of the first 10 Fibonacci numbers\n",
    "fibonacci_sequence = [0, 1]\n",
    "\n",
    "while len(fibonacci_sequence) < 10:\n",
    "    next_number = fibonacci_sequence[-1] + fibonacci_sequence[-2]\n",
    "    fibonacci_sequence.append(next_number)\n",
    "\n",
    "print(\"First 10 Fibonacci Numbers:\")\n",
    "print(fibonacci_sequence)"
   ]
  },
  {
   "cell_type": "markdown",
   "id": "4896bf03",
   "metadata": {},
   "source": [
    "This Python code generates a list of the first 10 Fibonacci numbers in Python. Here's an explanation of each part of the code:\n",
    "\n",
    "1.fibonacci_sequence: This variable initializes a list with the first two Fibonacci numbers [0, 1]. These are the starting values of the Fibonacci sequence.\n",
    "\n",
    "2.while len(fibonacci_sequence) < 10:: This while loop continues until the length of the fibonacci_sequence list reaches 10. It ensures that we generate the first 10 Fibonacci numbers.\n",
    "\n",
    "3.next_number: Inside the loop, we calculate the next Fibonacci number by adding the last two numbers in the fibonacci_sequence list, which are fibonacci_sequence[-1] (the last number) and fibonacci_sequence[-2] (the second-to-last number).\n",
    "\n",
    "4.fibonacci_sequence.append(next_number): We append the next_number to the fibonacci_sequence list, which effectively extends the list with the next Fibonacci number.\n",
    "\n",
    "5.print(\"First 10 Fibonacci Numbers:\"): This line of code prints a header message indicating that the following numbers are the first 10 Fibonacci numbers.\n",
    "\n",
    "6.print(fibonacci_sequence): This line of code prints the fibonacci_sequence list, which contains the first 10 Fibonacci numbers."
   ]
  },
  {
   "cell_type": "code",
   "execution_count": 30,
   "id": "4595dc1d",
   "metadata": {},
   "outputs": [
    {
     "name": "stdout",
     "output_type": "stream",
     "text": [
      "The list is sorted.\n"
     ]
    }
   ],
   "source": [
    "# Question 30\n",
    "# Check if a list is sorted\n",
    "def is_sorted(input_list):\n",
    "    return input_list == sorted(input_list)\n",
    "\n",
    "my_list = [1, 2, 3, 4, 5]\n",
    "if is_sorted(my_list):\n",
    "    print(\"The list is sorted.\")\n",
    "else:\n",
    "    print(\"The list is not sorted.\")"
   ]
  },
  {
   "cell_type": "markdown",
   "id": "b7835925",
   "metadata": {},
   "source": [
    "This Python code checks if a list is sorted in ascending order in Python. Here's an explanation of each part of the code:\n",
    "\n",
    "1.is_sorted(input_list): This is a function called is_sorted that takes an input_list as an argument. The function checks if the list is sorted in ascending order.\n",
    "\n",
    "2.return input_list == sorted(input_list): Inside the is_sorted function, this line compares the input_list with a sorted version of itself (sorted(input_list)). If they are equal, it means the list is sorted in ascending order, and the function returns True. Otherwise, it returns False.\n",
    "\n",
    "3.my_list = [1, 2, 3, 4, 5]: This line initializes a sample list my_list with elements in ascending order.\n",
    "\n",
    "4.if is_sorted(my_list):: This condition checks if the my_list is sorted by calling the is_sorted function. If the function returns True, it means the list is sorted.\n",
    "\n",
    "5.print(\"The list is sorted.\"): If the list is sorted, this line prints \"The list is sorted.\"\n",
    "\n",
    "6.else:: If the list is not sorted (i.e., the function returns False), the code executes the else block.\n",
    "\n",
    "7.print(\"The list is not sorted.\"): In the else block, this line prints \"The list is not sorted.\""
   ]
  },
  {
   "cell_type": "code",
   "execution_count": 31,
   "id": "9572ce87",
   "metadata": {},
   "outputs": [
    {
     "name": "stdout",
     "output_type": "stream",
     "text": [
      "[3, 4, 5, 1, 2]\n"
     ]
    }
   ],
   "source": [
    "# Question 31\n",
    "# Rotate a list to the left by `n` positions\n",
    "def rotate_left(lst, n):\n",
    "    n = n % len(lst)\n",
    "    rotated_list = lst[n:] + lst[:n]\n",
    "    return rotated_list\n",
    "\n",
    "my_list = [1, 2, 3, 4, 5]\n",
    "n = 2\n",
    "rotated = rotate_left(my_list, n)\n",
    "print(rotated)"
   ]
  },
  {
   "cell_type": "markdown",
   "id": "27772cb3",
   "metadata": {},
   "source": [
    "This Python code defines a function rotate_left that rotates a list to the left by n positions and demonstrates its usage with a sample list. Here's an explanation of each part of the code:\n",
    "\n",
    "1.rotate_left(lst, n): This is a function called rotate_left that takes two arguments: lst, the list to be rotated, and n, the number of positions to rotate it to the left.\n",
    "\n",
    "2.n = n % len(lst): This line ensures that n is within the range of the list length. If n is greater than or equal to the length of the list, it wraps around to avoid an \"index out of range\" error.\n",
    "\n",
    "3.rotated_list = lst[n:] + lst[:n]: This line performs the left rotation. It creates a new list rotated_list by concatenating two slices of the original list lst:\n",
    "lst[n:] represents the elements of lst from index n to the end, which are moved to the beginning of rotated_list.\n",
    "lst[:n] represents the elements of lst from the start up to index n-1, which are moved to the end of rotated_list.\n",
    "\n",
    "4.return rotated_list: The function returns the rotated_list, which is the list after performing the left rotation.\n",
    "\n",
    "5.my_list = [1, 2, 3, 4, 5]: This line initializes a sample list my_list with elements.\n",
    "\n",
    "6.n = 2: This line sets the rotation count to 2, which means the list will be rotated two positions to the left.\n",
    "\n",
    "7.rotated = rotate_left(my_list, n): This line calls the rotate_left function with my_list and n as arguments and stores the result in the rotated variable.\n",
    "\n",
    "8.print(rotated): Finally, this line prints the rotated list, which is the result of the left rotation."
   ]
  },
  {
   "cell_type": "code",
   "execution_count": 32,
   "id": "052e61d4",
   "metadata": {},
   "outputs": [
    {
     "name": "stdout",
     "output_type": "stream",
     "text": [
      "[4, 5, 1, 2, 3]\n"
     ]
    }
   ],
   "source": [
    "# Question 32\n",
    "# Rotate a list to the right by `n` positions\n",
    "def rotate_right(lst, n):\n",
    "    n = n % len(lst)\n",
    "    rotated_list = lst[-n:] + lst[:-n]\n",
    "    return rotated_list\n",
    "\n",
    "my_list = [1, 2, 3, 4, 5]\n",
    "n = 2\n",
    "rotated = rotate_right(my_list, n)\n",
    "print(rotated)"
   ]
  },
  {
   "cell_type": "markdown",
   "id": "b994711a",
   "metadata": {},
   "source": [
    "This Python code defines a function rotate_right that rotates a list to the right by n positions and demonstrates its usage with a sample list. Here's an explanation of each part of the code:\n",
    "\n",
    "1.rotate_right(lst, n): This is a function called rotate_right that takes two arguments: lst, the list to be rotated, and n, the number of positions to rotate it to the right.\n",
    "\n",
    "2.n = n % len(lst): This line ensures that n is within the range of the list length. If n is greater than or equal to the length of the list, it wraps around to avoid an \"index out of range\" error.\n",
    "\n",
    "3.rotated_list = lst[-n:] + lst[:-n]: This line performs the right rotation. It creates a new list rotated_list by concatenating two slices of the original list lst:\n",
    "lst[-n:] represents the elements of lst from the last n elements to the end, which are moved to the beginning of rotated_list.\n",
    "lst[:-n] represents the elements of lst from the start up to the last n elements, which are moved to the end of rotated_list.\n",
    "\n",
    "4.return rotated_list: The function returns the rotated_list, which is the list after performing the right rotation.\n",
    "\n",
    "5.my_list = [1, 2, 3, 4, 5]: This line initializes a sample list my_list with elements.\n",
    "\n",
    "6.n = 2: This line sets the rotation count to 2, which means the list will be rotated two positions to the right.\n",
    "\n",
    "7.rotated = rotate_right(my_list, n): This line calls the rotate_right function with my_list and n as arguments and stores the result in the rotated variable.\n",
    "\n",
    "8.print(rotated): Finally, this line prints the rotated list, which is the result of the right rotation."
   ]
  },
  {
   "cell_type": "code",
   "execution_count": 33,
   "id": "79cd0e9b",
   "metadata": {},
   "outputs": [
    {
     "name": "stdout",
     "output_type": "stream",
     "text": [
      "[2, 3, 5, 7, 11, 13, 17, 19, 23, 29, 31, 37, 41, 43, 47]\n"
     ]
    }
   ],
   "source": [
    "# Question 33\n",
    "# Create a list of prime numbers up to 50\n",
    "def is_prime(num):\n",
    "    if num <= 1:\n",
    "        return False\n",
    "    if num <= 3:\n",
    "        return True\n",
    "    if num % 2 == 0 or num % 3 == 0:\n",
    "        return False\n",
    "    i = 5\n",
    "    while i * i <= num:\n",
    "        if num % i == 0 or num % (i + 2) == 0:\n",
    "            return False\n",
    "        i += 6\n",
    "    return True\n",
    "\n",
    "prime_numbers = [num for num in range(2, 51) if is_prime(num)]\n",
    "\n",
    "print(prime_numbers)"
   ]
  },
  {
   "cell_type": "markdown",
   "id": "86a23dbb",
   "metadata": {},
   "source": [
    "This Python code generates a list of prime numbers up to 50 using a list comprehension. Let's break down the code step by step:\n",
    "\n",
    "1.def is_prime(num): This line defines a function called is_prime that takes an integer num as its parameter. This function checks whether num is a prime number.\n",
    "\n",
    "2.Inside the is_prime function:\n",
    "if num <= 1: checks if num is less than or equal to 1. If it is, the function returns False because 1 and numbers less than 1 are not prime.\n",
    "if num <= 3: checks if num is less than or equal to 3. If it is, the function returns True because 2 and 3 are prime.\n",
    "if num % 2 == 0 or num % 3 == 0: checks if num is divisible by 2 or 3. If it is, the function returns False because numbers divisible by 2 or 3 (except 2 and 3 themselves) are not prime.\n",
    "The code then enters a loop that iterates from i = 5 up to the square root of num. Inside the loop, it checks if num is divisible by i or i + 2 (this is an optimization). If it is, the function returns False. This loop is based on the fact that prime numbers greater than 3 can be expressed in the form 6k ± 1.\n",
    "\n",
    "3.prime_numbers = [num for num in range(2, 51) if is_prime(num)]: This line uses a list comprehension to generate a list of prime numbers. It iterates through numbers from 2 to 50 (inclusive) using the range(2, 51) range generator. For each number num in this range, it calls the is_prime function to check if it's prime. If is_prime(num) returns True, the number is included in the prime_numbers list.\n",
    "\n",
    "4.print(prime_numbers): Finally, this line prints the list of prime numbers up to 50, which were generated using the list comprehension."
   ]
  },
  {
   "cell_type": "code",
   "execution_count": 34,
   "id": "e992dc48",
   "metadata": {},
   "outputs": [
    {
     "name": "stdout",
     "output_type": "stream",
     "text": [
      "[[1, 2, 3], [4, 5, 6], [7, 8, 9]]\n"
     ]
    }
   ],
   "source": [
    "# Question 34\n",
    "# Split a list into chunks of size `n`\n",
    "def chunk_list(lst, n):\n",
    "    return [lst[i:i + n] for i in range(0, len(lst), n)]\n",
    "\n",
    "my_list = [1, 2, 3, 4, 5, 6, 7, 8, 9]\n",
    "chunk_size = 3\n",
    "\n",
    "chunked_list = chunk_list(my_list, chunk_size)\n",
    "print(chunked_list)"
   ]
  },
  {
   "cell_type": "markdown",
   "id": "f2c81f95",
   "metadata": {},
   "source": [
    "This Python code defines a function called chunk_list that takes a list (lst) and an integer (n) as parameters. The function's purpose is to split the input list into chunks of size n. Here's how the code works:\n",
    "\n",
    "1.def chunk_list(lst, n): This line defines the chunk_list function with two parameters: lst (the input list to be chunked) and n (the size of each chunk).\n",
    "\n",
    "2.return [lst[i:i + n] for i in range(0, len(lst), n)]: This line uses a list comprehension to create a new list containing the chunks of the input list. Here's a breakdown of this comprehension:\n",
    "for i in range(0, len(lst), n): This part of the list comprehension iterates through the indices of the input list lst, starting from 0 and incrementing by n at each step. This ensures that we start at the beginning of the list and create chunks of size n.\n",
    "lst[i:i + n]: For each i value, this part of the comprehension slices the input list from index i to index i + n. This slice operation extracts a chunk of size n starting from the current index i.\n",
    "The list comprehension collects all these chunks into a new list, which is then returned by the chunk_list function.\n",
    "\n",
    "3.my_list = [1, 2, 3, 4, 5, 6, 7, 8, 9]: This line defines an example list called my_list containing the numbers 1 to 9.\n",
    "\n",
    "4.chunk_size = 3: This line sets the chunk size to 3, meaning we want to split my_list into chunks of size 3.\n",
    "\n",
    "5.chunked_list = chunk_list(my_list, chunk_size): Here, we call the chunk_list function with my_list as the input list and chunk_size as the size of each chunk. The result is stored in the chunked_list variable.\n",
    "\n",
    "6.print(chunked_list): Finally, this line prints the chunked_list, which contains the list split into chunks of size 3."
   ]
  },
  {
   "cell_type": "code",
   "execution_count": 35,
   "id": "7dc1db6a",
   "metadata": {},
   "outputs": [
    {
     "name": "stdout",
     "output_type": "stream",
     "text": [
      "Second largest number: 9\n"
     ]
    }
   ],
   "source": [
    "# Question 35\n",
    "# Find the second largest number in a list\n",
    "my_list = [4, 2, 9, 7, 5, 10]\n",
    "sorted_list = sorted(my_list, reverse=True)\n",
    "\n",
    "second_largest = sorted_list[1]\n",
    "print(\"Second largest number:\", second_largest)"
   ]
  },
  {
   "cell_type": "markdown",
   "id": "c80895cf",
   "metadata": {},
   "source": [
    "This Python code finds the second largest number in a list my_list. Here's how the code works:\n",
    "\n",
    "1.my_list = [4, 2, 9, 7, 5, 10]: This line defines an example list called my_list containing some numbers.\n",
    "\n",
    "2.sorted_list = sorted(my_list, reverse=True): This line sorts the elements of my_list in descending order (from largest to smallest) and stores the result in a new list called sorted_list. The reverse=True argument is passed to the sorted() function to ensure that the sorting is done in descending order.\n",
    "\n",
    "3.second_largest = sorted_list[1]: Once sorted_list is created, we access the second element (index 1) of this sorted list and store it in the variable second_largest. Since the list is sorted in descending order, the second largest element will be at index 1.\n",
    "\n",
    "4.print(\"Second largest number:\", second_largest): Finally, this line prints the value of second_largest along with a descriptive message to indicate that it represents the second largest number in the original list."
   ]
  },
  {
   "cell_type": "code",
   "execution_count": 36,
   "id": "a00b0c32",
   "metadata": {},
   "outputs": [
    {
     "name": "stdout",
     "output_type": "stream",
     "text": [
      "[1, 4, 9, 16, 25]\n"
     ]
    }
   ],
   "source": [
    "# Question 36\n",
    "# Replace every element in a list with its square\n",
    "my_list = [1, 2, 3, 4, 5]\n",
    "squared_list = [x**2 for x in my_list]\n",
    "print(squared_list)"
   ]
  },
  {
   "cell_type": "markdown",
   "id": "1f0f3ed1",
   "metadata": {},
   "source": [
    "This Python code takes a list my_list and creates a new list squared_list where every element is replaced with its square. Here's a breakdown of how the code works:\n",
    "\n",
    "1.my_list = [1, 2, 3, 4, 5]: This line defines an example list called my_list containing the numbers 1 through 5.\n",
    "\n",
    "2.squared_list = [x**2 for x in my_list]: This line uses a list comprehension to create a new list called squared_list. Here's how the list comprehension works:\n",
    "for x in my_list: It iterates through each element x in the original list my_list.\n",
    "x**2: For each element x, it calculates its square by raising x to the power of 2 (x**2).\n",
    "The result of x**2 for each element x is collected in a new list, which is squared_list.\n",
    "\n",
    "3.print(squared_list): Finally, this line prints the squared_list to the console."
   ]
  },
  {
   "cell_type": "code",
   "execution_count": 37,
   "id": "4beeedea",
   "metadata": {},
   "outputs": [
    {
     "name": "stdout",
     "output_type": "stream",
     "text": [
      "{'apple': 0, 'banana': 1, 'cherry': 2, 'date': 3}\n"
     ]
    }
   ],
   "source": [
    "# Question 37\n",
    "# Convert a list to a dictionary where list elements become keys and their indices become values\n",
    "my_list = ['apple', 'banana', 'cherry', 'date']\n",
    "my_dict = {element: index for index, element in enumerate(my_list)}\n",
    "print(my_dict)"
   ]
  },
  {
   "cell_type": "markdown",
   "id": "fe0f6767",
   "metadata": {},
   "source": [
    "This Python code converts a list my_list into a dictionary my_dict where the elements of the list become keys, and their indices (positions) in the list become the corresponding values. Here's a breakdown of how the code works:\n",
    "\n",
    "1.my_list = ['apple', 'banana', 'cherry', 'date']: This line defines an example list called my_list, which contains four elements: 'apple', 'banana', 'cherry', and 'date'.\n",
    "\n",
    "2.my_dict = {element: index for index, element in enumerate(my_list)}: This line uses a dictionary comprehension to create a new dictionary called my_dict. Here's how the dictionary comprehension works:\n",
    "enumerate(my_list): The enumerate() function is used to iterate through my_list while simultaneously obtaining both the index (position) and the element at that position. This results in pairs like (0, 'apple'), (1, 'banana'), (2, 'cherry'), and (3, 'date').\n",
    "{element: index for index, element in enumerate(my_list)}: For each pair (index, element) obtained from enumerate(), the dictionary comprehension creates a key-value pair in the dictionary, where element becomes the key, and index becomes the value.\n",
    "\n",
    "3.print(my_dict): Finally, this line prints the my_dict to the console."
   ]
  },
  {
   "cell_type": "code",
   "execution_count": 38,
   "id": "93d2eb94",
   "metadata": {},
   "outputs": [
    {
     "name": "stdout",
     "output_type": "stream",
     "text": [
      "[5, 3, 1, 4, 2]\n"
     ]
    }
   ],
   "source": [
    "# Question 38\n",
    "# Shuffle the elements of a list randomly\n",
    "import random\n",
    "my_list = [1, 2, 3, 4, 5]\n",
    "\n",
    "random.shuffle(my_list)\n",
    "print(my_list)"
   ]
  },
  {
   "cell_type": "markdown",
   "id": "1b8da650",
   "metadata": {},
   "source": [
    "This Python code shuffles the elements of a list my_list randomly. Here's how the code works:\n",
    "\n",
    "1.import random: This line imports the random module, which provides various functions for generating random numbers and performing random operations.\n",
    "\n",
    "2.my_list = [1, 2, 3, 4, 5]: This line defines an example list called my_list, containing the numbers 1 through 5.\n",
    "\n",
    "3.random.shuffle(my_list): This line uses the shuffle() function from the random module to shuffle the elements of my_list. The shuffle() function modifies the list in place, so my_list will be shuffled randomly after this line is executed.\n",
    "\n",
    "4.print(my_list): Finally, this line prints the shuffled my_list to the console."
   ]
  },
  {
   "cell_type": "code",
   "execution_count": 39,
   "id": "b23f3389",
   "metadata": {},
   "outputs": [
    {
     "name": "stdout",
     "output_type": "stream",
     "text": [
      "[1, 1, 2, 6, 24, 120, 720, 5040, 40320, 362880]\n"
     ]
    }
   ],
   "source": [
    "# Question 39\n",
    "# Create a list of the first 10 factorial numbers\n",
    "import math\n",
    "factorial_numbers = [math.factorial(i) for i in range(10)]\n",
    "print(factorial_numbers)"
   ]
  },
  {
   "cell_type": "markdown",
   "id": "7b209a7f",
   "metadata": {},
   "source": [
    "This Python code generates a list called factorial_numbers containing the first 10 factorial numbers using a list comprehension. Here's how the code works:\n",
    "\n",
    "1.import math: This line imports the math module, which provides mathematical functions, including math.factorial(), which we will use to calculate factorials.\n",
    "\n",
    "2.factorial_numbers = [math.factorial(i) for i in range(10)]: This line uses a list comprehension to create the factorial_numbers list. Here's how the list comprehension works:\n",
    "for i in range(10): It iterates through values of i from 0 to 9 using the range(10) generator. These values of i represent the numbers for which we want to calculate factorials.\n",
    "math.factorial(i): For each value of i, it calculates the factorial using the math.factorial() function from the math module. This function computes the factorial of a non-negative integer i.\n",
    "The result of math.factorial(i) for each i is collected in the factorial_numbers list.\n",
    "\n",
    "3.print(factorial_numbers): Finally, this line prints the factorial_numbers list to the console."
   ]
  },
  {
   "cell_type": "code",
   "execution_count": 40,
   "id": "bc876bf9",
   "metadata": {},
   "outputs": [
    {
     "name": "stdout",
     "output_type": "stream",
     "text": [
      "The lists have at least one common element: {5}\n"
     ]
    }
   ],
   "source": [
    "# Question 40\n",
    "# Check if two lists have at least one element in common\n",
    "list1 = [1, 2, 3, 4, 5]\n",
    "list2 = [5, 6, 7, 8, 9]\n",
    "common_elements = set(list1).intersection(list2)\n",
    "\n",
    "if common_elements:\n",
    "    print(\"The lists have at least one common element:\", common_elements)\n",
    "else:\n",
    "    print(\"The lists have no common elements.\")"
   ]
  },
  {
   "cell_type": "markdown",
   "id": "39d51d23",
   "metadata": {},
   "source": [
    "This Python code checks if two lists, list1 and list2, have at least one element in common and then prints the result. Here's how the code works:\n",
    "\n",
    "1.list1 = [1, 2, 3, 4, 5] and list2 = [5, 6, 7, 8, 9]: These lines define two example lists, list1 and list2, each containing a set of integers.\n",
    "\n",
    "2.common_elements = set(list1).intersection(list2): This line calculates the intersection of the two lists to find common elements. Here's what happens:\n",
    "set(list1): This part of the code converts list1 into a set. Sets are unordered collections of unique elements. By converting list1 into a set, we remove any duplicate elements.\n",
    ".intersection(list2): The intersection() method is called on the set representation of list1, and it takes list2 as an argument. This method returns a new set containing the common elements between the two sets. In other words, it finds the elements that are present in both list1 and list2.\n",
    "The result of the intersection operation is stored in the common_elements set.\n",
    "\n",
    "3.if common_elements:: This line checks if the common_elements set is not empty. If there are common elements between list1 and list2, the set will not be empty, and the condition will be true.\n",
    "\n",
    "4.If the condition is true, the code prints:\n",
    "\"The lists have at least one common element:\" along with the common_elements set, which contains the common elements.\n",
    "\n",
    "5.If the condition is false (meaning there are no common elements), the code prints:\n",
    "\"The lists have no common elements.\""
   ]
  },
  {
   "cell_type": "code",
   "execution_count": 41,
   "id": "b2343e4b",
   "metadata": {},
   "outputs": [
    {
     "name": "stdout",
     "output_type": "stream",
     "text": [
      "[]\n"
     ]
    }
   ],
   "source": [
    "# Question 41\n",
    "# Remove all elements from a list\n",
    "my_list = [1, 2, 3, 4, 5]\n",
    "my_list.clear()\n",
    "print(my_list)"
   ]
  },
  {
   "cell_type": "markdown",
   "id": "94a020c8",
   "metadata": {},
   "source": [
    "This Python code removes all elements from a list called my_list and then prints the empty list. Here's how the code works:\n",
    "\n",
    "1.my_list = [1, 2, 3, 4, 5]: This line defines an example list called my_list, containing the numbers 1 through 5.\n",
    "\n",
    "2.my_list.clear(): This line uses the clear() method on my_list. The clear() method is a built-in method for lists in Python, and it removes all elements from the list, effectively making it an empty list.\n",
    "\n",
    "3.print(my_list): Finally, this line prints the my_list to the console."
   ]
  },
  {
   "cell_type": "code",
   "execution_count": 42,
   "id": "7207a2fa",
   "metadata": {},
   "outputs": [
    {
     "name": "stdout",
     "output_type": "stream",
     "text": [
      "[1, 0, 3, 0, 5, 0]\n"
     ]
    }
   ],
   "source": [
    "# Question 42\n",
    "# Replace negative numbers in a list with 0\n",
    "my_list = [1, -2, 3, -4, 5, -6]\n",
    "my_list = [x if x >= 0 else 0 for x in my_list]\n",
    "print(my_list)"
   ]
  },
  {
   "cell_type": "markdown",
   "id": "6fc910e4",
   "metadata": {},
   "source": [
    "This Python code replaces negative numbers in a list my_list with 0 and then assigns the modified list back to my_list. Here's how the code works:\n",
    "\n",
    "1.my_list = [1, -2, 3, -4, 5, -6]: This line defines an example list called my_list, which contains both positive and negative numbers.\n",
    "\n",
    "2.my_list = [x if x >= 0 else 0 for x in my_list]: This line uses a list comprehension to create a new list based on my_list, with negative numbers replaced by 0. Here's how the list comprehension works:\n",
    "for x in my_list: It iterates through each element x in the original list my_list.\n",
    "x if x >= 0 else 0: For each element x, it checks if x is greater than or equal to 0. If x is non-negative (greater than or equal to 0), it keeps x as it is. If x is negative, it replaces it with 0.\n",
    "The result of x if x >= 0 else 0 for each element x is collected in a new list, which is then assigned back to my_list. This effectively replaces the original list with the modified one.\n",
    "\n",
    "3.print(my_list): Finally, this line prints the modified my_list to the console."
   ]
  },
  {
   "cell_type": "code",
   "execution_count": 43,
   "id": "f1acdf69",
   "metadata": {},
   "outputs": [
    {
     "name": "stdout",
     "output_type": "stream",
     "text": [
      "['This', 'is', 'a', 'sample', 'sentence.']\n"
     ]
    }
   ],
   "source": [
    "# Question 43\n",
    "# Convert a string into a list of words\n",
    "my_string = \"This is a sample sentence.\"\n",
    "word_list = my_string.split()\n",
    "print(word_list)"
   ]
  },
  {
   "cell_type": "markdown",
   "id": "b17ae1e0",
   "metadata": {},
   "source": [
    "This Python code converts a string into a list of words in Python. Here's how it works:\n",
    "\n",
    "1.my_string = \"This is a sample sentence.\": This line defines a string named my_string that contains the text you want to split into words.\n",
    "\n",
    "2.word_list = my_string.split(): This line uses the split() method of the string to split it into a list of words. By default, split() splits the string at spaces (whitespace characters) and removes leading and trailing whitespace. The resulting list, word_list, contains each word from the original string as separate elements.\n",
    "\n",
    "3.print(word_list): Finally, the code prints the word_list, which is the list of words extracted from the string."
   ]
  },
  {
   "cell_type": "code",
   "execution_count": 44,
   "id": "a4484391",
   "metadata": {},
   "outputs": [
    {
     "name": "stdout",
     "output_type": "stream",
     "text": [
      "This is a sample list of words\n"
     ]
    }
   ],
   "source": [
    "# Question 44\n",
    "# Convert a list of words into a string\n",
    "word_list = ['This', 'is', 'a', 'sample', 'list', 'of', 'words']\n",
    "my_string = ' '.join(word_list)\n",
    "print(my_string)"
   ]
  },
  {
   "cell_type": "markdown",
   "id": "ecaa76c5",
   "metadata": {},
   "source": [
    "This Python code converts a list of words into a single string with words separated by spaces in Python. Here's how it works:\n",
    "\n",
    "1.word_list = ['This', 'is', 'a', 'sample', 'list', 'of', 'words']: This line defines a list named word_list that contains individual words.\n",
    "\n",
    "2.my_string = ' '.join(word_list): This line uses the join() method to join the elements of the word_list into a single string. The string ' ' (a single space) is used as the separator between the words. So, it concatenates all the words in the list with a space in between.\n",
    "\n",
    "3.print(my_string): Finally, the code prints the my_string, which is the result of joining the words from the list."
   ]
  },
  {
   "cell_type": "code",
   "execution_count": 45,
   "id": "e238427a",
   "metadata": {},
   "outputs": [
    {
     "name": "stdout",
     "output_type": "stream",
     "text": [
      "[1, 2, 4, 8, 16]\n"
     ]
    }
   ],
   "source": [
    "# Question 45\n",
    "# Create a list of the first `n` powers of 2\n",
    "n = 5\n",
    "power_of_2_list = [2 ** i for i in range(n)]\n",
    "print(power_of_2_list)"
   ]
  },
  {
   "cell_type": "markdown",
   "id": "00c80bd1",
   "metadata": {},
   "source": [
    "This Python code generates a list of the first n powers of 2 in Python using list comprehension. Here's how it works:\n",
    "\n",
    "1.n = 5: This line sets the variable n to the number of powers of 2 you want to generate.\n",
    "\n",
    "2.power_of_2_list = [2 ** i for i in range(n)]: This is a list comprehension that generates the list of powers of 2.\n",
    "range(n) creates a sequence of numbers from 0 to n-1. In this case, it creates [0, 1, 2, 3, 4] because n is set to 5.\n",
    "For each value i in the sequence, it calculates 2 ** i, which represents 2 raised to the power of i.\n",
    "The result of 2 ** i for each i is collected into a list, creating a list of the first n powers of 2.\n",
    "\n",
    "3.print(power_of_2_list): Finally, the code prints the power_of_2_list, which contains the first n powers of 2."
   ]
  },
  {
   "cell_type": "code",
   "execution_count": 51,
   "id": "c68341cf",
   "metadata": {},
   "outputs": [
    {
     "name": "stdout",
     "output_type": "stream",
     "text": [
      "The longest string is: blueberry\n"
     ]
    }
   ],
   "source": [
    "# Question 46\n",
    "# Find the longest string in a list of strings\n",
    "string_list = [\"apple\", \"banana\", \"cherry\", \"date\", \"blueberry\"]\n",
    "longest_string = max(string_list, key=len)\n",
    "print(\"The longest string is:\", longest_string)"
   ]
  },
  {
   "cell_type": "markdown",
   "id": "4f5988f9",
   "metadata": {},
   "source": [
    "This Python code finds and prints the longest string in a list of strings called string_list. Here's how the code works:\n",
    "\n",
    "1.string_list = [\"apple\", \"banana\", \"cherry\", \"date\", \"blueberry\"]: This line defines an example list called string_list, which contains several strings of varying lengths.\n",
    "\n",
    "2.longest_string = max(string_list, key=len): This line uses the max() function to find the longest string in string_list. Here's what happens:\n",
    "max() is called with two arguments:\n",
    "string_list: The list from which we want to find the maximum element.\n",
    "key=len: The key parameter specifies a function that is applied to each element of the list before comparing them. In this case, len is a built-in Python function that returns the length (number of characters) of a string.\n",
    "The max() function, using key=len, finds the element (in this case, the string) in string_list with the maximum length.\n",
    "\n",
    "3.print(\"The longest string is:\", longest_string): Finally, this line prints a message along with the value of longest_string to the console."
   ]
  },
  {
   "cell_type": "code",
   "execution_count": 52,
   "id": "5e9d3451",
   "metadata": {},
   "outputs": [
    {
     "name": "stdout",
     "output_type": "stream",
     "text": [
      "The shortest string is: date\n"
     ]
    }
   ],
   "source": [
    "# Question 47\n",
    "# Find the shortest string in a list of strings\n",
    "string_list = [\"apple\", \"banana\", \"cherry\", \"date\", \"blueberry\"]\n",
    "shortest_string = min(string_list, key=len)\n",
    "print(\"The shortest string is:\", shortest_string)"
   ]
  },
  {
   "cell_type": "markdown",
   "id": "95db56de",
   "metadata": {},
   "source": [
    "This Python code finds and prints the shortest string in a list of strings called string_list. Here's how the code works:\n",
    "\n",
    "1.string_list = [\"apple\", \"banana\", \"cherry\", \"date\", \"blueberry\"]: This line defines an example list called string_list, which contains several strings of varying lengths.\n",
    "\n",
    "2.shortest_string = min(string_list, key=len): This line uses the min() function to find the shortest string in string_list. Here's what happens:\n",
    "min() is called with two arguments:\n",
    "string_list: The list from which we want to find the minimum element.\n",
    "key=len: The key parameter specifies a function that is applied to each element of the list before comparing them. In this case, len is a built-in Python function that returns the length (number of characters) of a string.\n",
    "The min() function, using key=len, finds the element (in this case, the string) in string_list with the minimum length.\n",
    "\n",
    "3.print(\"The shortest string is:\", shortest_string): Finally, this line prints a message along with the value of shortest_string to the console."
   ]
  },
  {
   "cell_type": "code",
   "execution_count": 53,
   "id": "6b289257",
   "metadata": {},
   "outputs": [
    {
     "name": "stdout",
     "output_type": "stream",
     "text": [
      "The first 10 triangular numbers are:\n",
      "[1, 3, 6, 10, 15, 21, 28, 36, 45, 55]\n"
     ]
    }
   ],
   "source": [
    "# Question 48\n",
    "# Create a list of the first `n` triangular numbers\n",
    "n = 10\n",
    "triangular_numbers = [(i * (i + 1)) // 2 for i in range(1, n + 1)]\n",
    "\n",
    "print(\"The first\", n, \"triangular numbers are:\")\n",
    "print(triangular_numbers)"
   ]
  },
  {
   "cell_type": "markdown",
   "id": "4432235a",
   "metadata": {},
   "source": [
    "This Python code generates a list of the first n triangular numbers and then prints the list along with a message. Here's how the code works:\n",
    "\n",
    "1.n = 10: This line defines a variable n and assigns it the value 10. This variable represents the number of triangular numbers to generate.\n",
    "\n",
    "2.triangular_numbers = [(i * (i + 1)) // 2 for i in range(1, n + 1)]: This line uses a list comprehension to generate the first n triangular numbers and stores them in the triangular_numbers list. Here's how the list comprehension works:\n",
    "for i in range(1, n + 1): It iterates through values of i from 1 to n (inclusive). This represents the first n positive integers for which we want to calculate triangular numbers.\n",
    "(i * (i + 1)) // 2: For each value of i, it calculates the triangular number using the formula (n * (n + 1)) // 2. The formula calculates the sum of the first n natural numbers, which is equivalent to a triangular number.\n",
    "The result of (i * (i + 1)) // 2 for each i is collected in a new list, which is triangular_numbers.\n",
    "\n",
    "3.print(\"The first\", n, \"triangular numbers are:\"): This line prints a message indicating that it's about to display the first n triangular numbers.\n",
    "\n",
    "4.print(triangular_numbers): Finally, this line prints the triangular_numbers list to the console, displaying the list of the first n triangular numbers."
   ]
  },
  {
   "cell_type": "code",
   "execution_count": 55,
   "id": "ae9c2d3c",
   "metadata": {},
   "outputs": [
    {
     "name": "stdout",
     "output_type": "stream",
     "text": [
      "The sublist is a subsequence of the larger list.\n"
     ]
    }
   ],
   "source": [
    "# Question 49\n",
    "# Check if a list contains another list as a subsequence\n",
    "def is_subsequence(sublist, larger_list):\n",
    "    return all(item in larger_list for item in sublist)\n",
    "\n",
    "larger_list = [1, 2, 3, 4, 5, 6, 7, 8]\n",
    "sublist = [2, 4, 6]\n",
    "\n",
    "if is_subsequence(sublist, larger_list):\n",
    "    print(\"The sublist is a subsequence of the larger list.\")\n",
    "else:\n",
    "    print(\"The sublist is not a subsequence of the larger list.\")"
   ]
  },
  {
   "cell_type": "markdown",
   "id": "3ee3b806",
   "metadata": {},
   "source": [
    "This Python code defines a function is_subsequence and uses it to check if a sublist is a subsequence of a larger_list. Here's how the code works:\n",
    "\n",
    "1.def is_subsequence(sublist, larger_list): This line defines a function called is_subsequence that takes two arguments: sublist and larger_list. This function is designed to check if sublist is a subsequence of larger_list.\n",
    "\n",
    "2.return all(item in larger_list for item in sublist): Within the is_subsequence function, this line uses a generator expression and the all() function to check if every item in sublist is present in larger_list.\n",
    "The generator expression item in larger_list for item in sublist iterates through each item in sublist and checks if that item is present in larger_list. It produces a sequence of True and False values, indicating whether each item in sublist is found in larger_list.\n",
    "The all() function checks if all values in this sequence are True. If all items in sublist are found in larger_list, the function returns True, indicating that sublist is a subsequence of larger_list. Otherwise, it returns False.\n",
    "\n",
    "3.larger_list = [1, 2, 3, 4, 5, 6, 7, 8] and sublist = [2, 4, 6]: These lines define two example lists, larger_list and sublist, to be used for the subsequence check.\n",
    "\n",
    "4.if is_subsequence(sublist, larger_list):: This line calls the is_subsequence function with sublist and larger_list as arguments to check if sublist is a subsequence of larger_list.\n",
    "If is_subsequence returns True, it means that sublist is indeed a subsequence of larger_list, and the code inside the if block will be executed.\n",
    "If is_subsequence returns False, it means that sublist is not a subsequence of larger_list, and the code inside the else block will be executed.\n",
    "\n",
    "5.Inside the appropriate block (if or else), the code prints a message indicating whether sublist is a subsequence of larger_list."
   ]
  },
  {
   "cell_type": "code",
   "execution_count": 56,
   "id": "d20fe6a4",
   "metadata": {},
   "outputs": [
    {
     "name": "stdout",
     "output_type": "stream",
     "text": [
      "List after swapping elements: [1, 4, 3, 2, 5]\n"
     ]
    }
   ],
   "source": [
    "# Question 50\n",
    "# Swap two elements in a list by their indices\n",
    "def swap_elements(lst, index1, index2):\n",
    "    if 0 <= index1 < len(lst) and 0 <= index2 < len(lst):\n",
    "        lst[index1], lst[index2] = lst[index2], lst[index1]\n",
    "\n",
    "my_list = [1, 2, 3, 4, 5]\n",
    "\n",
    "index1 = 1\n",
    "index2 = 3\n",
    "\n",
    "swap_elements(my_list, index1, index2)\n",
    "print(\"List after swapping elements:\", my_list)"
   ]
  },
  {
   "cell_type": "markdown",
   "id": "22ed8adf",
   "metadata": {},
   "source": [
    "This Python code defines a function swap_elements that takes a list lst and two indices index1 and index2 as arguments. The function swaps the elements at the specified indices in the list. Here's how the code works:\n",
    "\n",
    "1.def swap_elements(lst, index1, index2): This line defines a function called swap_elements that takes three arguments:\n",
    "lst: The list in which elements will be swapped.\n",
    "index1: The index of the first element to be swapped.\n",
    "index2: The index of the second element to be swapped.\n",
    "\n",
    "2.if 0 <= index1 < len(lst) and 0 <= index2 < len(lst):: This line checks whether both index1 and index2 are valid indices for the list lst. It ensures that the indices are non-negative and do not exceed the length of the list.\n",
    "\n",
    "3.lst[index1], lst[index2] = lst[index2], lst[index1]: If both indices are valid, this line uses tuple packing and unpacking to swap the elements at index1 and index2 in the list lst. The values at these indices are exchanged, effectively swapping the two elements.\n",
    "\n",
    "4.my_list = [1, 2, 3, 4, 5]: This line defines an example list called my_list, which contains the numbers 1 through 5.\n",
    "\n",
    "5.index1 = 1 and index2 = 3: These lines define the indices index1 and index2 that specify which elements in my_list will be swapped. In this case, index1 is set to 1 (the second element) and index2 is set to 3 (the fourth element).\n",
    "\n",
    "6.swap_elements(my_list, index1, index2): This line calls the swap_elements function with my_list, index1, and index2 as arguments, which will swap the elements at the specified indices in my_list.\n",
    "\n",
    "7.print(\"List after swapping elements:\", my_list): Finally, this line prints the modified my_list after the elements have been swapped. It shows the result of the swapping operation."
   ]
  },
  {
   "cell_type": "markdown",
   "id": "bdaa932e",
   "metadata": {},
   "source": [
    "# Tuple Based Practice Problem "
   ]
  },
  {
   "cell_type": "code",
   "execution_count": 60,
   "id": "c99f1a45",
   "metadata": {},
   "outputs": [
    {
     "name": "stdout",
     "output_type": "stream",
     "text": [
      "(1, 2, 3, 4, 5)\n"
     ]
    }
   ],
   "source": [
    "# Question 1\n",
    "# Create a tuple with integers from 1 to 5\n",
    "my_tuple = tuple(range(1, 6))\n",
    "print(my_tuple)"
   ]
  },
  {
   "cell_type": "markdown",
   "id": "5479d398",
   "metadata": {},
   "source": [
    "This Python code creates a tuple containing integers from 1 to 5. Let's break it down step by step:\n",
    "\n",
    "1.range(1, 6): The range function generates a sequence of numbers starting from 1 and ending before 6. In this case, it generates the numbers 1, 2, 3, 4, and 5.\n",
    "\n",
    "2.tuple(...): The tuple() constructor is used to convert the sequence generated by range into a tuple. This means the sequence of numbers will be enclosed in parentheses, forming a tuple.\n",
    "\n",
    "3.my_tuple: This variable is assigned the resulting tuple.\n",
    "\n",
    "4.print(my_tuple): Finally, the code prints the my_tuple to the console, which will display the tuple containing integers from 1 to 5."
   ]
  },
  {
   "cell_type": "code",
   "execution_count": 61,
   "id": "46c9a903",
   "metadata": {},
   "outputs": [
    {
     "name": "stdout",
     "output_type": "stream",
     "text": [
      "3\n"
     ]
    }
   ],
   "source": [
    "# Question 2\n",
    "# Access the third element of a tuple\n",
    "my_tuple = (1, 2, 3, 4, 5)\n",
    "third_element = my_tuple[2]\n",
    "print(third_element)"
   ]
  },
  {
   "cell_type": "markdown",
   "id": "93ff6b33",
   "metadata": {},
   "source": [
    "This Python code accesses and prints the third element of a tuple. Here's a breakdown of the code:\n",
    "\n",
    "1.my_tuple = (1, 2, 3, 4, 5): This line initializes a tuple named my_tuple containing five integers: 1, 2, 3, 4, and 5.\n",
    "\n",
    "2.third_element = my_tuple[2]: Here, we access the third element of the tuple using indexing. In Python, indexing starts at 0, so my_tuple[2] accesses the third element (number 3) because it's at index 2. The value 3 is then assigned to the variable third_element.\n",
    "\n",
    "3.print(third_element): This line prints the value of third_element to the console."
   ]
  },
  {
   "cell_type": "code",
   "execution_count": 62,
   "id": "229a7ce1",
   "metadata": {},
   "outputs": [
    {
     "name": "stdout",
     "output_type": "stream",
     "text": [
      "5\n"
     ]
    }
   ],
   "source": [
    "# Question 3\n",
    "# Find the length of a tuple without using the `len()` function\n",
    "my_tuple = (1, 2, 3, 4, 5)\n",
    "length = 0\n",
    "\n",
    "for _ in my_tuple:\n",
    "    length += 1\n",
    "\n",
    "print(length)"
   ]
  },
  {
   "cell_type": "markdown",
   "id": "162a0843",
   "metadata": {},
   "source": [
    "This Python code finds the length of a tuple without using the len() function by iterating through the elements of the tuple and counting them. Here's an explanation of the code:\n",
    "\n",
    "1.my_tuple = (1, 2, 3, 4, 5): This line initializes a tuple named my_tuple containing five integers: 1, 2, 3, 4, and 5.\n",
    "\n",
    "2.length = 0: This line initializes a variable length to 0. This variable will be used to count the number of elements in the tuple.\n",
    "\n",
    "3.for _ in my_tuple:: This is a for loop that iterates over the elements of my_tuple. The variable _ is a common convention in Python to indicate that the loop variable is not used within the loop; it's just a placeholder.\n",
    "\n",
    "4.length += 1: Inside the loop, for each element in the tuple, the length variable is incremented by 1. This effectively counts the elements in the tuple.\n",
    "\n",
    "5.print(length): After the loop has iterated through all elements, the code prints the value of the length variable, which represents the length of the tuple."
   ]
  },
  {
   "cell_type": "code",
   "execution_count": 63,
   "id": "de77327e",
   "metadata": {},
   "outputs": [
    {
     "name": "stdout",
     "output_type": "stream",
     "text": [
      "3\n"
     ]
    }
   ],
   "source": [
    "# Question 4\n",
    "# Count the occurrences of an element in a tuple\n",
    "my_tuple = (1, 2, 2, 3, 2, 4, 5)\n",
    "element_to_count = 2\n",
    "\n",
    "count = my_tuple.count(element_to_count)\n",
    "print(count)"
   ]
  },
  {
   "cell_type": "markdown",
   "id": "1f9e8d6e",
   "metadata": {},
   "source": [
    "This Python code counts the occurrences of a specific element within a tuple. Here's an explanation of the code:\n",
    "\n",
    "1.my_tuple = (1, 2, 2, 3, 2, 4, 5): This line initializes a tuple named my_tuple containing several integers.\n",
    "\n",
    "2.element_to_count = 2: This line specifies the element (in this case, the integer 2) for which you want to count occurrences within the tuple.\n",
    "\n",
    "3.count = my_tuple.count(element_to_count): The count() method is called on the tuple my_tuple. This method takes an element as an argument and returns the number of times that element appears in the tuple. In this case, it counts the occurrences of the integer 2 within my_tuple and stores the result in the variable count.\n",
    "\n",
    "4.print(count): Finally, the code prints the value of the count variable, which represents the number of occurrences of the specified element."
   ]
  },
  {
   "cell_type": "code",
   "execution_count": 64,
   "id": "f47f46f3",
   "metadata": {},
   "outputs": [
    {
     "name": "stdout",
     "output_type": "stream",
     "text": [
      "1\n"
     ]
    }
   ],
   "source": [
    "# Question 5\n",
    "# Find the index of the first occurrence of an element in a tuple\n",
    "my_tuple = (1, 2, 3, 4, 5, 2)\n",
    "element_to_find = 2\n",
    "\n",
    "index = my_tuple.index(element_to_find)\n",
    "print(index)"
   ]
  },
  {
   "cell_type": "markdown",
   "id": "2868bd12",
   "metadata": {},
   "source": [
    "This Python code finds the index of the first occurrence of a specific element within a tuple. Here's an explanation of the code:\n",
    "\n",
    "1.my_tuple = (1, 2, 3, 4, 5, 2): This line initializes a tuple named my_tuple containing several integers.\n",
    "\n",
    "2.element_to_find = 2: This line specifies the element (in this case, the integer 2) for which you want to find the index within the tuple.\n",
    "\n",
    "3.index = my_tuple.index(element_to_find): The index() method is called on the tuple my_tuple. This method takes an element as an argument and returns the index (position) of the first occurrence of that element in the tuple. In this case, it finds the index of the first occurrence of the integer 2 within my_tuple and stores the result in the variable index.\n",
    "\n",
    "4.print(index): Finally, the code prints the value of the index variable, which represents the index of the first occurrence of the specified element."
   ]
  },
  {
   "cell_type": "code",
   "execution_count": 65,
   "id": "4a292354",
   "metadata": {},
   "outputs": [
    {
     "name": "stdout",
     "output_type": "stream",
     "text": [
      "3 exists in the tuple\n"
     ]
    }
   ],
   "source": [
    "# Question 6\n",
    "# Check if an element exists in a tuple\n",
    "my_tuple = (1, 2, 3, 4, 5)\n",
    "element_to_check = 3\n",
    "\n",
    "if element_to_check in my_tuple:\n",
    "    print(f\"{element_to_check} exists in the tuple\")\n",
    "else:\n",
    "    print(f\"{element_to_check} does not exist in the tuple\")"
   ]
  },
  {
   "cell_type": "markdown",
   "id": "099b5d32",
   "metadata": {},
   "source": [
    "This Python code checks whether a specific element exists in a tuple and then prints a message based on the result. Here's an explanation of the code:\n",
    "\n",
    "1.my_tuple = (1, 2, 3, 4, 5): This line initializes a tuple named my_tuple containing several integers.\n",
    "\n",
    "2.element_to_check = 3: This line specifies the element (in this case, the integer 3) that you want to check for existence in the tuple.\n",
    "\n",
    "3.The code uses an if statement to perform the check:\n",
    "if element_to_check in my_tuple:: This line checks if element_to_check is present in the tuple my_tuple. The in operator is used for this purpose. If the element is found, the code inside the following block is executed.\n",
    "\n",
    "4.Inside the if block:\n",
    "print(f\"{element_to_check} exists in the tuple\"): If the element is found in the tuple, this line prints a message confirming its existence in the tuple. The f-string is used to include the element's value in the message.\n",
    "\n",
    "5.If the if condition is not met, the code proceeds to the else block:\n",
    "print(f\"{element_to_check} does not exist in the tuple\"): If the element is not found in the tuple, this line prints a message indicating that the element does not exist in the tuple."
   ]
  },
  {
   "cell_type": "code",
   "execution_count": 66,
   "id": "2b877fbc",
   "metadata": {},
   "outputs": [
    {
     "name": "stdout",
     "output_type": "stream",
     "text": [
      "[1, 2, 3, 4, 5]\n"
     ]
    }
   ],
   "source": [
    "# Question 7\n",
    "# Convert a tuple to a list\n",
    "my_tuple = (1, 2, 3, 4, 5)\n",
    "my_list = list(my_tuple)\n",
    "print(my_list)"
   ]
  },
  {
   "cell_type": "markdown",
   "id": "933d435d",
   "metadata": {},
   "source": [
    "This Python code converts a tuple into a list. Here's an explanation of the code:\n",
    "\n",
    "1.my_tuple = (1, 2, 3, 4, 5): This line initializes a tuple named my_tuple containing several integers.\n",
    "\n",
    "2.my_list = list(my_tuple): The list() function is used to convert the tuple my_tuple into a list. This function takes an iterable (in this case, a tuple) as an argument and returns a list with the same elements. The result is assigned to the variable my_list.\n",
    "\n",
    "3.print(my_list): Finally, the code prints the my_list variable, which now contains the elements from the original tuple but in list format."
   ]
  },
  {
   "cell_type": "code",
   "execution_count": 67,
   "id": "3354c82f",
   "metadata": {},
   "outputs": [
    {
     "name": "stdout",
     "output_type": "stream",
     "text": [
      "(1, 2, 3, 4, 5)\n"
     ]
    }
   ],
   "source": [
    "# Question 8\n",
    "# Convert a list to a tuple\n",
    "my_list = [1, 2, 3, 4, 5]\n",
    "my_tuple = tuple(my_list)\n",
    "print(my_tuple)"
   ]
  },
  {
   "cell_type": "markdown",
   "id": "83514cd4",
   "metadata": {},
   "source": [
    "This Pyhton code converts a list into a tuple. Here's an explanation of the code:\n",
    "\n",
    "1.my_list = [1, 2, 3, 4, 5]: This line initializes a list named my_list containing several integers.\n",
    "\n",
    "2.my_tuple = tuple(my_list): The tuple() function is used to convert the list my_list into a tuple. This function takes an iterable (in this case, a list) as an argument and returns a tuple with the same elements. The result is assigned to the variable my_tuple.\n",
    "\n",
    "3.print(my_tuple): Finally, the code prints the my_tuple variable, which now contains the elements from the original list but in tuple format."
   ]
  },
  {
   "cell_type": "code",
   "execution_count": 68,
   "id": "475614cb",
   "metadata": {},
   "outputs": [
    {
     "name": "stdout",
     "output_type": "stream",
     "text": [
      "1\n",
      "2\n",
      "3\n"
     ]
    }
   ],
   "source": [
    "# Question 9\n",
    "# Unpack the elements of a tuple into variables\n",
    "my_tuple = (1, 2, 3)\n",
    "var1, var2, var3 = my_tuple\n",
    "\n",
    "print(var1)\n",
    "print(var2)\n",
    "print(var3)"
   ]
  },
  {
   "cell_type": "markdown",
   "id": "9838baff",
   "metadata": {},
   "source": [
    "This Python code demonstrates how to unpack the elements of a tuple into separate variables. Here's an explanation of the code:\n",
    "\n",
    "1.my_tuple = (1, 2, 3): This line initializes a tuple named my_tuple containing three integers.\n",
    "\n",
    "2.var1, var2, var3 = my_tuple: The code uses tuple unpacking to assign the elements of my_tuple to three separate variables: var1, var2, and var3. The order of assignment matches the order of elements in the tuple.\n",
    "var1 will be assigned the value 1.\n",
    "var2 will be assigned the value 2.\n",
    "var3 will be assigned the value 3.\n",
    "\n",
    "3.print(var1), print(var2), print(var3): These lines print the values of the three variables, which are now holding the elements from the tuple."
   ]
  },
  {
   "cell_type": "code",
   "execution_count": 69,
   "id": "3fd8826f",
   "metadata": {},
   "outputs": [
    {
     "name": "stdout",
     "output_type": "stream",
     "text": [
      "(2, 4, 6, 8, 10)\n"
     ]
    }
   ],
   "source": [
    "# Question 10\n",
    "# Create a tuple of even numbers from 1 to 10\n",
    "even_numbers_tuple = tuple(i for i in range(2, 11, 2))\n",
    "print(even_numbers_tuple)"
   ]
  },
  {
   "cell_type": "markdown",
   "id": "445b3238",
   "metadata": {},
   "source": [
    "This Python code creates a tuple containing even numbers from 1 to 10 using a list comprehension. Here's an explanation of the code:\n",
    "\n",
    "1.even_numbers_tuple: This is the name of the tuple that will store the even numbers.\n",
    "\n",
    "2.tuple(i for i in range(2, 11, 2)): This line uses a list comprehension to generate the even numbers and then converts them into a tuple. Let's break it down:\n",
    "for i in range(2, 11, 2): This part of the list comprehension specifies a range from 2 to 10 with a step of 2. This range will generate even numbers from 2 to 10 (2, 4, 6, 8, and 10).\n",
    "i for i in range(2, 11, 2): In the list comprehension, each even number generated in the range is assigned to the variable i.\n",
    "Finally, the tuple(...) constructor is used to convert the list of even numbers into a tuple.\n",
    "\n",
    "3.print(even_numbers_tuple): This line prints the resulting tuple, which contains the even numbers from 1 to 10."
   ]
  },
  {
   "cell_type": "code",
   "execution_count": 70,
   "id": "a5c69c2c",
   "metadata": {},
   "outputs": [
    {
     "name": "stdout",
     "output_type": "stream",
     "text": [
      "(1, 3, 5, 7, 9)\n"
     ]
    }
   ],
   "source": [
    "# Question 11\n",
    "# Create a tuple of odd numbers from 1 to 10\n",
    "odd_numbers_tuple = tuple(i for i in range(1, 11) if i % 2 != 0)\n",
    "print(odd_numbers_tuple)"
   ]
  },
  {
   "cell_type": "markdown",
   "id": "a272978b",
   "metadata": {},
   "source": [
    "This Python code creates a tuple containing odd numbers from 1 to 10 using a list comprehension. Here's an explanation of the code:\n",
    "\n",
    "1.odd_numbers_tuple: This is the name of the tuple that will store the odd numbers.\n",
    "\n",
    "2.tuple(i for i in range(1, 11) if i % 2 != 0): This line uses a list comprehension to generate the odd numbers and then converts them into a tuple. Let's break it down:\n",
    "for i in range(1, 11): This part of the list comprehension specifies a range from 1 to 10. This range will generate numbers from 1 to 10.\n",
    "if i % 2 != 0: In the list comprehension, there's a condition that filters out numbers for which the remainder (%) of the number divided by 2 is not equal to 0. This condition effectively filters out even numbers and keeps only the odd numbers.\n",
    "i for i in range(1, 11) if i % 2 != 0: Each odd number that satisfies the condition is assigned to the variable i.\n",
    "Finally, the tuple(...) constructor is used to convert the list of odd numbers into a tuple.\n",
    "\n",
    "3.print(odd_numbers_tuple): This line prints the resulting tuple, which contains the odd numbers from 1 to 10."
   ]
  },
  {
   "cell_type": "code",
   "execution_count": 71,
   "id": "8ec5b274",
   "metadata": {},
   "outputs": [
    {
     "name": "stdout",
     "output_type": "stream",
     "text": [
      "(1, 2, 3, 4, 5, 6)\n"
     ]
    }
   ],
   "source": [
    "# Question 12\n",
    "# Concatenate two tuples\n",
    "tuple1 = (1, 2, 3)\n",
    "tuple2 = (4, 5, 6)\n",
    "\n",
    "concatenated_tuple = tuple1 + tuple2\n",
    "print(concatenated_tuple)"
   ]
  },
  {
   "cell_type": "markdown",
   "id": "43eeddaf",
   "metadata": {},
   "source": [
    "This Python code concatenates two tuples, tuple1 and tuple2, and stores the result in a new tuple called concatenated_tuple. Here's an explanation of the code:\n",
    "\n",
    "1.tuple1 and tuple2: These are two tuples containing some elements. In this code, tuple1 contains (1, 2, 3) and tuple2 contains (4, 5, 6).\n",
    "\n",
    "2.concatenated_tuple = tuple1 + tuple2: This line uses the + operator to concatenate tuple1 and tuple2. When you use the + operator with tuples, it combines the elements of both tuples into a new tuple. The result is stored in the concatenated_tuple variable.\n",
    "\n",
    "3.print(concatenated_tuple): This line prints the concatenated_tuple, which is the result of merging tuple1 and tuple2."
   ]
  },
  {
   "cell_type": "code",
   "execution_count": 72,
   "id": "288a5aa0",
   "metadata": {},
   "outputs": [
    {
     "name": "stdout",
     "output_type": "stream",
     "text": [
      "(1, 2, 3, 1, 2, 3, 1, 2, 3)\n"
     ]
    }
   ],
   "source": [
    "# Question 13\n",
    "# Repeat a tuple three times\n",
    "original_tuple = (1, 2, 3)\n",
    "repeated_tuple = original_tuple * 3\n",
    "print(repeated_tuple)"
   ]
  },
  {
   "cell_type": "markdown",
   "id": "fe8404f5",
   "metadata": {},
   "source": [
    "This Python code repeats a tuple, original_tuple, three times and stores the result in the repeated_tuple. Here's an explanation of the code:\n",
    "\n",
    "1.original_tuple: This is the original tuple containing the elements (1, 2, 3).\n",
    "\n",
    "2.repeated_tuple = original_tuple * 3: In this line, the * operator is used to repeat the original_tuple three times. This means that the elements of original_tuple will be repeated in the same order three times, resulting in a new tuple.\n",
    "\n",
    "3.print(repeated_tuple): This line prints the repeated_tuple, which is the result of repeating the original_tuple three times."
   ]
  },
  {
   "cell_type": "code",
   "execution_count": 73,
   "id": "5efa9315",
   "metadata": {},
   "outputs": [
    {
     "name": "stdout",
     "output_type": "stream",
     "text": [
      "The tuple is empty\n"
     ]
    }
   ],
   "source": [
    "# Question 14\n",
    "# Check if a tuple is empty\n",
    "my_tuple = ()\n",
    "\n",
    "if len(my_tuple) == 0:\n",
    "    print(\"The tuple is empty\")\n",
    "else:\n",
    "    print(\"The tuple is not empty\")"
   ]
  },
  {
   "cell_type": "markdown",
   "id": "3950ace1",
   "metadata": {},
   "source": [
    "This Python code checks whether a tuple, my_tuple, is empty and then prints a corresponding message. Here's an explanation of the code:\n",
    "\n",
    "1.my_tuple = (): This line creates an empty tuple named my_tuple by using empty parentheses, ().\n",
    "\n",
    "2.The code then checks if the length of the my_tuple is equal to 0 using the len() function. If the length is 0, it means the tuple has no elements, so it's considered empty.\n",
    "\n",
    "3.if len(my_tuple) == 0:: This is an if statement that checks if the length of my_tuple is equal to 0.\n",
    "\n",
    "4.If the condition in the if statement is true, it means the tuple is empty. In that case, the code prints \"The tuple is empty.\"\n",
    "\n",
    "5.If the condition is not true, it means the tuple has some elements, and the code prints \"The tuple is not empty.\""
   ]
  },
  {
   "cell_type": "code",
   "execution_count": 75,
   "id": "f916fa81",
   "metadata": {},
   "outputs": [
    {
     "name": "stdout",
     "output_type": "stream",
     "text": [
      "((1, 2), ('a', 'b'), (3.14, 2.71))\n"
     ]
    }
   ],
   "source": [
    "# Question 15\n",
    "# Create a nested tuple\n",
    "nested_tuple = ((1, 2), ('a', 'b'), (3.14, 2.71))\n",
    "print(nested_tuple)"
   ]
  },
  {
   "cell_type": "markdown",
   "id": "f0dbf5bc",
   "metadata": {},
   "source": [
    "This Python code creates a nested tuple, nested_tuple, which is a tuple containing other tuples as its elements. Here's an explanation of the code:\n",
    "\n",
    "1.nested_tuple = ((1, 2), ('a', 'b'), (3.14, 2.71)): This line defines a tuple named nested_tuple. Inside this tuple, there are three elements, and each element is itself a tuple. The elements are enclosed in double parentheses to represent the nested structure.\n",
    "The first element is the tuple (1, 2).\n",
    "The second element is the tuple ('a', 'b').\n",
    "The third element is the tuple (3.14, 2.71).\n",
    "\n",
    "2.print(nested_tuple): This line prints the nested_tuple to the console."
   ]
  },
  {
   "cell_type": "code",
   "execution_count": 76,
   "id": "97205711",
   "metadata": {},
   "outputs": [
    {
     "name": "stdout",
     "output_type": "stream",
     "text": [
      "First element of the nested tuple: 1\n"
     ]
    }
   ],
   "source": [
    "# Question 16\n",
    "# Access the first element of a nested tuple\n",
    "nested_tuple = ((1, 2), (3, 4), (5, 6))\n",
    "first_element = nested_tuple[0][0]\n",
    "print(\"First element of the nested tuple:\", first_element)"
   ]
  },
  {
   "cell_type": "markdown",
   "id": "28c3e41c",
   "metadata": {},
   "source": [
    "This Python code accesses the first element of a nested tuple and prints it to the console. Here's an explanation of the code:\n",
    "\n",
    "1.nested_tuple = ((1, 2), (3, 4), (5, 6)): This line defines a nested tuple named nested_tuple. It contains three elements, and each element is itself a tuple. The first element is (1, 2).\n",
    "\n",
    "2.first_element = nested_tuple[0][0]: This line accesses the first element of the nested tuple. To do this, it uses double indexing. The first [0] indexes the outer tuple to access the first element of the outer tuple, which is (1, 2). Then, the second [0] indexes the inner tuple to access the first element of the inner tuple, which is 1.\n",
    "\n",
    "3.print(\"First element of the nested tuple:\", first_element): This line prints a message along with the value of the first_element variable to the console."
   ]
  },
  {
   "cell_type": "code",
   "execution_count": 77,
   "id": "1d265e01",
   "metadata": {},
   "outputs": [
    {
     "name": "stdout",
     "output_type": "stream",
     "text": [
      "(1,)\n"
     ]
    }
   ],
   "source": [
    "# Question 17\n",
    "# Create a tuple with a single element\n",
    "single_element_tuple = (1,)\n",
    "print(single_element_tuple)"
   ]
  },
  {
   "cell_type": "markdown",
   "id": "d50d616c",
   "metadata": {},
   "source": [
    "This Python code creates a tuple with a single element and prints it to the console. Here's an explanation of the code:\n",
    "\n",
    "1.single_element_tuple = (1,): This line defines a tuple named single_element_tuple with a single element. The element, in this case, is the integer 1. To create a tuple with a single element, a comma is added after the element, even though there's only one element. This is because the comma is used to distinguish between a single element tuple and a simple expression in parentheses.\n",
    "\n",
    "2.print(single_element_tuple): This line prints the single_element_tuple to the console."
   ]
  },
  {
   "cell_type": "code",
   "execution_count": 78,
   "id": "e9c4a9a6",
   "metadata": {},
   "outputs": [
    {
     "name": "stdout",
     "output_type": "stream",
     "text": [
      "The two tuples are not equal\n",
      "The two tuples are not equal\n",
      "tuple1 is not greater than tuple2\n",
      "tuple1 is less than tuple2\n"
     ]
    }
   ],
   "source": [
    "# Question 18\n",
    "# Compare two tuples\n",
    "tuple1 = (1, 2, 3)\n",
    "tuple2 = (1, 2, 4)\n",
    "\n",
    "# Compare for equality\n",
    "if tuple1 == tuple2:\n",
    "    print(\"The two tuples are equal\")\n",
    "else:\n",
    "    print(\"The two tuples are not equal\")\n",
    "\n",
    "# Compare for inequality\n",
    "if tuple1 != tuple2:\n",
    "    print(\"The two tuples are not equal\")\n",
    "else:\n",
    "    print(\"The two tuples are equal\")\n",
    "\n",
    "# Compare for greater than\n",
    "if tuple1 > tuple2:\n",
    "    print(\"tuple1 is greater than tuple2\")\n",
    "else:\n",
    "    print(\"tuple1 is not greater than tuple2\")\n",
    "\n",
    "# Compare for less than\n",
    "if tuple1 < tuple2:\n",
    "    print(\"tuple1 is less than tuple2\")\n",
    "else:\n",
    "    print(\"tuple1 is not less than tuple2\")"
   ]
  },
  {
   "cell_type": "markdown",
   "id": "48f9dc7d",
   "metadata": {},
   "source": [
    "This Python code demonstrates how to compare two tuples in various ways and prints the results. Here's an explanation of the code:\n",
    "\n",
    "1.tuple1 and tuple2 are defined as two different tuples. tuple1 contains the elements (1, 2, 3), while tuple2 contains the elements (1, 2, 4).\n",
    "\n",
    "2.Equality Comparison:\n",
    "if tuple1 == tuple2:: This part checks if tuple1 is equal to tuple2. In this case, they are not equal because the third element differs, so it prints \"The two tuples are not equal.\"\n",
    "\n",
    "3.Inequality Comparison:\n",
    "if tuple1 != tuple2:: This section checks if tuple1 is not equal to tuple2. Since they are not equal, it prints \"The two tuples are not equal.\"\n",
    "\n",
    "4.Greater Than Comparison:\n",
    "if tuple1 > tuple2:: This part checks if tuple1 is greater than tuple2. In this case, they are not greater because both have the same first two elements, and tuple2 has a greater third element, so it prints \"tuple1 is not greater than tuple2.\"\n",
    "\n",
    "5.Less Than Comparison:\n",
    "if tuple1 < tuple2:: This section checks if tuple1 is less than tuple2. Since they are not less, it prints \"tuple1 is not less than tuple2.\""
   ]
  },
  {
   "cell_type": "code",
   "execution_count": 79,
   "id": "18d6a8ae",
   "metadata": {},
   "outputs": [],
   "source": [
    "# Question 19\n",
    "# Delete a tuple\n",
    "my_tuple = (1, 2, 3, 4, 5)\n",
    "del my_tuple"
   ]
  },
  {
   "cell_type": "markdown",
   "id": "8917698a",
   "metadata": {},
   "source": [
    "This Python code snippet demonstrates how to delete a tuple using the del statement. Here's an explanation of the code:\n",
    "\n",
    "1.my_tuple is defined as a tuple containing the elements (1, 2, 3, 4, 5).\n",
    "\n",
    "2.del my_tuple: The del statement is used to delete the tuple my_tuple. After executing this line, the tuple no longer exists in memory."
   ]
  },
  {
   "cell_type": "code",
   "execution_count": 81,
   "id": "8c3e9b57",
   "metadata": {},
   "outputs": [
    {
     "name": "stdout",
     "output_type": "stream",
     "text": [
      "(2, 3, 4)\n"
     ]
    }
   ],
   "source": [
    "# Question 20\n",
    "# Slice a tuple\n",
    "my_tuple = (1, 2, 3, 4, 5)\n",
    "sliced_tuple = my_tuple[1:4]\n",
    "print(sliced_tuple)"
   ]
  },
  {
   "cell_type": "markdown",
   "id": "0abbac7d",
   "metadata": {},
   "source": [
    "This Python code demonstrates how to slice a tuple in Python. Here's an explanation of the code:\n",
    "\n",
    "1.my_tuple is defined as a tuple containing the elements (1, 2, 3, 4, 5).\n",
    "\n",
    "2.sliced_tuple = my_tuple[1:4]: This line creates a new tuple sliced_tuple by slicing my_tuple. The slice notation [1:4] means that we are extracting elements from index 1 (inclusive) to index 4 (exclusive). In Python, indexing is zero-based, so element 1 is the second element in the tuple, and element 4 is the fifth element.\n",
    "\n",
    "3.print(sliced_tuple): Finally, the code prints the sliced tuple, which will contain elements (2, 3, 4). These elements were extracted from the original tuple my_tuple using slicing."
   ]
  },
  {
   "cell_type": "code",
   "execution_count": 82,
   "id": "8be41194",
   "metadata": {},
   "outputs": [
    {
     "name": "stdout",
     "output_type": "stream",
     "text": [
      "The maximum value in the tuple is: 30\n"
     ]
    }
   ],
   "source": [
    "# Question 21\n",
    "# Find the maximum value in a tuple\n",
    "my_tuple = (10, 25, 5, 30, 15)\n",
    "max_value = max(my_tuple)\n",
    "print(\"The maximum value in the tuple is:\", max_value)"
   ]
  },
  {
   "cell_type": "markdown",
   "id": "731f8ebb",
   "metadata": {},
   "source": [
    "This Python code demonstrates how to find the maximum value in a tuple in Python. Here's an explanation of the code:\n",
    "\n",
    "1.my_tuple is defined as a tuple containing the elements (10, 25, 5, 30, 15).\n",
    "\n",
    "2.max_value = max(my_tuple): This line calculates the maximum value in the tuple my_tuple using the built-in max() function. The max() function returns the largest item in an iterable (in this case, a tuple).\n",
    "\n",
    "3.print(\"The maximum value in the tuple is:\", max_value): Finally, the code prints the maximum value found in the tuple, along with a descriptive message."
   ]
  },
  {
   "cell_type": "code",
   "execution_count": 83,
   "id": "9dfa012c",
   "metadata": {},
   "outputs": [
    {
     "name": "stdout",
     "output_type": "stream",
     "text": [
      "The minimum value in the tuple is: 5\n"
     ]
    }
   ],
   "source": [
    "# Question 22\n",
    "# Find the minimum value in a tuple\n",
    "my_tuple = (10, 25, 5, 30, 15)\n",
    "min_value = min(my_tuple)\n",
    "print(\"The minimum value in the tuple is:\", min_value)"
   ]
  },
  {
   "cell_type": "markdown",
   "id": "374b156a",
   "metadata": {},
   "source": [
    "This Python code demonstrates how to find the minimum value in a tuple in Python. Here's an explanation of the code:\n",
    "\n",
    "1.my_tuple is defined as a tuple containing the elements (10, 25, 5, 30, 15).\n",
    "\n",
    "2.min_value = min(my_tuple): This line calculates the minimum value in the tuple my_tuple using the built-in min() function. The min() function returns the smallest item in an iterable (in this case, a tuple).\n",
    "\n",
    "3.print(\"The minimum value in the tuple is:\", min_value): Finally, the code prints the minimum value found in the tuple, along with a descriptive message."
   ]
  },
  {
   "cell_type": "code",
   "execution_count": 84,
   "id": "052778fb",
   "metadata": {},
   "outputs": [
    {
     "name": "stdout",
     "output_type": "stream",
     "text": [
      "('H', 'e', 'l', 'l', 'o', ',', ' ', 'W', 'o', 'r', 'l', 'd', '!')\n"
     ]
    }
   ],
   "source": [
    "# Question 23\n",
    "# Convert a string to a tuple of characters\n",
    "my_string = \"Hello, World!\"\n",
    "char_tuple = tuple(char for char in my_string)\n",
    "print(char_tuple)"
   ]
  },
  {
   "cell_type": "markdown",
   "id": "0fe34d69",
   "metadata": {},
   "source": [
    "This Python code converts a string into a tuple of individual characters. Here's an explanation of the code:\n",
    "\n",
    "1.my_string = \"Hello, World!\": It defines a string my_string with the value \"Hello, World!\".\n",
    "\n",
    "2.char_tuple = tuple(char for char in my_string): This line creates a tuple named char_tuple. It uses a list comprehension to iterate through each character char in the string my_string. The char is enclosed in parentheses, which is a tuple constructor, effectively creating a tuple of individual characters from the string.\n",
    "\n",
    "3.print(char_tuple): This line prints the resulting tuple, which contains each character from the original string."
   ]
  },
  {
   "cell_type": "code",
   "execution_count": 85,
   "id": "db08f4f7",
   "metadata": {},
   "outputs": [
    {
     "name": "stdout",
     "output_type": "stream",
     "text": [
      "Hello, World!\n"
     ]
    }
   ],
   "source": [
    "# Question 24\n",
    "# Convert a tuple of characters to a string\n",
    "char_tuple = ('H', 'e', 'l', 'l', 'o', ',', ' ', 'W', 'o', 'r', 'l', 'd', '!')\n",
    "resulting_string = ''.join(char_tuple)\n",
    "print(resulting_string)"
   ]
  },
  {
   "cell_type": "markdown",
   "id": "9226728b",
   "metadata": {},
   "source": [
    "This Python code converts a tuple of characters into a single string. Here's an explanation of the code:\n",
    "\n",
    "1.char_tuple = ('H', 'e', 'l', 'l', 'o', ',', ' ', 'W', 'o', 'r', 'l', 'd', '!'): It defines a tuple named char_tuple, containing individual characters. In this example, it contains the characters of \"Hello, World!\".\n",
    "\n",
    "2.resulting_string = ''.join(char_tuple): This line takes the elements of the char_tuple and joins them together into a single string. The join method is called on an empty string '', which means it concatenates the elements of the char_tuple without any delimiter.\n",
    "\n",
    "3.print(resulting_string): This line prints the resulting string."
   ]
  },
  {
   "cell_type": "code",
   "execution_count": 86,
   "id": "a15bbbf3",
   "metadata": {},
   "outputs": [
    {
     "name": "stdout",
     "output_type": "stream",
     "text": [
      "(1, 'Hello', 3.14, True)\n"
     ]
    }
   ],
   "source": [
    "# Question 25\n",
    "# Create a tuple from multiple data types\n",
    "mixed_tuple = (1, 'Hello', 3.14, True)\n",
    "print(mixed_tuple)"
   ]
  },
  {
   "cell_type": "markdown",
   "id": "9d864332",
   "metadata": {},
   "source": [
    "This Python code creates a tuple named mixed_tuple that contains elements of multiple data types. Here's an explanation of the code:\n",
    "\n",
    "1.mixed_tuple = (1, 'Hello', 3.14, True): This line defines a tuple named mixed_tuple and initializes it with four elements. Each element is separated by a comma, and they can be of different data types.\n",
    "1 is an integer.\n",
    "'Hello' is a string.\n",
    "3.14 is a floating-point number.\n",
    "True is a boolean value.\n",
    "\n",
    "2.print(mixed_tuple): This line prints the mixed_tuple."
   ]
  },
  {
   "cell_type": "code",
   "execution_count": 87,
   "id": "8a1cf83a",
   "metadata": {},
   "outputs": [
    {
     "name": "stdout",
     "output_type": "stream",
     "text": [
      "The two tuples are identical.\n"
     ]
    }
   ],
   "source": [
    "# Question 26\n",
    "# Check if two tuples are identical\n",
    "tuple1 = (1, 2, 3)\n",
    "tuple2 = (1, 2, 3)\n",
    "\n",
    "if tuple1 == tuple2:\n",
    "    print(\"The two tuples are identical.\")\n",
    "else:\n",
    "    print(\"The two tuples are not identical.\")"
   ]
  },
  {
   "cell_type": "markdown",
   "id": "e176d2fc",
   "metadata": {},
   "source": [
    "This Python code checks whether two tuples, tuple1 and tuple2, are identical. Here's an explanation of the code:\n",
    "\n",
    "1.tuple1 = (1, 2, 3) and tuple2 = (1, 2, 3): These lines define two tuples, tuple1 and tuple2, each containing the same elements (1, 2, 3).\n",
    "\n",
    "2.The code then compares tuple1 and tuple2 using the equality operator (==) to check if they have the same elements in the same order.\n",
    "\n",
    "3.If tuple1 and tuple2 are identical, the code prints \"The two tuples are identical.\"\n",
    "\n",
    "4.If tuple1 and tuple2 are not identical, the code prints \"The two tuples are not identical.\"\n",
    "\n",
    "In this case, since tuple1 and tuple2 contain the same elements in the same order, the code will print \"The two tuples are identical.\""
   ]
  },
  {
   "cell_type": "code",
   "execution_count": 88,
   "id": "77877a05",
   "metadata": {},
   "outputs": [
    {
     "name": "stdout",
     "output_type": "stream",
     "text": [
      "Original Tuple: (3, 1, 4, 1, 5, 9, 2, 6, 5, 3, 5)\n",
      "Sorted Tuple: (1, 1, 2, 3, 3, 4, 5, 5, 5, 6, 9)\n"
     ]
    }
   ],
   "source": [
    "# Question 27\n",
    "# Sort the elements of a tuple\n",
    "my_tuple = (3, 1, 4, 1, 5, 9, 2, 6, 5, 3, 5)\n",
    "sorted_list = sorted(my_tuple)\n",
    "sorted_tuple = tuple(sorted_list)\n",
    "\n",
    "print(\"Original Tuple:\", my_tuple)\n",
    "print(\"Sorted Tuple:\", sorted_tuple)"
   ]
  },
  {
   "cell_type": "markdown",
   "id": "6e9ce952",
   "metadata": {},
   "source": [
    "This Python code is designed to sort the elements of a tuple my_tuple. Here's how it works:\n",
    "\n",
    "1.my_tuple = (3, 1, 4, 1, 5, 9, 2, 6, 5, 3, 5): This line defines the original tuple, my_tuple, which contains several integers.\n",
    "\n",
    "2.sorted_list = sorted(my_tuple): This line uses the sorted() function to sort the elements of my_tuple. The result is a sorted list, sorted_list. The sorted() function doesn't modify the original tuple; instead, it returns a new sorted list.\n",
    "\n",
    "3.sorted_tuple = tuple(sorted_list): After sorting the elements in sorted_list, this line converts the sorted list back into a tuple, creating a new tuple, sorted_tuple, where the elements are now in sorted order.\n",
    "\n",
    "4.print(\"Original Tuple:\", my_tuple): This line prints the original tuple to compare it with the sorted version.\n",
    "\n",
    "5.print(\"Sorted Tuple:\", sorted_tuple): This line prints the sorted tuple."
   ]
  },
  {
   "cell_type": "code",
   "execution_count": 89,
   "id": "3f214ab0",
   "metadata": {},
   "outputs": [
    {
     "name": "stdout",
     "output_type": "stream",
     "text": [
      "Tuple of Integers: (1, 2, 3, 4, 5)\n",
      "Tuple of Strings: ('1', '2', '3', '4', '5')\n"
     ]
    }
   ],
   "source": [
    "# Question 28\n",
    "# Convert a tuple of itegers to a tuple of strings\n",
    "tuple_of_integers = (1, 2, 3, 4, 5)\n",
    "tuple_of_strings = tuple(str(i) for i in tuple_of_integers)\n",
    "\n",
    "print(\"Tuple of Integers:\", tuple_of_integers)\n",
    "print(\"Tuple of Strings:\", tuple_of_strings)"
   ]
  },
  {
   "cell_type": "markdown",
   "id": "3c8f5339",
   "metadata": {},
   "source": [
    "This Python code demonstrates how to convert a tuple of integers into a tuple of strings. Here's an explanation of how it works:\n",
    "\n",
    "1.tuple_of_integers = (1, 2, 3, 4, 5): This line defines a tuple called tuple_of_integers containing integer values.\n",
    "\n",
    "2.tuple_of_strings = tuple(str(i) for i in tuple_of_integers): Using a list comprehension, this line iterates through each element in tuple_of_integers. For each integer i, it converts it to a string using the str() function. The list comprehension creates a new list of these string representations of integers. Then, the tuple() constructor is used to convert the list of strings into a tuple.\n",
    "\n",
    "3.print(\"Tuple of Integers:\", tuple_of_integers): This line prints the original tuple of integers, allowing you to see the values before conversion.\n",
    "\n",
    "4.print(\"Tuple of Strings:\", tuple_of_strings): Here, it prints the resulting tuple of strings, showing the integer values as strings."
   ]
  },
  {
   "cell_type": "code",
   "execution_count": 90,
   "id": "7dafa655",
   "metadata": {},
   "outputs": [
    {
     "name": "stdout",
     "output_type": "stream",
     "text": [
      "Tuple of Strings: ('1', '2', '3', '4', '5')\n",
      "Tuple of Integers: (1, 2, 3, 4, 5)\n"
     ]
    }
   ],
   "source": [
    "# Question 29\n",
    "# Convert a tuple of strings to a tuple of integers\n",
    "tuple_of_strings = (\"1\", \"2\", \"3\", \"4\", \"5\")\n",
    "tuple_of_integers = tuple(int(s) for s in tuple_of_strings)\n",
    "\n",
    "print(\"Tuple of Strings:\", tuple_of_strings)\n",
    "print(\"Tuple of Integers:\", tuple_of_integers)"
   ]
  },
  {
   "cell_type": "markdown",
   "id": "fcb37f72",
   "metadata": {},
   "source": [
    "This Python code demonstrates how to convert a tuple of strings into a tuple of integers. Here's an explanation of how it works:\n",
    "\n",
    "1.tuple_of_strings = (\"1\", \"2\", \"3\", \"4\", \"5\"): This line defines a tuple called tuple_of_strings, containing string representations of integer values.\n",
    "\n",
    "2.tuple_of_integers = tuple(int(s) for s in tuple_of_strings): Using a list comprehension, this line iterates through each element in tuple_of_strings. For each string s, it converts it to an integer using the int() function. The list comprehension creates a new list of these integer values. Then, the tuple() constructor is used to convert the list of integers into a tuple.\n",
    "\n",
    "3.print(\"Tuple of Strings:\", tuple_of_strings): This line prints the original tuple of strings, allowing you to see the values before conversion.\n",
    "\n",
    "4.print(\"Tuple of Integers:\", tuple_of_integers): Here, it prints the resulting tuple of integers, showing the values as integers."
   ]
  },
  {
   "cell_type": "code",
   "execution_count": 91,
   "id": "df03b90b",
   "metadata": {},
   "outputs": [
    {
     "name": "stdout",
     "output_type": "stream",
     "text": [
      "Tuple 1: (1, 2, 3)\n",
      "Tuple 2: (4, 5, 6)\n",
      "Merged Tuple: (1, 2, 3, 4, 5, 6)\n"
     ]
    }
   ],
   "source": [
    "# Question 30\n",
    "# Merge two tuples\n",
    "tuple1 = (1, 2, 3)\n",
    "tuple2 = (4, 5, 6)\n",
    "\n",
    "merged_tuple = tuple1 + tuple2\n",
    "\n",
    "print(\"Tuple 1:\", tuple1)\n",
    "print(\"Tuple 2:\", tuple2)\n",
    "print(\"Merged Tuple:\", merged_tuple)"
   ]
  },
  {
   "cell_type": "markdown",
   "id": "97577686",
   "metadata": {},
   "source": [
    "This Python code demonstrates how to merge two tuples into a single tuple. Here's an explanation of how it works:\n",
    "\n",
    "1.tuple1 = (1, 2, 3) and tuple2 = (4, 5, 6): These lines define two separate tuples, tuple1 and tuple2, each containing integer elements.\n",
    "\n",
    "2.merged_tuple = tuple1 + tuple2: The + operator is used to concatenate tuple1 and tuple2 into a single tuple named merged_tuple. This results in a new tuple that contains all the elements from both tuple1 and tuple2.\n",
    "\n",
    "3.print(\"Tuple 1:\", tuple1): This line simply prints the elements of tuple1 to the console to display its contents.\n",
    "\n",
    "4.print(\"Tuple 2:\", tuple2): Similarly, it prints the elements of tuple2 to display its contents.\n",
    "\n",
    "5.print(\"Merged Tuple:\", merged_tuple): This line prints the merged tuple, which now contains elements from both tuple1 and tuple2."
   ]
  },
  {
   "cell_type": "code",
   "execution_count": 92,
   "id": "7dc83bad",
   "metadata": {},
   "outputs": [
    {
     "name": "stdout",
     "output_type": "stream",
     "text": [
      "Original Nested Tuple: (1, (2, 3), (4, (5, 6)), 7)\n",
      "Flattened Tuple: (1, 2, 3, 4, 5, 6, 7)\n"
     ]
    }
   ],
   "source": [
    "# Question 31\n",
    "# Flatten a nested tuple\n",
    "def flatten_tuple(nested_tuple):\n",
    "    flat_list = []\n",
    "    for item in nested_tuple:\n",
    "        if isinstance(item, tuple):\n",
    "            flat_list.extend(flatten_tuple(item))\n",
    "        else:\n",
    "            flat_list.append(item)\n",
    "    return tuple(flat_list)\n",
    "\n",
    "nested_tuple = (1, (2, 3), (4, (5, 6)), 7)\n",
    "flat_tuple = flatten_tuple(nested_tuple)\n",
    "print(\"Original Nested Tuple:\", nested_tuple)\n",
    "print(\"Flattened Tuple:\", flat_tuple)"
   ]
  },
  {
   "cell_type": "markdown",
   "id": "e98b4414",
   "metadata": {},
   "source": [
    "This Python code demonstrates how to flatten a nested tuple, which means converting a nested structure into a flat tuple with all elements at the top level. Here's an explanation of how it works:\n",
    "\n",
    "1.def flatten_tuple(nested_tuple): This line defines a function named flatten_tuple that takes a nested tuple as its input.\n",
    "\n",
    "2.flat_list = []: It initializes an empty list called flat_list, which will be used to collect the flattened elements.\n",
    "\n",
    "3.for item in nested_tuple:: This loop iterates over each item in the nested_tuple.\n",
    "\n",
    "4.if isinstance(item, tuple):: This conditional checks if the item is a tuple.\n",
    "\n",
    "5.flat_list.extend(flatten_tuple(item)): If the item is a tuple, the flatten_tuple function is called recursively on that item. This is the key step for flattening the nested structure. It extends the flat_list with the flattened content of the nested tuple.\n",
    "\n",
    "6.else:: If the item is not a tuple, it means it's a leaf element, and it gets appended to the flat_list.\n",
    "\n",
    "7.return tuple(flat_list): Finally, the function returns a tuple created from the flat_list, converting the flattened elements back into a tuple.\n",
    "\n",
    "8.nested_tuple = (1, (2, 3), (4, (5, 6)), 7): This line defines an example nested tuple.\n",
    "\n",
    "9.flat_tuple = flatten_tuple(nested_tuple): It calls the flatten_tuple function with the nested_tuple and assigns the result to flat_tuple.\n",
    "\n",
    "10.print(\"Original Nested Tuple:\", nested_tuple): This line prints the original nested tuple to the console.\n",
    "\n",
    "11.print(\"Flattened Tuple:\", flat_tuple): Here, it prints the flattened tuple to the console, which contains all the elements from the nested structure flattened into a single tuple."
   ]
  },
  {
   "cell_type": "code",
   "execution_count": 93,
   "id": "995a787e",
   "metadata": {},
   "outputs": [
    {
     "name": "stdout",
     "output_type": "stream",
     "text": [
      "Tuple of the first 5 prime numbers: (2, 3, 5, 7, 11)\n"
     ]
    }
   ],
   "source": [
    "# Question 32\n",
    "# Create a tuple of the first 5 prime numbers\n",
    "prime_numbers = [num for num in range(2, 100) if all(num % i != 0 for i in range(2, int(num**0.5) + 1))][:5]\n",
    "prime_tuple = tuple(prime_numbers)\n",
    "print(\"Tuple of the first 5 prime numbers:\", prime_tuple)"
   ]
  },
  {
   "cell_type": "markdown",
   "id": "5c44b794",
   "metadata": {},
   "source": [
    "This Python code creates a tuple containing the first 5 prime numbers. Here's an explanation of how it works:\n",
    "\n",
    "1.prime_numbers = [num for num in range(2, 100) if all(num % i != 0 for i in range(2, int(num**0.5) + 1))][:5]:\n",
    "It uses a list comprehension to generate a list of prime numbers. The range is set from 2 to 99 (the first 5 prime numbers fall within this range).\n",
    "The list comprehension checks for each number in the range whether it is prime. It does this by checking that the number (num) is not divisible by any integer i from 2 to the square root of the number (int(num**0.5) + 1). If all(...) evaluates to True, the number is considered prime.\n",
    "Finally, [:5] is used to limit the list to the first 5 prime numbers.\n",
    "\n",
    "2.prime_tuple = tuple(prime_numbers): This line converts the list of the first 5 prime numbers into a tuple.\n",
    "\n",
    "3.print(\"Tuple of the first 5 prime numbers:\", prime_tuple): It prints the resulting tuple containing the first 5 prime numbers."
   ]
  },
  {
   "cell_type": "code",
   "execution_count": 94,
   "id": "8515a98e",
   "metadata": {},
   "outputs": [
    {
     "name": "stdout",
     "output_type": "stream",
     "text": [
      "The tuple is a palindrome.\n"
     ]
    }
   ],
   "source": [
    "# Question 33\n",
    "# Check if a tuple is a palindrome\n",
    "my_tuple = (1, 2, 3, 2, 1)\n",
    "is_palindrome = my_tuple == my_tuple[::-1]\n",
    "\n",
    "if is_palindrome:\n",
    "    print(\"The tuple is a palindrome.\")\n",
    "else:\n",
    "    print(\"The tuple is not a palindrome.\")"
   ]
  },
  {
   "cell_type": "markdown",
   "id": "723dad94",
   "metadata": {},
   "source": [
    "This Python code checks whether a tuple is a palindrome. A palindrome is a sequence that reads the same backward as forward. Here's how the code works:\n",
    "\n",
    "1.my_tuple = (1, 2, 3, 2, 1): It initializes a tuple my_tuple with a sequence of numbers that forms a palindrome.\n",
    "\n",
    "2.is_palindrome = my_tuple == my_tuple[::-1]: This line checks if the tuple is a palindrome. It does this by comparing the original tuple my_tuple with its reverse, denoted by my_tuple[::-1]. If the two tuples are equal, it means that the original tuple is a palindrome.\n",
    "\n",
    "3.The code then uses an if-else statement to print whether the tuple is a palindrome or not based on the value of the is_palindrome variable."
   ]
  },
  {
   "cell_type": "code",
   "execution_count": 95,
   "id": "6b8c526a",
   "metadata": {},
   "outputs": [
    {
     "name": "stdout",
     "output_type": "stream",
     "text": [
      "(1, 4, 9, 16, 25)\n"
     ]
    }
   ],
   "source": [
    "# Question 34\n",
    "# Create a tuple of squares of numbers from 1 to 5\n",
    "squares_tuple = tuple(x**2 for x in range(1, 6))\n",
    "print(squares_tuple)"
   ]
  },
  {
   "cell_type": "markdown",
   "id": "772d11a2",
   "metadata": {},
   "source": [
    "This Python code generates a tuple named squares_tuple containing the squares of numbers from 1 to 5 using a list comprehension. Here's how it works:\n",
    "\n",
    "1.tuple(x**2 for x in range(1, 6)): This is a list comprehension that generates the squares of numbers from 1 to 5 (inclusive). It iterates through each number x in the range from 1 to 5 and calculates its square using the expression x**2.\n",
    "\n",
    "2.The tuple(...) part converts the list generated by the list comprehension into a tuple.\n",
    "\n",
    "3.Finally, print(squares_tuple) is used to display the content of the squares_tuple tuple."
   ]
  },
  {
   "cell_type": "code",
   "execution_count": 97,
   "id": "3b2fcdcb",
   "metadata": {},
   "outputs": [
    {
     "name": "stdout",
     "output_type": "stream",
     "text": [
      "(2, 4, 6, 8, 10)\n"
     ]
    }
   ],
   "source": [
    "# Question 35\n",
    "# Filter out all even numbers from a tuple\n",
    "original_tuple = (1, 2, 3, 4, 5, 6, 7, 8, 9, 10)\n",
    "filtered_tuple = tuple(x for x in original_tuple if x % 2 == 0)\n",
    "print(filtered_tuple)"
   ]
  },
  {
   "cell_type": "markdown",
   "id": "3a966458",
   "metadata": {},
   "source": [
    "This Python code filters out all the even numbers from the original_tuple and creates a new tuple called filtered_tuple containing only the even numbers. Here's how it works:\n",
    "\n",
    "1.original_tuple contains numbers from 1 to 10.\n",
    "\n",
    "2.(x for x in original_tuple if x % 2 == 0) is a generator expression. It iterates through each element x in the original_tuple and checks if it's even (i.e., if x % 2 is equal to 0).\n",
    "\n",
    "3.If an element is even, it's included in the generator expression, and if it's odd, it's excluded.\n",
    "\n",
    "4.The generator expression is then converted into a tuple using tuple(...), creating the filtered_tuple.\n",
    "\n",
    "5.Finally, print(filtered_tuple) displays the resulting tuple that contains only the even numbers from the original tuple."
   ]
  },
  {
   "cell_type": "code",
   "execution_count": 98,
   "id": "04eedce4",
   "metadata": {},
   "outputs": [
    {
     "name": "stdout",
     "output_type": "stream",
     "text": [
      "(2, 4, 6, 8, 10)\n"
     ]
    }
   ],
   "source": [
    "# Question 36\n",
    "# Multiply all elements in a tuple by 2\n",
    "original_tuple = (1, 2, 3, 4, 5)\n",
    "doubled_tuple = tuple(x * 2 for x in original_tuple)\n",
    "print(doubled_tuple)"
   ]
  },
  {
   "cell_type": "markdown",
   "id": "cef7cb7b",
   "metadata": {},
   "source": [
    "This Python code multiplies all the elements in the original_tuple by 2 and creates a new tuple called doubled_tuple containing the doubled values. Here's how it works:\n",
    "\n",
    "1.original_tuple contains numbers from 1 to 5.\n",
    "\n",
    "2.(x * 2 for x in original_tuple) is a generator expression. It iterates through each element x in the original_tuple and multiplies it by 2.\n",
    "\n",
    "3.The generator expression generates the doubled values for each element in the original_tuple.\n",
    "\n",
    "4.The generator expression is then converted into a tuple using tuple(...), creating the doubled_tuple.\n",
    "\n",
    "5.Finally, print(doubled_tuple) displays the resulting tuple that contains all the elements of the original tuple, each multiplied by 2."
   ]
  },
  {
   "cell_type": "code",
   "execution_count": 99,
   "id": "eb1c39a9",
   "metadata": {},
   "outputs": [
    {
     "name": "stdout",
     "output_type": "stream",
     "text": [
      "(56, 6, 16, 92, 38)\n"
     ]
    }
   ],
   "source": [
    "# Question 37\n",
    "# Create a tuple of random numbers\n",
    "import random\n",
    "random_tuple = tuple(random.randint(1, 100) for _ in range(5))\n",
    "print(random_tuple)"
   ]
  },
  {
   "cell_type": "markdown",
   "id": "99aff853",
   "metadata": {},
   "source": [
    "This Python code generates a tuple of random numbers and here's how it works:\n",
    "\n",
    "1.It imports the random module, which provides functions for generating random numbers.\n",
    "\n",
    "2.random_tuple = tuple(random.randint(1, 100) for _ in range(5)) creates a tuple of random numbers. Here's the breakdown:\n",
    "range(5) generates a sequence of numbers from 0 to 4. This is used to generate 5 random numbers.\n",
    "random.randint(1, 100) generates a random integer between 1 and 100 (inclusive) for each element of the sequence.\n",
    "The generator expression (random.randint(1, 100) for _ in range(5)) generates 5 random integers.\n",
    "\n",
    "3.The generator expression is then converted into a tuple using tuple(...), creating the random_tuple.\n",
    "\n",
    "4.Finally, print(random_tuple) displays the resulting tuple that contains 5 random integers."
   ]
  },
  {
   "cell_type": "code",
   "execution_count": 101,
   "id": "fef6953f",
   "metadata": {},
   "outputs": [
    {
     "name": "stdout",
     "output_type": "stream",
     "text": [
      "The tuple is sorted.\n"
     ]
    }
   ],
   "source": [
    "# Question 38\n",
    "# Check if a tuple is sorted\n",
    "my_tuple = (1, 2, 3, 4, 5)\n",
    "\n",
    "if my_tuple == tuple(sorted(my_tuple)):\n",
    "    print(\"The tuple is sorted.\")\n",
    "else:\n",
    "    print(\"The tuple is not sorted.\")"
   ]
  },
  {
   "cell_type": "markdown",
   "id": "126cd3b8",
   "metadata": {},
   "source": [
    "This Python code checks whether a tuple is sorted in ascending order, and here's how it works:\n",
    "\n",
    "1.my_tuple is a predefined tuple with the values (1, 2, 3, 4, 5).\n",
    "\n",
    "2.The code checks if my_tuple is sorted by comparing it with a sorted version of itself using tuple(sorted(my_tuple)). Here's how this part works:\n",
    "sorted(my_tuple) sorts the elements of my_tuple in ascending order, resulting in a list, like [1, 2, 3, 4, 5].\n",
    "tuple(...) then converts this sorted list back into a tuple.\n",
    "\n",
    "3.The code compares my_tuple with the sorted tuple. If they are equal, it means that the original tuple is sorted in ascending order.\n",
    "\n",
    "4.Depending on the result of the comparison, the code prints one of the two messages:\n",
    "If the tuple is sorted, it prints \"The tuple is sorted.\"\n",
    "If the tuple is not sorted, it prints \"The tuple is not sorted.\"\n",
    "\n",
    "In this case, since my_tuple is indeed sorted in ascending order, the code will print \"The tuple is sorted.\""
   ]
  },
  {
   "cell_type": "code",
   "execution_count": 102,
   "id": "ef9476b1",
   "metadata": {},
   "outputs": [
    {
     "name": "stdout",
     "output_type": "stream",
     "text": [
      "(3, 4, 5, 1, 2)\n"
     ]
    }
   ],
   "source": [
    "# Question 39\n",
    "# Rotate a tuple to the left by `n` positions\n",
    "my_tuple = (1, 2, 3, 4, 5)\n",
    "n = 2\n",
    "\n",
    "rotated_tuple = my_tuple[n:] + my_tuple[:n]\n",
    "print(rotated_tuple)"
   ]
  },
  {
   "cell_type": "markdown",
   "id": "3fd9fcdc",
   "metadata": {},
   "source": [
    "This Python code rotates a tuple to the left by n positions, effectively shifting its elements. Here's how it works:\n",
    "\n",
    "1.my_tuple is a predefined tuple with the values (1, 2, 3, 4, 5).\n",
    "\n",
    "2.n is set to 2, indicating the number of positions to rotate the tuple to the left.\n",
    "\n",
    "3.To rotate the tuple to the left by n positions, the code performs the following steps:\n",
    "my_tuple[n:] slices the tuple starting from the n-th position to the end. In this case, it slices the elements from the 3rd position onwards, resulting in (3, 4, 5).\n",
    "my_tuple[:n] slices the tuple from the beginning up to the n-th position. Here, it slices the first 2 elements, resulting in (1, 2).\n",
    "The two slices are then concatenated using the + operator. In this case, it combines (3, 4, 5) and (1, 2) to create (3, 4, 5, 1, 2).\n",
    "\n",
    "4.The code assigns the resulting tuple, which is the rotated version of the original tuple, to the variable rotated_tuple.\n",
    "\n",
    "5.Finally, it prints the rotated_tuple, which contains the elements of the original tuple rotated to the left by n positions. In this case, it will print (3, 4, 5, 1, 2) as the rotated tuple."
   ]
  },
  {
   "cell_type": "code",
   "execution_count": 103,
   "id": "2ac20153",
   "metadata": {},
   "outputs": [
    {
     "name": "stdout",
     "output_type": "stream",
     "text": [
      "(4, 5, 1, 2, 3)\n"
     ]
    }
   ],
   "source": [
    "# Question 40\n",
    "# Rotate a tuple to the right by `n` positions\n",
    "my_tuple = (1, 2, 3, 4, 5)\n",
    "n = 2\n",
    "\n",
    "rotated_tuple = my_tuple[-n:] + my_tuple[:-n]\n",
    "print(rotated_tuple)"
   ]
  },
  {
   "cell_type": "markdown",
   "id": "f54d5bf5",
   "metadata": {},
   "source": [
    "This Python code rotates a tuple to the right by n positions. Here's how it works:\n",
    "\n",
    "1.my_tuple is a predefined tuple with the values (1, 2, 3, 4, 5).\n",
    "\n",
    "2.n is set to 2, indicating the number of positions to rotate the tuple to the right.\n",
    "\n",
    "3.To rotate the tuple to the right by n positions, the code performs the following steps:\n",
    "my_tuple[-n:] slices the tuple starting from the negative n-th position to the end. In this case, it slices the elements from the 4th position from the right (4, 5), resulting in (4, 5).\n",
    "my_tuple[:-n] slices the tuple from the beginning up to the negative n-th position. Here, it slices the first 3 elements (1, 2, 3), resulting in (1, 2, 3).\n",
    "The two slices are then concatenated using the + operator. In this case, it combines (4, 5) and (1, 2, 3) to create (4, 5, 1, 2, 3).\n",
    "\n",
    "4.The code assigns the resulting tuple, which is the rotated version of the original tuple, to the variable rotated_tuple.\n",
    "\n",
    "5.Finally, it prints the rotated_tuple, which contains the elements of the original tuple rotated to the right by n positions. In this case, it will print (4, 5, 1, 2, 3) as the rotated tuple."
   ]
  },
  {
   "cell_type": "code",
   "execution_count": 104,
   "id": "bb6d8b3f",
   "metadata": {},
   "outputs": [
    {
     "name": "stdout",
     "output_type": "stream",
     "text": [
      "(0, 1, 1, 2, 3)\n"
     ]
    }
   ],
   "source": [
    "# Question 41\n",
    "# Create a tuple of the first 5 Fibonacci numbers\n",
    "fibonacci_tuple = (0, 1)\n",
    "\n",
    "for _ in range(3):\n",
    "    next_fibonacci = fibonacci_tuple[-1] + fibonacci_tuple[-2]\n",
    "    fibonacci_tuple += (next_fibonacci,)\n",
    "\n",
    "print(fibonacci_tuple)"
   ]
  },
  {
   "cell_type": "markdown",
   "id": "35b0b8d0",
   "metadata": {},
   "source": [
    "This Python code creates a tuple of the first 5 Fibonacci numbers. Here's how it works:\n",
    "\n",
    "1.fibonacci_tuple is initialized as a tuple containing the first two Fibonacci numbers, (0, 1).\n",
    "\n",
    "2.A for loop is used to generate the next 3 Fibonacci numbers. It iterates three times because the initial tuple already contains the first two numbers.\n",
    "\n",
    "3.Inside the loop, the code calculates the next Fibonacci number (next_fibonacci) by adding the last two numbers in the fibonacci_tuple. This calculation is based on the Fibonacci sequence, where each number is the sum of the two preceding numbers.\n",
    "\n",
    "4.The newly calculated next_fibonacci value is added to the fibonacci_tuple by creating a new tuple containing the old values and the new Fibonacci number, and then concatenating it to fibonacci_tuple.\n",
    "\n",
    "5.The loop continues to calculate and append the next Fibonacci numbers, so after the loop, fibonacci_tuple contains the first 5 Fibonacci numbers.\n",
    "\n",
    "6.Finally, the code prints the fibonacci_tuple, which will display the first 5 Fibonacci numbers: (0, 1, 1, 2, 3)."
   ]
  },
  {
   "cell_type": "code",
   "execution_count": 109,
   "id": "7060eee6",
   "metadata": {},
   "outputs": [
    {
     "name": "stdout",
     "output_type": "stream",
     "text": [
      "Enter elements of the tuple separated by spaces: 1 2 3 4\n",
      "Tuple created successfully: (1, 2, 3, 4)\n"
     ]
    }
   ],
   "source": [
    "# Question 42\n",
    "# Create a tuple from user input\n",
    "input_values = input(\"Enter elements of the tuple separated by spaces: \")\n",
    "input_list = input_values.split()\n",
    "\n",
    "try:\n",
    "    my_tuple = tuple(map(int, input_list))\n",
    "    print(\"Tuple created successfully:\", my_tuple)\n",
    "except ValueError:\n",
    "    print(\"Error: Please enter valid integer values separated by spaces.\")"
   ]
  },
  {
   "cell_type": "markdown",
   "id": "6a94ad8e",
   "metadata": {},
   "source": [
    "This Python code creates a tuple from user input. Here's how it works:\n",
    "\n",
    "1.The user is prompted to enter elements of the tuple separated by spaces. They can input integers separated by spaces.\n",
    "\n",
    "2.The user's input is collected as a single string and stored in the variable input_values.\n",
    "\n",
    "3.The split() method is used to split the input string into a list of individual values. The default separator is a space, so it effectively separates the integers entered by the user into separate elements in the list.\n",
    "\n",
    "4.The code attempts to convert each element in the list to an integer using map(int, input_list). This creates an iterator of integers.\n",
    "\n",
    "5.The tuple() constructor is used to convert the iterator of integers into a tuple. If all elements in the list can be successfully converted to integers, a tuple is created.\n",
    "\n",
    "6.If any element in the input cannot be converted to an integer (e.g., if the user entered non-integer values), a ValueError exception will be raised, and the code will display an error message.\n",
    "\n",
    "7.If no exceptions are raised during the tuple creation, the code prints the created tuple, indicating that it was created successfully."
   ]
  },
  {
   "cell_type": "code",
   "execution_count": 112,
   "id": "8e4ad9fa",
   "metadata": {},
   "outputs": [
    {
     "name": "stdout",
     "output_type": "stream",
     "text": [
      "(1, 4, 3, 2, 5)\n"
     ]
    }
   ],
   "source": [
    "# Question 43\n",
    "# Swap two elements in a tuple\n",
    "my_tuple = (1, 2, 3, 4, 5)\n",
    "tuple_list = list(my_tuple)\n",
    "\n",
    "tuple_list[1], tuple_list[3] = tuple_list[3], tuple_list[1]\n",
    "\n",
    "swapped_tuple = tuple(tuple_list)\n",
    "print(swapped_tuple)"
   ]
  },
  {
   "cell_type": "markdown",
   "id": "a0f25446",
   "metadata": {},
   "source": [
    "This Python code swaps two elements in a tuple. Here's how it works:\n",
    "\n",
    "1.The original tuple my_tuple is defined with values (1, 2, 3, 4, 5).\n",
    "\n",
    "2.To swap elements in a tuple, the code first converts the tuple to a list using tuple_list = list(my_tuple). This is because tuples are immutable, so you cannot directly swap their elements. By converting the tuple to a list, you can modify its elements.\n",
    "\n",
    "3.The elements to be swapped are specified by their indices. In this case, tuple_list[1] represents the second element (2) and tuple_list[3] represents the fourth element (4). The code uses tuple packing and unpacking to swap these elements:\n",
    "tuple_list[1], tuple_list[3] = tuple_list[3], tuple_list[1] swaps the values of the second and fourth elements.\n",
    "\n",
    "4.After swapping the elements, the list is converted back to a tuple using swapped_tuple = tuple(tuple_list) to obtain the final swapped tuple.\n",
    "\n",
    "5.The code prints swapped_tuple, which now contains the elements with their positions swapped."
   ]
  },
  {
   "cell_type": "code",
   "execution_count": 113,
   "id": "063a7286",
   "metadata": {},
   "outputs": [
    {
     "name": "stdout",
     "output_type": "stream",
     "text": [
      "(6, 2, 7, 3, 1)\n"
     ]
    }
   ],
   "source": [
    "# Question 44\n",
    "# Reverse the elements of a tuple\n",
    "my_tuple = (1, 3, 7, 2, 6)\n",
    "reversed_list = list(my_tuple)[::-1]\n",
    "\n",
    "reversed_tuple = tuple(reversed_list)\n",
    "print(reversed_tuple)"
   ]
  },
  {
   "cell_type": "markdown",
   "id": "2f04b559",
   "metadata": {},
   "source": [
    "This Python code is used to reverse the elements of a tuple. Here's how it works:\n",
    "\n",
    "1.The original tuple my_tuple is defined with values (1, 3, 7, 2, 6).\n",
    "\n",
    "2.To reverse the elements of the tuple, the code first converts the tuple to a list using list(my_tuple). This is done because lists can be easily reversed using slicing.\n",
    "\n",
    "3.The list is reversed using slicing: reversed_list = list(my_tuple)[::-1]. The [::-1] slicing notation means that all elements are selected in reverse order. This operation effectively reverses the elements within the list.\n",
    "\n",
    "4.After reversing the list, it is converted back to a tuple using tuple(reversed_list) to obtain the final reversed tuple.\n",
    "\n",
    "5.The code prints reversed_tuple, which contains the elements of the original tuple in reverse order."
   ]
  },
  {
   "cell_type": "code",
   "execution_count": 114,
   "id": "2eb0f493",
   "metadata": {},
   "outputs": [
    {
     "name": "stdout",
     "output_type": "stream",
     "text": [
      "(1, 2, 4, 8, 16)\n"
     ]
    }
   ],
   "source": [
    "# Question 45\n",
    "# Create a tuple of the first `n` powers of 2\n",
    "n = 5\n",
    "powers_of_2 = tuple(2**i for i in range(n))\n",
    "print(powers_of_2)"
   ]
  },
  {
   "cell_type": "markdown",
   "id": "097bc44a",
   "metadata": {},
   "source": [
    "This Python code generates a tuple containing the first n powers of 2 and then prints the resulting tuple. Here's how it works:\n",
    "\n",
    "1.The variable n is assigned the value 5, which represents the number of powers of 2 to generate.\n",
    "\n",
    "2.A tuple comprehension is used to create the powers_of_2 tuple. The comprehension iterates over the range of numbers from 0 to n-1 (i.e., 0 to 4 in this case).\n",
    "\n",
    "3.For each value i in the range, it calculates the corresponding power of 2 using the expression 2**i. This expression raises 2 to the power of i, resulting in the value of 2^0, 2^1, 2^2, and so on.\n",
    "\n",
    "4.The calculated values are collected in the powers_of_2 tuple.\n",
    "\n",
    "5.Finally, the code prints the powers_of_2 tuple, which contains the first n powers of 2.\n",
    "\n",
    "So, if n is 5, the output will be a tuple (1, 2, 4, 8, 16) representing the first 5 powers of 2."
   ]
  },
  {
   "cell_type": "code",
   "execution_count": 115,
   "id": "1643911e",
   "metadata": {},
   "outputs": [
    {
     "name": "stdout",
     "output_type": "stream",
     "text": [
      "The longest string is: banana\n"
     ]
    }
   ],
   "source": [
    "# Question 46\n",
    "# Find the longest string in a tuple of strings\n",
    "tuple_of_strings = (\"apple\", \"banana\", \"cherry\", \"date\", \"fig\")\n",
    "longest_string = max(tuple_of_strings, key=len)\n",
    "print(\"The longest string is:\", longest_string)"
   ]
  },
  {
   "cell_type": "markdown",
   "id": "58ecaea5",
   "metadata": {},
   "source": [
    "This Python code finds the longest string in a tuple of strings and then prints the result. Here's how it works:\n",
    "\n",
    "1.The tuple_of_strings variable is defined as a tuple containing five strings: \"apple,\" \"banana,\" \"cherry,\" \"date,\" and \"fig.\"\n",
    "\n",
    "2.The max function is used to find the element in the tuple_of_strings that has the maximum length. The max function takes an iterable (in this case, the tuple of strings) and an optional key argument, which is a function that calculates a value to be used for comparison.\n",
    "\n",
    "3.In this code, key=len is provided as the key argument. This means that for each string in the tuple, the length of the string is calculated, and the max function will compare the strings based on their lengths.\n",
    "\n",
    "4.The result is the longest string in the tuple, and it is stored in the longest_string variable.\n",
    "\n",
    "5.Finally, the code prints the longest string using the print function.\n",
    "\n",
    "So, in this case, the code will output: \"The longest string is: banana,\" as \"banana\" is the longest string in the tuple."
   ]
  },
  {
   "cell_type": "code",
   "execution_count": 116,
   "id": "a3bb7f2c",
   "metadata": {},
   "outputs": [
    {
     "name": "stdout",
     "output_type": "stream",
     "text": [
      "The shortest string is: fig\n"
     ]
    }
   ],
   "source": [
    "# Question 47\n",
    "# Find the shortest string in a tuple of strings\n",
    "tuple_of_strings = (\"apple\", \"banana\", \"cherry\", \"date\", \"fig\")\n",
    "shortest_string = min(tuple_of_strings, key=len)\n",
    "print(\"The shortest string is:\", shortest_string)"
   ]
  },
  {
   "cell_type": "markdown",
   "id": "411cdd26",
   "metadata": {},
   "source": [
    "This Python code finds the shortest string in a tuple of strings and then prints the result. Here's how it works:\n",
    "\n",
    "1.The tuple_of_strings variable is defined as a tuple containing five strings: \"apple,\" \"banana,\" \"cherry,\" \"date,\" and \"fig.\"\n",
    "\n",
    "2.The min function is used to find the element in the tuple_of_strings that has the minimum length. The min function takes an iterable (in this case, the tuple of strings) and an optional key argument, which is a function that calculates a value to be used for comparison.\n",
    "\n",
    "3.In this code, key=len is provided as the key argument. This means that for each string in the tuple, the length of the string is calculated, and the min function will compare the strings based on their lengths.\n",
    "\n",
    "4.The result is the shortest string in the tuple, and it is stored in the shortest_string variable.\n",
    "\n",
    "5.Finally, the code prints the shortest string using the print function.\n",
    "\n",
    "So, in this case, the code will output: \"The shortest string is: fig,\" as \"fig\" is the shortest string in the tuple."
   ]
  },
  {
   "cell_type": "code",
   "execution_count": 117,
   "id": "96333aa4",
   "metadata": {},
   "outputs": [
    {
     "name": "stdout",
     "output_type": "stream",
     "text": [
      "Tuple of the first 5 triangular numbers: (1, 3, 6, 10, 15)\n"
     ]
    }
   ],
   "source": [
    "# Question 48\n",
    "# Create a tuple of the first `n` triangular numbers\n",
    "n = 5\n",
    "triangular_numbers = tuple((i * (i + 1) // 2) for i in range(1, n + 1))\n",
    "print(\"Tuple of the first\", n, \"triangular numbers:\", triangular_numbers)"
   ]
  },
  {
   "cell_type": "markdown",
   "id": "d9334535",
   "metadata": {},
   "source": [
    "This Python code creates a tuple containing the first n triangular numbers and then prints the resulting tuple. Here's how it works:\n",
    "\n",
    "1.The variable n is assigned the value 5, which represents the number of triangular numbers to generate.\n",
    "\n",
    "2.Triangular numbers are generated using the formula n * (n + 1) // 2, where n represents the position of the triangular number in the sequence. The formula calculates the sum of the first n natural numbers.\n",
    "\n",
    "3.A tuple comprehension is used to create the triangular_numbers tuple. It iterates over a range of values from 1 to n (inclusive) and calculates the corresponding triangular numbers for each value using the formula.\n",
    "\n",
    "4.The resulting triangular_numbers tuple contains the first n triangular numbers.\n",
    "\n",
    "5.Finally, the code prints the tuple using the print function, including a message that indicates the number of triangular numbers in the tuple.\n",
    "\n",
    "When you run this code with n = 5, it will output a tuple like this: \"Tuple of the first 5 triangular numbers: (1, 3, 6, 10, 15).\" These are the first 5 triangular numbers generated using the formula."
   ]
  },
  {
   "cell_type": "code",
   "execution_count": 118,
   "id": "d435455f",
   "metadata": {},
   "outputs": [
    {
     "name": "stdout",
     "output_type": "stream",
     "text": [
      "The sub-tuple is a subsequence of the main tuple.\n"
     ]
    }
   ],
   "source": [
    "# Question 49\n",
    "# Check if a tuple contains another tuple as a subsequence\n",
    "main_tuple = (1, 2, 3, 4, 5, 6)\n",
    "sub_tuple = (3, 4, 5)\n",
    "\n",
    "def is_subsequence(main_tuple, sub_tuple):\n",
    "    i, j = 0, 0\n",
    "    while i < len(main_tuple) and j < len(sub_tuple):\n",
    "        if main_tuple[i] == sub_tuple[j]:\n",
    "            j += 1\n",
    "        i += 1\n",
    "    return j == len(sub_tuple)\n",
    "\n",
    "if is_subsequence(main_tuple, sub_tuple):\n",
    "    print(\"The sub-tuple is a subsequence of the main tuple.\")\n",
    "else:\n",
    "    print(\"The sub-tuple is not a subsequence of the main tuple.\")"
   ]
  },
  {
   "cell_type": "markdown",
   "id": "8538ee2e",
   "metadata": {},
   "source": [
    "This Python code checks if a tuple (sub_tuple) is a subsequence of another tuple (main_tuple). A subsequence is a sequence that appears in the same order, but not necessarily consecutively, within the larger sequence. Here's how the code works:\n",
    "\n",
    "1.main_tuple and sub_tuple are defined. main_tuple is the larger tuple, and sub_tuple is the candidate subsequence to be checked.\n",
    "\n",
    "2.A function is_subsequence(main_tuple, sub_tuple) is defined to check if sub_tuple is a subsequence of main_tuple.\n",
    "\n",
    "3.Two variables, i and j, are initialized to 0. These variables will be used to traverse through main_tuple and sub_tuple, respectively.\n",
    "\n",
    "4.A while loop is used to iterate through both main_tuple and sub_tuple. The loop continues as long as i is less than the length of main_tuple and j is less than the length of sub_tuple.\n",
    "\n",
    "5.Inside the loop, it checks if the elements at the current positions i in main_tuple and j in sub_tuple are equal. If they are, it increments j, allowing it to move to the next element in sub_tuple.\n",
    "\n",
    "6.Regardless of whether there's a match or not, i is always incremented to examine the next element in main_tuple.\n",
    "\n",
    "7.The loop continues until either the entire sub_tuple is traversed (in which case j equals the length of sub_tuple), or until the entire main_tuple is traversed.\n",
    "\n",
    "8.After the loop, it checks if j is equal to the length of sub_tuple. If it is, this means that the entire sub_tuple was found in the same order within main_tuple, and it prints that \"The sub-tuple is a subsequence of the main tuple.\"\n",
    "\n",
    "9.If j is not equal to the length of sub_tuple, it means that sub_tuple is not a subsequence of main_tuple, and it prints \"The sub-tuple is not a subsequence of the main tuple.\""
   ]
  },
  {
   "cell_type": "code",
   "execution_count": 121,
   "id": "a9ade2e1",
   "metadata": {},
   "outputs": [
    {
     "name": "stdout",
     "output_type": "stream",
     "text": [
      "(1, 0, 1, 0, 1, 0, 1, 0, 1, 0)\n"
     ]
    }
   ],
   "source": [
    "# Question 50\n",
    "# Create a tuple of alternating 1s and 0s of length `n`\n",
    "n = 10\n",
    "alternating_tuple = tuple([1 if i % 2 == 0 else 0 for i in range(n)])\n",
    "print(alternating_tuple)"
   ]
  },
  {
   "cell_type": "markdown",
   "id": "1bd5d631",
   "metadata": {},
   "source": [
    "This Python code creates a tuple containing alternating 1s and 0s of a specified length n. Here's how it works:\n",
    "\n",
    "1.The variable n is set to 10, which determines the length of the resulting tuple.\n",
    "\n",
    "2.A list comprehension is used to generate the tuple. The list comprehension iterates over i from 0 to n-1.\n",
    "\n",
    "3.Within the list comprehension, there's a conditional expression [1 if i % 2 == 0 else 0]. This expression alternates between 1 and 0 based on whether i is an even or odd number. When i is even (0, 2, 4, etc.), it adds 1 to the list; when i is odd (1, 3, 5, etc.), it adds 0 to the list.\n",
    "\n",
    "4.The resulting list from the list comprehension is then converted to a tuple using the tuple() constructor.\n",
    "\n",
    "5.Finally, the code prints the alternating_tuple.\n",
    "\n",
    "For n = 10, the output will be a tuple containing ten elements: (1, 0, 1, 0, 1, 0, 1, 0, 1, 0). This tuple alternates between 1s and 0s, with 1 at even indices (0, 2, 4, 6, 8) and 0 at odd indices (1, 3, 5, 7, 9)."
   ]
  },
  {
   "cell_type": "markdown",
   "id": "e43df170",
   "metadata": {},
   "source": [
    "# Set Based Practice Problem"
   ]
  },
  {
   "cell_type": "code",
   "execution_count": 122,
   "id": "4fa2b90a",
   "metadata": {},
   "outputs": [
    {
     "name": "stdout",
     "output_type": "stream",
     "text": [
      "{1, 2, 3, 4, 5}\n"
     ]
    }
   ],
   "source": [
    "# Question 1\n",
    "# Create a set with integers from 1 to 5\n",
    "my_set = set(range(1, 6))\n",
    "print(my_set)"
   ]
  },
  {
   "cell_type": "markdown",
   "id": "d39caa1d",
   "metadata": {},
   "source": [
    "This Python code creates a set containing integers from 1 to 5. Here's how it works:\n",
    "\n",
    "1.The range(1, 6) function generates a sequence of integers starting from 1 (inclusive) up to 6 (exclusive). So, it produces the numbers 1, 2, 3, 4, and 5.\n",
    "\n",
    "2.The set() constructor is used to convert this sequence of integers into a set. Sets are unordered collections of unique elements, so any duplicate values are automatically removed. In this case, there are no duplicates, so the resulting set will contain integers from 1 to 5.\n",
    "\n",
    "3.Finally, the code prints the my_set.\n",
    "\n",
    "The output of this code will be a set containing the integers from 1 to 5: {1, 2, 3, 4, 5}."
   ]
  },
  {
   "cell_type": "code",
   "execution_count": 123,
   "id": "551d52be",
   "metadata": {},
   "outputs": [
    {
     "name": "stdout",
     "output_type": "stream",
     "text": [
      "{1, 2, 3, 4}\n"
     ]
    }
   ],
   "source": [
    "# Question 2\n",
    "# Add an element to a set\n",
    "my_set = {1, 2, 3}\n",
    "my_set.add(4)\n",
    "print(my_set)"
   ]
  },
  {
   "cell_type": "markdown",
   "id": "92eaf05f",
   "metadata": {},
   "source": [
    "This Python code demonstrates how to add an element to a set in Python. Here's how it works:\n",
    "\n",
    "1.my_set is defined as a set containing three elements: {1, 2, 3}.\n",
    "\n",
    "2.The .add() method is used to add an element to the set. In this case, it adds the integer 4 to the set.\n",
    "\n",
    "3.After adding 4, the set is modified to become {1, 2, 3, 4}.\n",
    "\n",
    "4.Finally, the code prints the modified set, which will display {1, 2, 3, 4}."
   ]
  },
  {
   "cell_type": "code",
   "execution_count": 124,
   "id": "558c6086",
   "metadata": {},
   "outputs": [
    {
     "name": "stdout",
     "output_type": "stream",
     "text": [
      "{1, 2, 4}\n"
     ]
    }
   ],
   "source": [
    "# Question 3\n",
    "# Remove an element from a set\n",
    "my_set = {1, 2, 3, 4}\n",
    "my_set.remove(3)\n",
    "print(my_set)"
   ]
  },
  {
   "cell_type": "markdown",
   "id": "825bc6e3",
   "metadata": {},
   "source": [
    "This Python code demonstrates how to remove an element from a set in Python. Here's how it works:\n",
    "\n",
    "1.my_set is defined as a set containing four elements: {1, 2, 3, 4}.\n",
    "\n",
    "2.The .remove() method is used to remove an element from the set. In this case, it removes the integer 3.\n",
    "\n",
    "3.After removing 3, the set is modified to become {1, 2, 4}.\n",
    "\n",
    "4.Finally, the code prints the modified set, which will display {1, 2, 4}."
   ]
  },
  {
   "cell_type": "code",
   "execution_count": 125,
   "id": "7e57fe6b",
   "metadata": {},
   "outputs": [
    {
     "name": "stdout",
     "output_type": "stream",
     "text": [
      "3 exists in the set.\n"
     ]
    }
   ],
   "source": [
    "# Question 4\n",
    "# Check if an element exists in a set\n",
    "my_set = {1, 2, 3, 4}\n",
    "element_to_check = 3\n",
    "\n",
    "if element_to_check in my_set:\n",
    "    print(f\"{element_to_check} exists in the set.\")\n",
    "else:\n",
    "    print(f\"{element_to_check} does not exist in the set.\")"
   ]
  },
  {
   "cell_type": "markdown",
   "id": "523ab937",
   "metadata": {},
   "source": [
    "This Python code checks if a specific element exists in a set and prints a corresponding message. Here's how it works:\n",
    "\n",
    "1.my_set is defined as a set containing four elements: {1, 2, 3, 4}.\n",
    "\n",
    "2.element_to_check is set to the integer value 3.\n",
    "\n",
    "3.The code uses an if statement to check if element_to_check is present in the set my_set. It does this by using the in operator, which returns True if the element exists in the set and False otherwise.\n",
    "\n",
    "4.If element_to_check is found in my_set, it prints a message indicating that it exists in the set. In this case, it will print \"3 exists in the set.\"\n",
    "\n",
    "5.If element_to_check is not found in my_set, the code prints a message indicating that it does not exist in the set. In this case, it will print \"3 does not exist in the set.\""
   ]
  },
  {
   "cell_type": "code",
   "execution_count": 126,
   "id": "8c5b121a",
   "metadata": {},
   "outputs": [
    {
     "name": "stdout",
     "output_type": "stream",
     "text": [
      "The length of the set is: 5\n"
     ]
    }
   ],
   "source": [
    "# Question 5\n",
    "# Find the length of a set without using the `len()` function\n",
    "my_set = {1, 2, 3, 4, 5}\n",
    "count = 0\n",
    "\n",
    "for _ in my_set:\n",
    "    count += 1\n",
    "\n",
    "print(\"The length of the set is:\", count)"
   ]
  },
  {
   "cell_type": "markdown",
   "id": "6d4e8171",
   "metadata": {},
   "source": [
    "This Python code calculates the length of a set without using the built-in len() function. Here's how it works:\n",
    "\n",
    "1.my_set is defined as a set containing five elements: {1, 2, 3, 4, 5}.\n",
    "\n",
    "2.count is initialized to 0. This variable will be used to count the elements in the set.\n",
    "\n",
    "3.A for loop iterates through the elements of my_set. The loop variable (represented by _) is used to iterate through the elements, but it's not used in the loop body.\n",
    "\n",
    "4.For each iteration of the loop, the count variable is incremented by 1. This means that every time the loop iterates, the count increases by 1, effectively counting each element in the set.\n",
    "\n",
    "5.After the loop completes, the code prints the value of count, which represents the length of the set. In this case, it will print \"The length of the set is: 5\" because there are five elements in the set."
   ]
  },
  {
   "cell_type": "code",
   "execution_count": 127,
   "id": "af577598",
   "metadata": {},
   "outputs": [
    {
     "name": "stdout",
     "output_type": "stream",
     "text": [
      "set()\n"
     ]
    }
   ],
   "source": [
    "# Question 6\n",
    "# Clear all elements from a set\n",
    "my_set = {1, 2, 3, 4, 5}\n",
    "my_set.clear()\n",
    "print(my_set)"
   ]
  },
  {
   "cell_type": "markdown",
   "id": "8be8ef79",
   "metadata": {},
   "source": [
    "This Python code demonstrates how to remove all elements from a set using the clear() method. Here's how it works:\n",
    "\n",
    "1.my_set is defined as a set containing five elements: {1, 2, 3, 4, 5}.\n",
    "\n",
    "2.The clear() method is called on my_set. This method removes all elements from the set, effectively emptying it.\n",
    "\n",
    "3.After calling clear(), the set my_set no longer contains any elements, making it an empty set.\n",
    "\n",
    "4.The code then prints the set my_set after clearing it. This will result in an empty set being printed: set()."
   ]
  },
  {
   "cell_type": "code",
   "execution_count": 128,
   "id": "3123d1b2",
   "metadata": {},
   "outputs": [
    {
     "name": "stdout",
     "output_type": "stream",
     "text": [
      "{2, 4, 6, 8, 10}\n"
     ]
    }
   ],
   "source": [
    "# Question 7\n",
    "# Create a set of even numbers from 1 to 10\n",
    "even_numbers_set = {x for x in range(1, 11) if x % 2 == 0}\n",
    "print(even_numbers_set)"
   ]
  },
  {
   "cell_type": "markdown",
   "id": "2b284c55",
   "metadata": {},
   "source": [
    "This Python code creates a set containing even numbers from 1 to 10 using a set comprehension. Here's how it works:\n",
    "\n",
    "1.The code defines a set comprehension enclosed in curly braces {}. This comprehension is used to generate a set.\n",
    "\n",
    "2.Inside the set comprehension, there's a for loop that iterates over the numbers from 1 to 10. The loop variable x takes on values from 1 to 10.\n",
    "\n",
    "3.The if condition, x % 2 == 0, checks if the number x is even. If x is divisible by 2 with a remainder of 0, it's considered even.\n",
    "\n",
    "4.If the condition is met, the even number x is included in the set.\n",
    "\n",
    "5.The resulting set, even_numbers_set, contains all the even numbers from 1 to 10.\n",
    "\n",
    "6.The code then prints the even_numbers_set, which will include the even numbers: {2, 4, 6, 8, 10}."
   ]
  },
  {
   "cell_type": "code",
   "execution_count": 129,
   "id": "031fc273",
   "metadata": {},
   "outputs": [
    {
     "name": "stdout",
     "output_type": "stream",
     "text": [
      "{1, 3, 5, 7, 9}\n"
     ]
    }
   ],
   "source": [
    "# Question 8\n",
    "# Create a set of odd numbers from 1 to 10\n",
    "odd_numbers_set = {x for x in range(1, 11) if x % 2 != 0}\n",
    "print(odd_numbers_set)"
   ]
  },
  {
   "cell_type": "markdown",
   "id": "8fe78f96",
   "metadata": {},
   "source": [
    "This Python code creates a set containing odd numbers from 1 to 10 using a set comprehension. Here's how it works:\n",
    "\n",
    "1.The code defines a set comprehension enclosed in curly braces {}. This comprehension is used to generate a set.\n",
    "\n",
    "2.Inside the set comprehension, there's a for loop that iterates over the numbers from 1 to 10. The loop variable x takes on values from 1 to 10.\n",
    "\n",
    "3.The if condition, x % 2 != 0, checks if the number x is odd. If x is not divisible by 2 with a remainder of 0, it's considered odd.\n",
    "\n",
    "4.If the condition is met, the odd number x is included in the set.\n",
    "\n",
    "5.The resulting set, odd_numbers_set, contains all the odd numbers from 1 to 10.\n",
    "\n",
    "6.The code then prints the odd_numbers_set, which will include the odd numbers: {1, 3, 5, 7, 9}."
   ]
  },
  {
   "cell_type": "code",
   "execution_count": 130,
   "id": "043db2db",
   "metadata": {},
   "outputs": [
    {
     "name": "stdout",
     "output_type": "stream",
     "text": [
      "{1, 2, 3, 4, 5, 6}\n"
     ]
    }
   ],
   "source": [
    "# Question 9\n",
    "# Find the union of two sets\n",
    "set1 = {1, 2, 3, 4}\n",
    "set2 = {3, 4, 5, 6}\n",
    "\n",
    "union_set = set1.union(set2)\n",
    "print(union_set)"
   ]
  },
  {
   "cell_type": "markdown",
   "id": "8ae3b38b",
   "metadata": {},
   "source": [
    "This Python code finds the union of two sets, set1 and set2. Here's how it works:\n",
    "\n",
    "1.set1 and set2 are two sets defined with elements: set1 = {1, 2, 3, 4} and set2 = {3, 4, 5, 6}.\n",
    "\n",
    "2.The .union() method is called on set1 with set2 passed as an argument. This method combines the elements from both sets and creates a new set that contains all unique elements from set1 and set2.\n",
    "\n",
    "3.The result of the union operation is stored in the variable union_set.\n",
    "\n",
    "4.Finally, the code prints the union_set, which contains the union of set1 and set2."
   ]
  },
  {
   "cell_type": "code",
   "execution_count": 131,
   "id": "ab1f46bf",
   "metadata": {},
   "outputs": [
    {
     "name": "stdout",
     "output_type": "stream",
     "text": [
      "{3, 4}\n"
     ]
    }
   ],
   "source": [
    "# Question 10\n",
    "# Find the intersection of two sets\n",
    "set1 = {1, 2, 3, 4}\n",
    "set2 = {3, 4, 5, 6}\n",
    "\n",
    "intersection_set = set1.intersection(set2)\n",
    "print(intersection_set)"
   ]
  },
  {
   "cell_type": "markdown",
   "id": "03193719",
   "metadata": {},
   "source": [
    "This Python code finds the intersection of two sets, set1 and set2. Here's how it works:\n",
    "\n",
    "1.set1 and set2 are two sets defined with elements: set1 = {1, 2, 3, 4} and set2 = {3, 4, 5, 6}.\n",
    "\n",
    "2.The .intersection() method is called on set1 with set2 passed as an argument. This method returns a new set containing only the elements that are common to both set1 and set2.\n",
    "\n",
    "3.The result of the intersection operation is stored in the variable intersection_set.\n",
    "\n",
    "4.Finally, the code prints the intersection_set, which contains the elements that are common to both set1 and `set2."
   ]
  },
  {
   "cell_type": "code",
   "execution_count": 132,
   "id": "5f692505",
   "metadata": {},
   "outputs": [
    {
     "name": "stdout",
     "output_type": "stream",
     "text": [
      "{1, 2}\n"
     ]
    }
   ],
   "source": [
    "# Question 11\n",
    "# Find the difference between two sets\n",
    "set1 = {1, 2, 3, 4}\n",
    "set2 = {3, 4, 5, 6}\n",
    "\n",
    "difference_set = set1.difference(set2)\n",
    "print(difference_set)"
   ]
  },
  {
   "cell_type": "markdown",
   "id": "637fc940",
   "metadata": {},
   "source": [
    "This Python code finds the difference between two sets, set1 and set2. Here's how it works:\n",
    "\n",
    "1.set1 and set2 are two sets defined with elements: set1 = {1, 2, 3, 4} and set2 = {3, 4, 5, 6}.\n",
    "\n",
    "2.The .difference() method is called on set1 with set2 passed as an argument. This method returns a new set containing the elements that are in set1 but not in set2. In other words, it computes the set subtraction of set2 from set1.\n",
    "\n",
    "3.The result of the difference operation is stored in the variable difference_set.\n",
    "\n",
    "4.Finally, the code prints the difference_set, which contains the elements that are in set1 but not in set2."
   ]
  },
  {
   "cell_type": "code",
   "execution_count": 133,
   "id": "d805afe0",
   "metadata": {},
   "outputs": [
    {
     "name": "stdout",
     "output_type": "stream",
     "text": [
      "set1 is a subset of set2.\n"
     ]
    }
   ],
   "source": [
    "# Question 12\n",
    "# Check if a set is a subset of another set\n",
    "set1 = {1, 2, 3}\n",
    "set2 = {1, 2, 3, 4, 5}\n",
    "\n",
    "is_subset = set1.issubset(set2)\n",
    "\n",
    "if is_subset:\n",
    "    print(\"set1 is a subset of set2.\")\n",
    "else:\n",
    "    print(\"set1 is not a subset of set2.\")"
   ]
  },
  {
   "cell_type": "markdown",
   "id": "5307190e",
   "metadata": {},
   "source": [
    "This Python code checks if set1 is a subset of set2. Here's how it works:\n",
    "\n",
    "1.set1 and set2 are two sets defined with elements. In this example, set1 contains the elements {1, 2, 3}, and set2 contains the elements {1, 2, 3, 4, 5}.\n",
    "\n",
    "2.The .issubset() method is called on set1 with set2 passed as an argument. This method checks if all the elements of set1 are also present in set2. If all elements of set1 are in set2, it returns True; otherwise, it returns False.\n",
    "\n",
    "3.The result of this operation is stored in the variable is_subset.\n",
    "\n",
    "4.The code then checks the value of is_subset. If it's True, it means that set1 is a subset of set2, and the code prints \"set1 is a subset of set2.\" If is_subset is False, it means set1 is not a subset of `set2,\" and the code prints \"set1 is not a subset of set2.\""
   ]
  },
  {
   "cell_type": "code",
   "execution_count": 134,
   "id": "f02f6684",
   "metadata": {},
   "outputs": [
    {
     "name": "stdout",
     "output_type": "stream",
     "text": [
      "set1 is a superset of set2.\n"
     ]
    }
   ],
   "source": [
    "# Question 13\n",
    "# Check if a set is a superset of another set\n",
    "set1 = {1, 2, 3, 4, 5}\n",
    "set2 = {1, 2, 3}\n",
    "\n",
    "is_superset = set1.issuperset(set2)\n",
    "\n",
    "if is_superset:\n",
    "    print(\"set1 is a superset of set2.\")\n",
    "else:\n",
    "    print(\"set1 is not a superset of set2.\")"
   ]
  },
  {
   "cell_type": "markdown",
   "id": "4133db37",
   "metadata": {},
   "source": [
    "This Python code checks if set1 is a superset of set2. Here's how it works:\n",
    "\n",
    "1.set1 and set2 are two sets defined with elements. In this example, set1 contains the elements {1, 2, 3, 4, 5}, and set2 contains the elements {1, 2, 3}.\n",
    "\n",
    "2.The .issuperset() method is called on set1 with set2 passed as an argument. This method checks if all the elements of set2 are also present in set1. If all elements of set2 are in set1, it returns True; otherwise, it returns False.\n",
    "\n",
    "3.The result of this operation is stored in the variable is_superset.\n",
    "\n",
    "4.The code then checks the value of is_superset. If it's True, it means that set1 is a superset of set2, and the code prints \"set1 is a superset of set2.\" If is_superset is False, it means set1 is not a superset of `set2,\" and the code prints \"set1 is not a superset of set2.\""
   ]
  },
  {
   "cell_type": "code",
   "execution_count": 135,
   "id": "c41bcd9f",
   "metadata": {},
   "outputs": [
    {
     "name": "stdout",
     "output_type": "stream",
     "text": [
      "{1, 2, 3, 4, 5}\n"
     ]
    }
   ],
   "source": [
    "# Question 14\n",
    "# Create a set from a list\n",
    "my_list = [1, 2, 3, 4, 5]\n",
    "my_set = set(my_list)\n",
    "print(my_set)"
   ]
  },
  {
   "cell_type": "markdown",
   "id": "b82ddc50",
   "metadata": {},
   "source": [
    "This Python code creates a set from a list. Here's how it works:\n",
    "\n",
    "1.my_list is a list containing the elements [1, 2, 3, 4, 5].\n",
    "\n",
    "2.The set() constructor is used to create a new set, my_set, by passing my_list as an argument. This constructor converts the list elements into a set, removing any duplicate elements and preserving the order of unique elements.\n",
    "\n",
    "3.The resulting set, my_set, contains the unique elements from my_list. In this case, it will be {1, 2, 3, 4, 5}.\n",
    "\n",
    "4.Finally, the code prints the set my_set to the console using print(my_set)."
   ]
  },
  {
   "cell_type": "code",
   "execution_count": 136,
   "id": "a37b16e0",
   "metadata": {},
   "outputs": [
    {
     "name": "stdout",
     "output_type": "stream",
     "text": [
      "[1, 2, 3, 4, 5]\n"
     ]
    }
   ],
   "source": [
    "# Question 15\n",
    "# Convert a set to a list\n",
    "my_set = {1, 2, 3, 4, 5}\n",
    "my_list = list(my_set)\n",
    "print(my_list)"
   ]
  },
  {
   "cell_type": "markdown",
   "id": "84b84b8d",
   "metadata": {},
   "source": [
    "This Python code converts a set named my_set to a list named my_list. Here's how it works:\n",
    "\n",
    "1.my_set is a set that contains the elements 1, 2, 3, 4, and 5. Sets are unordered collections of unique elements.\n",
    "\n",
    "2.list(my_set) is used to convert the set into a list. The list() function is used for this conversion. It takes an iterable (in this case, a set) as an argument and creates a new list containing the elements in the same order as they were in the set. However, sets are unordered, so the order of elements in the list may not be the same as in the original set.\n",
    "\n",
    "3.The resulting list is assigned to the variable my_list.\n",
    "\n",
    "4.Finally, print(my_list) is used to display the content of the my_list list."
   ]
  },
  {
   "cell_type": "code",
   "execution_count": 164,
   "id": "4940d7ff",
   "metadata": {},
   "outputs": [
    {
     "name": "stdout",
     "output_type": "stream",
     "text": [
      "Removed element: 4\n",
      "Updated set: {1, 2, 3, 5}\n"
     ]
    }
   ],
   "source": [
    "# Question 16\n",
    "# Remove a random element from a set\n",
    "import random\n",
    "\n",
    "my_set = {1, 2, 3, 4, 5}\n",
    "if my_set:\n",
    "    removed_element = random.choice(list(my_set))\n",
    "    my_set.remove(removed_element)\n",
    "    print(f\"Removed element: {removed_element}\")\n",
    "    print(f\"Updated set: {my_set}\")\n",
    "else:\n",
    "    print(\"The set is empty.\")"
   ]
  },
  {
   "cell_type": "markdown",
   "id": "b65c82f2",
   "metadata": {},
   "source": [
    "This Python code randomly removes an element from a set and then prints the removed element and the updated set. Here's how it works:\n",
    "\n",
    "1.my_set is a set containing the elements 1, 2, 3, 4, and 5.\n",
    "\n",
    "2.The code checks if the set is not empty using the condition if my_set:. If the set is not empty, it proceeds with the removal of an element. If the set is empty, it prints \"The set is empty.\"\n",
    "\n",
    "3.Inside the if block, the code first converts the set my_set into a list using list(my_set). This is done because sets are unordered collections, and random.choice requires an indexable sequence. The resulting list is used to pick a random element for removal.\n",
    "\n",
    "4.random.choice(list(my_set)) selects a random element from the list representation of my_set.\n",
    "\n",
    "5.my_set.remove(removed_element) removes the selected random element from the set.\n",
    "\n",
    "6.Finally, the code prints the removed element and the updated set, so you can see which element was removed and the new content of the set."
   ]
  },
  {
   "cell_type": "code",
   "execution_count": 139,
   "id": "778f54b7",
   "metadata": {},
   "outputs": [
    {
     "name": "stdout",
     "output_type": "stream",
     "text": [
      "Popped element: 1\n",
      "Updated set: {2, 3, 4, 5}\n"
     ]
    }
   ],
   "source": [
    "# Question 17\n",
    "# Pop an element from a set\n",
    "my_set = {1, 2, 3, 4, 5}\n",
    "popped_element = my_set.pop()\n",
    "\n",
    "print(f\"Popped element: {popped_element}\")\n",
    "print(f\"Updated set: {my_set}\")"
   ]
  },
  {
   "cell_type": "markdown",
   "id": "775ef6ee",
   "metadata": {},
   "source": [
    "This Python code demonstrates how to pop (remove and return) an element from a set. Here's an explanation of how it works:\n",
    "\n",
    "1.my_set is a set containing the elements 1, 2, 3, 4, and 5.\n",
    "\n",
    "2.The pop() method is called on my_set. This method removes and returns an arbitrary (usually the first) element from the set.\n",
    "\n",
    "3.popped_element stores the element that was removed from the set using the pop() method.\n",
    "\n",
    "4.The code then prints the removed element and the updated set."
   ]
  },
  {
   "cell_type": "code",
   "execution_count": 165,
   "id": "c8b573ab",
   "metadata": {},
   "outputs": [
    {
     "name": "stdout",
     "output_type": "stream",
     "text": [
      "The sets have no elements in common.\n"
     ]
    }
   ],
   "source": [
    "# Question 18\n",
    "# Check if two sets have no elements in common\n",
    "set1 = {1, 2, 3, 4, 5}\n",
    "set2 = {6, 7, 8, 9, 10}\n",
    "\n",
    "if set1.isdisjoint(set2):\n",
    "    print(\"The sets have no elements in common.\")\n",
    "else:\n",
    "    print(\"The sets have some elements in common.\")"
   ]
  },
  {
   "cell_type": "markdown",
   "id": "5d5dfbc7",
   "metadata": {},
   "source": [
    "This Python code checks if two sets, set1 and set2, have no elements in common and then prints the result. Here's how it works:\n",
    "\n",
    "1.set1 is defined as a set containing the elements {1, 2, 3, 4, 5}.\n",
    "\n",
    "2.set2 is defined as a set containing the elements {6, 7, 8, 9, 10}.\n",
    "\n",
    "3.The isdisjoint() method is used to determine if there are no common elements between set1 and set2. If two sets are disjoint, it means they have no elements in common.\n",
    "\n",
    "4.An if statement is used to check the result of set1.isdisjoint(set2). If this condition is True, it means the sets have no common elements, and the code inside the first block is executed.\n",
    "\n",
    "5.If the sets are disjoint (no common elements), the code prints \"The sets have no elements in common.\"\n",
    "\n",
    "6.If the sets are not disjoint (they share at least one element), the code prints \"The sets have some elements in common.\""
   ]
  },
  {
   "cell_type": "code",
   "execution_count": 166,
   "id": "ec17d8a7",
   "metadata": {},
   "outputs": [
    {
     "name": "stdout",
     "output_type": "stream",
     "text": [
      "Symmetric Difference: {1, 2, 3, 6, 7, 8}\n"
     ]
    }
   ],
   "source": [
    "# Question 19\n",
    "# Find the symmetric difference between two sets\n",
    "set1 = {1, 2, 3, 4, 5}\n",
    "set2 = {4, 5, 6, 7, 8}\n",
    "\n",
    "symmetric_diff = set1.symmetric_difference(set2)\n",
    "print(\"Symmetric Difference:\", symmetric_diff)"
   ]
  },
  {
   "cell_type": "markdown",
   "id": "58f99337",
   "metadata": {},
   "source": [
    "This Python code computes the symmetric difference between two sets, set1 and set2, and then prints the result. Here's how it works:\n",
    "\n",
    "1.set1 is defined as a set containing the elements {1, 2, 3, 4, 5}.\n",
    "\n",
    "2.set2 is defined as a set containing the elements {4, 5, 6, 7, 8}.\n",
    "\n",
    "3.The symmetric_difference() method is used on set1 to find the symmetric difference with set2. The symmetric difference of two sets contains elements that are in either of the sets, but not in their intersection.\n",
    "\n",
    "4.The result of the symmetric difference operation is stored in the variable symmetric_diff.\n",
    "\n",
    "5.The code prints \"Symmetric Difference:\" followed by the contents of the symmetric_diff set."
   ]
  },
  {
   "cell_type": "code",
   "execution_count": 167,
   "id": "edff4dbc",
   "metadata": {},
   "outputs": [
    {
     "name": "stdout",
     "output_type": "stream",
     "text": [
      "Updated set1: {1, 2, 3, 4, 5}\n"
     ]
    }
   ],
   "source": [
    "# Question 20\n",
    "# Update a set with elements from another set\n",
    "set1 = {1, 2, 3}\n",
    "set2 = {3, 4, 5}\n",
    "\n",
    "set1.update(set2)\n",
    "print(\"Updated set1:\", set1)"
   ]
  },
  {
   "cell_type": "markdown",
   "id": "dada0ed9",
   "metadata": {},
   "source": [
    "This Python code demonstrates how to update a set with elements from another set. Here's an explanation of the code:\n",
    "\n",
    "1.set1 is defined as a set containing the elements {1, 2, 3}.\n",
    "\n",
    "2.set2 is defined as a set containing the elements {3, 4, 5}.\n",
    "\n",
    "3.The update() method is used on set1 with set2 as the argument. This method updates set1 to include all elements from set2, effectively performing a union operation on the sets. After this operation, set1 will contain the elements {1, 2, 3, 4, 5}.\n",
    "\n",
    "4.The code prints \"Updated set1:\" followed by the contents of the updated set1."
   ]
  },
  {
   "cell_type": "code",
   "execution_count": 171,
   "id": "70f9955e",
   "metadata": {},
   "outputs": [
    {
     "name": "stdout",
     "output_type": "stream",
     "text": [
      "Set of the first 5 prime numbers is : {2, 3, 5, 7, 11}\n"
     ]
    }
   ],
   "source": [
    "# Question 21\n",
    "# Create a set of the first 5 prime numbers\n",
    "def is_prime(n):\n",
    "    if n <= 1:\n",
    "        return False\n",
    "    if n <= 3:\n",
    "        return True\n",
    "    if n % 2 == 0 or n % 3 == 0:\n",
    "        return False\n",
    "    i = 5\n",
    "    while i * i <= n:\n",
    "        if n % i == 0 or n % (i + 2) == 0:\n",
    "            return False\n",
    "        i += 6\n",
    "    return True\n",
    "\n",
    "prime_numbers_set = set()\n",
    "num = 2\n",
    "\n",
    "while len(prime_numbers_set) < 5:\n",
    "    if is_prime(num):\n",
    "        prime_numbers_set.add(num)\n",
    "    num += 1\n",
    "\n",
    "print(f\"Set of the first 5 prime numbers is : {prime_numbers_set}\")"
   ]
  },
  {
   "cell_type": "markdown",
   "id": "8a9f162a",
   "metadata": {},
   "source": [
    "This Python code creates a set containing the first 5 prime numbers. Here's how it works:\n",
    "\n",
    "1.The is_prime function is defined to check if a given number is prime. It uses a basic prime-checking algorithm. It returns True if the number is prime and False otherwise.\n",
    "\n",
    "2.An empty set prime_numbers_set is created to store the prime numbers.\n",
    "\n",
    "3.A variable num is initialized to 2. We start checking for prime numbers from 2 onwards.\n",
    "\n",
    "4.A while loop is used to find and add prime numbers to the prime_numbers_set. The loop continues until the set contains 5 prime numbers.\n",
    "\n",
    "5.Inside the loop, it checks if num is prime using the is_prime function. If num is prime, it adds it to the prime_numbers_set.\n",
    "\n",
    "6.The num is then incremented by 1, and the loop continues until the set contains 5 prime numbers.\n",
    "\n",
    "7.Finally, the code prints the set containing the first 5 prime numbers."
   ]
  },
  {
   "cell_type": "code",
   "execution_count": 172,
   "id": "f8e32c4f",
   "metadata": {},
   "outputs": [
    {
     "name": "stdout",
     "output_type": "stream",
     "text": [
      "The two sets are identical\n"
     ]
    }
   ],
   "source": [
    "# Question 22\n",
    "# Check if two sets are identical\n",
    "set1 = {1, 2, 3, 4, 5}\n",
    "set2 = {5, 4, 3, 2, 1}\n",
    "\n",
    "if set1 == set2:\n",
    "    print(\"The two sets are identical\")\n",
    "else:\n",
    "    print(\"The two sets are not identical\")"
   ]
  },
  {
   "cell_type": "markdown",
   "id": "7518d5d8",
   "metadata": {},
   "source": [
    "This Python code checks if two sets, set1 and set2, are identical. Here's how it works:\n",
    "\n",
    "1.Two sets, set1 and set2, are defined. These sets contain the same elements, but their order might be different.\n",
    "\n",
    "2.The code uses an if statement to compare set1 and set2. It checks if the sets are equal using the == operator.\n",
    "\n",
    "3.If the sets are equal (meaning they contain the same elements, regardless of the order), it prints \"The two sets are identical.\"\n",
    "\n",
    "4.If the sets are not equal, it prints \"The two sets are not identical.\""
   ]
  },
  {
   "cell_type": "code",
   "execution_count": 173,
   "id": "211dab84",
   "metadata": {},
   "outputs": [
    {
     "name": "stdout",
     "output_type": "stream",
     "text": [
      "frozenset({1, 2, 3, 4, 5})\n"
     ]
    }
   ],
   "source": [
    "# Question 23\n",
    "# Create a frozen set\n",
    "my_set = {1, 2, 3, 4, 5}\n",
    "frozen_set = frozenset(my_set)\n",
    "print(frozen_set)"
   ]
  },
  {
   "cell_type": "markdown",
   "id": "2405928d",
   "metadata": {},
   "source": [
    "This Python code creates a frozen set from a regular set and then prints the frozen set. Here's an explanation of each part:\n",
    "\n",
    "1.my_set is a regular set containing the elements {1, 2, 3, 4, 5}.\n",
    "\n",
    "2.The frozenset() constructor is used to create a frozen set from my_set. A frozen set is an immutable version of a set, which means its elements cannot be modified once it's created. In this case, frozen_set will contain the same elements as my_set.\n",
    "\n",
    "3.Finally, the print() function is used to display the frozen_set."
   ]
  },
  {
   "cell_type": "code",
   "execution_count": 174,
   "id": "617f1d2c",
   "metadata": {},
   "outputs": [
    {
     "name": "stdout",
     "output_type": "stream",
     "text": [
      "The two sets are disjoint (have no common elements)\n"
     ]
    }
   ],
   "source": [
    "# Question 24\n",
    "# Check if a set is disjoint with another set\n",
    "set1 = {1, 2, 3, 4, 5}\n",
    "set2 = {6, 7, 8, 9, 10}\n",
    "\n",
    "if set1.isdisjoint(set2):\n",
    "    print(\"The two sets are disjoint (have no common elements)\")\n",
    "else:\n",
    "    print(\"The two sets are not disjoint (have common elements)\")"
   ]
  },
  {
   "cell_type": "markdown",
   "id": "9c64ead1",
   "metadata": {},
   "source": [
    "This Python code checks whether two sets, set1 and set2, are disjoint, which means they have no common elements. Here's a breakdown of the code:\n",
    "\n",
    "1.set1 = {1, 2, 3, 4, 5}: The first set, set1, is defined and contains the elements 1, 2, 3, 4, and 5.\n",
    "\n",
    "2.set2 = {6, 7, 8, 9, 10}: The second set, set2, is defined and contains the elements 6, 7, 8, 9, and 10.\n",
    "\n",
    "3.if set1.isdisjoint(set2):: This line checks if set1 is disjoint from set2 using the isdisjoint() method. The isdisjoint() method returns True if the sets have no common elements and False if they do.\n",
    "\n",
    "4.If the condition is True, meaning that the sets are disjoint and have no common elements, the code prints the message \"The two sets are disjoint (have no common elements).\"\n",
    "\n",
    "5.If the condition is False, meaning that the sets are not disjoint and have common elements, the code prints the message \"The two sets are not disjoint (have common elements).\""
   ]
  },
  {
   "cell_type": "code",
   "execution_count": 175,
   "id": "d426cc52",
   "metadata": {},
   "outputs": [
    {
     "name": "stdout",
     "output_type": "stream",
     "text": [
      "{1, 4, 9, 16, 25}\n"
     ]
    }
   ],
   "source": [
    "# Question 25\n",
    "# Create a set of squares of numbers from 1 to 5\n",
    "squares_set = {x**2 for x in range(1, 6)}\n",
    "print(squares_set)"
   ]
  },
  {
   "cell_type": "markdown",
   "id": "3a52f54a",
   "metadata": {},
   "source": [
    "This Python code creates a set named squares_set containing the squares of numbers from 1 to 5 using a set comprehension. Here's an explanation of each part of the code:\n",
    "\n",
    "1.{x**2 for x in range(1, 6)}: This is a set comprehension. It iterates through a range of numbers from 1 to 5 (inclusive) denoted by range(1, 6). For each number x in this range, it calculates the square of x using the expression x**2 and adds that squared value to the set.\n",
    "\n",
    "2.squares_set: This is the name of the set where the squared values will be stored.\n",
    "\n",
    "3.print(squares_set): This line prints the contents of the squares_set set to the console."
   ]
  },
  {
   "cell_type": "code",
   "execution_count": 185,
   "id": "0448d833",
   "metadata": {},
   "outputs": [
    {
     "name": "stdout",
     "output_type": "stream",
     "text": [
      "{2, 4, 6}\n"
     ]
    }
   ],
   "source": [
    "# Question 26\n",
    "# Filter out all even numbers from a set\n",
    "original_set = {1, 2, 3, 4, 5, 6, 7}\n",
    "even_numbers_set = set(filter(lambda x: x % 2 == 0, original_set))\n",
    "print(even_numbers_set)"
   ]
  },
  {
   "cell_type": "markdown",
   "id": "50c197f8",
   "metadata": {},
   "source": [
    "This Python code filters out all even numbers from the original_set and creates a new set called even_numbers_set. Here's an explanation of each part of the code:\n",
    "\n",
    "1.original_set = {1, 2, 3, 4, 5, 6, 7}: This line defines the original_set, which is the set containing integers from 1 to 7.\n",
    "\n",
    "2.set(filter(lambda x: x % 2 == 0, original_set)): This line filters the elements in original_set using the filter() function and a lambda function. The filter() function applies the provided lambda function to each element of original_set and retains only those elements for which the lambda function evaluates to True.\n",
    "lambda x: x % 2 == 0 is the lambda function. It checks if a number x is even by performing the modulo operation (x % 2) and checking if the result is equal to 0. If it's equal to 0, the lambda function returns True, indicating that the number is even.\n",
    "\n",
    "3.even_numbers_set: This is the name of the new set that will store the even numbers filtered from the original_set.\n",
    "\n",
    "4.print(even_numbers_set): This line prints the contents of the even_numbers_set set to the console."
   ]
  },
  {
   "cell_type": "code",
   "execution_count": 186,
   "id": "9f5786b2",
   "metadata": {},
   "outputs": [
    {
     "name": "stdout",
     "output_type": "stream",
     "text": [
      "{2, 4, 6, 8, 10}\n"
     ]
    }
   ],
   "source": [
    "# Question 27\n",
    "# Multiply all elements in a set by 2\n",
    "original_set = {1, 2, 3, 4, 5}\n",
    "result_set = {x * 2 for x in original_set}\n",
    "print(result_set)"
   ]
  },
  {
   "cell_type": "markdown",
   "id": "4b426130",
   "metadata": {},
   "source": [
    "This Python code multiplies all elements in the original_set by 2 and stores the results in a new set called result_set. Here's an explanation of each part of the code:\n",
    "\n",
    "1.original_set = {1, 2, 3, 4, 5}: This line defines the original_set, which is the set containing integers from 1 to 5.\n",
    "\n",
    "2.{x * 2 for x in original_set}: This is a set comprehension. It iterates through each element x in the original_set. For each element, it multiplies it by 2 using the expression x * 2, and adds the result to the result_set.\n",
    "\n",
    "3.result_set: This is the name of the new set that will store the results of multiplying each element in the original_set by 2.\n",
    "\n",
    "4.print(result_set): This line prints the contents of the result_set set to the console."
   ]
  },
  {
   "cell_type": "code",
   "execution_count": 187,
   "id": "faacf9cd",
   "metadata": {},
   "outputs": [
    {
     "name": "stdout",
     "output_type": "stream",
     "text": [
      "{34, 67, 11, 82, 52, 89, 59, 31, 95}\n"
     ]
    }
   ],
   "source": [
    "# Question 28\n",
    "# Create a set of random numbers\n",
    "import random\n",
    "\n",
    "start_range = 1\n",
    "end_range = 100\n",
    "num_random_numbers = 10\n",
    "\n",
    "random_set = set(random.randint(start_range, end_range) for _ in range(num_random_numbers))\n",
    "print(random_set)"
   ]
  },
  {
   "cell_type": "markdown",
   "id": "7016b1a9",
   "metadata": {},
   "source": [
    "This Python code creates a set called random_set containing 10 random numbers within a specified range. Here's an explanation of each part of the code:\n",
    "\n",
    "1.import random: This line imports the random module, which provides functions for generating random numbers.\n",
    "\n",
    "2.start_range = 1 and end_range = 100: These lines define the range for generating random numbers. In this case, random numbers will be generated between 1 (inclusive) and 100 (inclusive).\n",
    "\n",
    "3.num_random_numbers = 10: This line specifies that you want to generate 10 random numbers.\n",
    "\n",
    "4.random_set = set(random.randint(start_range, end_range) for _ in range(num_random_numbers)): This is a generator expression used within a set comprehension. It generates num_random_numbers random integers using random.randint(start_range, end_range) for each iteration. The result is a set containing 10 random integers within the specified range.\n",
    "random.randint(start_range, end_range) generates a random integer between start_range and end_range, inclusive.\n",
    "\n",
    "5.print(random_set): This line prints the contents of the random_set set to the console."
   ]
  },
  {
   "cell_type": "code",
   "execution_count": 188,
   "id": "88df9c8d",
   "metadata": {},
   "outputs": [
    {
     "name": "stdout",
     "output_type": "stream",
     "text": [
      "The set is empty\n"
     ]
    }
   ],
   "source": [
    "# Question 29\n",
    "# Check if a set is empty\n",
    "my_set = set()\n",
    "\n",
    "if len(my_set) == 0:\n",
    "    print(\"The set is empty\")\n",
    "else:\n",
    "    print(\"The set is not empty\")"
   ]
  },
  {
   "cell_type": "markdown",
   "id": "00906e75",
   "metadata": {},
   "source": [
    "This Python code checks whether a set, my_set, is empty or not and then prints a corresponding message. Here's an explanation of each part of the code:\n",
    "\n",
    "1.my_set = set(): This line initializes an empty set called my_set. It's an empty set because there are no elements inside it.\n",
    "\n",
    "2.if len(my_set) == 0:: This is an if statement that checks the length (number of elements) of the my_set set using the len() function. If the length is equal to 0, it means the set is empty.\n",
    "\n",
    "3.print(\"The set is empty\"): If the condition in the if statement is true (i.e., the set is empty), this line prints the message \"The set is empty.\"\n",
    "\n",
    "4.else:: If the condition in the if statement is false (i.e., the set is not empty), the code proceeds to the else block.\n",
    "\n",
    "5.print(\"The set is not empty\"): In the else block, this line prints the message \"The set is not empty.\""
   ]
  },
  {
   "cell_type": "code",
   "execution_count": 189,
   "id": "74cba00e",
   "metadata": {},
   "outputs": [
    {
     "name": "stdout",
     "output_type": "stream",
     "text": [
      "{frozenset({3, 4, 5}), frozenset({1, 2})}\n"
     ]
    }
   ],
   "source": [
    "# Question 30\n",
    "# Create a nested set (hint: use frozenset)\n",
    "inner_set1 = frozenset({1, 2})\n",
    "inner_set2 = frozenset({3, 4, 5})\n",
    "\n",
    "nested_set = {inner_set1, inner_set2}\n",
    "print(nested_set)"
   ]
  },
  {
   "cell_type": "markdown",
   "id": "7ab41227",
   "metadata": {},
   "source": [
    "This Python code creates a nested set named nested_set using frozenset. Here's an explanation of each part of the code:\n",
    "\n",
    "1.inner_set1 = frozenset({1, 2}) and inner_set2 = frozenset({3, 4, 5}): These lines create two frozensets, inner_set1 and inner_set2. Frozensets are similar to sets but are immutable, meaning their elements cannot be modified after creation. In this case, inner_set1 contains the elements 1 and 2, and inner_set2 contains the elements 3, 4, and 5.\n",
    "\n",
    "2.nested_set = {inner_set1, inner_set2}: This line creates a set named nested_set that contains the two frozensets inner_set1 and inner_set2. This results in a nested set where the outer set contains two inner sets.\n",
    "\n",
    "3.print(nested_set): This line prints the contents of the nested_set to the console."
   ]
  },
  {
   "cell_type": "code",
   "execution_count": 190,
   "id": "074f3ed3",
   "metadata": {},
   "outputs": [
    {
     "name": "stdout",
     "output_type": "stream",
     "text": [
      "{1, 2, 4, 5}\n"
     ]
    }
   ],
   "source": [
    "# Question 31\n",
    "# Remove an element from a set using the discard method\n",
    "my_set = {1, 2, 3, 4, 5}\n",
    "my_set.discard(3)\n",
    "print(my_set)"
   ]
  },
  {
   "cell_type": "markdown",
   "id": "ea4dee5b",
   "metadata": {},
   "source": [
    "This Python code demonstrates how to remove an element from a set using the discard() method. Here's an explanation of each part of the code:\n",
    "\n",
    "1.my_set = {1, 2, 3, 4, 5}: This line creates a set called my_set containing the elements 1, 2, 3, 4, and 5.\n",
    "\n",
    "2.my_set.discard(3): The discard() method is used to remove the element 3 from the my_set set. If the element is present in the set, it will be removed. If the element is not in the set, no error will occur (unlike the remove() method, which raises an error if the element is not found).\n",
    "\n",
    "3.print(my_set): This line prints the contents of the modified my_set to the console."
   ]
  },
  {
   "cell_type": "code",
   "execution_count": 50,
   "id": "b12853e2",
   "metadata": {
    "scrolled": true
   },
   "outputs": [
    {
     "name": "stdout",
     "output_type": "stream",
     "text": [
      "The sets are equal.\n",
      "set2 is a subset of set1.\n",
      "set1 is a superset of set2.\n",
      "The sets have common elements.\n"
     ]
    }
   ],
   "source": [
    "# Question 32\n",
    "# Compare two sets\n",
    "# Equality check\n",
    "set1 = {1, 2, 3}\n",
    "set2 = {3, 2, 1}\n",
    "\n",
    "if set1 == set2:\n",
    "    print(\"The sets are equal.\")\n",
    "else:\n",
    "    print(\"The sets are not equal.\")\n",
    "    \n",
    "# subset check\n",
    "set1 = {1, 2, 3}\n",
    "set2 = {1, 2}\n",
    "\n",
    "if set2 <= set1:\n",
    "    print(\"set2 is a subset of set1.\")\n",
    "else:\n",
    "    print(\"set2 is not a subset of set1.\")\n",
    "    \n",
    "# superset check\n",
    "set1 = {1, 2, 3}\n",
    "set2 = {1, 2}\n",
    "\n",
    "if set1 >= set2:\n",
    "    print(\"set1 is a superset of set2.\")\n",
    "else:\n",
    "    print(\"set1 is not a superset of set2.\")\n",
    "    \n",
    "# intersection check\n",
    "set1 = {1, 2, 3}\n",
    "set2 = {3, 4, 5}\n",
    "\n",
    "if set1 & set2:\n",
    "    print(\"The sets have common elements.\")\n",
    "else:\n",
    "    print(\"The sets have no common elements.\")"
   ]
  },
  {
   "cell_type": "markdown",
   "id": "a487be4a",
   "metadata": {},
   "source": [
    "This Python code demonstrates various comparisons and checks between sets. Let's break down each part of the code:\n",
    "\n",
    "Equality Check:\n",
    "\n",
    "1.set1 = {1, 2, 3}: Defines set1 as a set containing elements 1, 2, and 3.\n",
    "\n",
    "2.set2 = {3, 2, 1}: Defines set2 as a set containing elements 3, 2, and 1.\n",
    "\n",
    "3.if set1 == set2:: Compares set1 and set2 to check if they are equal. Sets are unordered, so this comparison considers the elements' equality, not their order.\n",
    "\n",
    "4.If the condition is true (sets are equal), it prints \"The sets are equal.\"\n",
    "\n",
    "5.If the condition is false (sets are not equal), it prints \"The sets are not equal.\"\n",
    "\n",
    "\n",
    "Subset Check:\n",
    "\n",
    "1.set1 = {1, 2, 3}: Defines set1 as a set containing elements 1, 2, and 3.\n",
    "\n",
    "2.set2 = {1, 2}: Defines set2 as a set containing elements 1 and 2.\n",
    "\n",
    "3.if set2 <= set1:: Checks if set2 is a subset of set1 by using the <= operator. It verifies if all elements of set2 are present in set1.\n",
    "\n",
    "4.If the condition is true (set2 is a subset), it prints \"set2 is a subset of set1.\"\n",
    "\n",
    "5.If the condition is false (set2 is not a subset), it prints \"set2 is not a subset of set1.\"\n",
    "\n",
    "\n",
    "Superset Check:\n",
    "\n",
    "1.set1 = {1, 2, 3}: Defines set1 as a set containing elements 1, 2, and 3.\n",
    "\n",
    "2.set2 = {1, 2}: Defines set2 as a set containing elements 1 and 2.\n",
    "\n",
    "3.if set1 >= set2:: Checks if set1 is a superset of set2 by using the >= operator. It verifies if all elements of set2 are present in set1.\n",
    "\n",
    "4.If the condition is true (set1 is a superset), it prints \"set1 is a superset of set2.\"\n",
    "\n",
    "5.If the condition is false (set1 is not a superset), it prints \"set1 is not a superset of set2.\"\n",
    "\n",
    "\n",
    "Intersection Check:\n",
    "\n",
    "1.set1 = {1, 2, 3}: Defines set1 as a set containing elements 1, 2, and 3.\n",
    "\n",
    "2.set2 = {3, 4, 5}: Defines set2 as a set containing elements 3, 4, and 5.\n",
    "\n",
    "3.if set1 & set2:: Checks if there are common elements between set1 and set2 by using the intersection operator &. If there are any common elements, the condition is true.\n",
    "\n",
    "4.If the condition is true (sets have common elements), it prints \"The sets have common elements.\"\n",
    "\n",
    "5.If the condition is false (sets have no common elements), it prints \"The sets have no common elements.\"\n",
    "\n",
    "\n",
    "Each check is used to compare or verify relationships between sets, whether they are equal, subsets, supersets, or have common elements."
   ]
  },
  {
   "cell_type": "code",
   "execution_count": 192,
   "id": "1a892df4",
   "metadata": {},
   "outputs": [
    {
     "name": "stdout",
     "output_type": "stream",
     "text": [
      "{'e', 'l', 'h', 'o'}\n"
     ]
    }
   ],
   "source": [
    "# Question 33\n",
    "# Create a set from a string\n",
    "input_string = \"hello\"\n",
    "char_set = {char for char in input_string}\n",
    "print(char_set)"
   ]
  },
  {
   "cell_type": "markdown",
   "id": "59571c0b",
   "metadata": {},
   "source": [
    "This Python code creates a set from a string in Python using a set comprehension. Here's how it works:\n",
    "\n",
    "1.input_string = \"hello\": This line defines a string named input_string that contains the text from which you want to create a set.\n",
    "\n",
    "2.char_set = {char for char in input_string}: This is a set comprehension that generates a set named char_set containing unique characters from the input_string.\n",
    "It iterates through each character (char) in the input_string.\n",
    "For each character, it adds it to the set. Since sets do not allow duplicate elements, the set will automatically eliminate duplicate characters, resulting in a set of unique characters from the string.\n",
    "\n",
    "3.print(char_set): Finally, the code prints the char_set, which contains the unique characters from the string."
   ]
  },
  {
   "cell_type": "code",
   "execution_count": 193,
   "id": "dc33f585",
   "metadata": {},
   "outputs": [
    {
     "name": "stdout",
     "output_type": "stream",
     "text": [
      "{1, 2, 3, 4, 5}\n"
     ]
    }
   ],
   "source": [
    "# Question 34\n",
    "# Convert a set of strings to a set of integers\n",
    "string_set = {'1', '2', '3', '4', '5'}\n",
    "integer_set = {int(x) for x in string_set}\n",
    "print(integer_set)"
   ]
  },
  {
   "cell_type": "markdown",
   "id": "5ae97b91",
   "metadata": {},
   "source": [
    "This Python code converts a set of strings into a set of integers in Python using a set comprehension. Here's how it works:\n",
    "\n",
    "1.string_set = {'1', '2', '3', '4', '5'}: This line defines a set named string_set that contains string representations of numbers.\n",
    "\n",
    "2.integer_set = {int(x) for x in string_set}: This is a set comprehension that generates a new set named integer_set containing integers.\n",
    "It iterates through each element x in the string_set.\n",
    "For each element, it converts it to an integer using the int() function and adds the integer to the integer_set.\n",
    "\n",
    "3.print(integer_set): Finally, the code prints the integer_set, which contains the integers converted from the original string set."
   ]
  },
  {
   "cell_type": "code",
   "execution_count": 194,
   "id": "adc50a40",
   "metadata": {},
   "outputs": [
    {
     "name": "stdout",
     "output_type": "stream",
     "text": [
      "{'3', '5', '4', '2', '1'}\n"
     ]
    }
   ],
   "source": [
    "# Question 35\n",
    "# Convert a set of integers to a set of strings\n",
    "integer_set = {1, 2, 3, 4, 5}\n",
    "string_set = {str(x) for x in integer_set}\n",
    "print(string_set)"
   ]
  },
  {
   "cell_type": "markdown",
   "id": "cef750d3",
   "metadata": {},
   "source": [
    "This Python code converts a set of integers into a set of strings in Python using a set comprehension. Here's how it works:\n",
    "\n",
    "1.integer_set = {1, 2, 3, 4, 5}: This line defines a set named integer_set that contains integer values.\n",
    "\n",
    "2.string_set = {str(x) for x in integer_set}: This is a set comprehension that generates a new set named string_set containing string representations of integers.\n",
    "It iterates through each integer x in the integer_set.\n",
    "For each integer, it converts it to a string using the str() function and adds the string to the string_set.\n",
    "\n",
    "3.print(string_set): Finally, the code prints the string_set, which contains the strings converted from the original integer set."
   ]
  },
  {
   "cell_type": "code",
   "execution_count": 195,
   "id": "c293b574",
   "metadata": {},
   "outputs": [
    {
     "name": "stdout",
     "output_type": "stream",
     "text": [
      "{1, 2, 3, 4, 5}\n"
     ]
    }
   ],
   "source": [
    "# Question 36\n",
    "# Create a set from a tuple\n",
    "my_tuple = (1, 2, 3, 4, 5)\n",
    "my_set = set(my_tuple)\n",
    "print(my_set)"
   ]
  },
  {
   "cell_type": "markdown",
   "id": "457c748e",
   "metadata": {},
   "source": [
    "This Python code creates a set from a tuple in Python. Here's how it works:\n",
    "\n",
    "1.my_tuple = (1, 2, 3, 4, 5): This line defines a tuple named my_tuple containing a sequence of values.\n",
    "\n",
    "2.my_set = set(my_tuple): This line converts the my_tuple into a set named my_set. To do this, it uses the set() constructor, which takes an iterable (in this case, a tuple) as an argument and creates a set with the elements from that iterable. The resulting set, my_set, contains the unique elements from the tuple.\n",
    "\n",
    "3.print(my_set): Finally, the code prints the my_set, which contains the unique elements from the original tuple."
   ]
  },
  {
   "cell_type": "code",
   "execution_count": 196,
   "id": "503b5b3c",
   "metadata": {},
   "outputs": [
    {
     "name": "stdout",
     "output_type": "stream",
     "text": [
      "(1, 2, 3, 4, 5)\n"
     ]
    }
   ],
   "source": [
    "# Question 37\n",
    "# Convert a set to a tuple\n",
    "my_set = {1, 2, 3, 4, 5}\n",
    "my_tuple = tuple(my_set)\n",
    "print(my_tuple)"
   ]
  },
  {
   "cell_type": "markdown",
   "id": "44900496",
   "metadata": {},
   "source": [
    "This Python code converts a set to a tuple in Python. Here's how it works:\n",
    "\n",
    "1.my_set = {1, 2, 3, 4, 5}: This line defines a set named my_set containing a collection of unique elements.\n",
    "\n",
    "2.my_tuple = tuple(my_set): This line converts the my_set into a tuple named my_tuple. It uses the tuple() constructor, which takes an iterable (in this case, a set) as an argument and creates a tuple with the elements from that iterable. The resulting tuple, my_tuple, contains the same elements as the set, preserving their order.\n",
    "\n",
    "3.print(my_tuple): Finally, the code prints the my_tuple, which contains the elements from the original set as a tuple."
   ]
  },
  {
   "cell_type": "code",
   "execution_count": 197,
   "id": "2c32bebf",
   "metadata": {},
   "outputs": [
    {
     "name": "stdout",
     "output_type": "stream",
     "text": [
      "Maximum value in the set: 9\n"
     ]
    }
   ],
   "source": [
    "# Question 38\n",
    "# Find the maximum value in a set\n",
    "my_set = {1, 3, 5, 7, 9}\n",
    "max_value = max(my_set)\n",
    "print(\"Maximum value in the set:\", max_value)"
   ]
  },
  {
   "cell_type": "markdown",
   "id": "dc385c8c",
   "metadata": {},
   "source": [
    "This Python code finds the maximum value in a set in Python using the max() function. Here's how it works:\n",
    "\n",
    "1.my_set = {1, 3, 5, 7, 9}: This line defines a set named my_set containing a collection of elements.\n",
    "\n",
    "2.max_value = max(my_set): This line uses the max() function to find the maximum value in the set my_set. The max() function takes an iterable (in this case, a set) as its argument and returns the maximum element in that iterable.\n",
    "\n",
    "3.print(\"Maximum value in the set:\", max_value): Finally, the code prints the maximum value found in the set, along with a descriptive message."
   ]
  },
  {
   "cell_type": "code",
   "execution_count": 198,
   "id": "729cf39d",
   "metadata": {},
   "outputs": [
    {
     "name": "stdout",
     "output_type": "stream",
     "text": [
      "Minimum value in the set: 1\n"
     ]
    }
   ],
   "source": [
    "# Question 39\n",
    "# Find the minimum value in a set\n",
    "my_set = {1, 3, 5, 7, 9}\n",
    "min_value = min(my_set)\n",
    "print(\"Minimum value in the set:\", min_value)"
   ]
  },
  {
   "cell_type": "markdown",
   "id": "346cf383",
   "metadata": {},
   "source": [
    "This Python code finds the minimum value in a set in Python using the min() function. Here's how it works:\n",
    "\n",
    "1.my_set = {1, 3, 5, 7, 9}: This line defines a set named my_set containing a collection of elements.\n",
    "\n",
    "2.min_value = min(my_set): This line uses the min() function to find the minimum value in the set my_set. The min() function takes an iterable (in this case, a set) as its argument and returns the minimum element in that iterable.\n",
    "\n",
    "3.print(\"Minimum value in the set:\", min_value): Finally, the code prints the minimum value found in the set, along with a descriptive message."
   ]
  },
  {
   "cell_type": "code",
   "execution_count": 208,
   "id": "420c17d3",
   "metadata": {},
   "outputs": [
    {
     "name": "stdout",
     "output_type": "stream",
     "text": [
      "Enter a string: hello\n",
      "Set created from user input: {'e', 'l', 'h', 'o'}\n"
     ]
    }
   ],
   "source": [
    "# Question 40\n",
    "# Create a set from user input\n",
    "user_input = input(\"Enter a string: \")\n",
    "my_set = set(user_input)\n",
    "print(\"Set created from user input:\", my_set)"
   ]
  },
  {
   "cell_type": "markdown",
   "id": "acec12c7",
   "metadata": {},
   "source": [
    "This Python code creates a set from user input in Python. Here's how it works:\n",
    "\n",
    "1.user_input = input(\"Enter a string: \"): This line prompts the user to enter a string by displaying the message \"Enter a string: \". The input() function reads the user's input as a string and assigns it to the user_input variable.\n",
    "\n",
    "2.my_set = set(user_input): This line creates a set named my_set from the characters in the user's input string. It uses the set() constructor to convert the string into a set. The resulting set, my_set, contains unique characters from the user's input.\n",
    "\n",
    "3.print(\"Set created from user input:\", my_set): Finally, the code prints the set created from the user's input, along with a descriptive message."
   ]
  },
  {
   "cell_type": "code",
   "execution_count": 1,
   "id": "cbf40062",
   "metadata": {},
   "outputs": [
    {
     "name": "stdout",
     "output_type": "stream",
     "text": [
      "Intersection of these two sets is empty\n"
     ]
    }
   ],
   "source": [
    "# Question 41\n",
    "# Check if the intersection of two sets is empty\n",
    "set1 = {1,2,3,4}\n",
    "set2 = {5,6,7,8}\n",
    "if set1.intersection(set2) == set():\n",
    "    print('Intersection of these two sets is empty')\n",
    "else:\n",
    "    print('Intersection of these two sets is not empty')"
   ]
  },
  {
   "cell_type": "markdown",
   "id": "c0c051dd",
   "metadata": {},
   "source": [
    "This Python code checks if the intersection of two sets is empty in Python. Here's how it works:\n",
    "\n",
    "1.set1 = {1, 2, 3, 4}: This line defines the first set, set1, containing the elements {1, 2, 3, 4}.\n",
    "\n",
    "2.set2 = {5, 6, 7, 8}: This line defines the second set, set2, containing the elements {5, 6, 7, 8}.\n",
    "\n",
    "3.if set1.intersection(set2) == set():: This line checks if the intersection of set1 and set2 is an empty set. It uses the .intersection() method to find the common elements between the two sets, and then it compares the result to an empty set created with set(). If the intersection is empty, it means that the two sets have no common elements.\n",
    "\n",
    "4.If the intersection is empty, the code prints the message \"Intersection of these two sets is empty.\" Otherwise, it prints \"Intersection of these two sets is not empty.\""
   ]
  },
  {
   "cell_type": "code",
   "execution_count": 3,
   "id": "87a84f11",
   "metadata": {},
   "outputs": [
    {
     "name": "stdout",
     "output_type": "stream",
     "text": [
      "{0, 1, 2, 3, 5}\n"
     ]
    }
   ],
   "source": [
    "# Question 42\n",
    "# Create a set of the first 5 Fibonacci numbers\n",
    "fibonacci_set = set()\n",
    "\n",
    "a, b = 0, 1\n",
    "for _ in range(6):\n",
    "    fibonacci_set.add(a)\n",
    "    a, b = b, a + b\n",
    "\n",
    "print(fibonacci_set)"
   ]
  },
  {
   "cell_type": "markdown",
   "id": "1e95de1e",
   "metadata": {},
   "source": [
    "This Python code creates a set containing the first 5 Fibonacci numbers and then prints the set. Here's an explanation of each part of the code:\n",
    "\n",
    "1.fibonacci_set = set(): This line initializes an empty set called fibonacci_set. This set will eventually contain the first 5 Fibonacci numbers.\n",
    "\n",
    "2.a, b = 0, 1: This line initializes two variables, a and b, with the values 0 and 1. These variables are used to calculate the Fibonacci sequence.\n",
    "\n",
    "3.The for loop runs 6 times using range(6). It generates values from 0 to 5, inclusive.\n",
    "\n",
    "4.Inside the loop, the next Fibonacci number is calculated by adding a and b. The value of a is updated to b, and the value of b is updated to the sum of the previous a and b. This is how the Fibonacci sequence is generated.\n",
    "\n",
    "5.The add() method is used to add the value of a (the current Fibonacci number) to the fibonacci_set.\n",
    "\n",
    "6.After the loop completes, fibonacci_set will contain the first 5 Fibonacci numbers.\n",
    "\n",
    "7.Finally, the print(fibonacci_set) statement is used to display the set of Fibonacci numbers."
   ]
  },
  {
   "cell_type": "code",
   "execution_count": 213,
   "id": "f4bd0170",
   "metadata": {},
   "outputs": [
    {
     "name": "stdout",
     "output_type": "stream",
     "text": [
      "Original List: [1, 2, 2, 3, 4, 4, 5]\n",
      "List with Duplicates Removed: [1, 2, 3, 4, 5]\n"
     ]
    }
   ],
   "source": [
    "# Question 43\n",
    "# Remove duplicates from a list using sets\n",
    "my_list = [1, 2, 2, 3, 4, 4, 5]\n",
    "unique_list = list(set(my_list))\n",
    "\n",
    "print(\"Original List:\", my_list)\n",
    "print(\"List with Duplicates Removed:\", unique_list)"
   ]
  },
  {
   "cell_type": "markdown",
   "id": "52f80f11",
   "metadata": {},
   "source": [
    "This Python code removes duplicates from a list using sets in Python. Here's how it works:\n",
    "\n",
    "1.my_list = [1, 2, 2, 3, 4, 4, 5]: This line defines the original list my_list, which contains duplicate elements.\n",
    "\n",
    "2.unique_list = list(set(my_list)): This line creates a set from my_list using set(my_list). Since sets only store unique elements, any duplicates in my_list are automatically removed. Then, the code converts the set back to a list using list() to obtain a list without duplicates, and assigns it to the variable unique_list.\n",
    "\n",
    "3.print(\"Original List:\", my_list): This line prints the original list with duplicates.\n",
    "\n",
    "4.print(\"List with Duplicates Removed:\", unique_list): This line prints the list with duplicates removed, which is stored in the unique_list variable."
   ]
  },
  {
   "cell_type": "code",
   "execution_count": 214,
   "id": "e0ba5313",
   "metadata": {},
   "outputs": [
    {
     "name": "stdout",
     "output_type": "stream",
     "text": [
      "The sets have the same elements, regardless of count.\n"
     ]
    }
   ],
   "source": [
    "# Question 44\n",
    "# Check if two sets have the same elements, regardless of their count\n",
    "set1 = {1, 2, 3, 4, 5}\n",
    "set2 = {5, 4, 3, 2, 1}\n",
    "\n",
    "if set1 == set2:\n",
    "    print(\"The sets have the same elements, regardless of count.\")\n",
    "else:\n",
    "    print(\"The sets do not have the same elements.\")"
   ]
  },
  {
   "cell_type": "markdown",
   "id": "5c1cd7bc",
   "metadata": {},
   "source": [
    "This Python code checks whether two sets, set1 and set2, have the same elements, regardless of their count. Here's how it works:\n",
    "\n",
    "1.set1 = {1, 2, 3, 4, 5}: This line defines the first set, set1, with elements 1 through 5, in a specific order.\n",
    "\n",
    "2.set2 = {5, 4, 3, 2, 1}: This line defines the second set, set2, with the same elements as set1, but in a different order. Sets are unordered collections, so the order of elements doesn't matter.\n",
    "\n",
    "3.The code then compares set1 and set2 using the == operator, which checks if the two sets are equal. Since sets are unordered and contain only unique elements, the order of elements and the number of times an element appears are not considered. If the sets have the same elements, the condition is True, and the code inside the if block is executed.\n",
    "\n",
    "4.print(\"The sets have the same elements, regardless of count.\"): If the sets are equal, this line prints a message indicating that the sets have the same elements, regardless of their count.\n",
    "\n",
    "5.else:: If the sets are not equal, the code inside the else block is executed.\n",
    "\n",
    "6.print(\"The sets do not have the same elements.\"): In this case, the code prints a message indicating that the sets do not have the same elements."
   ]
  },
  {
   "cell_type": "code",
   "execution_count": 215,
   "id": "d81d7b53",
   "metadata": {},
   "outputs": [
    {
     "name": "stdout",
     "output_type": "stream",
     "text": [
      "{1, 2, 4, 8, 16}\n"
     ]
    }
   ],
   "source": [
    "# Question 45\n",
    "# Create a set of the first `n` powers of 2\n",
    "n = 5\n",
    "powers_of_2 = {2 ** i for i in range(n)}\n",
    "print(powers_of_2)"
   ]
  },
  {
   "cell_type": "markdown",
   "id": "1a2cd5ef",
   "metadata": {},
   "source": [
    "This Python code creates a set called powers_of_2 that contains the first n powers of 2, where n is set to 5. Here's how the code works:\n",
    "\n",
    "1.n = 5: This line initializes a variable n with the value 5, indicating that we want to find the first 5 powers of 2.\n",
    "\n",
    "2.powers_of_2 = {2 ** i for i in range(n)}: This is a set comprehension. It iterates over the numbers from 0 to n-1 (i.e., 0, 1, 2, 3, 4) using for i in range(n). For each value of i, it calculates 2 ** i, which represents 2 raised to the power of i, and adds that result to the set powers_of_2.\n",
    "When i is 0, 2 ** 0 is 1.\n",
    "When i is 1, 2 ** 1 is 2.\n",
    "When i is 2, 2 ** 2 is 4.\n",
    "When i is 3, 2 ** 3 is 8.\n",
    "When i is 4, 2 ** 4 is 16.\n",
    "\n",
    "3.print(powers_of_2): Finally, this line prints the set powers_of_2 that contains the first 5 powers of 2."
   ]
  },
  {
   "cell_type": "code",
   "execution_count": 220,
   "id": "ececb55d",
   "metadata": {},
   "outputs": [
    {
     "name": "stdout",
     "output_type": "stream",
     "text": [
      "Common elements: [3, 4, 5]\n"
     ]
    }
   ],
   "source": [
    "# Question 46\n",
    "# Find the common elements between a set and a list\n",
    "my_set = {1, 2, 3, 4, 5}\n",
    "my_list = [3, 4, 5, 6, 7]\n",
    "\n",
    "common_elements = my_set.intersection(my_list)\n",
    "common_elements_list = list(common_elements)\n",
    "print(\"Common elements:\", common_elements_list)"
   ]
  },
  {
   "cell_type": "markdown",
   "id": "b4023d6a",
   "metadata": {},
   "source": [
    "This Python code finds the common elements between a set (my_set) and a list (my_list) and then converts the result back into a list. Here's how the code works:\n",
    "\n",
    "1.my_set = {1, 2, 3, 4, 5}: This line creates a set called my_set containing elements 1, 2, 3, 4, and 5.\n",
    "\n",
    "2.my_list = [3, 4, 5, 6, 7]: This line creates a list called my_list containing elements 3, 4, 5, 6, and 7.\n",
    "\n",
    "3.common_elements = my_set.intersection(my_list): This line uses the intersection method to find the common elements between my_set and my_list. The result is stored in the common_elements variable.\n",
    "\n",
    "4.common_elements_list = list(common_elements): To convert the common elements back into a list, this line uses the list constructor, passing in the common_elements set. The result is stored in the common_elements_list variable.\n",
    "\n",
    "5.print(\"Common elements:\", common_elements_list): Finally, this line prints the list common_elements_list, which contains the common elements between the set and the list."
   ]
  },
  {
   "cell_type": "code",
   "execution_count": 222,
   "id": "00b5072f",
   "metadata": {},
   "outputs": [
    {
     "name": "stdout",
     "output_type": "stream",
     "text": [
      "The first 5 triangular numbers are:\n",
      "{1, 3, 6, 10, 15}\n"
     ]
    }
   ],
   "source": [
    "# Question 47\n",
    "# Create a set of the first `n` triangular numbers\n",
    "n = 5\n",
    "triangular_numbers = {i * (i + 1) // 2 for i in range(1, n + 1)}\n",
    "print(\"The first\", n, \"triangular numbers are:\")\n",
    "print(triangular_numbers)"
   ]
  },
  {
   "cell_type": "markdown",
   "id": "9dd701ed",
   "metadata": {},
   "source": [
    "This Python code generates a set of the first n triangular numbers and then prints them. Triangular numbers are a sequence of numbers that can be represented as dots arranged in an equilateral triangle. Here's how the code works:\n",
    "\n",
    "1.n = 5: This line sets the variable n to 5, indicating that we want to find the first 5 triangular numbers.\n",
    "\n",
    "2.triangular_numbers = {i * (i + 1) // 2 for i in range(1, n + 1)}: This line uses a set comprehension to generate the first n triangular numbers. The formula for calculating a triangular number is (n * (n + 1)) / 2. In this code, we iterate over i in the range from 1 to n + 1 (inclusive), and for each i, we calculate the corresponding triangular number using the formula and add it to the set triangular_numbers.\n",
    "\n",
    "3.print(\"The first\", n, \"triangular numbers are:\"): This line is a print statement that informs the user that the following lines will display the first n triangular numbers.\n",
    "\n",
    "4.print(triangular_numbers): Here, the code prints the set triangular_numbers, which contains the first n triangular numbers."
   ]
  },
  {
   "cell_type": "code",
   "execution_count": 224,
   "id": "a22b17e8",
   "metadata": {},
   "outputs": [
    {
     "name": "stdout",
     "output_type": "stream",
     "text": [
      "set2 is a subset of set1.\n"
     ]
    }
   ],
   "source": [
    "# Question 48\n",
    "# Check if a set contains another set as a subset\n",
    "set1 = {1, 2, 3, 4, 5}\n",
    "set2 = {2, 3}\n",
    "\n",
    "if set2.issubset(set1):\n",
    "    print(\"set2 is a subset of set1.\")\n",
    "else:\n",
    "    print(\"set2 is not a subset of set1.\")"
   ]
  },
  {
   "cell_type": "markdown",
   "id": "9292d038",
   "metadata": {},
   "source": [
    "This Python code checks whether set2 is a subset of set1. Here's how it works:\n",
    "\n",
    "1.set1 = {1, 2, 3, 4, 5}: This line defines set1 as a set containing elements 1, 2, 3, 4, and 5.\n",
    "\n",
    "2.set2 = {2, 3}: This line defines set2 as a set containing elements 2 and 3.\n",
    "\n",
    "3.if set2.issubset(set1):: This line checks if set2 is a subset of set1 using the issubset method. If all elements of set2 are present in set1, then set2 is considered a subset of set1.\n",
    "\n",
    "4.If set2 is a subset of set1, the code prints \"set2 is a subset of set1.\"\n",
    "\n",
    "5.If set2 is not a subset of set1, the code prints \"set2 is not a subset of set1.\""
   ]
  },
  {
   "cell_type": "code",
   "execution_count": 2,
   "id": "faee0ce1",
   "metadata": {},
   "outputs": [
    {
     "name": "stdout",
     "output_type": "stream",
     "text": [
      "Set of alternating 1s and 0s of length 10 is:\n",
      "{0, 1}\n"
     ]
    }
   ],
   "source": [
    "# Question 49\n",
    "# Create a set of alternating 1s and 0s of length `n`\n",
    "n = 10\n",
    "alternating_set = {i % 2 for i in range(n)}\n",
    "\n",
    "print(\"Set of alternating 1s and 0s of length\", n, \"is:\")\n",
    "print(alternating_set)"
   ]
  },
  {
   "cell_type": "markdown",
   "id": "6cc67b89",
   "metadata": {},
   "source": [
    "This Python code generates a set containing alternating 1s and 0s of length n. Here's how it works:\n",
    "\n",
    "1.n = 10: This line defines n as the desired length of the set.\n",
    "\n",
    "2.alternating_set = {i % 2 for i in range(n)}: This line uses a set comprehension to generate the set. It iterates over the numbers from 0 to n-1 using for i in range(n) and calculates i % 2 for each i. The expression i % 2 results in 0 for even i and 1 for odd i, which creates the alternating pattern of 1s and 0s.\n",
    "\n",
    "3.Finally, the code prints the generated set, displaying the alternating pattern of 1s and 0s of the specified length."
   ]
  },
  {
   "cell_type": "code",
   "execution_count": 226,
   "id": "9543bd19",
   "metadata": {},
   "outputs": [
    {
     "name": "stdout",
     "output_type": "stream",
     "text": [
      "Merged set: {1, 2, 3, 4, 5, 6, 7}\n"
     ]
    }
   ],
   "source": [
    "# Question 50\n",
    "# Merge multiple sets into one\n",
    "set1 = {1, 2, 3}\n",
    "set2 = {3, 4, 5}\n",
    "set3 = {5, 6, 7}\n",
    "\n",
    "merged_set = set1.union(set2, set3)\n",
    "print(\"Merged set:\", merged_set)"
   ]
  },
  {
   "cell_type": "markdown",
   "id": "0e570b41",
   "metadata": {},
   "source": [
    "This Python code merges multiple sets into one using the union method. Here's how it works:\n",
    "\n",
    "1.Three sets, set1, set2, and set3, are defined with their respective elements.\n",
    "\n",
    "2.merged_set = set1.union(set2, set3): The union method is called on set1, and it takes set2 and set3 as arguments. This method returns a new set containing all the unique elements from all the sets.\n",
    "\n",
    "3.Finally, the code prints the merged set, which is the result of combining the elements from set1, set2, and set3."
   ]
  }
 ],
 "metadata": {
  "kernelspec": {
   "display_name": "Python 3 (ipykernel)",
   "language": "python",
   "name": "python3"
  },
  "language_info": {
   "codemirror_mode": {
    "name": "ipython",
    "version": 3
   },
   "file_extension": ".py",
   "mimetype": "text/x-python",
   "name": "python",
   "nbconvert_exporter": "python",
   "pygments_lexer": "ipython3",
   "version": "3.9.13"
  }
 },
 "nbformat": 4,
 "nbformat_minor": 5
}
